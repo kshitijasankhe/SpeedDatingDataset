{
 "cells": [
  {
   "cell_type": "markdown",
   "metadata": {},
   "source": [
    "#                    || SPEED DATING PROJECT ||"
   ]
  },
  {
   "cell_type": "markdown",
   "metadata": {},
   "source": [
    "### Submitted By: \n",
    "      Bhagyashri Badgujar\n",
    "      Kshitija Sankhe\n",
    "      Aasavari Kaley\n",
    "      Rujuta Tamhankar"
   ]
  },
  {
   "cell_type": "markdown",
   "metadata": {},
   "source": [
    "\n",
    "    “This dataset explains “What influences love at first sight? (Or, at least, love in the first four minutes?)”.\n",
    "    A speed dating event requires participants to have a four-minute ‘first-date’ with every other participant of the opposite sex. At the end of their four minutes or at the end of the event, each of the participants is asked to rate all the participants of the opposite sex on a number of factors. \n",
    "    In this dataset, participants were asked to rate based on 6 Key attributes:\n",
    "\n",
    "    - Attractiveness\n",
    "    - Sincere\n",
    "    - Intelligence \n",
    "    - Ambitious\n",
    "    - Fun \n",
    "    - Shared Interests \n",
    "\n"
   ]
  },
  {
   "cell_type": "markdown",
   "metadata": {},
   "source": [
    "### ![alt text](https://github.com/kshitijasankhe/SpeedDatingDataset/blob/master/Images/speed_dating.jpg?raw=true.jpg \"Title\")"
   ]
  },
  {
   "cell_type": "code",
   "execution_count": 2,
   "metadata": {},
   "outputs": [
    {
     "name": "stdout",
     "output_type": "stream",
     "text": [
      "Populating the interactive namespace from numpy and matplotlib\n"
     ]
    }
   ],
   "source": [
    "import seaborn as sns\n",
    "import pandas as pd\n",
    "import numpy as np\n",
    "%pylab inline"
   ]
  },
  {
   "cell_type": "code",
   "execution_count": 3,
   "metadata": {},
   "outputs": [],
   "source": [
    "df = pd.read_csv(\"Speed Dating Data.csv\", encoding=\"ISO-8859-1\")"
   ]
  },
  {
   "cell_type": "code",
   "execution_count": 4,
   "metadata": {},
   "outputs": [],
   "source": [
    "pd.set_option('display.max_rows',None)"
   ]
  },
  {
   "cell_type": "code",
   "execution_count": 42,
   "metadata": {},
   "outputs": [
    {
     "data": {
      "text/html": [
       "<div>\n",
       "<style scoped>\n",
       "    .dataframe tbody tr th:only-of-type {\n",
       "        vertical-align: middle;\n",
       "    }\n",
       "\n",
       "    .dataframe tbody tr th {\n",
       "        vertical-align: top;\n",
       "    }\n",
       "\n",
       "    .dataframe thead th {\n",
       "        text-align: right;\n",
       "    }\n",
       "</style>\n",
       "<table border=\"1\" class=\"dataframe\">\n",
       "  <thead>\n",
       "    <tr style=\"text-align: right;\">\n",
       "      <th></th>\n",
       "      <th>iid</th>\n",
       "      <th>id</th>\n",
       "      <th>gender</th>\n",
       "      <th>idg</th>\n",
       "      <th>condtn</th>\n",
       "      <th>wave</th>\n",
       "      <th>round</th>\n",
       "      <th>position</th>\n",
       "      <th>positin1</th>\n",
       "      <th>order</th>\n",
       "      <th>...</th>\n",
       "      <th>attr3_3</th>\n",
       "      <th>sinc3_3</th>\n",
       "      <th>intel3_3</th>\n",
       "      <th>fun3_3</th>\n",
       "      <th>amb3_3</th>\n",
       "      <th>attr5_3</th>\n",
       "      <th>sinc5_3</th>\n",
       "      <th>intel5_3</th>\n",
       "      <th>fun5_3</th>\n",
       "      <th>amb5_3</th>\n",
       "    </tr>\n",
       "  </thead>\n",
       "  <tbody>\n",
       "    <tr>\n",
       "      <th>0</th>\n",
       "      <td>1</td>\n",
       "      <td>1.0</td>\n",
       "      <td>0</td>\n",
       "      <td>1</td>\n",
       "      <td>1</td>\n",
       "      <td>1</td>\n",
       "      <td>10</td>\n",
       "      <td>7</td>\n",
       "      <td>NaN</td>\n",
       "      <td>4</td>\n",
       "      <td>...</td>\n",
       "      <td>5.0</td>\n",
       "      <td>7.0</td>\n",
       "      <td>7.0</td>\n",
       "      <td>7.0</td>\n",
       "      <td>7.0</td>\n",
       "      <td>NaN</td>\n",
       "      <td>NaN</td>\n",
       "      <td>NaN</td>\n",
       "      <td>NaN</td>\n",
       "      <td>NaN</td>\n",
       "    </tr>\n",
       "    <tr>\n",
       "      <th>1</th>\n",
       "      <td>1</td>\n",
       "      <td>1.0</td>\n",
       "      <td>0</td>\n",
       "      <td>1</td>\n",
       "      <td>1</td>\n",
       "      <td>1</td>\n",
       "      <td>10</td>\n",
       "      <td>7</td>\n",
       "      <td>NaN</td>\n",
       "      <td>3</td>\n",
       "      <td>...</td>\n",
       "      <td>5.0</td>\n",
       "      <td>7.0</td>\n",
       "      <td>7.0</td>\n",
       "      <td>7.0</td>\n",
       "      <td>7.0</td>\n",
       "      <td>NaN</td>\n",
       "      <td>NaN</td>\n",
       "      <td>NaN</td>\n",
       "      <td>NaN</td>\n",
       "      <td>NaN</td>\n",
       "    </tr>\n",
       "    <tr>\n",
       "      <th>2</th>\n",
       "      <td>1</td>\n",
       "      <td>1.0</td>\n",
       "      <td>0</td>\n",
       "      <td>1</td>\n",
       "      <td>1</td>\n",
       "      <td>1</td>\n",
       "      <td>10</td>\n",
       "      <td>7</td>\n",
       "      <td>NaN</td>\n",
       "      <td>10</td>\n",
       "      <td>...</td>\n",
       "      <td>5.0</td>\n",
       "      <td>7.0</td>\n",
       "      <td>7.0</td>\n",
       "      <td>7.0</td>\n",
       "      <td>7.0</td>\n",
       "      <td>NaN</td>\n",
       "      <td>NaN</td>\n",
       "      <td>NaN</td>\n",
       "      <td>NaN</td>\n",
       "      <td>NaN</td>\n",
       "    </tr>\n",
       "    <tr>\n",
       "      <th>3</th>\n",
       "      <td>1</td>\n",
       "      <td>1.0</td>\n",
       "      <td>0</td>\n",
       "      <td>1</td>\n",
       "      <td>1</td>\n",
       "      <td>1</td>\n",
       "      <td>10</td>\n",
       "      <td>7</td>\n",
       "      <td>NaN</td>\n",
       "      <td>5</td>\n",
       "      <td>...</td>\n",
       "      <td>5.0</td>\n",
       "      <td>7.0</td>\n",
       "      <td>7.0</td>\n",
       "      <td>7.0</td>\n",
       "      <td>7.0</td>\n",
       "      <td>NaN</td>\n",
       "      <td>NaN</td>\n",
       "      <td>NaN</td>\n",
       "      <td>NaN</td>\n",
       "      <td>NaN</td>\n",
       "    </tr>\n",
       "    <tr>\n",
       "      <th>4</th>\n",
       "      <td>1</td>\n",
       "      <td>1.0</td>\n",
       "      <td>0</td>\n",
       "      <td>1</td>\n",
       "      <td>1</td>\n",
       "      <td>1</td>\n",
       "      <td>10</td>\n",
       "      <td>7</td>\n",
       "      <td>NaN</td>\n",
       "      <td>7</td>\n",
       "      <td>...</td>\n",
       "      <td>5.0</td>\n",
       "      <td>7.0</td>\n",
       "      <td>7.0</td>\n",
       "      <td>7.0</td>\n",
       "      <td>7.0</td>\n",
       "      <td>NaN</td>\n",
       "      <td>NaN</td>\n",
       "      <td>NaN</td>\n",
       "      <td>NaN</td>\n",
       "      <td>NaN</td>\n",
       "    </tr>\n",
       "  </tbody>\n",
       "</table>\n",
       "<p>5 rows × 195 columns</p>\n",
       "</div>"
      ],
      "text/plain": [
       "   iid   id  gender  idg  condtn  wave  round  position  positin1  order  ...  \\\n",
       "0    1  1.0       0    1       1     1     10         7       NaN      4  ...   \n",
       "1    1  1.0       0    1       1     1     10         7       NaN      3  ...   \n",
       "2    1  1.0       0    1       1     1     10         7       NaN     10  ...   \n",
       "3    1  1.0       0    1       1     1     10         7       NaN      5  ...   \n",
       "4    1  1.0       0    1       1     1     10         7       NaN      7  ...   \n",
       "\n",
       "   attr3_3  sinc3_3  intel3_3  fun3_3  amb3_3  attr5_3  sinc5_3  intel5_3  \\\n",
       "0      5.0      7.0       7.0     7.0     7.0      NaN      NaN       NaN   \n",
       "1      5.0      7.0       7.0     7.0     7.0      NaN      NaN       NaN   \n",
       "2      5.0      7.0       7.0     7.0     7.0      NaN      NaN       NaN   \n",
       "3      5.0      7.0       7.0     7.0     7.0      NaN      NaN       NaN   \n",
       "4      5.0      7.0       7.0     7.0     7.0      NaN      NaN       NaN   \n",
       "\n",
       "   fun5_3  amb5_3  \n",
       "0     NaN     NaN  \n",
       "1     NaN     NaN  \n",
       "2     NaN     NaN  \n",
       "3     NaN     NaN  \n",
       "4     NaN     NaN  \n",
       "\n",
       "[5 rows x 195 columns]"
      ]
     },
     "execution_count": 42,
     "metadata": {},
     "output_type": "execute_result"
    }
   ],
   "source": [
    "df.head()"
   ]
  },
  {
   "cell_type": "markdown",
   "metadata": {},
   "source": [
    "## Data Cleaning"
   ]
  },
  {
   "cell_type": "markdown",
   "metadata": {},
   "source": [
    "### Major steps and operations used for data cleaning\n",
    "\n",
    "*Create the copy of original data frame*\n",
    "\n",
    "*Drop the unwanted columns which are not required for further analysis*\n",
    "\n",
    "*Replace Null values with the mean of the entire column (only applicable for the selected columns)*\n",
    "\n",
    "*Substitute the same value for all the fields having multiple values with the same meaning (As done for Carrer column below)*\n",
    "\n",
    "*Introducing new codes for the columns to map that column to the associated column. The examples are Career & Career code columns, Field & Field code columns*\n",
    "\n",
    "*Some values are left Null/Blank intentionally where patching may result in the incorrect analysis.For example, iid, pid.*"
   ]
  },
  {
   "cell_type": "markdown",
   "metadata": {},
   "source": [
    "##### Checking the columns with na values"
   ]
  },
  {
   "cell_type": "code",
   "execution_count": 5,
   "metadata": {},
   "outputs": [
    {
     "data": {
      "text/plain": [
       "(8378, 195)"
      ]
     },
     "execution_count": 5,
     "metadata": {},
     "output_type": "execute_result"
    }
   ],
   "source": [
    "df.isna().any()\n",
    "df.shape"
   ]
  },
  {
   "cell_type": "code",
   "execution_count": 6,
   "metadata": {},
   "outputs": [],
   "source": [
    "dfclean=df.copy()\n",
    "#Dropping columns\n",
    "dfclean.drop(columns=['positin1', 'pf_o_att','pf_o_sin','pf_o_int','pf_o_fun','pf_o_amb','pf_o_sha','undergra','mn_sat','tuition','imprelig','from','zipcode','goal','go_out','date','sports','tvsports','exercise','dining','museums','art','hiking','gaming','clubbing','tv','reading','theater','movies','concerts','music','shopping','yoga','exphappy','expnum','numdat_2','length','satis_2'],inplace = True)\n",
    "dfclean.drop(columns = ['attr4_1','sinc4_1','intel4_1','fun4_1','amb4_1','shar4_1','attr3_1','sinc3_1','fun3_1','intel3_1','amb3_1','attr5_1','sinc5_1','fun5_1','intel5_1','amb5_1',\\\n",
    "                       'attr1_s','sinc1_s','intel1_s','fun1_s','amb1_s','shar1_s','attr3_s','sinc3_s','intel3_s','fun3_s','amb3_s','attr7_2','sinc7_2','intel7_2','fun7_2','amb7_2','shar7_2','attr1_2','sinc1_2','intel1_2','fun1_2','amb1_2','shar1_2','attr4_2','sinc4_2','intel4_2','fun4_2','amb4_2','shar4_2','attr2_2','sinc2_2','intel2_2','fun2_2','amb2_2','shar2_2','attr3_2','sinc3_2','intel3_2','fun3_2','amb3_2','attr5_2','sinc5_2','intel5_2','fun5_2','amb5_2',\\\n",
    "                        'attr1_3','sinc1_3','intel1_3','fun1_3','amb1_3','shar1_3','attr4_3','sinc4_3','intel4_3','fun4_3','amb4_3','shar4_3','attr2_3','sinc2_3','intel2_3','fun2_3','amb2_3','shar2_3','attr3_3','sinc3_3','intel3_3','fun3_3','amb3_3','attr5_3','sinc5_3','intel5_3','fun5_3','amb5_3'],inplace = True)\n"
   ]
  },
  {
   "cell_type": "code",
   "execution_count": 7,
   "metadata": {},
   "outputs": [
    {
     "data": {
      "text/plain": [
       "(8378, 68)"
      ]
     },
     "execution_count": 7,
     "metadata": {},
     "output_type": "execute_result"
    }
   ],
   "source": [
    "dfclean.shape"
   ]
  },
  {
   "cell_type": "markdown",
   "metadata": {},
   "source": [
    "#### Replacing na values with mean of respective columns"
   ]
  },
  {
   "cell_type": "code",
   "execution_count": 8,
   "metadata": {},
   "outputs": [],
   "source": [
    "#Replacing na values with mean of respective columns\n",
    "dfclean.attr1_1.fillna(value=round(dfclean.attr1_1.mean()), inplace=True)\n",
    "dfclean.sinc1_1.fillna(value=round(dfclean.sinc1_1.mean()), inplace=True)\n",
    "dfclean.intel1_1.fillna(value=round(dfclean.intel1_1.mean()), inplace=True)\n",
    "dfclean.fun1_1.fillna(value=round(dfclean.fun1_1.mean()), inplace=True)\n",
    "dfclean.amb1_1.fillna(value=round(dfclean.amb1_1.mean()), inplace=True)\n",
    "dfclean.shar1_1.fillna(value=round(dfclean.shar1_1.mean()), inplace=True)\n",
    "\n",
    "dfclean.attr7_3.fillna(value=round(dfclean.attr7_3.mean()), inplace=True)\n",
    "dfclean.sinc7_3.fillna(value=round(dfclean.sinc7_3.mean()), inplace=True)\n",
    "dfclean.intel7_3.fillna(value=round(dfclean.intel7_3.mean()), inplace=True)\n",
    "dfclean.fun7_3.fillna(value=round(dfclean.fun7_3.mean()), inplace=True)\n",
    "dfclean.amb7_3.fillna(value=round(dfclean.amb7_3.mean()), inplace=True)\n",
    "dfclean.shar7_3.fillna(value=round(dfclean.shar7_3.mean()), inplace=True)\n",
    "\n",
    "\n",
    "dfclean.attr_o.fillna(value=round(dfclean.attr_o.mean()), inplace=True)\n",
    "dfclean.sinc_o.fillna(value=round(dfclean.sinc_o.mean()), inplace=True)\n",
    "dfclean.intel_o.fillna(value=round(dfclean.intel_o.mean()), inplace=True)\n",
    "dfclean.amb_o.fillna(value=round(dfclean.amb_o.mean()), inplace=True)\n",
    "dfclean.shar_o.fillna(value=round(dfclean.shar_o.mean()), inplace=True)\n",
    "dfclean.fun_o.fillna(value=round(dfclean.fun_o.mean()), inplace=True)\n",
    "\n",
    "\n",
    "dfclean.attr2_1.fillna(value=round(dfclean.attr2_1.mean()), inplace=True)\n",
    "dfclean.sinc2_1.fillna(value=round(dfclean.sinc2_1.mean()), inplace=True)\n",
    "dfclean.intel2_1.fillna(value=round(dfclean.intel2_1.mean()), inplace=True)\n",
    "dfclean.fun2_1.fillna(value=round(dfclean.fun2_1.mean()), inplace=True)\n",
    "dfclean.amb2_1.fillna(value=round(dfclean.amb2_1.mean()), inplace=True)\n",
    "dfclean.shar2_1.fillna(value=round(dfclean.shar2_1.mean()), inplace=True)\n",
    "\n",
    "\n",
    "dfclean.attr.fillna(value=round(dfclean.attr.mean()), inplace=True)\n",
    "dfclean.sinc.fillna(value=round(dfclean.sinc.mean()), inplace=True)\n",
    "dfclean.intel.fillna(value=round(dfclean.intel.mean()), inplace=True)\n",
    "dfclean.fun.fillna(value=round(dfclean.fun.mean()), inplace=True)\n",
    "dfclean.amb.fillna(value=round(dfclean.amb.mean()), inplace=True)\n",
    "dfclean.shar.fillna(value=round(dfclean.shar.mean()), inplace=True)\n"
   ]
  },
  {
   "cell_type": "markdown",
   "metadata": {},
   "source": [
    "#### Replacing unknown values in career with 'Undefined'. These rows would have 'career code' 10 in career_c"
   ]
  },
  {
   "cell_type": "code",
   "execution_count": 9,
   "metadata": {},
   "outputs": [],
   "source": [
    "dfclean.career.replace(to_replace=['?','??','Am not sure','don\\'t know','Undecided', \"I don't know\", 'What a question!', 'if only i knew',\n",
    "       \"don't know\", 'Not Sure', 'undecided', 'TBA', 'Am not sure',\n",
    "       'Who knows', '10', 'not sure yet :)', 'Make money',\n",
    "       'still wondering', 'Not sure yet', 'unknown', 'unsure',\n",
    "       'Undefined', 'dont know yet'],value='Undefined',inplace=True)"
   ]
  },
  {
   "cell_type": "markdown",
   "metadata": {},
   "source": [
    "#### There are still null values in career and career_c column. We are not cleaning them as those values should  not be replaced with some random career & career codes."
   ]
  },
  {
   "cell_type": "code",
   "execution_count": 10,
   "metadata": {},
   "outputs": [
    {
     "data": {
      "text/plain": [
       "True"
      ]
     },
     "execution_count": 10,
     "metadata": {},
     "output_type": "execute_result"
    }
   ],
   "source": [
    "dfclean.career.isna().any()"
   ]
  },
  {
   "cell_type": "markdown",
   "metadata": {},
   "source": [
    "#### Replacing null values in race columns with  6(i.e other ) and Replacing null values in race_o columns with  6(i.e other ) "
   ]
  },
  {
   "cell_type": "code",
   "execution_count": 11,
   "metadata": {},
   "outputs": [],
   "source": [
    "dfclean.race.fillna(value=6, inplace=True)\n",
    "dfclean.race_o.fillna(value=6, inplace=True)"
   ]
  },
  {
   "cell_type": "markdown",
   "metadata": {},
   "source": [
    "#### Replacing null values in age_o column with  mean value of age_o columns"
   ]
  },
  {
   "cell_type": "code",
   "execution_count": 12,
   "metadata": {},
   "outputs": [],
   "source": [
    "dfclean.age_o.fillna(value=round(dfclean.age_o.mean()), inplace=True)\n",
    "dfclean.age.fillna(value=round(dfclean.age.mean()), inplace=True)\n"
   ]
  },
  {
   "cell_type": "markdown",
   "metadata": {},
   "source": [
    "#### Replacing null values in field column with 'other'"
   ]
  },
  {
   "cell_type": "code",
   "execution_count": 13,
   "metadata": {},
   "outputs": [
    {
     "data": {
      "text/plain": [
       "False"
      ]
     },
     "execution_count": 13,
     "metadata": {},
     "output_type": "execute_result"
    }
   ],
   "source": [
    "dfclean.field.fillna(value='Other', inplace=True)\n",
    "dfclean.field.isna().any()"
   ]
  },
  {
   "cell_type": "markdown",
   "metadata": {},
   "source": [
    "#### Introducing a new field code for 'other' field. Assigning code=19 in field_cd to the fields with value 'Other'"
   ]
  },
  {
   "cell_type": "code",
   "execution_count": 14,
   "metadata": {
    "scrolled": true
   },
   "outputs": [
    {
     "name": "stderr",
     "output_type": "stream",
     "text": [
      "C:\\Users\\Nachiket\\Anaconda3\\lib\\site-packages\\pandas\\core\\generic.py:6130: SettingWithCopyWarning: \n",
      "A value is trying to be set on a copy of a slice from a DataFrame\n",
      "\n",
      "See the caveats in the documentation: http://pandas.pydata.org/pandas-docs/stable/indexing.html#indexing-view-versus-copy\n",
      "  self._update_inplace(new_data)\n"
     ]
    }
   ],
   "source": [
    "dfclean[dfclean.field =='Other'].field_cd.fillna(value=19,inplace=True)\n"
   ]
  },
  {
   "cell_type": "code",
   "execution_count": 15,
   "metadata": {
    "scrolled": true
   },
   "outputs": [
    {
     "data": {
      "text/plain": [
       "True"
      ]
     },
     "execution_count": 15,
     "metadata": {},
     "output_type": "execute_result"
    }
   ],
   "source": [
    "dfclean.field_cd.isna().any()"
   ]
  },
  {
   "cell_type": "markdown",
   "metadata": {},
   "source": [
    "#### Field code is null for the field 'Operations Research'. Hence, assigning a new code=20 in field_cd to the fields with value 'Operations Research'"
   ]
  },
  {
   "cell_type": "code",
   "execution_count": 16,
   "metadata": {},
   "outputs": [],
   "source": [
    "dfclean[dfclean.field =='Operations Research'].field_cd.fillna(value=20,inplace=True)"
   ]
  },
  {
   "cell_type": "code",
   "execution_count": 17,
   "metadata": {},
   "outputs": [
    {
     "data": {
      "text/plain": [
       "True"
      ]
     },
     "execution_count": 17,
     "metadata": {},
     "output_type": "execute_result"
    }
   ],
   "source": [
    "dfclean.field_cd.isna().any()"
   ]
  },
  {
   "cell_type": "markdown",
   "metadata": {},
   "source": [
    "#### Since each value in like_o,prob_o, met_o,match_es,date_3, numdat_3  has a significance we are not replacing na values in these columns"
   ]
  },
  {
   "cell_type": "code",
   "execution_count": 18,
   "metadata": {},
   "outputs": [
    {
     "data": {
      "text/plain": [
       "(8378, 68)"
      ]
     },
     "execution_count": 18,
     "metadata": {},
     "output_type": "execute_result"
    }
   ],
   "source": [
    "dfclean.shape"
   ]
  },
  {
   "cell_type": "code",
   "execution_count": 19,
   "metadata": {},
   "outputs": [
    {
     "data": {
      "text/plain": [
       "iid         False\n",
       "id           True\n",
       "gender      False\n",
       "idg         False\n",
       "condtn      False\n",
       "wave        False\n",
       "round       False\n",
       "position    False\n",
       "order       False\n",
       "partner     False\n",
       "pid          True\n",
       "match       False\n",
       "int_corr     True\n",
       "samerace    False\n",
       "age_o       False\n",
       "race_o      False\n",
       "dec_o       False\n",
       "attr_o      False\n",
       "sinc_o      False\n",
       "intel_o     False\n",
       "fun_o       False\n",
       "amb_o       False\n",
       "shar_o      False\n",
       "like_o       True\n",
       "prob_o       True\n",
       "met_o        True\n",
       "age         False\n",
       "field       False\n",
       "field_cd     True\n",
       "race        False\n",
       "imprace      True\n",
       "income       True\n",
       "career       True\n",
       "career_c     True\n",
       "attr1_1     False\n",
       "sinc1_1     False\n",
       "intel1_1    False\n",
       "fun1_1      False\n",
       "amb1_1      False\n",
       "shar1_1     False\n",
       "attr2_1     False\n",
       "sinc2_1     False\n",
       "intel2_1    False\n",
       "fun2_1      False\n",
       "amb2_1      False\n",
       "shar2_1     False\n",
       "dec         False\n",
       "attr        False\n",
       "sinc        False\n",
       "intel       False\n",
       "fun         False\n",
       "amb         False\n",
       "shar        False\n",
       "like         True\n",
       "prob         True\n",
       "met          True\n",
       "match_es     True\n",
       "you_call     True\n",
       "them_cal     True\n",
       "date_3       True\n",
       "numdat_3     True\n",
       "num_in_3     True\n",
       "attr7_3     False\n",
       "sinc7_3     False\n",
       "intel7_3    False\n",
       "fun7_3      False\n",
       "amb7_3      False\n",
       "shar7_3     False\n",
       "dtype: bool"
      ]
     },
     "execution_count": 19,
     "metadata": {},
     "output_type": "execute_result"
    }
   ],
   "source": [
    "dfclean.isna().any()"
   ]
  },
  {
   "cell_type": "code",
   "execution_count": 41,
   "metadata": {},
   "outputs": [
    {
     "data": {
      "text/html": [
       "<div>\n",
       "<style scoped>\n",
       "    .dataframe tbody tr th:only-of-type {\n",
       "        vertical-align: middle;\n",
       "    }\n",
       "\n",
       "    .dataframe tbody tr th {\n",
       "        vertical-align: top;\n",
       "    }\n",
       "\n",
       "    .dataframe thead th {\n",
       "        text-align: right;\n",
       "    }\n",
       "</style>\n",
       "<table border=\"1\" class=\"dataframe\">\n",
       "  <thead>\n",
       "    <tr style=\"text-align: right;\">\n",
       "      <th></th>\n",
       "      <th>iid</th>\n",
       "      <th>id</th>\n",
       "      <th>gender</th>\n",
       "      <th>idg</th>\n",
       "      <th>condtn</th>\n",
       "      <th>wave</th>\n",
       "      <th>round</th>\n",
       "      <th>position</th>\n",
       "      <th>order</th>\n",
       "      <th>partner</th>\n",
       "      <th>...</th>\n",
       "      <th>them_cal</th>\n",
       "      <th>date_3</th>\n",
       "      <th>numdat_3</th>\n",
       "      <th>num_in_3</th>\n",
       "      <th>attr7_3</th>\n",
       "      <th>sinc7_3</th>\n",
       "      <th>intel7_3</th>\n",
       "      <th>fun7_3</th>\n",
       "      <th>amb7_3</th>\n",
       "      <th>shar7_3</th>\n",
       "    </tr>\n",
       "  </thead>\n",
       "  <tbody>\n",
       "    <tr>\n",
       "      <th>0</th>\n",
       "      <td>1</td>\n",
       "      <td>1.0</td>\n",
       "      <td>0</td>\n",
       "      <td>1</td>\n",
       "      <td>1</td>\n",
       "      <td>1</td>\n",
       "      <td>10</td>\n",
       "      <td>7</td>\n",
       "      <td>4</td>\n",
       "      <td>1</td>\n",
       "      <td>...</td>\n",
       "      <td>1.0</td>\n",
       "      <td>0.0</td>\n",
       "      <td>NaN</td>\n",
       "      <td>NaN</td>\n",
       "      <td>31.0</td>\n",
       "      <td>16.0</td>\n",
       "      <td>17.0</td>\n",
       "      <td>16.0</td>\n",
       "      <td>8.0</td>\n",
       "      <td>12.0</td>\n",
       "    </tr>\n",
       "    <tr>\n",
       "      <th>1</th>\n",
       "      <td>1</td>\n",
       "      <td>1.0</td>\n",
       "      <td>0</td>\n",
       "      <td>1</td>\n",
       "      <td>1</td>\n",
       "      <td>1</td>\n",
       "      <td>10</td>\n",
       "      <td>7</td>\n",
       "      <td>3</td>\n",
       "      <td>2</td>\n",
       "      <td>...</td>\n",
       "      <td>1.0</td>\n",
       "      <td>0.0</td>\n",
       "      <td>NaN</td>\n",
       "      <td>NaN</td>\n",
       "      <td>31.0</td>\n",
       "      <td>16.0</td>\n",
       "      <td>17.0</td>\n",
       "      <td>16.0</td>\n",
       "      <td>8.0</td>\n",
       "      <td>12.0</td>\n",
       "    </tr>\n",
       "    <tr>\n",
       "      <th>2</th>\n",
       "      <td>1</td>\n",
       "      <td>1.0</td>\n",
       "      <td>0</td>\n",
       "      <td>1</td>\n",
       "      <td>1</td>\n",
       "      <td>1</td>\n",
       "      <td>10</td>\n",
       "      <td>7</td>\n",
       "      <td>10</td>\n",
       "      <td>3</td>\n",
       "      <td>...</td>\n",
       "      <td>1.0</td>\n",
       "      <td>0.0</td>\n",
       "      <td>NaN</td>\n",
       "      <td>NaN</td>\n",
       "      <td>31.0</td>\n",
       "      <td>16.0</td>\n",
       "      <td>17.0</td>\n",
       "      <td>16.0</td>\n",
       "      <td>8.0</td>\n",
       "      <td>12.0</td>\n",
       "    </tr>\n",
       "    <tr>\n",
       "      <th>3</th>\n",
       "      <td>1</td>\n",
       "      <td>1.0</td>\n",
       "      <td>0</td>\n",
       "      <td>1</td>\n",
       "      <td>1</td>\n",
       "      <td>1</td>\n",
       "      <td>10</td>\n",
       "      <td>7</td>\n",
       "      <td>5</td>\n",
       "      <td>4</td>\n",
       "      <td>...</td>\n",
       "      <td>1.0</td>\n",
       "      <td>0.0</td>\n",
       "      <td>NaN</td>\n",
       "      <td>NaN</td>\n",
       "      <td>31.0</td>\n",
       "      <td>16.0</td>\n",
       "      <td>17.0</td>\n",
       "      <td>16.0</td>\n",
       "      <td>8.0</td>\n",
       "      <td>12.0</td>\n",
       "    </tr>\n",
       "    <tr>\n",
       "      <th>4</th>\n",
       "      <td>1</td>\n",
       "      <td>1.0</td>\n",
       "      <td>0</td>\n",
       "      <td>1</td>\n",
       "      <td>1</td>\n",
       "      <td>1</td>\n",
       "      <td>10</td>\n",
       "      <td>7</td>\n",
       "      <td>7</td>\n",
       "      <td>5</td>\n",
       "      <td>...</td>\n",
       "      <td>1.0</td>\n",
       "      <td>0.0</td>\n",
       "      <td>NaN</td>\n",
       "      <td>NaN</td>\n",
       "      <td>31.0</td>\n",
       "      <td>16.0</td>\n",
       "      <td>17.0</td>\n",
       "      <td>16.0</td>\n",
       "      <td>8.0</td>\n",
       "      <td>12.0</td>\n",
       "    </tr>\n",
       "  </tbody>\n",
       "</table>\n",
       "<p>5 rows × 68 columns</p>\n",
       "</div>"
      ],
      "text/plain": [
       "   iid   id  gender  idg  condtn  wave  round  position  order  partner  ...  \\\n",
       "0    1  1.0       0    1       1     1     10         7      4        1  ...   \n",
       "1    1  1.0       0    1       1     1     10         7      3        2  ...   \n",
       "2    1  1.0       0    1       1     1     10         7     10        3  ...   \n",
       "3    1  1.0       0    1       1     1     10         7      5        4  ...   \n",
       "4    1  1.0       0    1       1     1     10         7      7        5  ...   \n",
       "\n",
       "   them_cal  date_3  numdat_3  num_in_3  attr7_3  sinc7_3  intel7_3  fun7_3  \\\n",
       "0       1.0     0.0       NaN       NaN     31.0     16.0      17.0    16.0   \n",
       "1       1.0     0.0       NaN       NaN     31.0     16.0      17.0    16.0   \n",
       "2       1.0     0.0       NaN       NaN     31.0     16.0      17.0    16.0   \n",
       "3       1.0     0.0       NaN       NaN     31.0     16.0      17.0    16.0   \n",
       "4       1.0     0.0       NaN       NaN     31.0     16.0      17.0    16.0   \n",
       "\n",
       "   amb7_3  shar7_3  \n",
       "0     8.0     12.0  \n",
       "1     8.0     12.0  \n",
       "2     8.0     12.0  \n",
       "3     8.0     12.0  \n",
       "4     8.0     12.0  \n",
       "\n",
       "[5 rows x 68 columns]"
      ]
     },
     "execution_count": 41,
     "metadata": {},
     "output_type": "execute_result"
    }
   ],
   "source": [
    "dfclean.head()"
   ]
  },
  {
   "cell_type": "markdown",
   "metadata": {},
   "source": [
    "## Data Description "
   ]
  },
  {
   "cell_type": "markdown",
   "metadata": {},
   "source": [
    "\n",
    "After cleaning, we have a DataFrame dfclean. The columns are:\n"
   ]
  },
  {
   "cell_type": "markdown",
   "metadata": {},
   "source": [
    "<ul>\n",
    "<li><b>iid</b>: Unique Person ID\n",
    "<li><b>id</b>: Unique person Id within wave(wave is a group attending the event on a particular day)\n",
    "<li><b>gender</b>: Gender of participant (Female -0, Male - 1)\n",
    "<li><b>idg</b>: Unique ID of a person within a gender\n",
    "<li><b>condtn</b>: Choice provided to participants (Limited -1, Extensive-2)\n",
    "<li><b>wave</b>: Unique wave ID\n",
    "<li><b>round</b>: Total people met in one wave\n",
    "<li><b>position</b>: Table number alloted to a participant during an event\n",
    "<li><b>order</b>: The number at which you met your partner\n",
    "<li><b>partner</b>:  Partners id number that night \n",
    "<li><b>pid</b>: Partners iid number (partners unique id)\n",
    "<li><b>match</b>: participants response to if a person was a match (yes-1, no-0)\n",
    "<li><b>int_corr</b>:correlation between participant’s and partner’s ratings of interests\n",
    "<li><b>samerace</b>: participant and the partner were the same race. 1= yes, 0=no\n",
    "<li><b>age</b>: age of the participants\n",
    "<li><b>field</b>: Field of study of participants\n",
    "<li><b>field_cd</b>: 1= Law, 2=Math, 3= Social Science, Psychologist \n",
    "                     4= Medical Science, Pharmaceuticals, and Bio Tech \n",
    "                     5= Engineering, 6= English/Creative Writing/ Journalism \n",
    "                     7= History/Religion/Philosophy, 8= Business/Econ/Finance \n",
    "                     9= Education, Academia, 10= Biological Sciences/Chemistry/Physics\n",
    "                     11= Social Work, 12= Undergrad/undecided, 13=Political Science/International Affairs \n",
    "                     14=Film, 15=Fine Arts/Arts Administration, 16=Languages, 17=Architecture, 18=Other\n",
    "<li><b>race</b>: race of the participant\n",
    "                 Black/African American=1\n",
    "                 European/Caucasian-American=2\n",
    "                 Latino/Hispanic American=3\n",
    "                 Asian/Pacific Islander/Asian-American=4\n",
    "                 Native American=5\n",
    "                 Other=6\n",
    "<li><b>imprace</b>: How important is it to the participants (on a scale of 1-10) that a person they date be of                       the same racial/ethnic background\n",
    "<li><b>income</b>:  income of the participants\n",
    "<li><b>career</b>:  intended career of the participant\n",
    "<li><b>career_c</b>: career codes: 1= Lawyer, 2= Academic/Research, 3= Psychologist, 4= Doctor/Medicine \n",
    "                     5=Engineer, 6= Creative Arts/Entertainment,                                   7=Banking/Consulting/Finance/Marketing/Business/CEO/Entrepreneur/Admin \n",
    "                    8= Real Estate, 9= International/Humanitarian Affairs, 10= Undecided, 11=Social Work\n",
    "                    12=Speech Pathology, 13=Politics, 14=Pro sports/Athletics, 15=Other, 16=Journalism\n",
    "                    17=Architecture\n",
    "<li><b>attr1_1, sinc1_1,intel1_1, fun1_1,amb1_1,shar1_1</b>: ratings given by participants to their partners                                                                  before the event.\n",
    "<li><b>dec</b>: decision of the participant if the participant would like to see their dates again\n",
    "<li><b>attr</b>: on a scale of 1 to 10, how much does the participant rate their date partner on attrractivness\n",
    "<li><b>sinc</b>: on a scale of 1 to 10, how much does the participamt rate their date partner on sincerity\n",
    "<li><b>intel</b>: on a scale of 1 to 10, how much does the participamt rate their date partner on intelligence\n",
    "<li><b>fun</b>: on a scale of 1 to 10, how much does the participamt rate their date partner on being fun\n",
    "<li><b>amb</b>: on a scale of 1 to 10, how much does the participamt rate their date partner on being ambitious\n",
    "<li><b>shar</b>: on a scale of 1 to 10, how much does the participamt rate their date partner on havong shared                    interests\n",
    "<li><b>like</b>:  Overall how much does the participant like this dates?(1=don't like at all, 10=like a lot)\n",
    "<li><b>prob</b>: How probable does teh participant think that their dates will say 'yes' for them?\n",
    "                 (1=not probable, 10=extremely probable)\n",
    "<li><b>met</b>: Have the participant met their dates before\n",
    "<li><b>age</b>: age of the participants\n",
    "<li><b>field</b>: Field of study of participants\n",
    "<li><b>field_cd</b>: 1= Law, 2=Math, 3= Social Science, Psychologist \n",
    "                     4= Medical Science, Pharmaceuticals, and Bio Tech \n",
    "                     5= Engineering, 6= English/Creative Writing/ Journalism \n",
    "                     7= History/Religion/Philosophy, 8= Business/Econ/Finance \n",
    "                     9= Education, Academia, 10= Biological Sciences/Chemistry/Physics\n",
    "                     11= Social Work, 12= Undergrad/undecided, 13=Political Science/International Affairs \n",
    "                     14=Film, 15=Fine Arts/Arts Administration, 16=Languages, 17=Architecture, 18=Other\n",
    "<li><b>age_o</b>: age of partner\n",
    "<li><b>race_o</b>: race of partner\n",
    "<li><b>dec_o</b>: decision of partner the night of event. (yes -1, no-0)\n",
    "<li><b>attr_o</b>: rating by partner the night of the event on the attribute of attractivness\n",
    "<li><b>sinc_o</b>: rating by partner the night of the event on the attribute of sincerity\n",
    "<li><b>intel_o</b>: rating by partner the night of the event on the attribute of intelligence\n",
    "<li><b>fun_o</b>: rating by partner the night of the event on the attribute of being fun\n",
    "<li><b>amb_o</b>: rating by partner the night of the event on the attribute of ambition\n",
    "<li><b>shar_o</b>: rating by partner the night of the event on the attribute of shared interests\n",
    "<li><b>like_o</b>: Overall, how much does the participant likes their date?(1=don't like at all, 10=like a lot)\n",
    "<li><b>prob_o</b>: How probable does the participant think that their date will say 'yes' to them?(1=not                            probable,10=extremely)\n",
    "\n",
    "<li><b>attr7_3, sinc7_3,intel7_3, fun7_3,amb7_3,shar7_3</b>: ratings given by participants after the completion                                                                of the event                                         \n",
    "<li><b>attr2_1, sinc2_1,intel2_1, fun2_1,amb2_1,shar2_1</b>: ratings given by the participants about what their                                                                partners look for before the event  \n",
    "<li><b>you_call</b>: how many partners after the event have the participant contacted to set up another date\n",
    "<li><b>them_cal</b>: how many partners have contacted the participant to set up another date"
   ]
  },
  {
   "cell_type": "markdown",
   "metadata": {},
   "source": [
    "# <span style=\"color:DarkBlue\"> *Insight 1*</span>"
   ]
  },
  {
   "cell_type": "markdown",
   "metadata": {},
   "source": [
    "# <span style=\"color:darkblue\"> *Men's attractiveness: gatekeeper to women's heart or an illusion*</span>"
   ]
  },
  {
   "cell_type": "markdown",
   "metadata": {},
   "source": [
    "We have different attributes in the dataset which the men and women look for in their parterners. Those are Attractiveness, Sincerity, Interlligence, Funny, Ambitious, Shared interest. We have analysed the most rated attribute by men and women for their respective partners. The analysis is divided into two parts as below.\n",
    "\n",
    "**Columns used**:\n",
    "\n",
    "1) 'attr1_1, sinc1_1,intel1_1, fun1_1,amb1_1,shar1_1': ratings given by participants to their partners before the event\n",
    "\n",
    "2) 'attr7_3, sinc7_3,intel7_3, fun7_3,amb7_3,shar7_3': ratings given by participants after the completion of the event\n",
    "\n",
    "3) 'iid' : unique subject number, group(wave id gender)\n",
    "\n",
    "4) 'gender': gender of the participant\n",
    "\n",
    "**Scenario 1**: The highest rated attribute by men and women collectively before participating in the speed dating event.\n",
    "\n",
    "*Outcome*  : As per the below analysis, 'Attractiveness' stands at the top position!\n",
    "\n",
    "\n",
    "**Scenario 2**: The most rated attribute has been analysed separately for men and women in two scenarios.\n",
    "\n",
    "*Case 1*: Before participating in the speed dating event\n",
    "\n",
    "*Outcome 1*: Highest rated attribute for men is 'Attractiveness' and that for women is 'Intelligence'!!\n",
    "\n",
    "*Case 2*: After sharing yes/no decisions on completion of speed dating event\n",
    "\n",
    "*Outcome 2*: After meeting the participants, men and women both rated 'Attractiveness' at the top position!!\n",
    "\n",
    "**Conclusion**: Though women claimed that 'Intelligence' is the most important attribute they were looking for before the event, survey after the event shows that men's look matter more than the women admit!!"
   ]
  },
  {
   "cell_type": "markdown",
   "metadata": {},
   "source": [
    "## Scenario 1- Attractiveness : The highest rated attribute the people look for in there partners"
   ]
  },
  {
   "cell_type": "code",
   "execution_count": 20,
   "metadata": {},
   "outputs": [
    {
     "name": "stderr",
     "output_type": "stream",
     "text": [
      "C:\\Users\\Nachiket\\Anaconda3\\lib\\site-packages\\seaborn\\categorical.py:3666: UserWarning: The `factorplot` function has been renamed to `catplot`. The original name will be removed in a future release. Please update your code. Note that the default `kind` in `factorplot` (`'point'`) has changed `'strip'` in `catplot`.\n",
      "  warnings.warn(msg)\n"
     ]
    },
    {
     "data": {
      "text/plain": [
       "<seaborn.axisgrid.FacetGrid at 0x1ec1421eef0>"
      ]
     },
     "execution_count": 20,
     "metadata": {},
     "output_type": "execute_result"
    },
    {
     "data": {
      "image/png": "[encoded data removed]",
      "text/plain": [
       "<Figure size 540x360 with 1 Axes>"
      ]
     },
     "metadata": {
      "needs_background": "light"
     },
     "output_type": "display_data"
    }
   ],
   "source": [
    "attractive=dfclean.groupby('iid')['attr1_1'].mean().mean()\n",
    "\n",
    "Sincere=dfclean.groupby('iid')['sinc1_1'].mean().mean()\n",
    "\n",
    "intellegence=dfclean.groupby('iid')['intel1_1'].mean().mean()\n",
    "\n",
    "fun=dfclean.groupby('iid')['fun1_1'].mean().mean()\n",
    "\n",
    "ambitious=dfclean.groupby('iid')['amb1_1'].mean().mean()\n",
    "\n",
    "hobby=dfclean.groupby('iid')['shar1_1'].mean().mean()\n",
    "\n",
    "sum=attractive+Sincere+intellegence+fun+ambitious+hobby\n",
    "sum\n",
    "#creating a new dataframe of all attributes with mean values\n",
    "data = {'Mean':[attractive,Sincere,intellegence,fun,ambitious,hobby]}\n",
    "attMean=pd.DataFrame(data, index=['Attractive','Sincere','Intelligent','Fun','Ambitious','Hobbies']) \n",
    "attMean\n",
    "\n",
    "sns.factorplot(y='Mean', data=attMean, \\\n",
    "               x=['Attractive','Sincere','Intelligent','Fun','Ambitious','Hobbies'],aspect=1.5, kind='bar')"
   ]
  },
  {
   "cell_type": "markdown",
   "metadata": {},
   "source": [
    "## Scenario 2- The highest rated attribute by males and females separately before and after participating in the event"
   ]
  },
  {
   "cell_type": "code",
   "execution_count": 21,
   "metadata": {
    "slideshow": {
     "slide_type": "-"
    }
   },
   "outputs": [],
   "source": [
    "dff=dfclean[df.gender==0]\n",
    "dfm=dfclean[df.gender==1]\n"
   ]
  },
  {
   "cell_type": "markdown",
   "metadata": {},
   "source": [
    "### Case 1- Considering attributes for male and female participants before the event"
   ]
  },
  {
   "cell_type": "code",
   "execution_count": 22,
   "metadata": {},
   "outputs": [
    {
     "data": {
      "text/plain": [
       "<matplotlib.axes._subplots.AxesSubplot at 0x1ec146c0b70>"
      ]
     },
     "execution_count": 22,
     "metadata": {},
     "output_type": "execute_result"
    },
    {
     "data": {
      "image/png": "[encoded data removed]",
      "text/plain": [
       "<Figure size 432x288 with 1 Axes>"
      ]
     },
     "metadata": {
      "needs_background": "light"
     },
     "output_type": "display_data"
    }
   ],
   "source": [
    "#before event female\n",
    "FbeforeA=dff.groupby('iid')['attr1_1'].mean().mean()\n",
    "FbeforeS=dff.groupby('iid')['sinc1_1'].mean().mean()\n",
    "FbeforeI=dff.groupby('iid')['intel1_1'].mean().mean()\n",
    "FbeforeF=dff.groupby('iid')['fun1_1'].mean().mean()\n",
    "FbeforeAM=dff.groupby('iid')['amb1_1'].mean().mean()\n",
    "FbeforeH=dff.groupby('iid')['shar1_1'].mean().mean()\n",
    "\n",
    "#before event male\n",
    "MbeforeA=dfm.groupby('iid')['attr1_1'].mean().mean()\n",
    "MbeforeS=dfm.groupby('iid')['sinc1_1'].mean().mean()\n",
    "MbeforeI=dfm.groupby('iid')['intel1_1'].mean().mean()\n",
    "MbeforeF=dfm.groupby('iid')['fun1_1'].mean().mean()\n",
    "MbeforeAM=dfm.groupby('iid')['amb1_1'].mean().mean()\n",
    "MbeforeH=dfm.groupby('iid')['shar1_1'].mean().mean()\n",
    "\n",
    "#creating a new dataframe of all attributes with mean values for female participants\n",
    "Fdata = {'BeforeEventFemale':[FbeforeA,FbeforeS,FbeforeI,FbeforeF,FbeforeAM,FbeforeH]}\n",
    "FBeforeDateAttributes=pd.DataFrame(Fdata, index=['Attractive','Sincere','Intelligent','Fun','Ambitious','Hobbies']) \n",
    "FBeforeDateAttributes\n",
    "\n",
    "#creating a new dataframe of all attributes with mean values for male participants\n",
    "Mdata = {'BeforeEventMale':[MbeforeA,MbeforeS,MbeforeI,MbeforeF,MbeforeAM,MbeforeH]}\n",
    "MBeforeDateAttributes=pd.DataFrame(Mdata, index=['Attractive','Sincere','Intelligent','Fun','Ambitious','Hobbies']) \n",
    "MBeforeDateAttributes\n",
    "\n",
    "result_before = pd.concat([MBeforeDateAttributes, FBeforeDateAttributes], axis=1, join_axes=[MBeforeDateAttributes.index])\n",
    "result_before\n",
    "\n",
    "result_before.plot.bar(style=['o','rx'])"
   ]
  },
  {
   "cell_type": "markdown",
   "metadata": {},
   "source": [
    "### Case 2- Considering attributes for male and female participants after the event"
   ]
  },
  {
   "cell_type": "code",
   "execution_count": 23,
   "metadata": {},
   "outputs": [
    {
     "data": {
      "text/plain": [
       "<matplotlib.axes._subplots.AxesSubplot at 0x1ec14774d30>"
      ]
     },
     "execution_count": 23,
     "metadata": {},
     "output_type": "execute_result"
    },
    {
     "data": {
      "image/png": "[encoded data removed]",
      "text/plain": [
       "<Figure size 432x288 with 1 Axes>"
      ]
     },
     "metadata": {
      "needs_background": "light"
     },
     "output_type": "display_data"
    }
   ],
   "source": [
    "#After event female\n",
    "FafterA=dff.groupby('iid')['attr7_3'].mean().mean()\n",
    "FafterS=dff.groupby('iid')['sinc7_3'].mean().mean()\n",
    "FafterI=dff.groupby('iid')['intel7_3'].mean().mean()\n",
    "FafterF=dff.groupby('iid')['fun7_3'].mean().mean()\n",
    "FafterAM=dff.groupby('iid')['amb7_3'].mean().mean()\n",
    "FafterH=dff.groupby('iid')['shar7_3'].mean().mean()\n",
    "\n",
    "#After event male\n",
    "MafterA=dfm.groupby('iid')['attr7_3'].mean().mean()\n",
    "MafterS=dfm.groupby('iid')['sinc7_3'].mean().mean()\n",
    "MafterI=dfm.groupby('iid')['intel7_3'].mean().mean()\n",
    "MafterF=dfm.groupby('iid')['fun7_3'].mean().mean()\n",
    "MafterAM=dfm.groupby('iid')['amb7_3'].mean().mean()\n",
    "MafterH=dfm.groupby('iid')['shar7_3'].mean().mean()\n",
    "\n",
    "#creating a new dataframe of all attributes with mean values for female\n",
    "FAdata = {'AfterEventFemale':[FafterA,FafterS,FafterI,FafterF,FafterAM,FafterH]}\n",
    "FAfterDateAttributes=pd.DataFrame(FAdata, index=['Attractive','Sincere','Intelligent','Fun','Ambitious','Hobbies']) \n",
    "FAfterDateAttributes\n",
    "\n",
    "#creating a new dataframe of all attributes with mean values for male\n",
    "MAdata = {'AfterEventMale':[MafterA,MafterS,MafterI,MafterF,MafterAM,MafterH]}\n",
    "MAfterDateAttributes=pd.DataFrame(MAdata, index=['Attractive','Sincere','Intelligent','Fun','Ambitious','Hobbies']) \n",
    "MAfterDateAttributes\n",
    "\n",
    "result_after = pd.concat([MAfterDateAttributes, FAfterDateAttributes], axis=1, join_axes=[MAfterDateAttributes.index])\n",
    "result_after\n",
    "\n",
    "result_after.plot.bar(style=['o','rx'])"
   ]
  },
  {
   "cell_type": "markdown",
   "metadata": {},
   "source": [
    "#### Validity of the finding"
   ]
  },
  {
   "cell_type": "code",
   "execution_count": 24,
   "metadata": {},
   "outputs": [
    {
     "data": {
      "text/html": [
       "<div>\n",
       "<style scoped>\n",
       "    .dataframe tbody tr th:only-of-type {\n",
       "        vertical-align: middle;\n",
       "    }\n",
       "\n",
       "    .dataframe tbody tr th {\n",
       "        vertical-align: top;\n",
       "    }\n",
       "\n",
       "    .dataframe thead th {\n",
       "        text-align: right;\n",
       "    }\n",
       "</style>\n",
       "<table border=\"1\" class=\"dataframe\">\n",
       "  <thead>\n",
       "    <tr style=\"text-align: right;\">\n",
       "      <th></th>\n",
       "      <th>BeforeEventMale</th>\n",
       "      <th>BeforeEventFemale</th>\n",
       "    </tr>\n",
       "  </thead>\n",
       "  <tbody>\n",
       "    <tr>\n",
       "      <th>Attractive</th>\n",
       "      <td>27.218123</td>\n",
       "      <td>18.111241</td>\n",
       "    </tr>\n",
       "    <tr>\n",
       "      <th>Sincere</th>\n",
       "      <td>16.384079</td>\n",
       "      <td>18.199927</td>\n",
       "    </tr>\n",
       "    <tr>\n",
       "      <th>Intelligent</th>\n",
       "      <td>19.391841</td>\n",
       "      <td>20.953285</td>\n",
       "    </tr>\n",
       "    <tr>\n",
       "      <th>Fun</th>\n",
       "      <td>17.594332</td>\n",
       "      <td>17.293650</td>\n",
       "    </tr>\n",
       "    <tr>\n",
       "      <th>Ambitious</th>\n",
       "      <td>8.855379</td>\n",
       "      <td>12.785292</td>\n",
       "    </tr>\n",
       "    <tr>\n",
       "      <th>Hobbies</th>\n",
       "      <td>10.996968</td>\n",
       "      <td>12.682555</td>\n",
       "    </tr>\n",
       "  </tbody>\n",
       "</table>\n",
       "</div>"
      ],
      "text/plain": [
       "             BeforeEventMale  BeforeEventFemale\n",
       "Attractive         27.218123          18.111241\n",
       "Sincere            16.384079          18.199927\n",
       "Intelligent        19.391841          20.953285\n",
       "Fun                17.594332          17.293650\n",
       "Ambitious           8.855379          12.785292\n",
       "Hobbies            10.996968          12.682555"
      ]
     },
     "execution_count": 24,
     "metadata": {},
     "output_type": "execute_result"
    }
   ],
   "source": [
    "result_before"
   ]
  },
  {
   "cell_type": "code",
   "execution_count": 25,
   "metadata": {},
   "outputs": [
    {
     "data": {
      "text/html": [
       "<div>\n",
       "<style scoped>\n",
       "    .dataframe tbody tr th:only-of-type {\n",
       "        vertical-align: middle;\n",
       "    }\n",
       "\n",
       "    .dataframe tbody tr th {\n",
       "        vertical-align: top;\n",
       "    }\n",
       "\n",
       "    .dataframe thead th {\n",
       "        text-align: right;\n",
       "    }\n",
       "</style>\n",
       "<table border=\"1\" class=\"dataframe\">\n",
       "  <thead>\n",
       "    <tr style=\"text-align: right;\">\n",
       "      <th></th>\n",
       "      <th>AfterEventMale</th>\n",
       "      <th>AfterEventFemale</th>\n",
       "    </tr>\n",
       "  </thead>\n",
       "  <tbody>\n",
       "    <tr>\n",
       "      <th>Attractive</th>\n",
       "      <td>32.202166</td>\n",
       "      <td>29.923358</td>\n",
       "    </tr>\n",
       "    <tr>\n",
       "      <th>Sincere</th>\n",
       "      <td>15.444043</td>\n",
       "      <td>16.565693</td>\n",
       "    </tr>\n",
       "    <tr>\n",
       "      <th>Intelligent</th>\n",
       "      <td>17.036101</td>\n",
       "      <td>16.854015</td>\n",
       "    </tr>\n",
       "    <tr>\n",
       "      <th>Fun</th>\n",
       "      <td>16.249097</td>\n",
       "      <td>15.748175</td>\n",
       "    </tr>\n",
       "    <tr>\n",
       "      <th>Ambitious</th>\n",
       "      <td>7.559567</td>\n",
       "      <td>8.390511</td>\n",
       "    </tr>\n",
       "    <tr>\n",
       "      <th>Hobbies</th>\n",
       "      <td>11.545126</td>\n",
       "      <td>12.554745</td>\n",
       "    </tr>\n",
       "  </tbody>\n",
       "</table>\n",
       "</div>"
      ],
      "text/plain": [
       "             AfterEventMale  AfterEventFemale\n",
       "Attractive        32.202166         29.923358\n",
       "Sincere           15.444043         16.565693\n",
       "Intelligent       17.036101         16.854015\n",
       "Fun               16.249097         15.748175\n",
       "Ambitious          7.559567          8.390511\n",
       "Hobbies           11.545126         12.554745"
      ]
     },
     "execution_count": 25,
     "metadata": {},
     "output_type": "execute_result"
    }
   ],
   "source": [
    "result_after"
   ]
  },
  {
   "cell_type": "markdown",
   "metadata": {},
   "source": [
    "### Conclusion"
   ]
  },
  {
   "cell_type": "markdown",
   "metadata": {},
   "source": [
    "Based on the above analysis, it can be inferred, that ‘Attractiveness’ is the most important attributes which men and women look for in their partners though women claimed that they preferred 'Intelligence' before participating in the event."
   ]
  },
  {
   "cell_type": "markdown",
   "metadata": {},
   "source": [
    "## Managerial insights: "
   ]
  },
  {
   "cell_type": "markdown",
   "metadata": {},
   "source": [
    "The chances of getting a suitable date are more if the participants are more attractive! The speed dating event managers can organize 'Personality Development' sessions for the intended participants. The 'Personality Development' sessions would help the participants to enhance their personalities there by increasing their chances to get a date. \n",
    "\n",
    "The overall success rate of the speed dating event would augment which in turn would induce more and more people to participate in the speed dating event resulting in more profit to company conducting speed dating events."
   ]
  },
  {
   "cell_type": "markdown",
   "metadata": {},
   "source": [
    "# <span style=\"color:darkblue\">*Insight 2*</span>"
   ]
  },
  {
   "cell_type": "markdown",
   "metadata": {},
   "source": [
    "\n",
    "# <span style=\"color:darkblue\"> *European/Caucasian-American:The most desired race by the participants!*</span>"
   ]
  },
  {
   "cell_type": "markdown",
   "metadata": {},
   "source": [
    "We have poeple from different races like Black/African American,European/Caucasian-American,Latino/Hispanic American,Asian/Pacific Islander/Asian-American,Native American and Other. We will focus on what the participants declare to be the level of importance of race and religion for them. Thus, let's keep in mind that this is what the participants are declaring, which does not necessarily correspond to the truth.\n",
    "\n",
    "**Columns used**:\n",
    "\n",
    "1) 'race': race of a person participating in the speed dating event.\n",
    "\n",
    "2) 'imprace': How important is it to the person (on a scale of 1-10) that a partner he/she dates is of the same racial/ethnic background!!\n",
    "\n",
    "3) 'race_o': race of a partner\n",
    "\n",
    "4) 'iid' : unique subject number, group(wave id gender)\n",
    "\n",
    "5) 'dec' : Whether or not you will like to see the person again (1 = 'Yes' , '0' = 'No')\n",
    "\n",
    "**Scenario 1**: Before the event: The most desired race by women and men using 'race' and 'imprace' columns.\n",
    "\n",
    "*Outcome* : When analysed for men and women separately using 'race' and 'imprace' columns, it is observed that race 2(European/Caucasian-American) is the most important race for them.\n",
    "\n",
    "**Scenario 2**: After the event: The most desired race by women and men using 'race','race_o and 'iid' columns.\n",
    "\n",
    "*Outcome* : The importance of race has been analyzed again after the speed dating event. Here, the people who would like to see their partners again have been considered (Decision = 'Yes').\n",
    "\n",
    "**Conclusion**: From the above outcomes, it can be concluded that the people from different races perfer dating 'Europian/Caucasian-American' people."
   ]
  },
  {
   "cell_type": "markdown",
   "metadata": {},
   "source": [
    "## Scenario 1- Before the event : The most important race is by the men and women of different races"
   ]
  },
  {
   "cell_type": "markdown",
   "metadata": {},
   "source": [
    " Black/African American=1\n",
    "\n",
    "European/Caucasian-American=2\n",
    "\n",
    "Latino/Hispanic American=3\n",
    "\n",
    "Asian/Pacific Islander/Asian-American=4\n",
    "\n",
    "Native American=5\n",
    "\n",
    "Other=6"
   ]
  },
  {
   "cell_type": "markdown",
   "metadata": {},
   "source": [
    "### For Females"
   ]
  },
  {
   "cell_type": "code",
   "execution_count": 26,
   "metadata": {},
   "outputs": [
    {
     "data": {
      "text/plain": [
       "<matplotlib.axes._subplots.AxesSubplot at 0x1ec1474ba90>"
      ]
     },
     "execution_count": 26,
     "metadata": {},
     "output_type": "execute_result"
    },
    {
     "data": {
      "image/png": "[encoded data removed]",
      "text/plain": [
       "<Figure size 432x288 with 1 Axes>"
      ]
     },
     "metadata": {
      "needs_background": "light"
     },
     "output_type": "display_data"
    }
   ],
   "source": [
    "dfFemale=dfclean[dfclean.gender==0]\n",
    "FRace=dfFemale.groupby('iid').mean()[['race','imprace']]\n",
    "FRace\n",
    "\n",
    "FemaleImpRace=FRace.groupby('race')['imprace'].mean()\n",
    "\n",
    "FemaleImpRace.plot.bar(style=['o','rx'])"
   ]
  },
  {
   "cell_type": "markdown",
   "metadata": {},
   "source": [
    "### For males"
   ]
  },
  {
   "cell_type": "code",
   "execution_count": 27,
   "metadata": {},
   "outputs": [
    {
     "data": {
      "text/plain": [
       "<matplotlib.axes._subplots.AxesSubplot at 0x1ec14849208>"
      ]
     },
     "execution_count": 27,
     "metadata": {},
     "output_type": "execute_result"
    },
    {
     "data": {
      "image/png": "[encoded data removed]",
      "text/plain": [
       "<Figure size 432x288 with 1 Axes>"
      ]
     },
     "metadata": {
      "needs_background": "light"
     },
     "output_type": "display_data"
    }
   ],
   "source": [
    "dfmale=dfclean[dfclean.gender==1]\n",
    "MRace=dfmale.groupby('iid').mean()[['race','imprace']]\n",
    "MRace\n",
    "\n",
    "MaleImpRace=MRace.groupby('race')['imprace'].mean()\n",
    "\n",
    "MaleImpRace.plot.bar(style=['o','rx'])"
   ]
  },
  {
   "cell_type": "markdown",
   "metadata": {},
   "source": [
    "## Scenario 2- After the event : The most important race is by the men and women of different races"
   ]
  },
  {
   "cell_type": "markdown",
   "metadata": {},
   "source": [
    "### Race wise preferences by females after the event"
   ]
  },
  {
   "cell_type": "code",
   "execution_count": 28,
   "metadata": {},
   "outputs": [
    {
     "data": {
      "text/plain": [
       "pandas.core.frame.DataFrame"
      ]
     },
     "execution_count": 28,
     "metadata": {},
     "output_type": "execute_result"
    }
   ],
   "source": [
    "Fpref=dfFemale[dfFemale.dec==1][['iid','race','race_o']]\n",
    "type(Fpref)"
   ]
  },
  {
   "cell_type": "code",
   "execution_count": 29,
   "metadata": {},
   "outputs": [
    {
     "data": {
      "text/html": [
       "<div>\n",
       "<style scoped>\n",
       "    .dataframe tbody tr th:only-of-type {\n",
       "        vertical-align: middle;\n",
       "    }\n",
       "\n",
       "    .dataframe tbody tr th {\n",
       "        vertical-align: top;\n",
       "    }\n",
       "\n",
       "    .dataframe thead th {\n",
       "        text-align: right;\n",
       "    }\n",
       "</style>\n",
       "<table border=\"1\" class=\"dataframe\">\n",
       "  <thead>\n",
       "    <tr style=\"text-align: right;\">\n",
       "      <th></th>\n",
       "      <th>race</th>\n",
       "      <th>race_o</th>\n",
       "      <th>iid</th>\n",
       "    </tr>\n",
       "  </thead>\n",
       "  <tbody>\n",
       "    <tr>\n",
       "      <th>0</th>\n",
       "      <td>1.0</td>\n",
       "      <td>1.0</td>\n",
       "      <td>8</td>\n",
       "    </tr>\n",
       "    <tr>\n",
       "      <th>1</th>\n",
       "      <td>1.0</td>\n",
       "      <td>2.0</td>\n",
       "      <td>68</td>\n",
       "    </tr>\n",
       "    <tr>\n",
       "      <th>2</th>\n",
       "      <td>1.0</td>\n",
       "      <td>3.0</td>\n",
       "      <td>10</td>\n",
       "    </tr>\n",
       "    <tr>\n",
       "      <th>3</th>\n",
       "      <td>1.0</td>\n",
       "      <td>4.0</td>\n",
       "      <td>20</td>\n",
       "    </tr>\n",
       "    <tr>\n",
       "      <th>4</th>\n",
       "      <td>1.0</td>\n",
       "      <td>6.0</td>\n",
       "      <td>9</td>\n",
       "    </tr>\n",
       "    <tr>\n",
       "      <th>5</th>\n",
       "      <td>2.0</td>\n",
       "      <td>1.0</td>\n",
       "      <td>26</td>\n",
       "    </tr>\n",
       "    <tr>\n",
       "      <th>6</th>\n",
       "      <td>2.0</td>\n",
       "      <td>2.0</td>\n",
       "      <td>524</td>\n",
       "    </tr>\n",
       "    <tr>\n",
       "      <th>7</th>\n",
       "      <td>2.0</td>\n",
       "      <td>3.0</td>\n",
       "      <td>37</td>\n",
       "    </tr>\n",
       "    <tr>\n",
       "      <th>8</th>\n",
       "      <td>2.0</td>\n",
       "      <td>4.0</td>\n",
       "      <td>86</td>\n",
       "    </tr>\n",
       "    <tr>\n",
       "      <th>9</th>\n",
       "      <td>2.0</td>\n",
       "      <td>6.0</td>\n",
       "      <td>39</td>\n",
       "    </tr>\n",
       "    <tr>\n",
       "      <th>10</th>\n",
       "      <td>3.0</td>\n",
       "      <td>1.0</td>\n",
       "      <td>8</td>\n",
       "    </tr>\n",
       "    <tr>\n",
       "      <th>11</th>\n",
       "      <td>3.0</td>\n",
       "      <td>2.0</td>\n",
       "      <td>91</td>\n",
       "    </tr>\n",
       "    <tr>\n",
       "      <th>12</th>\n",
       "      <td>3.0</td>\n",
       "      <td>3.0</td>\n",
       "      <td>13</td>\n",
       "    </tr>\n",
       "    <tr>\n",
       "      <th>13</th>\n",
       "      <td>3.0</td>\n",
       "      <td>4.0</td>\n",
       "      <td>25</td>\n",
       "    </tr>\n",
       "    <tr>\n",
       "      <th>14</th>\n",
       "      <td>3.0</td>\n",
       "      <td>6.0</td>\n",
       "      <td>13</td>\n",
       "    </tr>\n",
       "    <tr>\n",
       "      <th>15</th>\n",
       "      <td>4.0</td>\n",
       "      <td>1.0</td>\n",
       "      <td>19</td>\n",
       "    </tr>\n",
       "    <tr>\n",
       "      <th>16</th>\n",
       "      <td>4.0</td>\n",
       "      <td>2.0</td>\n",
       "      <td>270</td>\n",
       "    </tr>\n",
       "    <tr>\n",
       "      <th>17</th>\n",
       "      <td>4.0</td>\n",
       "      <td>3.0</td>\n",
       "      <td>23</td>\n",
       "    </tr>\n",
       "    <tr>\n",
       "      <th>18</th>\n",
       "      <td>4.0</td>\n",
       "      <td>4.0</td>\n",
       "      <td>99</td>\n",
       "    </tr>\n",
       "    <tr>\n",
       "      <th>19</th>\n",
       "      <td>4.0</td>\n",
       "      <td>6.0</td>\n",
       "      <td>32</td>\n",
       "    </tr>\n",
       "    <tr>\n",
       "      <th>20</th>\n",
       "      <td>6.0</td>\n",
       "      <td>1.0</td>\n",
       "      <td>5</td>\n",
       "    </tr>\n",
       "    <tr>\n",
       "      <th>21</th>\n",
       "      <td>6.0</td>\n",
       "      <td>2.0</td>\n",
       "      <td>69</td>\n",
       "    </tr>\n",
       "    <tr>\n",
       "      <th>22</th>\n",
       "      <td>6.0</td>\n",
       "      <td>3.0</td>\n",
       "      <td>11</td>\n",
       "    </tr>\n",
       "    <tr>\n",
       "      <th>23</th>\n",
       "      <td>6.0</td>\n",
       "      <td>4.0</td>\n",
       "      <td>15</td>\n",
       "    </tr>\n",
       "    <tr>\n",
       "      <th>24</th>\n",
       "      <td>6.0</td>\n",
       "      <td>6.0</td>\n",
       "      <td>9</td>\n",
       "    </tr>\n",
       "  </tbody>\n",
       "</table>\n",
       "</div>"
      ],
      "text/plain": [
       "    race  race_o  iid\n",
       "0    1.0     1.0    8\n",
       "1    1.0     2.0   68\n",
       "2    1.0     3.0   10\n",
       "3    1.0     4.0   20\n",
       "4    1.0     6.0    9\n",
       "5    2.0     1.0   26\n",
       "6    2.0     2.0  524\n",
       "7    2.0     3.0   37\n",
       "8    2.0     4.0   86\n",
       "9    2.0     6.0   39\n",
       "10   3.0     1.0    8\n",
       "11   3.0     2.0   91\n",
       "12   3.0     3.0   13\n",
       "13   3.0     4.0   25\n",
       "14   3.0     6.0   13\n",
       "15   4.0     1.0   19\n",
       "16   4.0     2.0  270\n",
       "17   4.0     3.0   23\n",
       "18   4.0     4.0   99\n",
       "19   4.0     6.0   32\n",
       "20   6.0     1.0    5\n",
       "21   6.0     2.0   69\n",
       "22   6.0     3.0   11\n",
       "23   6.0     4.0   15\n",
       "24   6.0     6.0    9"
      ]
     },
     "execution_count": 29,
     "metadata": {},
     "output_type": "execute_result"
    }
   ],
   "source": [
    "Fprefrace = Fpref.groupby(['race','race_o']).count()\n",
    "type(Fprefrace)\n",
    "Fprefrace.reset_index(inplace = True)\n",
    "Fprefrace"
   ]
  },
  {
   "cell_type": "code",
   "execution_count": 30,
   "metadata": {
    "scrolled": true
   },
   "outputs": [
    {
     "name": "stderr",
     "output_type": "stream",
     "text": [
      "C:\\Users\\Nachiket\\Anaconda3\\lib\\site-packages\\seaborn\\axisgrid.py:715: UserWarning: Using the barplot function without specifying `order` is likely to produce an incorrect plot.\n",
      "  warnings.warn(warning)\n"
     ]
    },
    {
     "data": {
      "text/plain": [
       "Text(0.5, 1.0, 'Other')"
      ]
     },
     "execution_count": 30,
     "metadata": {},
     "output_type": "execute_result"
    },
    {
     "data": {
      "image/png": "[encoded data removed]",
      "text/plain": [
       "<Figure size 1152x288 with 5 Axes>"
      ]
     },
     "metadata": {
      "needs_background": "light"
     },
     "output_type": "display_data"
    }
   ],
   "source": [
    "Fplot = sns.FacetGrid(Fprefrace, col=\"race\", height=4, aspect=0.8)\n",
    "Fplot.map(sns.barplot, \"race_o\", \"iid\")\n",
    "axes = Fplot.axes.flatten()\n",
    "axes[0].set_title(\"Black\")\n",
    "axes[1].set_title(\"European/Caucasian-American\")\n",
    "axes[2].set_title(\"Latino/Hispanic\")\n",
    "axes[3].set_title(\"Asian\")\n",
    "axes[4].set_title(\"Other\")\n"
   ]
  },
  {
   "cell_type": "markdown",
   "metadata": {},
   "source": [
    "### Race wise preferences by males after the event"
   ]
  },
  {
   "cell_type": "code",
   "execution_count": 31,
   "metadata": {},
   "outputs": [
    {
     "data": {
      "text/plain": [
       "pandas.core.frame.DataFrame"
      ]
     },
     "execution_count": 31,
     "metadata": {},
     "output_type": "execute_result"
    }
   ],
   "source": [
    "Mpref=dfmale[dfmale.dec==0][['iid','race','race_o']]\n",
    "type(Mpref)"
   ]
  },
  {
   "cell_type": "code",
   "execution_count": 32,
   "metadata": {},
   "outputs": [
    {
     "data": {
      "text/html": [
       "<div>\n",
       "<style scoped>\n",
       "    .dataframe tbody tr th:only-of-type {\n",
       "        vertical-align: middle;\n",
       "    }\n",
       "\n",
       "    .dataframe tbody tr th {\n",
       "        vertical-align: top;\n",
       "    }\n",
       "\n",
       "    .dataframe thead th {\n",
       "        text-align: right;\n",
       "    }\n",
       "</style>\n",
       "<table border=\"1\" class=\"dataframe\">\n",
       "  <thead>\n",
       "    <tr style=\"text-align: right;\">\n",
       "      <th></th>\n",
       "      <th>race</th>\n",
       "      <th>race_o</th>\n",
       "      <th>iid</th>\n",
       "    </tr>\n",
       "  </thead>\n",
       "  <tbody>\n",
       "    <tr>\n",
       "      <th>0</th>\n",
       "      <td>1.0</td>\n",
       "      <td>1.0</td>\n",
       "      <td>3</td>\n",
       "    </tr>\n",
       "    <tr>\n",
       "      <th>1</th>\n",
       "      <td>1.0</td>\n",
       "      <td>2.0</td>\n",
       "      <td>39</td>\n",
       "    </tr>\n",
       "    <tr>\n",
       "      <th>2</th>\n",
       "      <td>1.0</td>\n",
       "      <td>3.0</td>\n",
       "      <td>7</td>\n",
       "    </tr>\n",
       "    <tr>\n",
       "      <th>3</th>\n",
       "      <td>1.0</td>\n",
       "      <td>4.0</td>\n",
       "      <td>26</td>\n",
       "    </tr>\n",
       "    <tr>\n",
       "      <th>4</th>\n",
       "      <td>1.0</td>\n",
       "      <td>6.0</td>\n",
       "      <td>6</td>\n",
       "    </tr>\n",
       "    <tr>\n",
       "      <th>5</th>\n",
       "      <td>2.0</td>\n",
       "      <td>1.0</td>\n",
       "      <td>83</td>\n",
       "    </tr>\n",
       "    <tr>\n",
       "      <th>6</th>\n",
       "      <td>2.0</td>\n",
       "      <td>2.0</td>\n",
       "      <td>715</td>\n",
       "    </tr>\n",
       "    <tr>\n",
       "      <th>7</th>\n",
       "      <td>2.0</td>\n",
       "      <td>3.0</td>\n",
       "      <td>111</td>\n",
       "    </tr>\n",
       "    <tr>\n",
       "      <th>8</th>\n",
       "      <td>2.0</td>\n",
       "      <td>4.0</td>\n",
       "      <td>385</td>\n",
       "    </tr>\n",
       "    <tr>\n",
       "      <th>9</th>\n",
       "      <td>2.0</td>\n",
       "      <td>6.0</td>\n",
       "      <td>95</td>\n",
       "    </tr>\n",
       "    <tr>\n",
       "      <th>10</th>\n",
       "      <td>3.0</td>\n",
       "      <td>1.0</td>\n",
       "      <td>10</td>\n",
       "    </tr>\n",
       "    <tr>\n",
       "      <th>11</th>\n",
       "      <td>3.0</td>\n",
       "      <td>2.0</td>\n",
       "      <td>68</td>\n",
       "    </tr>\n",
       "    <tr>\n",
       "      <th>12</th>\n",
       "      <td>3.0</td>\n",
       "      <td>3.0</td>\n",
       "      <td>14</td>\n",
       "    </tr>\n",
       "    <tr>\n",
       "      <th>13</th>\n",
       "      <td>3.0</td>\n",
       "      <td>4.0</td>\n",
       "      <td>40</td>\n",
       "    </tr>\n",
       "    <tr>\n",
       "      <th>14</th>\n",
       "      <td>3.0</td>\n",
       "      <td>6.0</td>\n",
       "      <td>10</td>\n",
       "    </tr>\n",
       "    <tr>\n",
       "      <th>15</th>\n",
       "      <td>4.0</td>\n",
       "      <td>1.0</td>\n",
       "      <td>32</td>\n",
       "    </tr>\n",
       "    <tr>\n",
       "      <th>16</th>\n",
       "      <td>4.0</td>\n",
       "      <td>2.0</td>\n",
       "      <td>220</td>\n",
       "    </tr>\n",
       "    <tr>\n",
       "      <th>17</th>\n",
       "      <td>4.0</td>\n",
       "      <td>3.0</td>\n",
       "      <td>53</td>\n",
       "    </tr>\n",
       "    <tr>\n",
       "      <th>18</th>\n",
       "      <td>4.0</td>\n",
       "      <td>4.0</td>\n",
       "      <td>129</td>\n",
       "    </tr>\n",
       "    <tr>\n",
       "      <th>19</th>\n",
       "      <td>4.0</td>\n",
       "      <td>6.0</td>\n",
       "      <td>32</td>\n",
       "    </tr>\n",
       "    <tr>\n",
       "      <th>20</th>\n",
       "      <td>6.0</td>\n",
       "      <td>1.0</td>\n",
       "      <td>6</td>\n",
       "    </tr>\n",
       "    <tr>\n",
       "      <th>21</th>\n",
       "      <td>6.0</td>\n",
       "      <td>2.0</td>\n",
       "      <td>60</td>\n",
       "    </tr>\n",
       "    <tr>\n",
       "      <th>22</th>\n",
       "      <td>6.0</td>\n",
       "      <td>3.0</td>\n",
       "      <td>8</td>\n",
       "    </tr>\n",
       "    <tr>\n",
       "      <th>23</th>\n",
       "      <td>6.0</td>\n",
       "      <td>4.0</td>\n",
       "      <td>39</td>\n",
       "    </tr>\n",
       "    <tr>\n",
       "      <th>24</th>\n",
       "      <td>6.0</td>\n",
       "      <td>6.0</td>\n",
       "      <td>14</td>\n",
       "    </tr>\n",
       "  </tbody>\n",
       "</table>\n",
       "</div>"
      ],
      "text/plain": [
       "    race  race_o  iid\n",
       "0    1.0     1.0    3\n",
       "1    1.0     2.0   39\n",
       "2    1.0     3.0    7\n",
       "3    1.0     4.0   26\n",
       "4    1.0     6.0    6\n",
       "5    2.0     1.0   83\n",
       "6    2.0     2.0  715\n",
       "7    2.0     3.0  111\n",
       "8    2.0     4.0  385\n",
       "9    2.0     6.0   95\n",
       "10   3.0     1.0   10\n",
       "11   3.0     2.0   68\n",
       "12   3.0     3.0   14\n",
       "13   3.0     4.0   40\n",
       "14   3.0     6.0   10\n",
       "15   4.0     1.0   32\n",
       "16   4.0     2.0  220\n",
       "17   4.0     3.0   53\n",
       "18   4.0     4.0  129\n",
       "19   4.0     6.0   32\n",
       "20   6.0     1.0    6\n",
       "21   6.0     2.0   60\n",
       "22   6.0     3.0    8\n",
       "23   6.0     4.0   39\n",
       "24   6.0     6.0   14"
      ]
     },
     "execution_count": 32,
     "metadata": {},
     "output_type": "execute_result"
    }
   ],
   "source": [
    "Mprefrace = Mpref.groupby(['race','race_o']).count()\n",
    "type(Mprefrace)\n",
    "Mprefrace.reset_index(inplace = True)\n",
    "Mprefrace"
   ]
  },
  {
   "cell_type": "markdown",
   "metadata": {},
   "source": [
    "Black/African American=1 \n",
    "European/Caucasian-American=2 \n",
    "Latino/Hispanic American=3 \n",
    "Asian/Pacific Islander/Asian-American=4\n",
    "Other=6"
   ]
  },
  {
   "cell_type": "code",
   "execution_count": 33,
   "metadata": {},
   "outputs": [
    {
     "name": "stderr",
     "output_type": "stream",
     "text": [
      "C:\\Users\\Nachiket\\Anaconda3\\lib\\site-packages\\seaborn\\axisgrid.py:715: UserWarning: Using the barplot function without specifying `order` is likely to produce an incorrect plot.\n",
      "  warnings.warn(warning)\n"
     ]
    },
    {
     "data": {
      "text/plain": [
       "Text(0.5, 1.0, 'Other')"
      ]
     },
     "execution_count": 33,
     "metadata": {},
     "output_type": "execute_result"
    },
    {
     "data": {
      "image/png": "[encoded data removed]",
      "text/plain": [
       "<Figure size 1152x288 with 5 Axes>"
      ]
     },
     "metadata": {
      "needs_background": "light"
     },
     "output_type": "display_data"
    }
   ],
   "source": [
    "Mplot = sns.FacetGrid(Mprefrace, col=\"race\", height=4, aspect=.8)\n",
    "Mplot.map(sns.barplot, \"race_o\", \"iid\")\n",
    "axes = Mplot.axes.flatten()\n",
    "axes[0].set_title(\"Black\")\n",
    "axes[1].set_title(\"European/Caucasian-American\")\n",
    "axes[2].set_title(\"Latino/Hispanic\")\n",
    "axes[3].set_title(\"Asian\")\n",
    "axes[4].set_title(\"Other\")"
   ]
  },
  {
   "cell_type": "markdown",
   "metadata": {},
   "source": [
    "### Participation in the event by race"
   ]
  },
  {
   "cell_type": "code",
   "execution_count": 34,
   "metadata": {},
   "outputs": [
    {
     "data": {
      "text/plain": [
       "race\n",
       "2.0    4727\n",
       "4.0    1982\n",
       "3.0     664\n",
       "6.0     585\n",
       "1.0     420\n",
       "Name: race, dtype: int64"
      ]
     },
     "execution_count": 34,
     "metadata": {},
     "output_type": "execute_result"
    }
   ],
   "source": [
    "dfclean.groupby('race')['race'].count().sort_values(ascending=False)"
   ]
  },
  {
   "cell_type": "code",
   "execution_count": 35,
   "metadata": {},
   "outputs": [
    {
     "data": {
      "text/plain": [
       "<matplotlib.axes._subplots.AxesSubplot at 0x1ec1620b320>"
      ]
     },
     "execution_count": 35,
     "metadata": {},
     "output_type": "execute_result"
    },
    {
     "data": {
      "image/png": "[encoded data removed]",
      "text/plain": [
       "<Figure size 432x288 with 1 Axes>"
      ]
     },
     "metadata": {
      "needs_background": "light"
     },
     "output_type": "display_data"
    }
   ],
   "source": [
    "sns.countplot(x='race',data=dfclean)"
   ]
  },
  {
   "cell_type": "markdown",
   "metadata": {},
   "source": [
    "## Managerial insights: "
   ]
  },
  {
   "cell_type": "markdown",
   "metadata": {},
   "source": [
    "The 'European/Caucasian-American' is the most preferred race by most of the participants. This could be due to the fact that 'European/Caucasian-American' participated more in the speed dating event.\n",
    "\n",
    "The probability of matches in all waves can be increased by including a healthy number of population from the most preferred race. This would make the speed dating events more successful and profitable."
   ]
  },
  {
   "cell_type": "markdown",
   "metadata": {},
   "source": [
    "# <span style=\"color:darkblue\"> *Insight 3*</span>"
   ]
  },
  {
   "cell_type": "markdown",
   "metadata": {},
   "source": [
    "# <span style=\"color:darkblue\"> *Secret of getting a second date*</span>"
   ]
  },
  {
   "cell_type": "markdown",
   "metadata": {},
   "source": [
    "We are trying to implement a decision tree which will predict the decision of partner based on attributes like attractiveness, Sincerety, intellegence, fun, ambitious, shared interests.\n",
    "\n",
    "Columns used:\n",
    "\n",
    "1) attr_o: rating by partner the night of the event on the attribute of attractivness\n",
    "\n",
    "2) sinc_o: rating by partner the night of the event on the attribute of sincerity\n",
    "\n",
    "3) intel_o: rating by partner the night of the event on the attribute of intelligence\n",
    "\n",
    "4) fun_o: rating by partner the night of the event on the attribute of being fun\n",
    "\n",
    "5) amb_o: rating by partner the night of the event on the attribute of ambition\n",
    "\n",
    "6) shar_o: rating by partner the night of the event on the attribute of shared interests\n",
    "\n",
    "Condition 1: If your partner rates you greater than 6.25 out of 10 then the decision of the partner would be predicted on the shared interest.\n",
    "\n",
    "Condition 2: If your partner rates you greater than 4.25 out of 10 based on shared interest then there is higher chance for you to get the second date.\n",
    "\n",
    "Conclusion: You will surely get a second date if above two coditions are satisfied."
   ]
  },
  {
   "cell_type": "code",
   "execution_count": 36,
   "metadata": {},
   "outputs": [],
   "source": [
    "import sklearn as sk\n",
    "import sklearn.tree as tree\n",
    "from IPython.display import Image  \n",
    "import pydotplus\n",
    "\n",
    "import warnings\n",
    "warnings.filterwarnings('ignore')"
   ]
  },
  {
   "cell_type": "code",
   "execution_count": 37,
   "metadata": {},
   "outputs": [
    {
     "data": {
      "text/plain": [
       "DecisionTreeClassifier(class_weight=None, criterion='gini', max_depth=2,\n",
       "            max_features=None, max_leaf_nodes=None,\n",
       "            min_impurity_decrease=0.0, min_impurity_split=None,\n",
       "            min_samples_leaf=1, min_samples_split=2,\n",
       "            min_weight_fraction_leaf=0.0, presort=False, random_state=None,\n",
       "            splitter='best')"
      ]
     },
     "execution_count": 37,
     "metadata": {},
     "output_type": "execute_result"
    }
   ],
   "source": [
    "X =dfclean[['attr_o', 'sinc_o', 'intel_o', 'fun_o','amb_o', 'shar_o']]\n",
    "Y= dfclean['dec_o']\n",
    "\n",
    "dt = tree.DecisionTreeClassifier(max_depth = 2)\n",
    "dt.fit(X,Y)"
   ]
  },
  {
   "cell_type": "code",
   "execution_count": 38,
   "metadata": {},
   "outputs": [
    {
     "data": {
      "image/png": "[encoded data removed]",
      "text/plain": [
       "<IPython.core.display.Image object>"
      ]
     },
     "execution_count": 38,
     "metadata": {},
     "output_type": "execute_result"
    }
   ],
   "source": [
    "dt_feature_names = list(X.columns)\n",
    "dt_target_names = np.array(Y.unique(),dtype=np.str) \n",
    "tree.export_graphviz(dt, out_file='tree.dot', \n",
    "    feature_names=dt_feature_names, class_names=dt_target_names,\n",
    "    filled=True)  \n",
    "graph = pydotplus.graph_from_dot_file('tree.dot')\n",
    "Image(graph.create_png())"
   ]
  },
  {
   "cell_type": "code",
   "execution_count": 39,
   "metadata": {},
   "outputs": [
    {
     "name": "stdout",
     "output_type": "stream",
     "text": [
      "Populating the interactive namespace from numpy and matplotlib\n"
     ]
    }
   ],
   "source": [
    "import seaborn as sns\n",
    "%pylab inline\n",
    "import warnings\n",
    "warnings.filterwarnings('ignore')"
   ]
  },
  {
   "cell_type": "code",
   "execution_count": 40,
   "metadata": {},
   "outputs": [
    {
     "data": {
      "text/plain": [
       "<seaborn.axisgrid.FacetGrid at 0x1ec109a79b0>"
      ]
     },
     "execution_count": 40,
     "metadata": {},
     "output_type": "execute_result"
    },
    {
     "data": {
      "image/png": "[encoded data removed]",
      "text/plain": [
       "<Figure size 360x360 with 1 Axes>"
      ]
     },
     "metadata": {
      "needs_background": "light"
     },
     "output_type": "display_data"
    }
   ],
   "source": [
    "sns.catplot(data=df,x='attr_o',y='dec_o',kind='bar')"
   ]
  },
  {
   "cell_type": "markdown",
   "metadata": {},
   "source": [
    "### Conclusion:\n"
   ]
  },
  {
   "cell_type": "markdown",
   "metadata": {},
   "source": [
    "Decision tree is based on two main attributes which are 'attractiveness and shared interest' rated by opposite partner to predict a potential match. Hence, the decision whether a person will get a potential match or not mainly depends on how attractive you are to your partner and what interests you share with him/her."
   ]
  },
  {
   "cell_type": "markdown",
   "metadata": {},
   "source": [
    "## Managerial insights: "
   ]
  },
  {
   "cell_type": "markdown",
   "metadata": {},
   "source": [
    "Match making apps like tinder can incorporate this analysis and develop features which would help users filter their preferences based on shared interests, hobbies and so on based on the above decision tree to improve their match making algorithms furthering their revenue."
   ]
  },
  {
   "cell_type": "markdown",
   "metadata": {},
   "source": [
    "### Feedback incorporated:"
   ]
  },
  {
   "cell_type": "markdown",
   "metadata": {},
   "source": [
    "* We analysed the participants to know which race had maximum strength in reference to the total number of participants.\n",
    "* The participation of the ‘European / Caucasian American’ race in this speed dating event was the highest followed by ‘Asian’.\n"
   ]
  }
 ],
 "metadata": {
  "kernelspec": {
   "display_name": "Python 3",
   "language": "python",
   "name": "python3"
  },
  "language_info": {
   "codemirror_mode": {
    "name": "ipython",
    "version": 3
   },
   "file_extension": ".py",
   "mimetype": "text/x-python",
   "name": "python",
   "nbconvert_exporter": "python",
   "pygments_lexer": "ipython3",
   "version": "3.6.7"
  }
 },
 "nbformat": 4,
 "nbformat_minor": 2
}
