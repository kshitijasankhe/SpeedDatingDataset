{
 "cells": [
  {
   "cell_type": "code",
   "execution_count": 1,
   "metadata": {},
   "outputs": [
    {
     "name": "stdout",
     "output_type": "stream",
     "text": [
      "Populating the interactive namespace from numpy and matplotlib\n"
     ]
    }
   ],
   "source": [
    "import seaborn as sns\n",
    "import pandas as pd\n",
    "import numpy as np\n",
    "%pylab inline"
   ]
  },
  {
   "cell_type": "code",
   "execution_count": 2,
   "metadata": {},
   "outputs": [],
   "source": [
    "df = pd.read_csv(\"Speed Dating Data.csv\", encoding=\"ISO-8859-1\")"
   ]
  },
  {
   "cell_type": "code",
   "execution_count": 3,
   "metadata": {},
   "outputs": [],
   "source": [
    "pd.set_option('display.max_rows',None)"
   ]
  },
  {
   "cell_type": "markdown",
   "metadata": {},
   "source": [
    "## Data Cleaning"
   ]
  },
  {
   "cell_type": "markdown",
   "metadata": {},
   "source": [
    "### Major steps and operations used for data cleaning\n",
    "\n",
    "**Create the copy of original data frame**\n",
    "\n",
    "**Drop the unwanted columns which are not required for further analysis**\n",
    "\n",
    "**Replace Null values with the mean of the entire column (only applicable for the selected columns)**\n",
    "\n",
    "**Substitute the same value for all the fields having multiple values with the same meaning (As done for Carrer column below)**\n",
    "\n",
    "**Introducing new codes for the columns to map that column to the associated column. The examples are Career & Career code columns, Field & Field code columns**\n",
    "\n",
    "**Some values are left Null/Blank intentionally where patching may result in the incorrect analysis.For example, iid, pid.**"
   ]
  },
  {
   "cell_type": "markdown",
   "metadata": {},
   "source": [
    "##### Checking the columns with na values"
   ]
  },
  {
   "cell_type": "code",
   "execution_count": 22,
   "metadata": {},
   "outputs": [
    {
     "data": {
      "text/plain": [
       "(8378, 195)"
      ]
     },
     "execution_count": 22,
     "metadata": {},
     "output_type": "execute_result"
    }
   ],
   "source": [
    "df.isna().any()\n",
    "df.shape"
   ]
  },
  {
   "cell_type": "code",
   "execution_count": 23,
   "metadata": {},
   "outputs": [],
   "source": [
    "dfclean=df.copy()\n",
    "#Dropping columns\n",
    "dfclean.drop(columns=['positin1', 'pf_o_att','pf_o_sin','pf_o_int','pf_o_fun','pf_o_amb','pf_o_sha','undergra','mn_sat','tuition','imprelig','from','zipcode','goal','go_out','date','sports','tvsports','exercise','dining','museums','art','hiking','gaming','clubbing','tv','reading','theater','movies','concerts','music','shopping','yoga','exphappy','expnum','numdat_2','length','satis_2'],inplace = True)\n",
    "dfclean.drop(columns = ['attr4_1','sinc4_1','intel4_1','fun4_1','amb4_1','shar4_1','attr3_1','sinc3_1','fun3_1','intel3_1','amb3_1','attr5_1','sinc5_1','fun5_1','intel5_1','amb5_1',\\\n",
    "                       'attr1_s','sinc1_s','intel1_s','fun1_s','amb1_s','shar1_s','attr3_s','sinc3_s','intel3_s','fun3_s','amb3_s','attr7_2','sinc7_2','intel7_2','fun7_2','amb7_2','shar7_2','attr1_2','sinc1_2','intel1_2','fun1_2','amb1_2','shar1_2','attr4_2','sinc4_2','intel4_2','fun4_2','amb4_2','shar4_2','attr2_2','sinc2_2','intel2_2','fun2_2','amb2_2','shar2_2','attr3_2','sinc3_2','intel3_2','fun3_2','amb3_2','attr5_2','sinc5_2','intel5_2','fun5_2','amb5_2',\\\n",
    "                        'attr1_3','sinc1_3','intel1_3','fun1_3','amb1_3','shar1_3','attr4_3','sinc4_3','intel4_3','fun4_3','amb4_3','shar4_3','attr2_3','sinc2_3','intel2_3','fun2_3','amb2_3','shar2_3','attr3_3','sinc3_3','intel3_3','fun3_3','amb3_3','attr5_3','sinc5_3','intel5_3','fun5_3','amb5_3'],inplace = True)\n"
   ]
  },
  {
   "cell_type": "code",
   "execution_count": 24,
   "metadata": {},
   "outputs": [
    {
     "data": {
      "text/plain": [
       "(8378, 68)"
      ]
     },
     "execution_count": 24,
     "metadata": {},
     "output_type": "execute_result"
    }
   ],
   "source": [
    "dfclean.shape"
   ]
  },
  {
   "cell_type": "markdown",
   "metadata": {},
   "source": [
    "#### Replacing na values with mean of respective columns"
   ]
  },
  {
   "cell_type": "code",
   "execution_count": 25,
   "metadata": {},
   "outputs": [],
   "source": [
    "#Replacing na values with mean of respective columns\n",
    "dfclean.attr1_1.fillna(value=round(dfclean.attr1_1.mean()), inplace=True)\n",
    "dfclean.sinc1_1.fillna(value=round(dfclean.sinc1_1.mean()), inplace=True)\n",
    "dfclean.intel1_1.fillna(value=round(dfclean.intel1_1.mean()), inplace=True)\n",
    "dfclean.fun1_1.fillna(value=round(dfclean.fun1_1.mean()), inplace=True)\n",
    "dfclean.amb1_1.fillna(value=round(dfclean.amb1_1.mean()), inplace=True)\n",
    "dfclean.shar1_1.fillna(value=round(dfclean.shar1_1.mean()), inplace=True)\n",
    "\n",
    "dfclean.attr7_3.fillna(value=round(dfclean.attr7_3.mean()), inplace=True)\n",
    "dfclean.sinc7_3.fillna(value=round(dfclean.sinc7_3.mean()), inplace=True)\n",
    "dfclean.intel7_3.fillna(value=round(dfclean.intel7_3.mean()), inplace=True)\n",
    "dfclean.fun7_3.fillna(value=round(dfclean.fun7_3.mean()), inplace=True)\n",
    "dfclean.amb7_3.fillna(value=round(dfclean.amb7_3.mean()), inplace=True)\n",
    "dfclean.shar7_3.fillna(value=round(dfclean.shar7_3.mean()), inplace=True)\n",
    "\n",
    "\n",
    "dfclean.attr_o.fillna(value=round(dfclean.attr_o.mean()), inplace=True)\n",
    "dfclean.sinc_o.fillna(value=round(dfclean.sinc_o.mean()), inplace=True)\n",
    "dfclean.intel_o.fillna(value=round(dfclean.intel_o.mean()), inplace=True)\n",
    "dfclean.amb_o.fillna(value=round(dfclean.amb_o.mean()), inplace=True)\n",
    "dfclean.shar_o.fillna(value=round(dfclean.shar_o.mean()), inplace=True)\n",
    "dfclean.fun_o.fillna(value=round(dfclean.fun_o.mean()), inplace=True)\n",
    "\n",
    "\n",
    "dfclean.attr2_1.fillna(value=round(dfclean.attr2_1.mean()), inplace=True)\n",
    "dfclean.sinc2_1.fillna(value=round(dfclean.sinc2_1.mean()), inplace=True)\n",
    "dfclean.intel2_1.fillna(value=round(dfclean.intel2_1.mean()), inplace=True)\n",
    "dfclean.fun2_1.fillna(value=round(dfclean.fun2_1.mean()), inplace=True)\n",
    "dfclean.amb2_1.fillna(value=round(dfclean.amb2_1.mean()), inplace=True)\n",
    "dfclean.shar2_1.fillna(value=round(dfclean.shar2_1.mean()), inplace=True)\n",
    "\n",
    "\n",
    "dfclean.attr.fillna(value=round(dfclean.attr.mean()), inplace=True)\n",
    "dfclean.sinc.fillna(value=round(dfclean.sinc.mean()), inplace=True)\n",
    "dfclean.intel.fillna(value=round(dfclean.intel.mean()), inplace=True)\n",
    "dfclean.fun.fillna(value=round(dfclean.fun.mean()), inplace=True)\n",
    "dfclean.amb.fillna(value=round(dfclean.amb.mean()), inplace=True)\n",
    "dfclean.shar.fillna(value=round(dfclean.shar.mean()), inplace=True)\n"
   ]
  },
  {
   "cell_type": "markdown",
   "metadata": {},
   "source": [
    "#### Replacing unknown values in career with 'Undefined'. These rows would have 'career code' 10 in career_c"
   ]
  },
  {
   "cell_type": "code",
   "execution_count": 26,
   "metadata": {},
   "outputs": [],
   "source": [
    "dfclean.career.replace(to_replace=['?','??','Am not sure','don\\'t know','Undecided', \"I don't know\", 'What a question!', 'if only i knew',\n",
    "       \"don't know\", 'Not Sure', 'undecided', 'TBA', 'Am not sure',\n",
    "       'Who knows', '10', 'not sure yet :)', 'Make money',\n",
    "       'still wondering', 'Not sure yet', 'unknown', 'unsure',\n",
    "       'Undefined', 'dont know yet'],value='Undefined',inplace=True)"
   ]
  },
  {
   "cell_type": "markdown",
   "metadata": {},
   "source": [
    "#### There are still null values in career and career_c column. We are not cleaning them as those values should  not be replaced with some random career & career codes."
   ]
  },
  {
   "cell_type": "code",
   "execution_count": 27,
   "metadata": {},
   "outputs": [
    {
     "data": {
      "text/plain": [
       "True"
      ]
     },
     "execution_count": 27,
     "metadata": {},
     "output_type": "execute_result"
    }
   ],
   "source": [
    "dfclean.career.isna().any()"
   ]
  },
  {
   "cell_type": "markdown",
   "metadata": {},
   "source": [
    "#### Replacing null values in race columns with  6(i.e other ) and Replacing null values in race_o columns with  6(i.e other ) "
   ]
  },
  {
   "cell_type": "code",
   "execution_count": 28,
   "metadata": {},
   "outputs": [],
   "source": [
    "dfclean.race.fillna(value=6, inplace=True)\n",
    "dfclean.race_o.fillna(value=6, inplace=True)"
   ]
  },
  {
   "cell_type": "markdown",
   "metadata": {},
   "source": [
    "#### Replacing null values in age_o column with  mean value of age_o columns"
   ]
  },
  {
   "cell_type": "code",
   "execution_count": 29,
   "metadata": {},
   "outputs": [],
   "source": [
    "dfclean.age_o.fillna(value=round(dfclean.age_o.mean()), inplace=True)\n",
    "dfclean.age.fillna(value=round(dfclean.age.mean()), inplace=True)\n"
   ]
  },
  {
   "cell_type": "markdown",
   "metadata": {},
   "source": [
    "#### Replacing null values in field column with 'other'"
   ]
  },
  {
   "cell_type": "code",
   "execution_count": 30,
   "metadata": {},
   "outputs": [
    {
     "data": {
      "text/plain": [
       "False"
      ]
     },
     "execution_count": 30,
     "metadata": {},
     "output_type": "execute_result"
    }
   ],
   "source": [
    "dfclean.field.fillna(value='Other', inplace=True)\n",
    "dfclean.field.isna().any()"
   ]
  },
  {
   "cell_type": "markdown",
   "metadata": {},
   "source": [
    "#### Introducing a new field code for 'other' field. Assigning code=19 in field_cd to the fields with value 'Other'"
   ]
  },
  {
   "cell_type": "code",
   "execution_count": 16,
   "metadata": {
    "scrolled": true
   },
   "outputs": [
    {
     "name": "stderr",
     "output_type": "stream",
     "text": [
      "C:\\Users\\Nachiket\\Anaconda3\\lib\\site-packages\\pandas\\core\\generic.py:6130: SettingWithCopyWarning: \n",
      "A value is trying to be set on a copy of a slice from a DataFrame\n",
      "\n",
      "See the caveats in the documentation: http://pandas.pydata.org/pandas-docs/stable/indexing.html#indexing-view-versus-copy\n",
      "  self._update_inplace(new_data)\n"
     ]
    }
   ],
   "source": [
    "dfclean[dfclean.field =='Other'].field_cd.fillna(value=19,inplace=True)\n"
   ]
  },
  {
   "cell_type": "code",
   "execution_count": 17,
   "metadata": {
    "scrolled": true
   },
   "outputs": [
    {
     "data": {
      "text/plain": [
       "True"
      ]
     },
     "execution_count": 17,
     "metadata": {},
     "output_type": "execute_result"
    }
   ],
   "source": [
    "dfclean.field_cd.isna().any()"
   ]
  },
  {
   "cell_type": "markdown",
   "metadata": {},
   "source": [
    "#### Field code is null for the field 'Operations Research'. Hence, assigning a new code=20 in field_cd to the fields with value 'Operations Research'"
   ]
  },
  {
   "cell_type": "code",
   "execution_count": 18,
   "metadata": {},
   "outputs": [],
   "source": [
    "dfclean[dfclean.field =='Operations Research'].field_cd.fillna(value=20,inplace=True)"
   ]
  },
  {
   "cell_type": "code",
   "execution_count": 19,
   "metadata": {},
   "outputs": [
    {
     "data": {
      "text/plain": [
       "True"
      ]
     },
     "execution_count": 19,
     "metadata": {},
     "output_type": "execute_result"
    }
   ],
   "source": [
    "dfclean.field_cd.isna().any()"
   ]
  },
  {
   "cell_type": "markdown",
   "metadata": {},
   "source": [
    "#### Since each value in like_o,prob_o, met_o,match_es,date_3, numdat_3  has a significance we are not replacing na values in these columns"
   ]
  },
  {
   "cell_type": "code",
   "execution_count": 31,
   "metadata": {},
   "outputs": [
    {
     "data": {
      "text/plain": [
       "(8378, 68)"
      ]
     },
     "execution_count": 31,
     "metadata": {},
     "output_type": "execute_result"
    }
   ],
   "source": [
    "dfclean.shape"
   ]
  },
  {
   "cell_type": "code",
   "execution_count": 32,
   "metadata": {},
   "outputs": [
    {
     "data": {
      "text/plain": [
       "iid         False\n",
       "id           True\n",
       "gender      False\n",
       "idg         False\n",
       "condtn      False\n",
       "wave        False\n",
       "round       False\n",
       "position    False\n",
       "order       False\n",
       "partner     False\n",
       "pid          True\n",
       "match       False\n",
       "int_corr     True\n",
       "samerace    False\n",
       "age_o       False\n",
       "race_o      False\n",
       "dec_o       False\n",
       "attr_o      False\n",
       "sinc_o      False\n",
       "intel_o     False\n",
       "fun_o       False\n",
       "amb_o       False\n",
       "shar_o      False\n",
       "like_o       True\n",
       "prob_o       True\n",
       "met_o        True\n",
       "age         False\n",
       "field       False\n",
       "field_cd     True\n",
       "race        False\n",
       "imprace      True\n",
       "income       True\n",
       "career       True\n",
       "career_c     True\n",
       "attr1_1     False\n",
       "sinc1_1     False\n",
       "intel1_1    False\n",
       "fun1_1      False\n",
       "amb1_1      False\n",
       "shar1_1     False\n",
       "attr2_1     False\n",
       "sinc2_1     False\n",
       "intel2_1    False\n",
       "fun2_1      False\n",
       "amb2_1      False\n",
       "shar2_1     False\n",
       "dec         False\n",
       "attr        False\n",
       "sinc        False\n",
       "intel       False\n",
       "fun         False\n",
       "amb         False\n",
       "shar        False\n",
       "like         True\n",
       "prob         True\n",
       "met          True\n",
       "match_es     True\n",
       "you_call     True\n",
       "them_cal     True\n",
       "date_3       True\n",
       "numdat_3     True\n",
       "num_in_3     True\n",
       "attr7_3     False\n",
       "sinc7_3     False\n",
       "intel7_3    False\n",
       "fun7_3      False\n",
       "amb7_3      False\n",
       "shar7_3     False\n",
       "dtype: bool"
      ]
     },
     "execution_count": 32,
     "metadata": {},
     "output_type": "execute_result"
    }
   ],
   "source": [
    "dfclean.isna().any()"
   ]
  },
  {
   "cell_type": "markdown",
   "metadata": {},
   "source": [
    "# Insight 1: Men's Looks Matter More Than Women Admit"
   ]
  },
  {
   "cell_type": "markdown",
   "metadata": {},
   "source": [
    "We have different attributes in the dataset which the men and women look for in their parterners. Those are Attractiveness, Sincerity, Interlligence, Funny, Ambitious, Shared interest. We have analysed the most rated attribute by men and women for their respective partners. The analysis is divided into two parts as below.\n",
    "\n",
    "**Result 1**: The highest rated attribute by men and women collectively before participating in the speed dating event.\n",
    "\n",
    "*Outcome*  : As per the below analysis, 'Attractiveness' stands at the top position!\n",
    "\n",
    "\n",
    "**Result 2**: The most rated attribute has been analysed separately for men and women in two scenarios.\n",
    "\n",
    "*Scenario 1*: Before participating in the speed dating event\n",
    "\n",
    "*Outcome 1*: Highest rated attribute for men is 'Attractiveness' and that for women is 'Intelligence'!!\n",
    "\n",
    "*Scenario 2*: After sharing yes/no decisions on completion of speed dating event\n",
    "\n",
    "*Outcome 2*: After meeting the participants, men and women both rated 'Attractiveness' at the top position!!\n",
    "\n",
    "**Overall Outcome**: Though women claimed that 'Intelligence' is the most important attribute they were looking for before the event, survey after the event shows that men's look matter more than the women admit!!"
   ]
  },
  {
   "cell_type": "markdown",
   "metadata": {},
   "source": [
    "## Result 1- What are the attributes people looking for in their partners"
   ]
  },
  {
   "cell_type": "markdown",
   "metadata": {},
   "source": [
    "## Alternative title - Attractiveness : The highest rated attribute the people look for in there partners"
   ]
  },
  {
   "cell_type": "markdown",
   "metadata": {},
   "source": [
    "### Columns used\n",
    "\n",
    "attr1_1 = \n",
    "\n",
    "sinc1_1 =\n",
    "\n",
    "intel1_1 =\n",
    "\n",
    "fun1_1 = \n",
    "\n",
    "amb1_1 =\n",
    "\n",
    "shar1_1 ="
   ]
  },
  {
   "cell_type": "code",
   "execution_count": 33,
   "metadata": {},
   "outputs": [
    {
     "name": "stderr",
     "output_type": "stream",
     "text": [
      "C:\\Users\\Nachiket\\Anaconda3\\lib\\site-packages\\seaborn\\categorical.py:3666: UserWarning: The `factorplot` function has been renamed to `catplot`. The original name will be removed in a future release. Please update your code. Note that the default `kind` in `factorplot` (`'point'`) has changed `'strip'` in `catplot`.\n",
      "  warnings.warn(msg)\n"
     ]
    },
    {
     "data": {
      "text/plain": [
       "<seaborn.axisgrid.FacetGrid at 0x16c81b8bcf8>"
      ]
     },
     "execution_count": 33,
     "metadata": {},
     "output_type": "execute_result"
    },
    {
     "data": {
      "image/png": "[encoded data removed]",
      "text/plain": [
       "<Figure size 540x360 with 1 Axes>"
      ]
     },
     "metadata": {
      "needs_background": "light"
     },
     "output_type": "display_data"
    }
   ],
   "source": [
    "attractive=dfclean.groupby('iid')['attr1_1'].mean().mean()\n",
    "\n",
    "Sincere=dfclean.groupby('iid')['sinc1_1'].mean().mean()\n",
    "\n",
    "intellegence=dfclean.groupby('iid')['intel1_1'].mean().mean()\n",
    "\n",
    "fun=dfclean.groupby('iid')['fun1_1'].mean().mean()\n",
    "\n",
    "ambitious=dfclean.groupby('iid')['amb1_1'].mean().mean()\n",
    "\n",
    "hobby=dfclean.groupby('iid')['shar1_1'].mean().mean()\n",
    "\n",
    "sum=attractive+Sincere+intellegence+fun+ambitious+hobby\n",
    "sum\n",
    "#creating a new dataframe of all attributes with mean values\n",
    "data = {'Mean':[attractive,Sincere,intellegence,fun,ambitious,hobby]}\n",
    "attMean=pd.DataFrame(data, index=['Attractive','Sincere','Intelligent','Fun','Ambitious','Hobbies']) \n",
    "attMean\n",
    "\n",
    "sns.factorplot(y='Mean', data=attMean, \\\n",
    "               x=['Attractive','Sincere','Intelligent','Fun','Ambitious','Hobbies'],aspect=1.5, kind='bar')"
   ]
  },
  {
   "cell_type": "markdown",
   "metadata": {},
   "source": [
    "## Result 2- Calculate the highest rated attribute for male and female separaterely "
   ]
  },
  {
   "cell_type": "markdown",
   "metadata": {},
   "source": [
    "#### Columns used"
   ]
  },
  {
   "cell_type": "code",
   "execution_count": 230,
   "metadata": {},
   "outputs": [],
   "source": [
    "dff=dfclean[df.gender==0]\n",
    "dfm=dfclean[df.gender==1]"
   ]
  },
  {
   "cell_type": "markdown",
   "metadata": {},
   "source": [
    "##### Considering attributes for male and female participants before event"
   ]
  },
  {
   "cell_type": "code",
   "execution_count": 231,
   "metadata": {},
   "outputs": [
    {
     "data": {
      "text/plain": [
       "<matplotlib.axes._subplots.AxesSubplot at 0x1a1dbee668>"
      ]
     },
     "execution_count": 231,
     "metadata": {},
     "output_type": "execute_result"
    },
    {
     "data": {
      "image/png": "[encoded data removed]",
      "text/plain": [
       "<Figure size 432x288 with 1 Axes>"
      ]
     },
     "metadata": {
      "needs_background": "light"
     },
     "output_type": "display_data"
    }
   ],
   "source": [
    "#before event female\n",
    "FbeforeA=dff.groupby('iid')['attr1_1'].mean().mean()\n",
    "FbeforeS=dff.groupby('iid')['sinc1_1'].mean().mean()\n",
    "FbeforeI=dff.groupby('iid')['intel1_1'].mean().mean()\n",
    "FbeforeF=dff.groupby('iid')['fun1_1'].mean().mean()\n",
    "FbeforeAM=dff.groupby('iid')['amb1_1'].mean().mean()\n",
    "FbeforeH=dff.groupby('iid')['shar1_1'].mean().mean()\n",
    "\n",
    "#before event male\n",
    "MbeforeA=dfm.groupby('iid')['attr1_1'].mean().mean()\n",
    "MbeforeS=dfm.groupby('iid')['sinc1_1'].mean().mean()\n",
    "MbeforeI=dfm.groupby('iid')['intel1_1'].mean().mean()\n",
    "MbeforeF=dfm.groupby('iid')['fun1_1'].mean().mean()\n",
    "MbeforeAM=dfm.groupby('iid')['amb1_1'].mean().mean()\n",
    "MbeforeH=dfm.groupby('iid')['shar1_1'].mean().mean()\n",
    "\n",
    "#creating a new dataframe of all attributes with mean values for female participants\n",
    "Fdata = {'BeforeFemale':[FbeforeA,FbeforeS,FbeforeI,FbeforeF,FbeforeAM,FbeforeH]}\n",
    "FBeforeDateAttributes=pd.DataFrame(Fdata, index=['Attractive','Sincere','Intelligent','Fun','Ambitious','Hobbies']) \n",
    "FBeforeDateAttributes\n",
    "\n",
    "#creating a new dataframe of all attributes with mean values for male participants\n",
    "Mdata = {'BeforeMale':[MbeforeA,MbeforeS,MbeforeI,MbeforeF,MbeforeAM,MbeforeH]}\n",
    "MBeforeDateAttributes=pd.DataFrame(Mdata, index=['Attractive','Sincere','Intelligent','Fun','Ambitious','Hobbies']) \n",
    "MBeforeDateAttributes\n",
    "\n",
    "result_before = pd.concat([MBeforeDateAttributes, FBeforeDateAttributes], axis=1, join_axes=[MBeforeDateAttributes.index])\n",
    "result_before\n",
    "\n",
    "result_before.plot.bar(style=['o','rx'])"
   ]
  },
  {
   "cell_type": "markdown",
   "metadata": {},
   "source": [
    "##### Considering attributes for male and female participants before event"
   ]
  },
  {
   "cell_type": "code",
   "execution_count": 226,
   "metadata": {},
   "outputs": [
    {
     "data": {
      "text/plain": [
       "<matplotlib.axes._subplots.AxesSubplot at 0x1a1e058fd0>"
      ]
     },
     "execution_count": 226,
     "metadata": {},
     "output_type": "execute_result"
    },
    {
     "data": {
      "image/png": "[encoded data removed]",
      "text/plain": [
       "<Figure size 432x288 with 1 Axes>"
      ]
     },
     "metadata": {
      "needs_background": "light"
     },
     "output_type": "display_data"
    }
   ],
   "source": [
    "#After event female\n",
    "FafterA=dff.groupby('iid')['attr7_3'].mean().mean()\n",
    "FafterS=dff.groupby('iid')['sinc7_3'].mean().mean()\n",
    "FafterI=dff.groupby('iid')['intel7_3'].mean().mean()\n",
    "FafterF=dff.groupby('iid')['fun7_3'].mean().mean()\n",
    "FafterAM=dff.groupby('iid')['amb7_3'].mean().mean()\n",
    "FafterH=dff.groupby('iid')['shar7_3'].mean().mean()\n",
    "\n",
    "#After event male\n",
    "MafterA=dfm.groupby('iid')['attr7_3'].mean().mean()\n",
    "MafterS=dfm.groupby('iid')['sinc7_3'].mean().mean()\n",
    "MafterI=dfm.groupby('iid')['intel7_3'].mean().mean()\n",
    "MafterF=dfm.groupby('iid')['fun7_3'].mean().mean()\n",
    "MafterAM=dfm.groupby('iid')['amb7_3'].mean().mean()\n",
    "MafterH=dfm.groupby('iid')['shar7_3'].mean().mean()\n",
    "\n",
    "#creating a new dataframe of all attributes with mean values for female\n",
    "FAdata = {'AfterFemale':[FafterA,FafterS,FafterI,FafterF,FafterAM,FafterH]}\n",
    "FAfterDateAttributes=pd.DataFrame(FAdata, index=['Attractive','Sincere','Intelligent','Fun','Ambitious','Hobbies']) \n",
    "FAfterDateAttributes\n",
    "\n",
    "#creating a new dataframe of all attributes with mean values for male\n",
    "MAdata = {'AfterMale':[MafterA,MafterS,MafterI,MafterF,MafterAM,MafterH]}\n",
    "MAfterDateAttributes=pd.DataFrame(MAdata, index=['Attractive','Sincere','Intelligent','Fun','Ambitious','Hobbies']) \n",
    "MAfterDateAttributes\n",
    "\n",
    "result_after = pd.concat([MAfterDateAttributes, FAfterDateAttributes], axis=1, join_axes=[MAfterDateAttributes.index])\n",
    "result_after\n",
    "\n",
    "result_after.plot.bar(style=['o','rx'])"
   ]
  },
  {
   "cell_type": "markdown",
   "metadata": {},
   "source": [
    "## Result 3- How many participants from each field - To check and drop"
   ]
  },
  {
   "cell_type": "code",
   "execution_count": 233,
   "metadata": {},
   "outputs": [
    {
     "name": "stderr",
     "output_type": "stream",
     "text": [
      "/Users/kshitijasankhe/anaconda3/lib/python3.6/site-packages/ipykernel_launcher.py:3: SettingWithCopyWarning: \n",
      "A value is trying to be set on a copy of a slice from a DataFrame.\n",
      "Try using .loc[row_indexer,col_indexer] = value instead\n",
      "\n",
      "See the caveats in the documentation: http://pandas.pydata.org/pandas-docs/stable/indexing.html#indexing-view-versus-copy\n",
      "  This is separate from the ipykernel package so we can avoid doing imports until\n",
      "/Users/kshitijasankhe/anaconda3/lib/python3.6/site-packages/seaborn/categorical.py:3666: UserWarning: The `factorplot` function has been renamed to `catplot`. The original name will be removed in a future release. Please update your code. Note that the default `kind` in `factorplot` (`'point'`) has changed `'strip'` in `catplot`.\n",
      "  warnings.warn(msg)\n"
     ]
    },
    {
     "data": {
      "text/plain": [
       "<seaborn.axisgrid.FacetGrid at 0x1a20a36208>"
      ]
     },
     "execution_count": 233,
     "metadata": {},
     "output_type": "execute_result"
    },
    {
     "data": {
      "image/png": "[encoded data removed]",
      "text/plain": [
       "<Figure size 900x360 with 1 Axes>"
      ]
     },
     "metadata": {
      "needs_background": "light"
     },
     "output_type": "display_data"
    }
   ],
   "source": [
    "df2 = dfclean.copy()\n",
    "df3 = df2[['iid','field']]\n",
    "df3['field_lowerchar']= df3.field.str.lower()\n",
    "df4 = df3.groupby('field_lowerchar')['iid'].nunique()\n",
    "df5 = pd.DataFrame(df4)\n",
    "df5.rename(columns = {'iid':'Count_iid'},inplace = True)\n",
    "df5.reset_index(inplace = True)\n",
    "df6 = df5.sort_values(by = 'Count_iid',ascending = False ).head(10)\n",
    "\n",
    "sns.factorplot(y='Count_iid', data=df6, \\\n",
    "               x='field_lowerchar',aspect=2.5, kind='bar')"
   ]
  },
  {
   "cell_type": "markdown",
   "metadata": {},
   "source": [
    "# Insight 2: European/Caucasian Americans most desired race!"
   ]
  },
  {
   "cell_type": "markdown",
   "metadata": {},
   "source": [
    "## Result 1- How important the race is for females and males of different races"
   ]
  },
  {
   "cell_type": "markdown",
   "metadata": {},
   "source": [
    " Black/African American=1\n",
    "\n",
    "European/Caucasian-American=2\n",
    "\n",
    "Latino/Hispanic American=3\n",
    "\n",
    "Asian/Pacific Islander/Asian-American=4\n",
    "\n",
    "Native American=5\n",
    "\n",
    "Other=6"
   ]
  },
  {
   "cell_type": "markdown",
   "metadata": {},
   "source": [
    "### For Females"
   ]
  },
  {
   "cell_type": "code",
   "execution_count": 36,
   "metadata": {},
   "outputs": [
    {
     "data": {
      "text/plain": [
       "<matplotlib.axes._subplots.AxesSubplot at 0x16c82194ac8>"
      ]
     },
     "execution_count": 36,
     "metadata": {},
     "output_type": "execute_result"
    },
    {
     "data": {
      "image/png": "[encoded data removed]",
      "text/plain": [
       "<Figure size 432x288 with 1 Axes>"
      ]
     },
     "metadata": {
      "needs_background": "light"
     },
     "output_type": "display_data"
    }
   ],
   "source": [
    "dfFemale=dfclean[dfclean.gender==0]\n",
    "FRace=dfFemale.groupby('iid').mean()[['race','imprace']]\n",
    "FRace\n",
    "\n",
    "FemaleImpRace=FRace.groupby('race')['imprace'].mean()\n",
    "\n",
    "FemaleImpRace.plot.bar(style=['o','rx'])"
   ]
  },
  {
   "cell_type": "markdown",
   "metadata": {},
   "source": [
    "### For males"
   ]
  },
  {
   "cell_type": "code",
   "execution_count": 37,
   "metadata": {},
   "outputs": [
    {
     "data": {
      "text/plain": [
       "<matplotlib.axes._subplots.AxesSubplot at 0x16c821f62b0>"
      ]
     },
     "execution_count": 37,
     "metadata": {},
     "output_type": "execute_result"
    },
    {
     "data": {
      "image/png": "[encoded data removed]",
      "text/plain": [
       "<Figure size 432x288 with 1 Axes>"
      ]
     },
     "metadata": {
      "needs_background": "light"
     },
     "output_type": "display_data"
    }
   ],
   "source": [
    "dfmale=dfclean[dfclean.gender==1]\n",
    "MRace=dfmale.groupby('iid').mean()[['race','imprace']]\n",
    "MRace\n",
    "\n",
    "MaleImpRace=MRace.groupby('race')['imprace'].mean()\n",
    "\n",
    "MaleImpRace.plot.bar(style=['o','rx'])"
   ]
  },
  {
   "cell_type": "markdown",
   "metadata": {},
   "source": [
    "### Preferences"
   ]
  },
  {
   "cell_type": "code",
   "execution_count": 38,
   "metadata": {},
   "outputs": [
    {
     "data": {
      "text/plain": [
       "pandas.core.frame.DataFrame"
      ]
     },
     "execution_count": 38,
     "metadata": {},
     "output_type": "execute_result"
    }
   ],
   "source": [
    "Fpref=dfFemale[dfFemale.dec==1][['iid','race','race_o']]\n",
    "type(Fpref)"
   ]
  },
  {
   "cell_type": "code",
   "execution_count": 39,
   "metadata": {},
   "outputs": [
    {
     "data": {
      "text/html": [
       "<div>\n",
       "<style scoped>\n",
       "    .dataframe tbody tr th:only-of-type {\n",
       "        vertical-align: middle;\n",
       "    }\n",
       "\n",
       "    .dataframe tbody tr th {\n",
       "        vertical-align: top;\n",
       "    }\n",
       "\n",
       "    .dataframe thead th {\n",
       "        text-align: right;\n",
       "    }\n",
       "</style>\n",
       "<table border=\"1\" class=\"dataframe\">\n",
       "  <thead>\n",
       "    <tr style=\"text-align: right;\">\n",
       "      <th></th>\n",
       "      <th>race</th>\n",
       "      <th>race_o</th>\n",
       "      <th>iid</th>\n",
       "    </tr>\n",
       "  </thead>\n",
       "  <tbody>\n",
       "    <tr>\n",
       "      <th>0</th>\n",
       "      <td>1.0</td>\n",
       "      <td>1.0</td>\n",
       "      <td>8</td>\n",
       "    </tr>\n",
       "    <tr>\n",
       "      <th>1</th>\n",
       "      <td>1.0</td>\n",
       "      <td>2.0</td>\n",
       "      <td>68</td>\n",
       "    </tr>\n",
       "    <tr>\n",
       "      <th>2</th>\n",
       "      <td>1.0</td>\n",
       "      <td>3.0</td>\n",
       "      <td>10</td>\n",
       "    </tr>\n",
       "    <tr>\n",
       "      <th>3</th>\n",
       "      <td>1.0</td>\n",
       "      <td>4.0</td>\n",
       "      <td>20</td>\n",
       "    </tr>\n",
       "    <tr>\n",
       "      <th>4</th>\n",
       "      <td>1.0</td>\n",
       "      <td>6.0</td>\n",
       "      <td>9</td>\n",
       "    </tr>\n",
       "    <tr>\n",
       "      <th>5</th>\n",
       "      <td>2.0</td>\n",
       "      <td>1.0</td>\n",
       "      <td>26</td>\n",
       "    </tr>\n",
       "    <tr>\n",
       "      <th>6</th>\n",
       "      <td>2.0</td>\n",
       "      <td>2.0</td>\n",
       "      <td>524</td>\n",
       "    </tr>\n",
       "    <tr>\n",
       "      <th>7</th>\n",
       "      <td>2.0</td>\n",
       "      <td>3.0</td>\n",
       "      <td>37</td>\n",
       "    </tr>\n",
       "    <tr>\n",
       "      <th>8</th>\n",
       "      <td>2.0</td>\n",
       "      <td>4.0</td>\n",
       "      <td>86</td>\n",
       "    </tr>\n",
       "    <tr>\n",
       "      <th>9</th>\n",
       "      <td>2.0</td>\n",
       "      <td>6.0</td>\n",
       "      <td>39</td>\n",
       "    </tr>\n",
       "    <tr>\n",
       "      <th>10</th>\n",
       "      <td>3.0</td>\n",
       "      <td>1.0</td>\n",
       "      <td>8</td>\n",
       "    </tr>\n",
       "    <tr>\n",
       "      <th>11</th>\n",
       "      <td>3.0</td>\n",
       "      <td>2.0</td>\n",
       "      <td>91</td>\n",
       "    </tr>\n",
       "    <tr>\n",
       "      <th>12</th>\n",
       "      <td>3.0</td>\n",
       "      <td>3.0</td>\n",
       "      <td>13</td>\n",
       "    </tr>\n",
       "    <tr>\n",
       "      <th>13</th>\n",
       "      <td>3.0</td>\n",
       "      <td>4.0</td>\n",
       "      <td>25</td>\n",
       "    </tr>\n",
       "    <tr>\n",
       "      <th>14</th>\n",
       "      <td>3.0</td>\n",
       "      <td>6.0</td>\n",
       "      <td>13</td>\n",
       "    </tr>\n",
       "    <tr>\n",
       "      <th>15</th>\n",
       "      <td>4.0</td>\n",
       "      <td>1.0</td>\n",
       "      <td>19</td>\n",
       "    </tr>\n",
       "    <tr>\n",
       "      <th>16</th>\n",
       "      <td>4.0</td>\n",
       "      <td>2.0</td>\n",
       "      <td>270</td>\n",
       "    </tr>\n",
       "    <tr>\n",
       "      <th>17</th>\n",
       "      <td>4.0</td>\n",
       "      <td>3.0</td>\n",
       "      <td>23</td>\n",
       "    </tr>\n",
       "    <tr>\n",
       "      <th>18</th>\n",
       "      <td>4.0</td>\n",
       "      <td>4.0</td>\n",
       "      <td>99</td>\n",
       "    </tr>\n",
       "    <tr>\n",
       "      <th>19</th>\n",
       "      <td>4.0</td>\n",
       "      <td>6.0</td>\n",
       "      <td>32</td>\n",
       "    </tr>\n",
       "    <tr>\n",
       "      <th>20</th>\n",
       "      <td>6.0</td>\n",
       "      <td>1.0</td>\n",
       "      <td>5</td>\n",
       "    </tr>\n",
       "    <tr>\n",
       "      <th>21</th>\n",
       "      <td>6.0</td>\n",
       "      <td>2.0</td>\n",
       "      <td>69</td>\n",
       "    </tr>\n",
       "    <tr>\n",
       "      <th>22</th>\n",
       "      <td>6.0</td>\n",
       "      <td>3.0</td>\n",
       "      <td>11</td>\n",
       "    </tr>\n",
       "    <tr>\n",
       "      <th>23</th>\n",
       "      <td>6.0</td>\n",
       "      <td>4.0</td>\n",
       "      <td>15</td>\n",
       "    </tr>\n",
       "    <tr>\n",
       "      <th>24</th>\n",
       "      <td>6.0</td>\n",
       "      <td>6.0</td>\n",
       "      <td>9</td>\n",
       "    </tr>\n",
       "  </tbody>\n",
       "</table>\n",
       "</div>"
      ],
      "text/plain": [
       "    race  race_o  iid\n",
       "0    1.0     1.0    8\n",
       "1    1.0     2.0   68\n",
       "2    1.0     3.0   10\n",
       "3    1.0     4.0   20\n",
       "4    1.0     6.0    9\n",
       "5    2.0     1.0   26\n",
       "6    2.0     2.0  524\n",
       "7    2.0     3.0   37\n",
       "8    2.0     4.0   86\n",
       "9    2.0     6.0   39\n",
       "10   3.0     1.0    8\n",
       "11   3.0     2.0   91\n",
       "12   3.0     3.0   13\n",
       "13   3.0     4.0   25\n",
       "14   3.0     6.0   13\n",
       "15   4.0     1.0   19\n",
       "16   4.0     2.0  270\n",
       "17   4.0     3.0   23\n",
       "18   4.0     4.0   99\n",
       "19   4.0     6.0   32\n",
       "20   6.0     1.0    5\n",
       "21   6.0     2.0   69\n",
       "22   6.0     3.0   11\n",
       "23   6.0     4.0   15\n",
       "24   6.0     6.0    9"
      ]
     },
     "execution_count": 39,
     "metadata": {},
     "output_type": "execute_result"
    }
   ],
   "source": [
    "Fprefrace = Fpref.groupby(['race','race_o']).count()\n",
    "\n",
    "type(Fprefrace)\n",
    "Fprefrace.reset_index(inplace = True)\n",
    "\n",
    "Fprefrace"
   ]
  },
  {
   "cell_type": "code",
   "execution_count": 41,
   "metadata": {
    "scrolled": true
   },
   "outputs": [
    {
     "name": "stderr",
     "output_type": "stream",
     "text": [
      "C:\\Users\\Nachiket\\Anaconda3\\lib\\site-packages\\seaborn\\axisgrid.py:715: UserWarning: Using the barplot function without specifying `order` is likely to produce an incorrect plot.\n",
      "  warnings.warn(warning)\n"
     ]
    },
    {
     "data": {
      "text/plain": [
       "<seaborn.axisgrid.FacetGrid at 0x16c825396a0>"
      ]
     },
     "execution_count": 41,
     "metadata": {},
     "output_type": "execute_result"
    },
    {
     "data": {
      "image/png": "[encoded data removed]",
      "text/plain": [
       "<Figure size 720x288 with 5 Axes>"
      ]
     },
     "metadata": {
      "needs_background": "light"
     },
     "output_type": "display_data"
    }
   ],
   "source": [
    "Fplot = sns.FacetGrid(Fprefrace, col=\"race\", height=4, aspect=.5)\n",
    "Fplot.map(sns.barplot, \"race_o\", \"iid\")"
   ]
  },
  {
   "cell_type": "code",
   "execution_count": 42,
   "metadata": {},
   "outputs": [
    {
     "data": {
      "text/plain": [
       "pandas.core.frame.DataFrame"
      ]
     },
     "execution_count": 42,
     "metadata": {},
     "output_type": "execute_result"
    }
   ],
   "source": [
    "Mpref=dfmale[dfmale.dec==0][['iid','race','race_o']]\n",
    "type(Mpref)"
   ]
  },
  {
   "cell_type": "code",
   "execution_count": 43,
   "metadata": {},
   "outputs": [
    {
     "data": {
      "text/html": [
       "<div>\n",
       "<style scoped>\n",
       "    .dataframe tbody tr th:only-of-type {\n",
       "        vertical-align: middle;\n",
       "    }\n",
       "\n",
       "    .dataframe tbody tr th {\n",
       "        vertical-align: top;\n",
       "    }\n",
       "\n",
       "    .dataframe thead th {\n",
       "        text-align: right;\n",
       "    }\n",
       "</style>\n",
       "<table border=\"1\" class=\"dataframe\">\n",
       "  <thead>\n",
       "    <tr style=\"text-align: right;\">\n",
       "      <th></th>\n",
       "      <th>race</th>\n",
       "      <th>race_o</th>\n",
       "      <th>iid</th>\n",
       "    </tr>\n",
       "  </thead>\n",
       "  <tbody>\n",
       "    <tr>\n",
       "      <th>0</th>\n",
       "      <td>1.0</td>\n",
       "      <td>1.0</td>\n",
       "      <td>3</td>\n",
       "    </tr>\n",
       "    <tr>\n",
       "      <th>1</th>\n",
       "      <td>1.0</td>\n",
       "      <td>2.0</td>\n",
       "      <td>39</td>\n",
       "    </tr>\n",
       "    <tr>\n",
       "      <th>2</th>\n",
       "      <td>1.0</td>\n",
       "      <td>3.0</td>\n",
       "      <td>7</td>\n",
       "    </tr>\n",
       "    <tr>\n",
       "      <th>3</th>\n",
       "      <td>1.0</td>\n",
       "      <td>4.0</td>\n",
       "      <td>26</td>\n",
       "    </tr>\n",
       "    <tr>\n",
       "      <th>4</th>\n",
       "      <td>1.0</td>\n",
       "      <td>6.0</td>\n",
       "      <td>6</td>\n",
       "    </tr>\n",
       "    <tr>\n",
       "      <th>5</th>\n",
       "      <td>2.0</td>\n",
       "      <td>1.0</td>\n",
       "      <td>83</td>\n",
       "    </tr>\n",
       "    <tr>\n",
       "      <th>6</th>\n",
       "      <td>2.0</td>\n",
       "      <td>2.0</td>\n",
       "      <td>715</td>\n",
       "    </tr>\n",
       "    <tr>\n",
       "      <th>7</th>\n",
       "      <td>2.0</td>\n",
       "      <td>3.0</td>\n",
       "      <td>111</td>\n",
       "    </tr>\n",
       "    <tr>\n",
       "      <th>8</th>\n",
       "      <td>2.0</td>\n",
       "      <td>4.0</td>\n",
       "      <td>385</td>\n",
       "    </tr>\n",
       "    <tr>\n",
       "      <th>9</th>\n",
       "      <td>2.0</td>\n",
       "      <td>6.0</td>\n",
       "      <td>95</td>\n",
       "    </tr>\n",
       "    <tr>\n",
       "      <th>10</th>\n",
       "      <td>3.0</td>\n",
       "      <td>1.0</td>\n",
       "      <td>10</td>\n",
       "    </tr>\n",
       "    <tr>\n",
       "      <th>11</th>\n",
       "      <td>3.0</td>\n",
       "      <td>2.0</td>\n",
       "      <td>68</td>\n",
       "    </tr>\n",
       "    <tr>\n",
       "      <th>12</th>\n",
       "      <td>3.0</td>\n",
       "      <td>3.0</td>\n",
       "      <td>14</td>\n",
       "    </tr>\n",
       "    <tr>\n",
       "      <th>13</th>\n",
       "      <td>3.0</td>\n",
       "      <td>4.0</td>\n",
       "      <td>40</td>\n",
       "    </tr>\n",
       "    <tr>\n",
       "      <th>14</th>\n",
       "      <td>3.0</td>\n",
       "      <td>6.0</td>\n",
       "      <td>10</td>\n",
       "    </tr>\n",
       "    <tr>\n",
       "      <th>15</th>\n",
       "      <td>4.0</td>\n",
       "      <td>1.0</td>\n",
       "      <td>32</td>\n",
       "    </tr>\n",
       "    <tr>\n",
       "      <th>16</th>\n",
       "      <td>4.0</td>\n",
       "      <td>2.0</td>\n",
       "      <td>220</td>\n",
       "    </tr>\n",
       "    <tr>\n",
       "      <th>17</th>\n",
       "      <td>4.0</td>\n",
       "      <td>3.0</td>\n",
       "      <td>53</td>\n",
       "    </tr>\n",
       "    <tr>\n",
       "      <th>18</th>\n",
       "      <td>4.0</td>\n",
       "      <td>4.0</td>\n",
       "      <td>129</td>\n",
       "    </tr>\n",
       "    <tr>\n",
       "      <th>19</th>\n",
       "      <td>4.0</td>\n",
       "      <td>6.0</td>\n",
       "      <td>32</td>\n",
       "    </tr>\n",
       "    <tr>\n",
       "      <th>20</th>\n",
       "      <td>6.0</td>\n",
       "      <td>1.0</td>\n",
       "      <td>6</td>\n",
       "    </tr>\n",
       "    <tr>\n",
       "      <th>21</th>\n",
       "      <td>6.0</td>\n",
       "      <td>2.0</td>\n",
       "      <td>60</td>\n",
       "    </tr>\n",
       "    <tr>\n",
       "      <th>22</th>\n",
       "      <td>6.0</td>\n",
       "      <td>3.0</td>\n",
       "      <td>8</td>\n",
       "    </tr>\n",
       "    <tr>\n",
       "      <th>23</th>\n",
       "      <td>6.0</td>\n",
       "      <td>4.0</td>\n",
       "      <td>39</td>\n",
       "    </tr>\n",
       "    <tr>\n",
       "      <th>24</th>\n",
       "      <td>6.0</td>\n",
       "      <td>6.0</td>\n",
       "      <td>14</td>\n",
       "    </tr>\n",
       "  </tbody>\n",
       "</table>\n",
       "</div>"
      ],
      "text/plain": [
       "    race  race_o  iid\n",
       "0    1.0     1.0    3\n",
       "1    1.0     2.0   39\n",
       "2    1.0     3.0    7\n",
       "3    1.0     4.0   26\n",
       "4    1.0     6.0    6\n",
       "5    2.0     1.0   83\n",
       "6    2.0     2.0  715\n",
       "7    2.0     3.0  111\n",
       "8    2.0     4.0  385\n",
       "9    2.0     6.0   95\n",
       "10   3.0     1.0   10\n",
       "11   3.0     2.0   68\n",
       "12   3.0     3.0   14\n",
       "13   3.0     4.0   40\n",
       "14   3.0     6.0   10\n",
       "15   4.0     1.0   32\n",
       "16   4.0     2.0  220\n",
       "17   4.0     3.0   53\n",
       "18   4.0     4.0  129\n",
       "19   4.0     6.0   32\n",
       "20   6.0     1.0    6\n",
       "21   6.0     2.0   60\n",
       "22   6.0     3.0    8\n",
       "23   6.0     4.0   39\n",
       "24   6.0     6.0   14"
      ]
     },
     "execution_count": 43,
     "metadata": {},
     "output_type": "execute_result"
    }
   ],
   "source": [
    "Mprefrace = Mpref.groupby(['race','race_o']).count()\n",
    "\n",
    "type(Mprefrace)\n",
    "Mprefrace.reset_index(inplace = True)\n",
    "\n",
    "Mprefrace"
   ]
  },
  {
   "cell_type": "code",
   "execution_count": 44,
   "metadata": {},
   "outputs": [
    {
     "name": "stderr",
     "output_type": "stream",
     "text": [
      "C:\\Users\\Nachiket\\Anaconda3\\lib\\site-packages\\seaborn\\axisgrid.py:715: UserWarning: Using the barplot function without specifying `order` is likely to produce an incorrect plot.\n",
      "  warnings.warn(warning)\n"
     ]
    },
    {
     "data": {
      "text/plain": [
       "<seaborn.axisgrid.FacetGrid at 0x16c834def60>"
      ]
     },
     "execution_count": 44,
     "metadata": {},
     "output_type": "execute_result"
    },
    {
     "data": {
      "image/png": "[encoded data removed]",
      "text/plain": [
       "<Figure size 720x288 with 5 Axes>"
      ]
     },
     "metadata": {
      "needs_background": "light"
     },
     "output_type": "display_data"
    }
   ],
   "source": [
    "Mplot = sns.FacetGrid(Mprefrace, col=\"race\", height=4, aspect=.5)\n",
    "Mplot.map(sns.barplot, \"race_o\", \"iid\")"
   ]
  },
  {
   "cell_type": "code",
   "execution_count": null,
   "metadata": {},
   "outputs": [],
   "source": []
  }
 ],
 "metadata": {
  "kernelspec": {
   "display_name": "Python 3",
   "language": "python",
   "name": "python3"
  },
  "language_info": {
   "codemirror_mode": {
    "name": "ipython",
    "version": 3
   },
   "file_extension": ".py",
   "mimetype": "text/x-python",
   "name": "python",
   "nbconvert_exporter": "python",
   "pygments_lexer": "ipython3",
   "version": "3.6.7"
  }
 },
 "nbformat": 4,
 "nbformat_minor": 2
}
