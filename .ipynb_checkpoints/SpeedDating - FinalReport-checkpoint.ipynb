{
 "cells": [
  {
   "cell_type": "markdown",
   "metadata": {},
   "source": [
    "#                    || SPEED DATING PROJECT ||"
   ]
  },
  {
   "cell_type": "markdown",
   "metadata": {},
   "source": [
    "### Submitted By: \n",
    "      Bhagyashri Badgujar\n",
    "      Kshitija Sankhe\n",
    "      Aasavari Kaley\n",
    "      Rujuta Tamhankar"
   ]
  },
  {
   "cell_type": "markdown",
   "metadata": {},
   "source": [
    "\n",
    "    “This dataset explains “What influences love at first sight? (Or, at least, love in the first four minutes?)”.\n",
    "    A speed dating event requires participants to have a four-minute ‘first-date’ with every other participant of   the opposite sex. At the end of their four minutes or at the end of the event, each of the participants is       asked to rate all the participants of the opposite sex on a number of factors. \n",
    "    In this dataset, participants were asked to rate based on 6 Key attributes:\n",
    "\n",
    "    - Attractiveness\n",
    "    - Sincere\n",
    "    - Intelligence \n",
    "    - Ambitious\n",
    "    - Fun \n",
    "    - Shared Interests \n",
    "\n"
   ]
  },
  {
   "cell_type": "markdown",
   "metadata": {},
   "source": [
    "### ![alt text](https://github.com/kshitijasankhe/SpeedDatingDataset/blob/master/Images/speed_dating.jpg?raw=true.jpg \"Title\")"
   ]
  },
  {
   "cell_type": "code",
<<<<<<< HEAD
   "execution_count": 1,
=======
   "execution_count": 50,
>>>>>>> c6798b2c790c5451f97206238fb457b1c0bf71d9
   "metadata": {},
   "outputs": [
    {
     "name": "stdout",
     "output_type": "stream",
     "text": [
      "Populating the interactive namespace from numpy and matplotlib\n"
     ]
    }
   ],
   "source": [
    "import seaborn as sns\n",
    "import pandas as pd\n",
    "import numpy as np\n",
    "%pylab inline"
   ]
  },
  {
   "cell_type": "code",
<<<<<<< HEAD
   "execution_count": 2,
=======
   "execution_count": 51,
>>>>>>> c6798b2c790c5451f97206238fb457b1c0bf71d9
   "metadata": {},
   "outputs": [],
   "source": [
    "df = pd.read_csv(\"Speed Dating Data.csv\", encoding=\"ISO-8859-1\")"
   ]
  },
  {
   "cell_type": "code",
<<<<<<< HEAD
   "execution_count": 3,
=======
   "execution_count": 52,
>>>>>>> c6798b2c790c5451f97206238fb457b1c0bf71d9
   "metadata": {},
   "outputs": [],
   "source": [
    "pd.set_option('display.max_rows',None)"
   ]
  },
  {
   "cell_type": "markdown",
   "metadata": {},
   "source": [
    "## Data Cleaning"
   ]
  },
  {
   "cell_type": "markdown",
   "metadata": {},
   "source": [
    "### Major steps and operations used for data cleaning\n",
    "\n",
    "*Create the copy of original data frame*\n",
    "\n",
    "*Drop the unwanted columns which are not required for further analysis*\n",
    "\n",
    "*Replace Null values with the mean of the entire column (only applicable for the selected columns)*\n",
    "\n",
    "*Substitute the same value for all the fields having multiple values with the same meaning (As done for Carrer column below)*\n",
    "\n",
    "*Introducing new codes for the columns to map that column to the associated column. The examples are Career & Career code columns, Field & Field code columns*\n",
    "\n",
    "*Some values are left Null/Blank intentionally where patching may result in the incorrect analysis.For example, iid, pid.*"
   ]
  },
  {
   "cell_type": "markdown",
   "metadata": {},
   "source": [
    "##### Checking the columns with na values"
   ]
  },
  {
   "cell_type": "code",
<<<<<<< HEAD
   "execution_count": 4,
=======
   "execution_count": 53,
>>>>>>> c6798b2c790c5451f97206238fb457b1c0bf71d9
   "metadata": {},
   "outputs": [
    {
     "data": {
      "text/plain": [
       "(8378, 195)"
      ]
     },
<<<<<<< HEAD
     "execution_count": 4,
=======
     "execution_count": 53,
>>>>>>> c6798b2c790c5451f97206238fb457b1c0bf71d9
     "metadata": {},
     "output_type": "execute_result"
    }
   ],
   "source": [
    "df.isna().any()\n",
    "df.shape"
   ]
  },
  {
   "cell_type": "code",
<<<<<<< HEAD
   "execution_count": 5,
=======
   "execution_count": 54,
>>>>>>> c6798b2c790c5451f97206238fb457b1c0bf71d9
   "metadata": {},
   "outputs": [],
   "source": [
    "dfclean=df.copy()\n",
    "#Dropping columns\n",
    "dfclean.drop(columns=['positin1', 'pf_o_att','pf_o_sin','pf_o_int','pf_o_fun','pf_o_amb','pf_o_sha','undergra','mn_sat','tuition','imprelig','from','zipcode','goal','go_out','date','sports','tvsports','exercise','dining','museums','art','hiking','gaming','clubbing','tv','reading','theater','movies','concerts','music','shopping','yoga','exphappy','expnum','numdat_2','length','satis_2'],inplace = True)\n",
    "dfclean.drop(columns = ['attr4_1','sinc4_1','intel4_1','fun4_1','amb4_1','shar4_1','attr3_1','sinc3_1','fun3_1','intel3_1','amb3_1','attr5_1','sinc5_1','fun5_1','intel5_1','amb5_1',\\\n",
    "                       'attr1_s','sinc1_s','intel1_s','fun1_s','amb1_s','shar1_s','attr3_s','sinc3_s','intel3_s','fun3_s','amb3_s','attr7_2','sinc7_2','intel7_2','fun7_2','amb7_2','shar7_2','attr1_2','sinc1_2','intel1_2','fun1_2','amb1_2','shar1_2','attr4_2','sinc4_2','intel4_2','fun4_2','amb4_2','shar4_2','attr2_2','sinc2_2','intel2_2','fun2_2','amb2_2','shar2_2','attr3_2','sinc3_2','intel3_2','fun3_2','amb3_2','attr5_2','sinc5_2','intel5_2','fun5_2','amb5_2',\\\n",
    "                        'attr1_3','sinc1_3','intel1_3','fun1_3','amb1_3','shar1_3','attr4_3','sinc4_3','intel4_3','fun4_3','amb4_3','shar4_3','attr2_3','sinc2_3','intel2_3','fun2_3','amb2_3','shar2_3','attr3_3','sinc3_3','intel3_3','fun3_3','amb3_3','attr5_3','sinc5_3','intel5_3','fun5_3','amb5_3'],inplace = True)\n"
   ]
  },
  {
   "cell_type": "code",
<<<<<<< HEAD
   "execution_count": 6,
=======
   "execution_count": 55,
>>>>>>> c6798b2c790c5451f97206238fb457b1c0bf71d9
   "metadata": {},
   "outputs": [
    {
     "data": {
      "text/plain": [
       "(8378, 68)"
      ]
     },
<<<<<<< HEAD
     "execution_count": 6,
=======
     "execution_count": 55,
>>>>>>> c6798b2c790c5451f97206238fb457b1c0bf71d9
     "metadata": {},
     "output_type": "execute_result"
    }
   ],
   "source": [
    "dfclean.shape"
   ]
  },
  {
   "cell_type": "markdown",
   "metadata": {},
   "source": [
    "#### Replacing na values with mean of respective columns"
   ]
  },
  {
   "cell_type": "code",
<<<<<<< HEAD
   "execution_count": 7,
=======
   "execution_count": 56,
>>>>>>> c6798b2c790c5451f97206238fb457b1c0bf71d9
   "metadata": {},
   "outputs": [],
   "source": [
    "#Replacing na values with mean of respective columns\n",
    "dfclean.attr1_1.fillna(value=round(dfclean.attr1_1.mean()), inplace=True)\n",
    "dfclean.sinc1_1.fillna(value=round(dfclean.sinc1_1.mean()), inplace=True)\n",
    "dfclean.intel1_1.fillna(value=round(dfclean.intel1_1.mean()), inplace=True)\n",
    "dfclean.fun1_1.fillna(value=round(dfclean.fun1_1.mean()), inplace=True)\n",
    "dfclean.amb1_1.fillna(value=round(dfclean.amb1_1.mean()), inplace=True)\n",
    "dfclean.shar1_1.fillna(value=round(dfclean.shar1_1.mean()), inplace=True)\n",
    "\n",
    "dfclean.attr7_3.fillna(value=round(dfclean.attr7_3.mean()), inplace=True)\n",
    "dfclean.sinc7_3.fillna(value=round(dfclean.sinc7_3.mean()), inplace=True)\n",
    "dfclean.intel7_3.fillna(value=round(dfclean.intel7_3.mean()), inplace=True)\n",
    "dfclean.fun7_3.fillna(value=round(dfclean.fun7_3.mean()), inplace=True)\n",
    "dfclean.amb7_3.fillna(value=round(dfclean.amb7_3.mean()), inplace=True)\n",
    "dfclean.shar7_3.fillna(value=round(dfclean.shar7_3.mean()), inplace=True)\n",
    "\n",
    "\n",
    "dfclean.attr_o.fillna(value=round(dfclean.attr_o.mean()), inplace=True)\n",
    "dfclean.sinc_o.fillna(value=round(dfclean.sinc_o.mean()), inplace=True)\n",
    "dfclean.intel_o.fillna(value=round(dfclean.intel_o.mean()), inplace=True)\n",
    "dfclean.amb_o.fillna(value=round(dfclean.amb_o.mean()), inplace=True)\n",
    "dfclean.shar_o.fillna(value=round(dfclean.shar_o.mean()), inplace=True)\n",
    "dfclean.fun_o.fillna(value=round(dfclean.fun_o.mean()), inplace=True)\n",
    "\n",
    "\n",
    "dfclean.attr2_1.fillna(value=round(dfclean.attr2_1.mean()), inplace=True)\n",
    "dfclean.sinc2_1.fillna(value=round(dfclean.sinc2_1.mean()), inplace=True)\n",
    "dfclean.intel2_1.fillna(value=round(dfclean.intel2_1.mean()), inplace=True)\n",
    "dfclean.fun2_1.fillna(value=round(dfclean.fun2_1.mean()), inplace=True)\n",
    "dfclean.amb2_1.fillna(value=round(dfclean.amb2_1.mean()), inplace=True)\n",
    "dfclean.shar2_1.fillna(value=round(dfclean.shar2_1.mean()), inplace=True)\n",
    "\n",
    "\n",
    "dfclean.attr.fillna(value=round(dfclean.attr.mean()), inplace=True)\n",
    "dfclean.sinc.fillna(value=round(dfclean.sinc.mean()), inplace=True)\n",
    "dfclean.intel.fillna(value=round(dfclean.intel.mean()), inplace=True)\n",
    "dfclean.fun.fillna(value=round(dfclean.fun.mean()), inplace=True)\n",
    "dfclean.amb.fillna(value=round(dfclean.amb.mean()), inplace=True)\n",
    "dfclean.shar.fillna(value=round(dfclean.shar.mean()), inplace=True)\n"
   ]
  },
  {
   "cell_type": "markdown",
   "metadata": {},
   "source": [
    "#### Replacing unknown values in career with 'Undefined'. These rows would have 'career code' 10 in career_c"
   ]
  },
  {
   "cell_type": "code",
<<<<<<< HEAD
   "execution_count": 8,
=======
   "execution_count": 57,
>>>>>>> c6798b2c790c5451f97206238fb457b1c0bf71d9
   "metadata": {},
   "outputs": [],
   "source": [
    "dfclean.career.replace(to_replace=['?','??','Am not sure','don\\'t know','Undecided', \"I don't know\", 'What a question!', 'if only i knew',\n",
    "       \"don't know\", 'Not Sure', 'undecided', 'TBA', 'Am not sure',\n",
    "       'Who knows', '10', 'not sure yet :)', 'Make money',\n",
    "       'still wondering', 'Not sure yet', 'unknown', 'unsure',\n",
    "       'Undefined', 'dont know yet'],value='Undefined',inplace=True)"
   ]
  },
  {
   "cell_type": "markdown",
   "metadata": {},
   "source": [
    "#### There are still null values in career and career_c column. We are not cleaning them as those values should  not be replaced with some random career & career codes."
   ]
  },
  {
   "cell_type": "code",
<<<<<<< HEAD
   "execution_count": 9,
=======
   "execution_count": 58,
>>>>>>> c6798b2c790c5451f97206238fb457b1c0bf71d9
   "metadata": {},
   "outputs": [
    {
     "data": {
      "text/plain": [
       "True"
      ]
     },
<<<<<<< HEAD
     "execution_count": 9,
=======
     "execution_count": 58,
>>>>>>> c6798b2c790c5451f97206238fb457b1c0bf71d9
     "metadata": {},
     "output_type": "execute_result"
    }
   ],
   "source": [
    "dfclean.career.isna().any()"
   ]
  },
  {
   "cell_type": "markdown",
   "metadata": {},
   "source": [
    "#### Replacing null values in race columns with  6(i.e other ) and Replacing null values in race_o columns with  6(i.e other ) "
   ]
  },
  {
   "cell_type": "code",
<<<<<<< HEAD
   "execution_count": 10,
=======
   "execution_count": 59,
>>>>>>> c6798b2c790c5451f97206238fb457b1c0bf71d9
   "metadata": {},
   "outputs": [],
   "source": [
    "dfclean.race.fillna(value=6, inplace=True)\n",
    "dfclean.race_o.fillna(value=6, inplace=True)"
   ]
  },
  {
   "cell_type": "markdown",
   "metadata": {},
   "source": [
    "#### Replacing null values in age_o column with  mean value of age_o columns"
   ]
  },
  {
   "cell_type": "code",
<<<<<<< HEAD
   "execution_count": 11,
=======
   "execution_count": 60,
>>>>>>> c6798b2c790c5451f97206238fb457b1c0bf71d9
   "metadata": {},
   "outputs": [],
   "source": [
    "dfclean.age_o.fillna(value=round(dfclean.age_o.mean()), inplace=True)\n",
    "dfclean.age.fillna(value=round(dfclean.age.mean()), inplace=True)\n"
   ]
  },
  {
   "cell_type": "markdown",
   "metadata": {},
   "source": [
    "#### Replacing null values in field column with 'other'"
   ]
  },
  {
   "cell_type": "code",
<<<<<<< HEAD
   "execution_count": 12,
=======
   "execution_count": 61,
>>>>>>> c6798b2c790c5451f97206238fb457b1c0bf71d9
   "metadata": {},
   "outputs": [
    {
     "data": {
      "text/plain": [
       "False"
      ]
     },
<<<<<<< HEAD
     "execution_count": 12,
=======
     "execution_count": 61,
>>>>>>> c6798b2c790c5451f97206238fb457b1c0bf71d9
     "metadata": {},
     "output_type": "execute_result"
    }
   ],
   "source": [
    "dfclean.field.fillna(value='Other', inplace=True)\n",
    "dfclean.field.isna().any()"
   ]
  },
  {
   "cell_type": "markdown",
   "metadata": {},
   "source": [
    "#### Introducing a new field code for 'other' field. Assigning code=19 in field_cd to the fields with value 'Other'"
   ]
  },
  {
   "cell_type": "code",
<<<<<<< HEAD
   "execution_count": 13,
=======
   "execution_count": 62,
>>>>>>> c6798b2c790c5451f97206238fb457b1c0bf71d9
   "metadata": {
    "scrolled": true
   },
   "outputs": [],
   "source": [
    "dfclean[dfclean.field =='Other'].field_cd.fillna(value=19,inplace=True)\n"
   ]
  },
  {
   "cell_type": "code",
<<<<<<< HEAD
   "execution_count": 14,
=======
   "execution_count": 63,
>>>>>>> c6798b2c790c5451f97206238fb457b1c0bf71d9
   "metadata": {
    "scrolled": true
   },
   "outputs": [
    {
     "data": {
      "text/plain": [
       "True"
      ]
     },
<<<<<<< HEAD
     "execution_count": 14,
=======
     "execution_count": 63,
>>>>>>> c6798b2c790c5451f97206238fb457b1c0bf71d9
     "metadata": {},
     "output_type": "execute_result"
    }
   ],
   "source": [
    "dfclean.field_cd.isna().any()"
   ]
  },
  {
   "cell_type": "markdown",
   "metadata": {},
   "source": [
    "#### Field code is null for the field 'Operations Research'. Hence, assigning a new code=20 in field_cd to the fields with value 'Operations Research'"
   ]
  },
  {
   "cell_type": "code",
<<<<<<< HEAD
   "execution_count": 15,
=======
   "execution_count": 64,
>>>>>>> c6798b2c790c5451f97206238fb457b1c0bf71d9
   "metadata": {},
   "outputs": [],
   "source": [
    "dfclean[dfclean.field =='Operations Research'].field_cd.fillna(value=20,inplace=True)"
   ]
  },
  {
   "cell_type": "code",
<<<<<<< HEAD
   "execution_count": 16,
=======
   "execution_count": 65,
>>>>>>> c6798b2c790c5451f97206238fb457b1c0bf71d9
   "metadata": {},
   "outputs": [
    {
     "data": {
      "text/plain": [
       "True"
      ]
     },
<<<<<<< HEAD
     "execution_count": 16,
=======
     "execution_count": 65,
>>>>>>> c6798b2c790c5451f97206238fb457b1c0bf71d9
     "metadata": {},
     "output_type": "execute_result"
    }
   ],
   "source": [
    "dfclean.field_cd.isna().any()"
   ]
  },
  {
   "cell_type": "markdown",
   "metadata": {},
   "source": [
    "#### Since each value in like_o,prob_o, met_o,match_es,date_3, numdat_3  has a significance we are not replacing na values in these columns"
   ]
  },
  {
   "cell_type": "code",
<<<<<<< HEAD
   "execution_count": 17,
=======
   "execution_count": 66,
>>>>>>> c6798b2c790c5451f97206238fb457b1c0bf71d9
   "metadata": {},
   "outputs": [
    {
     "data": {
      "text/plain": [
       "(8378, 68)"
      ]
     },
<<<<<<< HEAD
     "execution_count": 17,
=======
     "execution_count": 66,
>>>>>>> c6798b2c790c5451f97206238fb457b1c0bf71d9
     "metadata": {},
     "output_type": "execute_result"
    }
   ],
   "source": [
    "dfclean.shape"
   ]
  },
  {
   "cell_type": "code",
<<<<<<< HEAD
   "execution_count": 18,
=======
   "execution_count": 67,
>>>>>>> c6798b2c790c5451f97206238fb457b1c0bf71d9
   "metadata": {},
   "outputs": [
    {
     "data": {
      "text/plain": [
       "iid         False\n",
       "id           True\n",
       "gender      False\n",
       "idg         False\n",
       "condtn      False\n",
       "wave        False\n",
       "round       False\n",
       "position    False\n",
       "order       False\n",
       "partner     False\n",
       "pid          True\n",
       "match       False\n",
       "int_corr     True\n",
       "samerace    False\n",
       "age_o       False\n",
       "race_o      False\n",
       "dec_o       False\n",
       "attr_o      False\n",
       "sinc_o      False\n",
       "intel_o     False\n",
       "fun_o       False\n",
       "amb_o       False\n",
       "shar_o      False\n",
       "like_o       True\n",
       "prob_o       True\n",
       "met_o        True\n",
       "age         False\n",
       "field       False\n",
       "field_cd     True\n",
       "race        False\n",
       "imprace      True\n",
       "income       True\n",
       "career       True\n",
       "career_c     True\n",
       "attr1_1     False\n",
       "sinc1_1     False\n",
       "intel1_1    False\n",
       "fun1_1      False\n",
       "amb1_1      False\n",
       "shar1_1     False\n",
       "attr2_1     False\n",
       "sinc2_1     False\n",
       "intel2_1    False\n",
       "fun2_1      False\n",
       "amb2_1      False\n",
       "shar2_1     False\n",
       "dec         False\n",
       "attr        False\n",
       "sinc        False\n",
       "intel       False\n",
       "fun         False\n",
       "amb         False\n",
       "shar        False\n",
       "like         True\n",
       "prob         True\n",
       "met          True\n",
       "match_es     True\n",
       "you_call     True\n",
       "them_cal     True\n",
       "date_3       True\n",
       "numdat_3     True\n",
       "num_in_3     True\n",
       "attr7_3     False\n",
       "sinc7_3     False\n",
       "intel7_3    False\n",
       "fun7_3      False\n",
       "amb7_3      False\n",
       "shar7_3     False\n",
       "dtype: bool"
      ]
     },
<<<<<<< HEAD
     "execution_count": 18,
=======
     "execution_count": 67,
>>>>>>> c6798b2c790c5451f97206238fb457b1c0bf71d9
     "metadata": {},
     "output_type": "execute_result"
    }
   ],
   "source": [
    "dfclean.isna().any()"
   ]
  },
  {
   "cell_type": "markdown",
   "metadata": {},
   "source": [
    "## Data Description "
   ]
  },
  {
   "cell_type": "markdown",
   "metadata": {},
   "source": [
    "\n",
    "After cleaning, we have a DataFrame dfclean. The columns are:\n"
   ]
  },
  {
   "cell_type": "markdown",
   "metadata": {},
   "source": [
    "<ul>\n",
    "<li><b>iid</b>: Unique Person ID\n",
    "<li><b>id</b>: Unique person Id within wave(wave is a group attending the event on a particular day)\n",
    "<li><b>gender</b>: Gender of participant (Female -0, Male - 1)\n",
    "<li><b>idg</b>: Unique ID of a person within a gender\n",
    "<li><b>condtn</b>: Choice provided to participants (Limited -1, Extensive-2)\n",
    "<li><b>wave</b>: Unique wave ID\n",
    "<li><b>round</b>: Total people met in one wave\n",
    "<li><b>position</b>: Table number alloted to a participant during an event\n",
    "<li><b>order</b>: The number at which you met your partner\n",
    "<li><b>partner</b>:  Partners id number that night \n",
    "<li><b>pid</b>: Partners iid number (partners unique id)\n",
    "<li><b>match</b>: participants response to if a person was a match (yes-1, no-0)\n",
    "<li><b>int_corr</b>:correlation between participant’s and partner’s ratings of interests\n",
    "<li><b>samerace</b>: participant and the partner were the same race. 1= yes, 0=no\n",
    "<li><b>age</b>: age of the participants\n",
    "<li><b>field</b>: Field of study of participants\n",
    "<li><b>field_cd</b>: 1= Law, 2=Math, 3= Social Science, Psychologist \n",
    "                     4= Medical Science, Pharmaceuticals, and Bio Tech \n",
    "                     5= Engineering, 6= English/Creative Writing/ Journalism \n",
    "                     7= History/Religion/Philosophy, 8= Business/Econ/Finance \n",
    "                     9= Education, Academia, 10= Biological Sciences/Chemistry/Physics\n",
    "                     11= Social Work, 12= Undergrad/undecided, 13=Political Science/International Affairs \n",
    "                     14=Film, 15=Fine Arts/Arts Administration, 16=Languages, 17=Architecture, 18=Other\n",
    "<li><b>race</b>: race of the participant\n",
    "                 Black/African American=1\n",
    "                 European/Caucasian-American=2\n",
    "                 Latino/Hispanic American=3\n",
    "                 Asian/Pacific Islander/Asian-American=4\n",
    "                 Native American=5\n",
    "                 Other=6\n",
    "<li><b>imprace</b>: How important is it to the participants (on a scale of 1-10) that a person they date be of                       the same racial/ethnic background\n",
    "<li><b>income</b>:  income of the participants\n",
    "<li><b>career</b>:  intended career of the participant\n",
    "<li><b>career_c</b>: career codes: 1= Lawyer, 2= Academic/Research, 3= Psychologist, 4= Doctor/Medicine \n",
    "                     5=Engineer, 6= Creative Arts/Entertainment,                                   7=Banking/Consulting/Finance/Marketing/Business/CEO/Entrepreneur/Admin \n",
    "                    8= Real Estate, 9= International/Humanitarian Affairs, 10= Undecided, 11=Social Work\n",
    "                    12=Speech Pathology, 13=Politics, 14=Pro sports/Athletics, 15=Other, 16=Journalism\n",
    "                    17=Architecture\n",
    "<li><b>attr1_1, sinc1_1,intel1_1, fun1_1,amb1_1,shar1_1</b>: ratings given by participants to their partners                                                                  before the event.\n",
    "<li><b>dec</b>: decision of the participant if the participant would like to see their dates again\n",
    "<li><b>attr</b>: on a scale of 1 to 10, how much does the participant rate their date partner on attrractivness\n",
    "<li><b>sinc</b>: on a scale of 1 to 10, how much does the participamt rate their date partner on sincerity\n",
    "<li><b>intel</b>: on a scale of 1 to 10, how much does the participamt rate their date partner on intelligence\n",
    "<li><b>fun</b>: on a scale of 1 to 10, how much does the participamt rate their date partner on being fun\n",
    "<li><b>amb</b>: on a scale of 1 to 10, how much does the participamt rate their date partner on being ambitious\n",
    "<li><b>shar</b>: on a scale of 1 to 10, how much does the participamt rate their date partner on havong shared                    interests\n",
    "<li><b>like</b>:  Overall how much does the participant like this dates?(1=don't like at all, 10=like a lot)\n",
    "<li><b>prob</b>: How probable does teh participant think that their dates will say 'yes' for them?\n",
    "                 (1=not probable, 10=extremely probable)\n",
    "<li><b>met</b>: Have the participant met their dates before\n",
    "<li><b>age</b>: age of the participants\n",
    "<li><b>field</b>: Field of study of participants\n",
    "<li><b>field_cd</b>: 1= Law, 2=Math, 3= Social Science, Psychologist \n",
    "                     4= Medical Science, Pharmaceuticals, and Bio Tech \n",
    "                     5= Engineering, 6= English/Creative Writing/ Journalism \n",
    "                     7= History/Religion/Philosophy, 8= Business/Econ/Finance \n",
    "                     9= Education, Academia, 10= Biological Sciences/Chemistry/Physics\n",
    "                     11= Social Work, 12= Undergrad/undecided, 13=Political Science/International Affairs \n",
    "                     14=Film, 15=Fine Arts/Arts Administration, 16=Languages, 17=Architecture, 18=Other\n",
    "<li><b>age_o</b>: age of partner\n",
    "<li><b>race_o</b>: race of partner\n",
    "<li><b>dec_o</b>: decision of partner the night of event. (yes -1, no-0)\n",
    "<li><b>attr_o</b>: rating by partner the night of the event on the attribute of attractivness\n",
    "<li><b>sinc_o</b>: rating by partner the night of the event on the attribute of sincerity\n",
    "<li><b>intel_o</b>: rating by partner the night of the event on the attribute of intelligence\n",
    "<li><b>fun_o</b>: rating by partner the night of the event on the attribute of being fun\n",
    "<li><b>amb_o</b>: rating by partner the night of the event on the attribute of ambition\n",
    "<li><b>shar_o</b>: rating by partner the night of the event on the attribute of shared interests\n",
    "<li><b>like_o</b>: Overall, how much does the participant likes their date?(1=don't like at all, 10=like a lot)\n",
    "<li><b>prob_o</b>: How probable does the participant think that their date will say 'yes' to them?(1=not                            probable,10=extremely)\n",
    "\n",
    "<li><b>attr7_3, sinc7_3,intel7_3, fun7_3,amb7_3,shar7_3</b>: ratings given by participants after the completion                                                                of the event                                         \n",
    "<li><b>attr2_1, sinc2_1,intel2_1, fun2_1,amb2_1,shar2_1</b>: ratings given by the participants about what their                                                                partners look for before the event  \n",
    "<li><b>you_call</b>: how many partners after the event have the participant contacted to set up another date\n",
    "<li><b>them_cal</b>: how many partners have contacted the participant to set up another date"
   ]
  },
  {
   "cell_type": "markdown",
   "metadata": {},
   "source": [
    "# <span style=\"color:DarkBlue\"> *Insight 1*</span>"
   ]
  },
  {
   "cell_type": "markdown",
   "metadata": {},
   "source": [
    "# <span style=\"color:darkblue\"> *Men's physical attractiveness:gatekeeper to women's heart or an illusion!*</span>"
   ]
  },
  {
   "cell_type": "markdown",
   "metadata": {},
   "source": [
    "We have different attributes in the dataset which the men and women look for in their parterners. Those are Attractiveness, Sincerity, Interlligence, Funny, Ambitious, Shared interest. We have analysed the most rated attribute by men and women for their respective partners. The analysis is divided into two parts as below.\n",
    "\n",
    "**Columns used**:\n",
    "\n",
    "1) 'attr1_1, sinc1_1,intel1_1, fun1_1,amb1_1,shar1_1': ratings given by participants to their partners before the event\n",
    "\n",
    "2) 'attr7_3, sinc7_3,intel7_3, fun7_3,amb7_3,shar7_3': ratings given by participants after the completion of the event\n",
    "\n",
    "3) 'iid' : unique subject number, group(wave id gender)\n",
    "\n",
    "4) 'gender': gender of the participant\n",
    "\n",
    "**Scenario 1**: The highest rated attribute by men and women collectively before participating in the speed dating event.\n",
    "\n",
    "*Outcome*  : As per the below analysis, 'Attractiveness' stands at the top position!\n",
    "\n",
    "\n",
    "**Scenario 2**: The most rated attribute has been analysed separately for men and women in two scenarios.\n",
    "\n",
    "*Case 1*: Before participating in the speed dating event\n",
    "\n",
    "*Outcome 1*: Highest rated attribute for men is 'Attractiveness' and that for women is 'Intelligence'!!\n",
    "\n",
    "*Case 2*: After sharing yes/no decisions on completion of speed dating event\n",
    "\n",
    "*Outcome 2*: After meeting the participants, men and women both rated 'Attractiveness' at the top position!!\n",
    "\n",
    "**Conclusion**: Though women claimed that 'Intelligence' is the most important attribute they were looking for before the event, survey after the event shows that men's look matter more than the women admit!!"
   ]
  },
  {
   "cell_type": "markdown",
   "metadata": {},
   "source": [
    "## Scenario 1- Attractiveness : The highest rated attribute the people look for in there partners"
   ]
  },
  {
   "cell_type": "code",
<<<<<<< HEAD
   "execution_count": 19,
=======
   "execution_count": 68,
>>>>>>> c6798b2c790c5451f97206238fb457b1c0bf71d9
   "metadata": {},
   "outputs": [
    {
     "data": {
      "text/plain": [
<<<<<<< HEAD
       "<seaborn.axisgrid.FacetGrid at 0x10895d438>"
      ]
     },
     "execution_count": 19,
=======
       "<seaborn.axisgrid.FacetGrid at 0x1dfb1537c18>"
      ]
     },
     "execution_count": 68,
>>>>>>> c6798b2c790c5451f97206238fb457b1c0bf71d9
     "metadata": {},
     "output_type": "execute_result"
    },
    {
     "data": {
      "image/png": "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\n",
      "text/plain": [
       "<Figure size 540x360 with 1 Axes>"
      ]
     },
     "metadata": {
      "needs_background": "light"
     },
     "output_type": "display_data"
    }
   ],
   "source": [
    "attractive=dfclean.groupby('iid')['attr1_1'].mean().mean()\n",
    "\n",
    "Sincere=dfclean.groupby('iid')['sinc1_1'].mean().mean()\n",
    "\n",
    "intellegence=dfclean.groupby('iid')['intel1_1'].mean().mean()\n",
    "\n",
    "fun=dfclean.groupby('iid')['fun1_1'].mean().mean()\n",
    "\n",
    "ambitious=dfclean.groupby('iid')['amb1_1'].mean().mean()\n",
    "\n",
    "hobby=dfclean.groupby('iid')['shar1_1'].mean().mean()\n",
    "\n",
    "sum=attractive+Sincere+intellegence+fun+ambitious+hobby\n",
    "sum\n",
    "#creating a new dataframe of all attributes with mean values\n",
    "data = {'Mean':[attractive,Sincere,intellegence,fun,ambitious,hobby]}\n",
    "attMean=pd.DataFrame(data, index=['Attractive','Sincere','Intelligent','Fun','Ambitious','Hobbies']) \n",
    "attMean\n",
    "\n",
    "sns.factorplot(y='Mean', data=attMean, \\\n",
    "               x=['Attractive','Sincere','Intelligent','Fun','Ambitious','Hobbies'],aspect=1.5, kind='bar')"
   ]
  },
  {
   "cell_type": "markdown",
   "metadata": {},
   "source": [
    "## Scenario 2- The highest rated attribute by males and females separately before and after participating in the event"
   ]
  },
  {
   "cell_type": "code",
<<<<<<< HEAD
   "execution_count": 20,
=======
   "execution_count": 69,
>>>>>>> c6798b2c790c5451f97206238fb457b1c0bf71d9
   "metadata": {
    "slideshow": {
     "slide_type": "-"
    }
   },
   "outputs": [],
   "source": [
    "dff=dfclean[df.gender==0]\n",
    "dfm=dfclean[df.gender==1]\n"
   ]
  },
  {
   "cell_type": "markdown",
   "metadata": {},
   "source": [
    "### Case 1- Considering attributes for male and female participants before the event"
   ]
  },
  {
   "cell_type": "code",
<<<<<<< HEAD
   "execution_count": 21,
=======
   "execution_count": 87,
>>>>>>> c6798b2c790c5451f97206238fb457b1c0bf71d9
   "metadata": {},
   "outputs": [
    {
     "data": {
      "text/plain": [
<<<<<<< HEAD
       "<matplotlib.axes._subplots.AxesSubplot at 0x123dca2b0>"
      ]
     },
     "execution_count": 21,
=======
       "<matplotlib.axes._subplots.AxesSubplot at 0x1dfb151d7b8>"
      ]
     },
     "execution_count": 87,
>>>>>>> c6798b2c790c5451f97206238fb457b1c0bf71d9
     "metadata": {},
     "output_type": "execute_result"
    },
    {
     "data": {
      "image/png": "iVBORw0KGgoAAAANSUhEUgAAAXQAAAEkCAYAAAA/7cqkAAAABHNCSVQICAgIfAhkiAAAAAlwSFlzAAALEgAACxIB0t1+/AAAADl0RVh0U29mdHdhcmUAbWF0cGxvdGxpYiB2ZXJzaW9uIDMuMC4zLCBodHRwOi8vbWF0cGxvdGxpYi5vcmcvnQurowAAHp5JREFUeJzt3Xt0lPWdx/H3l5gaQaAU4hU1Frl2wRAjBbGslRXUKvW6QKuirqKnW+9HV22rdFerW6tuUQvCEWFXRSgKuForykHxAmpCEamgeKEt6mIAxXsV+O4fzzNhCAmZZGbyTH75vM7JYeaZmcx3kvCZ3/ye38XcHRERaf3aJV2AiIjkhgJdRCQQCnQRkUAo0EVEAqFAFxEJhAJdRCQQCnQRkUAo0EVEAqFAFxEJxG4t+WTdunXzsrKylnxKEZFWr7q6eoO7lzZ2vxYN9LKyMqqqqlryKUVEWj0z+0sm91OXi4hIIBToIiKBUKCLiASiRfvQRWS7r7/+mnXr1vHll18mXYoUiJKSErp3705xcXGzHq9AF0nIunXr6NixI2VlZZhZ0uVIwtydjRs3sm7dOg4++OBmfQ91uYgk5Msvv6Rr164KcwHAzOjatWtWn9gU6CIJUphLumz/HhToIiKBaBV96GVXP9asx629+Qc5rkQkf5r7d96QTP7+i4qK6N+/P+5OUVERd955J0ccccQuHzNx4kQmTZpERUUF999/f3Y1rl1L37596d27d+2xyy+/nLPOOiur75tu3rx59OrVi379+gFw9tlnM3v2bNavX0/Hjh0BuOSSS5g4cSI1NTV069atwe+Vmhy5q/skqVUEuojkxx577MHy5csBeOKJJ7jmmmt45plndvmY3/3udzz++OMZn7jbsmULu+3WcNT06NGjtoZ8mDdvHieccEJtoAMccsghzJ8/nzPOOINt27axaNEi9t9//7zV0FLU5SIiAHz88cd06dKl9vott9zC4YcfzoABA7j++usBuPDCC3n77bcZNWoUt99+O5s2beKkk05iwIABDB48mBUrVgAwYcIExo8fz4gRIzjrrLPYunUrV155Ze33u/vuu3dZy6RJk7jqqqtqr0+fPp2LLroIgPvuu49BgwZRXl7OBRdcwNatWwHYc889+dnPfsahhx7K4MGDWb9+PS+88AKPPPIIV155JeXl5bz11lsAjB07llmzZgHw9NNPM3To0B3edE466SQOO+wwvvOd7zBlypR6a2yojiQp0EXasC+++ILy8nL69OnDeeedxy9+8QsAFixYwJo1a3jppZdYvnw51dXVLF68mMmTJ7PffvuxaNEiLrvsMq6//noGDhzIihUr+NWvfrVDV0l1dTXz58/ngQce4J577qFz5868/PLLvPzyy0ydOpV33nkHgLfeeovy8vLar2effZbTTjuNhx9+uPZ7zZo1i9GjR7Nq1SpmzZrF888/z/LlyykqKqrt9vnss88YPHgwr7zyCsOGDWPq1KkcccQRjBo1iltuuYXly5fTo0cPAHr27ElNTQ0ffvghM2fOZMyYMTv8XKZNm0Z1dTVVVVVMnDiRjRs37nD7rupIkrpcRNqw9C6XJUuWcNZZZ7Fy5UoWLFjAggULGDhwIACffvopa9asYdiwYTs8/rnnnuOhhx4C4Oijj2bjxo1s3rwZgFGjRrHHHnsA0RvEihUrmDNnDgCbN29mzZo19OrVq8Eul29/+9ssXbqUnj178vrrrzN06FDuuusuqqurOfzww4HoDWmvvfYC4Bvf+AYnnHACAIcddhhPPvnkLl/7KaecwoMPPsiLL7640yeGiRMnMnfuXAD+9re/sWbNGrp27Vp7+8KFCxusI0kKdBEBYMiQIWzYsIGamhrcnWuuuYYLLrhgl49x952OpYbedejQYYf73XHHHYwcOXKH+65du7bB7z169Ghmz55Nnz59OPnkkzEz3J1x48Zx00037XT/4uLi2ucuKipiy5Ytu6x9zJgxVFRUMG7cONq1295Z8fTTT/PUU0+xZMkS2rdvz1FHHbXT2PBd1ZEkdbmICACrV69m69atdO3alZEjRzJt2jQ+/fRTAN59910++OCDnR4zbNiw2q6Gp59+mm7dutGpU6ed7jdy5EgmTZrE119/DcAbb7zBZ599tst6TjnlFObNm8fMmTMZPXo0AMOHD2fOnDm1tWzatIm//GXXK8t27NiRTz75ZKfjBx54IDfeeCM/+clPdji+efNmunTpQvv27Vm9ejVLly7d6bHNqaMlqIUuUiCSGGab6kOHqNU5Y8YMioqKGDFiBKtWrWLIkCFAdMLxvvvu26lbYcKECZxzzjkMGDCA9u3bM2PGjHqf57zzzmPt2rVUVFTg7pSWljJv3jxgex96yrnnnsvFF19Mly5d6NevH6+99hqDBg0CoF+/ftxwww2MGDGCbdu2UVxczF133cVBBx3U4GscM2YM559/PhMnTqzt8kmp7xPIsccey+TJkxkwYAC9e/dm8ODBO92nOXW0BKvvI1O+VFZWenM2uNA4dAnRqlWr6Nu3b9JlSIGp7+/CzKrdvbKxx6rLRUQkEAp0EZFAKNBFRAKhQBcRCYQCXUQkEI0GupkdYGaLzGyVmf3ZzC6Jj08ws3fNbHn8dXz+yxURkYZkMg59C3CFuy8zs45AtZml5tTe7u6/yV95Im3IhM45/n6bG71LW10+95lnnqFz5+jnnRr3ni977rln7QStfGs00N39feD9+PInZrYKaP3rTIpIm10+95ZbbuG0007L23MmpUl96GZWBgwEXowP/dTMVpjZNDPr0sBjxptZlZlV1dTUZFWsiORPW1o+tz4LFixgyJAhVFRUcPrpp9e2qsvKyrj22msZMmQIlZWVLFu2jJEjR9KjRw8mT54MRIuXDR8+nIqKCvr378/8+fPrfY76fqa5lHGgm9mewEPApe7+MTAJ6AGUE7Xgb63vce4+xd0r3b2ytLQ0ByWLSK601eVzUwFfXl7Oq6++yoYNG7jhhht46qmnWLZsGZWVldx22221z3/AAQewZMkSvve973H22WczZ84cli5dynXXXQdASUkJc+fOZdmyZSxatIgrrrhip4XLGvqZ5lJGa7mYWTFRmN/v7g8DuPv6tNunAo/mtDIRybu2unxu3S6XRx99lNdee42hQ4cC8NVXX9WuY5N6LQD9+/fn008/pWPHjnTs2JGSkhI++ugjOnTowLXXXsvixYtp164d7777LuvXr2efffap/R6Z/kyz0WigW7Qe5T3AKne/Le34vnH/OsDJwMqcVSUiLa6tLZ9b93Ucc8wxzJw5s97bd999dwDatWtXezl1fcuWLdx///3U1NRQXV1NcXExZWVl9S65m8nPNBuZdLkMBc4Ejq4zRPHXZvaqma0Avg9clrcqRSTv2tryuekGDx7M888/z5tvvgnA559/zhtvvLHLx6TbvHkze+21F8XFxSxatKjemjL9mWYjk1EuzwFWz01/yGklIm1dBsMMc62tL5+bUlpayvTp0xk7dix///vfAbjhhhvo1atXJj9GfvzjH3PiiSdSWVlZe06irkx/ptnQ8rkiCdHyuVIfLZ8rIiIKdBGRUCjQRRLUkl2eUviy/XtQoIskpKSkhI0bNyrUBYjCfOPGjZSUlDT7e2iTaJGEdO/enXXr1qElMSSlpKSE7t27N/vxCnSRhBQXF2e8wJVIJtTlIiISCAW6iEggFOgiIoFQoIuIBEKBLiISCAW6iEggFOgiIoFQoIuIBEKBLiISCAW6iEggFOgiIoFQoIuIBEKBLiISCAW6iEggFOgiIoFQoIuIBEKBLiISCAW6iEggtAWdFKYJnZv5uM25rUOkFVELXUQkEAp0EZFAKNBFRALRaKCb2QFmtsjMVpnZn83skvj4t8zsSTNbE//bJf/liohIQzJpoW8BrnD3vsBg4F/NrB9wNbDQ3XsCC+PrIiKSkEYD3d3fd/dl8eVPgFXA/sAPgRnx3WYAJ+WrSBERaVyT+tDNrAwYCLwI7O3u70MU+sBeDTxmvJlVmVlVTU1NdtWKiEiDMg50M9sTeAi41N0/zvRx7j7F3SvdvbK0tLQ5NYqISAYyCnQzKyYK8/vd/eH48Hoz2ze+fV/gg/yUKCIimchklIsB9wCr3P22tJseAcbFl8cB83NfnoiIZCqTqf9DgTOBV81seXzsWuBmYLaZ/QvwV+D0/JQoIiKZaDTQ3f05wBq4eXhuy5EQlV39WJMfs7YkD4WIBE4zRUVEAqFAFxEJhAJdRCQQCnQRkUAo0EVEAqFAFxEJhAJdRCQQCnQRkUCEvUl06BsNh/76RKRJ1EIXEQmEAl1EJBAKdBGRQITdhy6SZ81ZeAxg7c0/yHElImqhi4gEQ4EuIhIIdbmIJEFDTiUP1EIXEQmEAl1EJBAKdBGRQCjQRUQCoUAXEQmEAl1EJBAatlgAmj3bsCTHhYhIq6YWuohIIBToIiKBUKCLiARCgS4iEggFuohIIBToIiKBaDTQzWyamX1gZivTjk0ws3fNbHn8dXx+yxQRkcZk0kKfDhxbz/Hb3b08/vpDbssSEZGmajTQ3X0xsKkFahERkSxk04f+UzNbEXfJdGnoTmY23syqzKyqpqYmi6cTEZFdaW6gTwJ6AOXA+8CtDd3R3ae4e6W7V5aWljbz6UREpDHNCnR3X+/uW919GzAVGJTbskREpKmaFehmtm/a1ZOBlQ3dV0REWkajqy2a2UzgKKCbma0DrgeOMrNywIG1wAV5rFFERDLQaKC7+9h6Dt+Th1pERCQLmikqIhIIBbqISCAU6CIigVCgi4gEQoEuIhIIBbqISCAU6CIigVCgi4gEQoEuIhIIBbqISCAU6CIigWh0LRcRkSab0LmZj9uc2zraGAW6iEhTFegblrpcREQCoUAXEQmEAl1EJBAKdBGRQCjQRUQCoUAXEQmEAl1EJBAKdBGRQCjQRUQCoUAXEQmEAl1EJBAKdBGRQGhxLhFps8qufqxZj1tbkuNCckQtdBGRQCjQRUQCoUAXEQlEo4FuZtPM7AMzW5l27Ftm9qSZrYn/7ZLfMkVEpDGZtNCnA8fWOXY1sNDdewIL4+siIpKgRgPd3RcDm+oc/iEwI748Azgpx3WJiEgTNbcPfW93fx8g/nevhu5oZuPNrMrMqmpqapr5dCIi0pi8nxR19ynuXunulaWlpfl+OhGRNqu5gb7ezPYFiP/9IHcliYhIczQ30B8BxsWXxwHzc1OOiIg0VybDFmcCS4DeZrbOzP4FuBk4xszWAMfE10VEJEGNruXi7mMbuGl4jmsREZEsaKaoiEggFOgiIoFQoIuIBELroYtIg0JbLzx0aqGLiARCgS4iEggFuohIIBToIiKBUKCLiARCgS4iEggFuohIIBToIiKBUKCLiARCgS4iEggFuohIIBToIiKBUKCLiARCgS4iEggFuohIIBToIiKBUKCLiARCgS4iEggFuohIIBToIiKBUKCLiARCgS4iEggFuohIIBToIiKBUKCLiARit2webGZrgU+ArcAWd6/MRVEiItJ0WQV67PvuviEH30dERLKgLhcRkUBkG+gOLDCzajMbX98dzGy8mVWZWVVNTU2WTyciIg3JNtCHunsFcBzwr2Y2rO4d3H2Ku1e6e2VpaWmWTyciIg3JKtDd/b343w+AucCgXBQlIiJN1+xAN7MOZtYxdRkYAazMVWEiItI02Yxy2RuYa2ap7/OAu/8xJ1WJiEiTNTvQ3f1t4NAc1iIiIlnQsEURkUAo0EVEAqFAFxEJhAJdRCQQCnQRkUAo0EVEAqFAFxEJhAJdRCQQCnQRkUAo0EVEAqFAFxEJhAJdRCQQCnQRkUAo0EVEAqFAFxEJhAJdRCQQCnQRkUAo0EVEAqFAFxEJhAJdRCQQCnQRkUAo0EVEAqFAFxEJhAJdRCQQCnQRkUAo0EVEAqFAFxEJhAJdRCQQCnQRkUBkFehmdqyZvW5mb5rZ1bkqSkREmq7ZgW5mRcBdwHFAP2CsmfXLVWEiItI02bTQBwFvuvvb7v4V8CDww9yUJSIiTWXu3rwHmp0GHOvu58XXzwS+6+4/rXO/8cD4+Gpv4PXml9tk3YANLfh8LS3k1xfyawO9vtaupV/fQe5e2tiddsviCayeYzu9O7j7FGBKFs/TbGZW5e6VSTx3Swj59YX82kCvr7Ur1NeXTZfLOuCAtOvdgfeyK0dERJorm0B/GehpZgeb2TeAMcAjuSlLRESaqtldLu6+xcx+CjwBFAHT3P3POassNxLp6mlBIb++kF8b6PW1dgX5+pp9UlRERAqLZoqKiARCgS4iEggFuohIIBToIiKBCCrQLXKGmV0XXz/QzAYlXZdkxsxOz+SYFB4z62Fmu8eXjzKzi83sm0nXlUtmdrqZdYwv/9zMHjaziqTrShfUKBczmwRsA452975m1gVY4O6HJ1xaTpjZ3sCvgP3c/bh4MbQh7n5PwqXlhJktc/eKxo61VmZWCpwPlJE2ZNjdz02qplwxs+VAJdFre4JoTkpvdz8+ybpyycxWuPsAMzsSuAn4DXCtu3834dJqZTP1vxB9190rzOxPAO7+YTzpKRTTgXuBn8XX3wBmAa060M3sOOB4YH8zm5h2UydgSzJV5cV84FngKWBrwrXk2rZ4bsrJwH+5+x2p/4cBSf3OfgBMcvf5ZjYhwXp2Elqgfx0v6+tQ2yLalmxJOdXN3Web2TVQO7krhGB4D6gCRgHVacc/AS5LpKL8aO/u/5Z0EXnytZmNBcYBJ8bHihOsJx/eNbO7gX8C/jPuYiqobuvQAn0iMBfYy8xuBE4Dfp5sSTn1mZl1Zfsb1mBgc7IlZc/dXwFeMbMH3P3rpOvJo0fN7Hh3/0PSheTBOcCFwI3u/o6ZHQzcl3BNufbPwLHAb9z9IzPbF7gy4Zp2EFQfOoCZ9QGGE60GudDdVyVcUs7EJ2DuAP4BWAmUAqe5+4pEC8sRMxsKTAAOImpsGODu/u0k68oVM/sE6AD8Hfia7a+vU6KFScbi/vOe7n5v3AOwp7u/k3RdKUEFupn9Fpjl7i8kXUuumVk7YDDwEtG68ga8HlKL1sxWE3WxVJPWx+zuGxMrSjJiZu9Q//LZQbwZA5jZ9UQnfnu7ey8z2w/4vbsPTbi0WqF1uSwDfm5mvYi6Xma5e1XCNeWEu28zs1vdfQhQaIug5cpmd3886SLyxcyG1Xfc3Re3dC15kL42eAlwOvCthGrJl5OBgUQ5g7u/lxrGWCiCaqGnmNm3gFOJlvQ90N17JlxSTpjZL4EVwMMe4C/OzG4mWrnzYaJuCQDcfVliReWQmf1v2tUSom0cq9396IRKyisze87dj0y6jlwxs5fcfVBqKK2ZdQCWuPuApGtLCa2FnnII0IdoTOxryZaSU5cT9cFuNbMvCK8PNjWeN72150AQgefuJ6ZfN7MDgF8nVE5O1Zlg047od1hQrdccmB2PcvmmmZ0PnAtMTbimHQTVQjez/wROAd4CZhO1ZD9KtiqR+pmZASvcvX/StWTLzBalXd0CrCUaDdKSewjnnZkdA4wgakw94e5PJlzSDkIL9AuBOe4e5Oa0cQD8GDjY3f8jbuHt6+4vJVxaTrSBmbB3sP3EYTugHFjr7mckV5WEJIhAN7M+7r66oXUVAuqDDX1pg8eJZ8K6+6FmthvwpxBasABmNi7t6haiMH8+qXpyycw6A9cDqRO/zwD/7u6tfp5E6lxAPOw0PTALrsszlECf4u7j63zsS/FQTjqlnYz5k7sPjI+94u6HJl1bLpjZy+5+eJ3Xt9zdy5OuLRtmdqC7/zXpOvLJzB4imhsxIz50JnCou5+SXFVtTxAnRd19fHzxOHf/Mv02MytJoKR8CX1pgyBnwgLzgAqIgs/dT024nnzoUed1/TJesCsocS/AkUR/o8+5e0GtV1NQ6xDkQH0TikKaZFR3aYPniPqcQ3E50Sp9PczseeC/gYuSLSknLO1yMBNt6vginkUJ1M76/SLBenIuXpZ7BtAV6AZMN7OCWloklC6XfYD9idaO+BHb/wN1Aia7e5+kasu1kJc2AIj7zYOaCZu+BHBIywGnM7NyorDrTPS72wScHa/TEwQzWwUMTPUCmNkewDJ375tsZdsF0eUCjATOBroDt7I90D8Grk2oppyLuyD+7O53xdc7mtl33f3FhEvLCTOr29/ay8w2A6+6+wdJ1JQjh5rZx0R/l3vEl6EAT6o1l7svJ3qdneLrHzfykNZoLdGEsFS37u5EQ6QLRhAt9BQzO9XdH0q6jnyJ15euSM0Sjdd3qQqlxWdmjwFDgNTJ7aOApUAvohET/5NQadIAMzvD3e8zs8vru93db2vpmnItbbjpgcDhwJPx9WOI+tHHJFjeDkJpoaccZmYLU5OJ4mF9V7h7QfVzZcHSp/zH67uE9DvcBvR19/VQOy59EtEM0sWAAr3wdIj/rW9WaCitxdR6UNVE57BSnm75UnYttBZ67XC3tGPB9Fma2cNEf0ST4kM/Ab7v7iclVlQOmdmr6WPO44lUr7r7P9T3u5XCYWZD646pr+9Ya2fRDmh9iN6sXnf3rxIuaQehjXIpincRAWpPWuy+i/u3NhcCRwDvAuuIWq7jd/mI1uVZM3vUzMbFk3DmA4vjRZC0hENhuyPDY62WmR1P1Gc+EbgTeNOi7RMLRmgt9KuItjG7l+gd9FzgEXcPYgGk0MUt8lOBoUQnDJ8DHgpxZclQmNkQokbGpcDtaTd1Ak4OZdIb1K7Xf4K7vxlf7wE8Vkij6ELqf8Xdf21mr7J9WN9/uPsTCZeVMxbwrvEQDfcA5sRf0jp8A9iT6O8xvR/9Y6ItIEPyQSrMY28DBTX6KqgWeujM7AWiXePr7ujTqkf2tKa1MqR+ZnaQu/8l6TryIW047TFE2yPOJvo7PZ2oH/2KpGqrK6hAj8dp3wH0JWo5FAGfhRIIIaxrImExs/9y90vjzTvq24JuVAJl5ZSZ3buLm72QPiEH1eVCdKJiDPB7ogX2zyLa7CIUQe4aH+8w1SB339RStUiTpYaS/ibRKvLI3c9JuoZMhdZCr3L3SjNbkdoWysxecPcjkq4tFyzQXeNt+wbDVs/N7gFtNByyQh/Sly0z607UAzCUeHEu4BJ3X5doYWlCa6F/Hv9RLTezXwPvs33iQ6vn7qFt6QWAux+cdA2SHTP7ATCZaFifAQeb2QUe1qbf9wIPEPWdA5wRHzsmsYrqCK2FfhCwnqj//DKihYJ+V+fMdKsT+gYeDb2ulNb++tqC1jCkL1v1ncMqtPNawbTQ43XCb4y38/oS+GXCJeXS5UQTiG5NO5b+TtzaN/C4dRe3BbNJdOAKfkhfDmwwszOAmfH1scDGBOvZSWgt9CeAEwPsuxsE/NXd/y++Po5oAs5aYIJOGkpSWtOQvmyZ2YFEAy+GEL3GF4j60AtmuGZogX430c4wjwCfpY639hXfzGwZ8E/uvsnMhgEPEm38UE60mFUQEzjMrD3Rp5ED4y0FewK93f3RhEuTBrSmIX1tQTBdLrH34q92bJ+1FsI7VlFaK3w0MCWeTPRQYNt83Us0aSo1Kmkd0RBUBXqBak1D+porbfncern7xS1Yzi6FFuivufvv0w+Y2ekN3bkVKTKz3dx9C9GyBukLcoX0O+zh7qPNbCyAu38Rr+8iBc7MDib61FjGjstStPqJRWxfPheic3PXJ1VIY0IKA4BriFp0jR1rbWYCz5jZBqJ9Gp8FMLNDCGMT5ZSv4hUyUxt49CAacy+Fbx5wD/C/hLVxOe4+I3XZzC5Nv15oggj0eAnL44H9zWxi2k2dgC3JVJU77n6jmS0E9gUWpK0+2I4wNlFOmQD8ETjAzO4nmsAR/Ef6QHzp7hMbv1urV9BduEGcFDWzQ4lOEP47cF3aTZ8Ai9z9w0QKkyYzs67AYKLJKUvdfUPCJUkGzOxHQE9gAWmfqkKbQ1DoG+YEEegpZnZV3bXPzewSd/9tUjVJ5uLtA4c3dkwKj5ndBJxJNFM01eXi7t7q5xDUWQW0PfB56iYKbOmN0AJ9p3dPbV1W+MyshOg/yiKijaFTJ0I7AY+7e9+ESpMMxTNFB4Q2B6S1CaUPfSzwI6L1Ix5Ju6kToI/she8Coh1v9iMatpgK9I+Bu5IqSprkFeCbhDc7tFUJItCJZmy9D3Rj5+nxoxOpSDIWd4n91swucveg9qFsQ/YGVpvZy2zvQ3d3/2GCNbU5QXW5AJhZOVFr/Z+Bd4j2pLwz2aokU2Z2BDuPZf7vxAqSjJjZP6ZfBY4Exrr7dxIqqU0KooVuZr2INrZILZYzi+jN6vuJFiZNYmb/A/QAlrN9iz0HFOgFzt2fqacxNTnZqtqeIAIdWE002ebEtOU7L0u2JGmGSqCfh/axMWBqTBWWdkkXkCOnAv8HLDKzqWY2nPp3v5HCthLYJ+kipElWEy1HcaK7HxmfA9nayGMkT4Joobv7XGCumXUATiLa3GJvM5sEzHX3BYkWKJnqBrxmZi+x4+SUENYDCdWpRC30RWb2R6KVQNWYSkhwJ0VT4o2HTwdGhzC5oS2oc2Ktlrs/09K1SNOkNabGEm1IMgM1plpcsIEuIslQYyo5CnRJXJ2p1TvcRIFNrRYpZAp0EZFAhDLKRUSkzVOgi4gEQoEuIhIIBbqISCD+H/Cj22YTyg0IAAAAAElFTkSuQmCC\n",
      "text/plain": [
       "<Figure size 432x288 with 1 Axes>"
      ]
     },
     "metadata": {
      "needs_background": "light"
     },
     "output_type": "display_data"
    }
   ],
   "source": [
    "#before event female\n",
    "FbeforeA=dff.groupby('iid')['attr1_1'].mean().mean()\n",
    "FbeforeS=dff.groupby('iid')['sinc1_1'].mean().mean()\n",
    "FbeforeI=dff.groupby('iid')['intel1_1'].mean().mean()\n",
    "FbeforeF=dff.groupby('iid')['fun1_1'].mean().mean()\n",
    "FbeforeAM=dff.groupby('iid')['amb1_1'].mean().mean()\n",
    "FbeforeH=dff.groupby('iid')['shar1_1'].mean().mean()\n",
    "\n",
    "#before event male\n",
    "MbeforeA=dfm.groupby('iid')['attr1_1'].mean().mean()\n",
    "MbeforeS=dfm.groupby('iid')['sinc1_1'].mean().mean()\n",
    "MbeforeI=dfm.groupby('iid')['intel1_1'].mean().mean()\n",
    "MbeforeF=dfm.groupby('iid')['fun1_1'].mean().mean()\n",
    "MbeforeAM=dfm.groupby('iid')['amb1_1'].mean().mean()\n",
    "MbeforeH=dfm.groupby('iid')['shar1_1'].mean().mean()\n",
    "\n",
    "#creating a new dataframe of all attributes with mean values for female participants\n",
    "Fdata = {'BeforeEventFemale':[FbeforeA,FbeforeS,FbeforeI,FbeforeF,FbeforeAM,FbeforeH]}\n",
    "FBeforeDateAttributes=pd.DataFrame(Fdata, index=['Attractive','Sincere','Intelligent','Fun','Ambitious','Hobbies']) \n",
    "FBeforeDateAttributes\n",
    "\n",
    "#creating a new dataframe of all attributes with mean values for male participants\n",
    "Mdata = {'BeforeEventMale':[MbeforeA,MbeforeS,MbeforeI,MbeforeF,MbeforeAM,MbeforeH]}\n",
    "MBeforeDateAttributes=pd.DataFrame(Mdata, index=['Attractive','Sincere','Intelligent','Fun','Ambitious','Hobbies']) \n",
    "MBeforeDateAttributes\n",
    "\n",
    "result_before = pd.concat([MBeforeDateAttributes, FBeforeDateAttributes], axis=1, join_axes=[MBeforeDateAttributes.index])\n",
    "result_before\n",
    "\n",
    "result_before.plot.bar(style=['o','rx'])"
   ]
  },
  {
   "cell_type": "markdown",
   "metadata": {},
   "source": [
    "### Case 2- Considering attributes for male and female participants after the event"
   ]
  },
  {
   "cell_type": "code",
<<<<<<< HEAD
   "execution_count": 22,
=======
   "execution_count": 88,
>>>>>>> c6798b2c790c5451f97206238fb457b1c0bf71d9
   "metadata": {},
   "outputs": [
    {
     "data": {
      "text/plain": [
<<<<<<< HEAD
       "<matplotlib.axes._subplots.AxesSubplot at 0x1240fb588>"
      ]
     },
     "execution_count": 22,
=======
       "<matplotlib.axes._subplots.AxesSubplot at 0x1dfb2ca0b70>"
      ]
     },
     "execution_count": 88,
>>>>>>> c6798b2c790c5451f97206238fb457b1c0bf71d9
     "metadata": {},
     "output_type": "execute_result"
    },
    {
     "data": {
      "image/png": "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\n",
      "text/plain": [
       "<Figure size 432x288 with 1 Axes>"
      ]
     },
     "metadata": {
      "needs_background": "light"
     },
     "output_type": "display_data"
    }
   ],
   "source": [
    "#After event female\n",
    "FafterA=dff.groupby('iid')['attr7_3'].mean().mean()\n",
    "FafterS=dff.groupby('iid')['sinc7_3'].mean().mean()\n",
    "FafterI=dff.groupby('iid')['intel7_3'].mean().mean()\n",
    "FafterF=dff.groupby('iid')['fun7_3'].mean().mean()\n",
    "FafterAM=dff.groupby('iid')['amb7_3'].mean().mean()\n",
    "FafterH=dff.groupby('iid')['shar7_3'].mean().mean()\n",
    "\n",
    "#After event male\n",
    "MafterA=dfm.groupby('iid')['attr7_3'].mean().mean()\n",
    "MafterS=dfm.groupby('iid')['sinc7_3'].mean().mean()\n",
    "MafterI=dfm.groupby('iid')['intel7_3'].mean().mean()\n",
    "MafterF=dfm.groupby('iid')['fun7_3'].mean().mean()\n",
    "MafterAM=dfm.groupby('iid')['amb7_3'].mean().mean()\n",
    "MafterH=dfm.groupby('iid')['shar7_3'].mean().mean()\n",
    "\n",
    "#creating a new dataframe of all attributes with mean values for female\n",
    "FAdata = {'AfterEventFemale':[FafterA,FafterS,FafterI,FafterF,FafterAM,FafterH]}\n",
    "FAfterDateAttributes=pd.DataFrame(FAdata, index=['Attractive','Sincere','Intelligent','Fun','Ambitious','Hobbies']) \n",
    "FAfterDateAttributes\n",
    "\n",
    "#creating a new dataframe of all attributes with mean values for male\n",
    "MAdata = {'AfterEventMale':[MafterA,MafterS,MafterI,MafterF,MafterAM,MafterH]}\n",
    "MAfterDateAttributes=pd.DataFrame(MAdata, index=['Attractive','Sincere','Intelligent','Fun','Ambitious','Hobbies']) \n",
    "MAfterDateAttributes\n",
    "\n",
    "result_after = pd.concat([MAfterDateAttributes, FAfterDateAttributes], axis=1, join_axes=[MAfterDateAttributes.index])\n",
    "result_after\n",
    "\n",
    "result_after.plot.bar(style=['o','rx'])"
   ]
  },
  {
   "cell_type": "markdown",
<<<<<<< HEAD
   "metadata": {},
   "source": [
    "#### Validity of the finding"
=======
   "metadata": {},
   "source": [
    "#### Validity of the finding"
   ]
  },
  {
   "cell_type": "code",
   "execution_count": 72,
   "metadata": {},
   "outputs": [
    {
     "data": {
      "text/html": [
       "<div>\n",
       "<style scoped>\n",
       "    .dataframe tbody tr th:only-of-type {\n",
       "        vertical-align: middle;\n",
       "    }\n",
       "\n",
       "    .dataframe tbody tr th {\n",
       "        vertical-align: top;\n",
       "    }\n",
       "\n",
       "    .dataframe thead th {\n",
       "        text-align: right;\n",
       "    }\n",
       "</style>\n",
       "<table border=\"1\" class=\"dataframe\">\n",
       "  <thead>\n",
       "    <tr style=\"text-align: right;\">\n",
       "      <th></th>\n",
       "      <th>BeforeMale</th>\n",
       "      <th>BeforeFemale</th>\n",
       "    </tr>\n",
       "  </thead>\n",
       "  <tbody>\n",
       "    <tr>\n",
       "      <th>Attractive</th>\n",
       "      <td>27.218123</td>\n",
       "      <td>18.111241</td>\n",
       "    </tr>\n",
       "    <tr>\n",
       "      <th>Sincere</th>\n",
       "      <td>16.384079</td>\n",
       "      <td>18.199927</td>\n",
       "    </tr>\n",
       "    <tr>\n",
       "      <th>Intelligent</th>\n",
       "      <td>19.391841</td>\n",
       "      <td>20.953285</td>\n",
       "    </tr>\n",
       "    <tr>\n",
       "      <th>Fun</th>\n",
       "      <td>17.594332</td>\n",
       "      <td>17.293650</td>\n",
       "    </tr>\n",
       "    <tr>\n",
       "      <th>Ambitious</th>\n",
       "      <td>8.855379</td>\n",
       "      <td>12.785292</td>\n",
       "    </tr>\n",
       "    <tr>\n",
       "      <th>Hobbies</th>\n",
       "      <td>10.996968</td>\n",
       "      <td>12.682555</td>\n",
       "    </tr>\n",
       "  </tbody>\n",
       "</table>\n",
       "</div>"
      ],
      "text/plain": [
       "             BeforeMale  BeforeFemale\n",
       "Attractive    27.218123     18.111241\n",
       "Sincere       16.384079     18.199927\n",
       "Intelligent   19.391841     20.953285\n",
       "Fun           17.594332     17.293650\n",
       "Ambitious      8.855379     12.785292\n",
       "Hobbies       10.996968     12.682555"
      ]
     },
     "execution_count": 72,
     "metadata": {},
     "output_type": "execute_result"
    }
   ],
   "source": [
    "result_before"
>>>>>>> c6798b2c790c5451f97206238fb457b1c0bf71d9
   ]
  },
  {
   "cell_type": "code",
<<<<<<< HEAD
   "execution_count": 23,
=======
   "execution_count": 73,
>>>>>>> c6798b2c790c5451f97206238fb457b1c0bf71d9
   "metadata": {},
   "outputs": [
    {
     "data": {
      "text/html": [
       "<div>\n",
       "<style scoped>\n",
       "    .dataframe tbody tr th:only-of-type {\n",
       "        vertical-align: middle;\n",
       "    }\n",
       "\n",
       "    .dataframe tbody tr th {\n",
       "        vertical-align: top;\n",
       "    }\n",
       "\n",
       "    .dataframe thead th {\n",
       "        text-align: right;\n",
       "    }\n",
       "</style>\n",
       "<table border=\"1\" class=\"dataframe\">\n",
       "  <thead>\n",
       "    <tr style=\"text-align: right;\">\n",
       "      <th></th>\n",
       "      <th>BeforeMale</th>\n",
       "      <th>BeforeFemale</th>\n",
       "    </tr>\n",
       "  </thead>\n",
       "  <tbody>\n",
       "    <tr>\n",
       "      <th>Attractive</th>\n",
       "      <td>27.218123</td>\n",
       "      <td>18.111241</td>\n",
       "    </tr>\n",
       "    <tr>\n",
       "      <th>Sincere</th>\n",
       "      <td>16.384079</td>\n",
       "      <td>18.199927</td>\n",
       "    </tr>\n",
       "    <tr>\n",
       "      <th>Intelligent</th>\n",
       "      <td>19.391841</td>\n",
       "      <td>20.953285</td>\n",
       "    </tr>\n",
       "    <tr>\n",
       "      <th>Fun</th>\n",
       "      <td>17.594332</td>\n",
       "      <td>17.293650</td>\n",
       "    </tr>\n",
       "    <tr>\n",
       "      <th>Ambitious</th>\n",
       "      <td>8.855379</td>\n",
       "      <td>12.785292</td>\n",
       "    </tr>\n",
       "    <tr>\n",
       "      <th>Hobbies</th>\n",
       "      <td>10.996968</td>\n",
       "      <td>12.682555</td>\n",
       "    </tr>\n",
       "  </tbody>\n",
       "</table>\n",
       "</div>"
      ],
      "text/plain": [
       "             BeforeMale  BeforeFemale\n",
       "Attractive    27.218123     18.111241\n",
       "Sincere       16.384079     18.199927\n",
       "Intelligent   19.391841     20.953285\n",
       "Fun           17.594332     17.293650\n",
       "Ambitious      8.855379     12.785292\n",
       "Hobbies       10.996968     12.682555"
      ]
     },
<<<<<<< HEAD
     "execution_count": 23,
=======
     "execution_count": 73,
>>>>>>> c6798b2c790c5451f97206238fb457b1c0bf71d9
     "metadata": {},
     "output_type": "execute_result"
    }
   ],
   "source": [
    "result_before"
   ]
  },
  {
   "cell_type": "markdown",
   "metadata": {},
   "source": [
    "## Managerial insights: "
   ]
  },
  {
   "cell_type": "markdown",
   "metadata": {},
   "source": [
    "The chances of getting a suitable date are more if the participants are more attractive! The speed dating event managers can organize 'Grooming sessions' for the intended participants. The 'Grooming sessions' would help the participants to look more attractive there by increasing their chances to get a date. The overall success rate of the speed dating event would augment which in turn would induce more and more people to participate in the speed dating event resulting in more profit to company conducting speed dating events."
   ]
  },
  {
   "cell_type": "markdown",
   "metadata": {},
   "source": [
    "# <span style=\"color:darkblue\">*Insight 2*</span>"
   ]
  },
  {
   "cell_type": "markdown",
   "metadata": {},
   "source": [
    "\n",
    "# <span style=\"color:darkblue\"> *Which races do men and women prefer?*</span>"
   ]
  },
  {
   "cell_type": "markdown",
   "metadata": {},
   "source": [
    "We have poeple from different races like Black/African American,European/Caucasian-American,Latino/Hispanic American,Asian/Pacific Islander/Asian-American,Native American and Other. We will focus on what the participants declare to be the level of importance of race and religion for them. Thus, let's keep in mind that this is what the participants are declaring, which does not necessarily correspond to the truth.\n",
    "\n",
    "**Columns used**:\n",
    "\n",
    "1) 'race': race of a person participating in the speed dating event.\n",
    "\n",
    "2) 'imprace': How important is it to the person (on a scale of 1-10) that a partner he/she dates is of the same racial/ethnic background!!\n",
    "\n",
    "3) 'race_o': race of a partner\n",
    "\n",
    "4) 'iid' : unique subject number, group(wave id gender)\n",
    "\n",
    "5) 'dec' : Whether or not you will like to see the person again (1 = 'Yes' , '0' = 'No')\n",
    "\n",
    "**Scenario 1**: Before the event: The most desired race by women and men using 'race' and 'imprace' columns.\n",
    "\n",
    "*Outcome* : When analysed for men and women separately using 'race' and 'imprace' columns, it is observed that race 2(European/Caucasian-American) is the most important race for them.\n",
    "\n",
    "**Scenario 2**: After the event: The most desired race by women and men using 'race','race_o and 'iid' columns.\n",
    "\n",
    "*Outcome* : The importance of race has been analyzed again after the speed dating event. Here, the people who would like to see their partners again have been considered (Decision = 'Yes').\n",
    "\n",
    "**Conclusion**: From the above outcomes, it can be concluded that the people from different races perfer dating 'Europian/Caucasian-American' people."
   ]
  },
  {
   "cell_type": "markdown",
   "metadata": {},
   "source": [
    "## Scenario 1- Before the event : The most important race is by the men and women of different races"
   ]
  },
  {
   "cell_type": "markdown",
   "metadata": {},
   "source": [
    " Black/African American=1\n",
    "\n",
    "European/Caucasian-American=2\n",
    "\n",
    "Latino/Hispanic American=3\n",
    "\n",
    "Asian/Pacific Islander/Asian-American=4\n",
    "\n",
    "Native American=5\n",
    "\n",
    "Other=6"
   ]
  },
  {
   "cell_type": "markdown",
   "metadata": {},
   "source": [
    "### For Females"
   ]
  },
  {
   "cell_type": "code",
<<<<<<< HEAD
   "execution_count": 25,
=======
   "execution_count": 74,
>>>>>>> c6798b2c790c5451f97206238fb457b1c0bf71d9
   "metadata": {},
   "outputs": [
    {
     "data": {
      "text/plain": [
<<<<<<< HEAD
       "<matplotlib.axes._subplots.AxesSubplot at 0x12411d780>"
      ]
     },
     "execution_count": 25,
=======
       "<matplotlib.axes._subplots.AxesSubplot at 0x1dfb1568c88>"
      ]
     },
     "execution_count": 74,
>>>>>>> c6798b2c790c5451f97206238fb457b1c0bf71d9
     "metadata": {},
     "output_type": "execute_result"
    },
    {
     "data": {
      "image/png": "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\n",
      "text/plain": [
       "<Figure size 432x288 with 1 Axes>"
      ]
     },
     "metadata": {
      "needs_background": "light"
     },
     "output_type": "display_data"
    }
   ],
   "source": [
    "dfFemale=dfclean[dfclean.gender==0]\n",
    "FRace=dfFemale.groupby('iid').mean()[['race','imprace']]\n",
    "FRace\n",
    "\n",
    "FemaleImpRace=FRace.groupby('race')['imprace'].mean()\n",
    "\n",
    "FemaleImpRace.plot.bar(style=['o','rx'])"
   ]
  },
  {
   "cell_type": "markdown",
   "metadata": {},
   "source": [
    "### For males"
   ]
  },
  {
   "cell_type": "code",
<<<<<<< HEAD
   "execution_count": 26,
=======
   "execution_count": 75,
>>>>>>> c6798b2c790c5451f97206238fb457b1c0bf71d9
   "metadata": {},
   "outputs": [
    {
     "data": {
      "text/plain": [
<<<<<<< HEAD
       "<matplotlib.axes._subplots.AxesSubplot at 0x12450eeb8>"
      ]
     },
     "execution_count": 26,
=======
       "<matplotlib.axes._subplots.AxesSubplot at 0x1dfb10490b8>"
      ]
     },
     "execution_count": 75,
>>>>>>> c6798b2c790c5451f97206238fb457b1c0bf71d9
     "metadata": {},
     "output_type": "execute_result"
    },
    {
     "data": {
      "image/png": "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\n",
      "text/plain": [
       "<Figure size 432x288 with 1 Axes>"
      ]
     },
     "metadata": {
      "needs_background": "light"
     },
     "output_type": "display_data"
    }
   ],
   "source": [
    "dfmale=dfclean[dfclean.gender==1]\n",
    "MRace=dfmale.groupby('iid').mean()[['race','imprace']]\n",
    "MRace\n",
    "\n",
    "MaleImpRace=MRace.groupby('race')['imprace'].mean()\n",
    "\n",
    "MaleImpRace.plot.bar(style=['o','rx'])"
   ]
  },
  {
   "cell_type": "markdown",
   "metadata": {},
   "source": [
    "## Scenario 2- After the event : The most important race is by the men and women of different races"
   ]
  },
  {
   "cell_type": "markdown",
   "metadata": {},
   "source": [
    "### Race wise preferences by females after the event"
   ]
  },
  {
   "cell_type": "code",
<<<<<<< HEAD
   "execution_count": 27,
=======
   "execution_count": 76,
>>>>>>> c6798b2c790c5451f97206238fb457b1c0bf71d9
   "metadata": {},
   "outputs": [
    {
     "data": {
      "text/plain": [
       "pandas.core.frame.DataFrame"
      ]
     },
<<<<<<< HEAD
     "execution_count": 27,
=======
     "execution_count": 76,
>>>>>>> c6798b2c790c5451f97206238fb457b1c0bf71d9
     "metadata": {},
     "output_type": "execute_result"
    }
   ],
   "source": [
    "Fpref=dfFemale[dfFemale.dec==1][['iid','race','race_o']]\n",
    "type(Fpref)"
   ]
  },
  {
   "cell_type": "code",
<<<<<<< HEAD
   "execution_count": 28,
=======
   "execution_count": 77,
>>>>>>> c6798b2c790c5451f97206238fb457b1c0bf71d9
   "metadata": {},
   "outputs": [
    {
     "data": {
      "text/html": [
       "<div>\n",
       "<style scoped>\n",
       "    .dataframe tbody tr th:only-of-type {\n",
       "        vertical-align: middle;\n",
       "    }\n",
       "\n",
       "    .dataframe tbody tr th {\n",
       "        vertical-align: top;\n",
       "    }\n",
       "\n",
       "    .dataframe thead th {\n",
       "        text-align: right;\n",
       "    }\n",
       "</style>\n",
       "<table border=\"1\" class=\"dataframe\">\n",
       "  <thead>\n",
       "    <tr style=\"text-align: right;\">\n",
       "      <th></th>\n",
       "      <th>race</th>\n",
       "      <th>race_o</th>\n",
       "      <th>iid</th>\n",
       "    </tr>\n",
       "  </thead>\n",
       "  <tbody>\n",
       "    <tr>\n",
       "      <th>0</th>\n",
       "      <td>1.0</td>\n",
       "      <td>1.0</td>\n",
       "      <td>8</td>\n",
       "    </tr>\n",
       "    <tr>\n",
       "      <th>1</th>\n",
       "      <td>1.0</td>\n",
       "      <td>2.0</td>\n",
       "      <td>68</td>\n",
       "    </tr>\n",
       "    <tr>\n",
       "      <th>2</th>\n",
       "      <td>1.0</td>\n",
       "      <td>3.0</td>\n",
       "      <td>10</td>\n",
       "    </tr>\n",
       "    <tr>\n",
       "      <th>3</th>\n",
       "      <td>1.0</td>\n",
       "      <td>4.0</td>\n",
       "      <td>20</td>\n",
       "    </tr>\n",
       "    <tr>\n",
       "      <th>4</th>\n",
       "      <td>1.0</td>\n",
       "      <td>6.0</td>\n",
       "      <td>9</td>\n",
       "    </tr>\n",
       "    <tr>\n",
       "      <th>5</th>\n",
       "      <td>2.0</td>\n",
       "      <td>1.0</td>\n",
       "      <td>26</td>\n",
       "    </tr>\n",
       "    <tr>\n",
       "      <th>6</th>\n",
       "      <td>2.0</td>\n",
       "      <td>2.0</td>\n",
       "      <td>524</td>\n",
       "    </tr>\n",
       "    <tr>\n",
       "      <th>7</th>\n",
       "      <td>2.0</td>\n",
       "      <td>3.0</td>\n",
       "      <td>37</td>\n",
       "    </tr>\n",
       "    <tr>\n",
       "      <th>8</th>\n",
       "      <td>2.0</td>\n",
       "      <td>4.0</td>\n",
       "      <td>86</td>\n",
       "    </tr>\n",
       "    <tr>\n",
       "      <th>9</th>\n",
       "      <td>2.0</td>\n",
       "      <td>6.0</td>\n",
       "      <td>39</td>\n",
       "    </tr>\n",
       "    <tr>\n",
       "      <th>10</th>\n",
       "      <td>3.0</td>\n",
       "      <td>1.0</td>\n",
       "      <td>8</td>\n",
       "    </tr>\n",
       "    <tr>\n",
       "      <th>11</th>\n",
       "      <td>3.0</td>\n",
       "      <td>2.0</td>\n",
       "      <td>91</td>\n",
       "    </tr>\n",
       "    <tr>\n",
       "      <th>12</th>\n",
       "      <td>3.0</td>\n",
       "      <td>3.0</td>\n",
       "      <td>13</td>\n",
       "    </tr>\n",
       "    <tr>\n",
       "      <th>13</th>\n",
       "      <td>3.0</td>\n",
       "      <td>4.0</td>\n",
       "      <td>25</td>\n",
       "    </tr>\n",
       "    <tr>\n",
       "      <th>14</th>\n",
       "      <td>3.0</td>\n",
       "      <td>6.0</td>\n",
       "      <td>13</td>\n",
       "    </tr>\n",
       "    <tr>\n",
       "      <th>15</th>\n",
       "      <td>4.0</td>\n",
       "      <td>1.0</td>\n",
       "      <td>19</td>\n",
       "    </tr>\n",
       "    <tr>\n",
       "      <th>16</th>\n",
       "      <td>4.0</td>\n",
       "      <td>2.0</td>\n",
       "      <td>270</td>\n",
       "    </tr>\n",
       "    <tr>\n",
       "      <th>17</th>\n",
       "      <td>4.0</td>\n",
       "      <td>3.0</td>\n",
       "      <td>23</td>\n",
       "    </tr>\n",
       "    <tr>\n",
       "      <th>18</th>\n",
       "      <td>4.0</td>\n",
       "      <td>4.0</td>\n",
       "      <td>99</td>\n",
       "    </tr>\n",
       "    <tr>\n",
       "      <th>19</th>\n",
       "      <td>4.0</td>\n",
       "      <td>6.0</td>\n",
       "      <td>32</td>\n",
       "    </tr>\n",
       "    <tr>\n",
       "      <th>20</th>\n",
       "      <td>6.0</td>\n",
       "      <td>1.0</td>\n",
       "      <td>5</td>\n",
       "    </tr>\n",
       "    <tr>\n",
       "      <th>21</th>\n",
       "      <td>6.0</td>\n",
       "      <td>2.0</td>\n",
       "      <td>69</td>\n",
       "    </tr>\n",
       "    <tr>\n",
       "      <th>22</th>\n",
       "      <td>6.0</td>\n",
       "      <td>3.0</td>\n",
       "      <td>11</td>\n",
       "    </tr>\n",
       "    <tr>\n",
       "      <th>23</th>\n",
       "      <td>6.0</td>\n",
       "      <td>4.0</td>\n",
       "      <td>15</td>\n",
       "    </tr>\n",
       "    <tr>\n",
       "      <th>24</th>\n",
       "      <td>6.0</td>\n",
       "      <td>6.0</td>\n",
       "      <td>9</td>\n",
       "    </tr>\n",
       "  </tbody>\n",
       "</table>\n",
       "</div>"
      ],
      "text/plain": [
       "    race  race_o  iid\n",
       "0    1.0     1.0    8\n",
       "1    1.0     2.0   68\n",
       "2    1.0     3.0   10\n",
       "3    1.0     4.0   20\n",
       "4    1.0     6.0    9\n",
       "5    2.0     1.0   26\n",
       "6    2.0     2.0  524\n",
       "7    2.0     3.0   37\n",
       "8    2.0     4.0   86\n",
       "9    2.0     6.0   39\n",
       "10   3.0     1.0    8\n",
       "11   3.0     2.0   91\n",
       "12   3.0     3.0   13\n",
       "13   3.0     4.0   25\n",
       "14   3.0     6.0   13\n",
       "15   4.0     1.0   19\n",
       "16   4.0     2.0  270\n",
       "17   4.0     3.0   23\n",
       "18   4.0     4.0   99\n",
       "19   4.0     6.0   32\n",
       "20   6.0     1.0    5\n",
       "21   6.0     2.0   69\n",
       "22   6.0     3.0   11\n",
       "23   6.0     4.0   15\n",
       "24   6.0     6.0    9"
      ]
     },
<<<<<<< HEAD
     "execution_count": 28,
=======
     "execution_count": 77,
>>>>>>> c6798b2c790c5451f97206238fb457b1c0bf71d9
     "metadata": {},
     "output_type": "execute_result"
    }
   ],
   "source": [
    "Fprefrace = Fpref.groupby(['race','race_o']).count()\n",
    "type(Fprefrace)\n",
    "Fprefrace.reset_index(inplace = True)\n",
    "Fprefrace"
   ]
  },
  {
   "cell_type": "code",
<<<<<<< HEAD
   "execution_count": 61,
=======
   "execution_count": 78,
>>>>>>> c6798b2c790c5451f97206238fb457b1c0bf71d9
   "metadata": {
    "scrolled": true
   },
   "outputs": [
    {
     "data": {
      "text/plain": [
<<<<<<< HEAD
       "Text(0.5, 1, 'Other')"
      ]
     },
     "execution_count": 61,
=======
       "<seaborn.axisgrid.FacetGrid at 0x1dfb1568898>"
      ]
     },
     "execution_count": 78,
>>>>>>> c6798b2c790c5451f97206238fb457b1c0bf71d9
     "metadata": {},
     "output_type": "execute_result"
    },
    {
     "data": {
      "image/png": "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\n",
      "text/plain": [
       "<Figure size 1152x288 with 5 Axes>"
      ]
     },
     "metadata": {
      "needs_background": "light"
     },
     "output_type": "display_data"
    }
   ],
   "source": [
    "Fplot = sns.FacetGrid(Fprefrace, col=\"race\", height=4, aspect=0.8)\n",
    "Fplot.map(sns.barplot, \"race_o\", \"iid\")\n",
    "axes = Fplot.axes.flatten()\n",
    "axes[0].set_title(\"Black\")\n",
    "axes[1].set_title(\"European/Caucasian-American\")\n",
    "axes[2].set_title(\"Latino/Hispanic\")\n",
    "axes[3].set_title(\"Asian\")\n",
    "axes[4].set_title(\"Other\")\n"
   ]
  },
  {
   "cell_type": "markdown",
   "metadata": {},
   "source": [
    "### Race wise preferences by males after the event"
   ]
  },
  {
   "cell_type": "code",
<<<<<<< HEAD
   "execution_count": 30,
=======
   "execution_count": 79,
>>>>>>> c6798b2c790c5451f97206238fb457b1c0bf71d9
   "metadata": {},
   "outputs": [
    {
     "data": {
      "text/plain": [
       "pandas.core.frame.DataFrame"
      ]
     },
<<<<<<< HEAD
     "execution_count": 30,
=======
     "execution_count": 79,
>>>>>>> c6798b2c790c5451f97206238fb457b1c0bf71d9
     "metadata": {},
     "output_type": "execute_result"
    }
   ],
   "source": [
    "Mpref=dfmale[dfmale.dec==0][['iid','race','race_o']]\n",
    "type(Mpref)"
   ]
  },
  {
   "cell_type": "code",
<<<<<<< HEAD
   "execution_count": 31,
=======
   "execution_count": 80,
>>>>>>> c6798b2c790c5451f97206238fb457b1c0bf71d9
   "metadata": {},
   "outputs": [
    {
     "data": {
      "text/html": [
       "<div>\n",
       "<style scoped>\n",
       "    .dataframe tbody tr th:only-of-type {\n",
       "        vertical-align: middle;\n",
       "    }\n",
       "\n",
       "    .dataframe tbody tr th {\n",
       "        vertical-align: top;\n",
       "    }\n",
       "\n",
       "    .dataframe thead th {\n",
       "        text-align: right;\n",
       "    }\n",
       "</style>\n",
       "<table border=\"1\" class=\"dataframe\">\n",
       "  <thead>\n",
       "    <tr style=\"text-align: right;\">\n",
       "      <th></th>\n",
       "      <th>race</th>\n",
       "      <th>race_o</th>\n",
       "      <th>iid</th>\n",
       "    </tr>\n",
       "  </thead>\n",
       "  <tbody>\n",
       "    <tr>\n",
       "      <th>0</th>\n",
       "      <td>1.0</td>\n",
       "      <td>1.0</td>\n",
       "      <td>3</td>\n",
       "    </tr>\n",
       "    <tr>\n",
       "      <th>1</th>\n",
       "      <td>1.0</td>\n",
       "      <td>2.0</td>\n",
       "      <td>39</td>\n",
       "    </tr>\n",
       "    <tr>\n",
       "      <th>2</th>\n",
       "      <td>1.0</td>\n",
       "      <td>3.0</td>\n",
       "      <td>7</td>\n",
       "    </tr>\n",
       "    <tr>\n",
       "      <th>3</th>\n",
       "      <td>1.0</td>\n",
       "      <td>4.0</td>\n",
       "      <td>26</td>\n",
       "    </tr>\n",
       "    <tr>\n",
       "      <th>4</th>\n",
       "      <td>1.0</td>\n",
       "      <td>6.0</td>\n",
       "      <td>6</td>\n",
       "    </tr>\n",
       "    <tr>\n",
       "      <th>5</th>\n",
       "      <td>2.0</td>\n",
       "      <td>1.0</td>\n",
       "      <td>83</td>\n",
       "    </tr>\n",
       "    <tr>\n",
       "      <th>6</th>\n",
       "      <td>2.0</td>\n",
       "      <td>2.0</td>\n",
       "      <td>715</td>\n",
       "    </tr>\n",
       "    <tr>\n",
       "      <th>7</th>\n",
       "      <td>2.0</td>\n",
       "      <td>3.0</td>\n",
       "      <td>111</td>\n",
       "    </tr>\n",
       "    <tr>\n",
       "      <th>8</th>\n",
       "      <td>2.0</td>\n",
       "      <td>4.0</td>\n",
       "      <td>385</td>\n",
       "    </tr>\n",
       "    <tr>\n",
       "      <th>9</th>\n",
       "      <td>2.0</td>\n",
       "      <td>6.0</td>\n",
       "      <td>95</td>\n",
       "    </tr>\n",
       "    <tr>\n",
       "      <th>10</th>\n",
       "      <td>3.0</td>\n",
       "      <td>1.0</td>\n",
       "      <td>10</td>\n",
       "    </tr>\n",
       "    <tr>\n",
       "      <th>11</th>\n",
       "      <td>3.0</td>\n",
       "      <td>2.0</td>\n",
       "      <td>68</td>\n",
       "    </tr>\n",
       "    <tr>\n",
       "      <th>12</th>\n",
       "      <td>3.0</td>\n",
       "      <td>3.0</td>\n",
       "      <td>14</td>\n",
       "    </tr>\n",
       "    <tr>\n",
       "      <th>13</th>\n",
       "      <td>3.0</td>\n",
       "      <td>4.0</td>\n",
       "      <td>40</td>\n",
       "    </tr>\n",
       "    <tr>\n",
       "      <th>14</th>\n",
       "      <td>3.0</td>\n",
       "      <td>6.0</td>\n",
       "      <td>10</td>\n",
       "    </tr>\n",
       "    <tr>\n",
       "      <th>15</th>\n",
       "      <td>4.0</td>\n",
       "      <td>1.0</td>\n",
       "      <td>32</td>\n",
       "    </tr>\n",
       "    <tr>\n",
       "      <th>16</th>\n",
       "      <td>4.0</td>\n",
       "      <td>2.0</td>\n",
       "      <td>220</td>\n",
       "    </tr>\n",
       "    <tr>\n",
       "      <th>17</th>\n",
       "      <td>4.0</td>\n",
       "      <td>3.0</td>\n",
       "      <td>53</td>\n",
       "    </tr>\n",
       "    <tr>\n",
       "      <th>18</th>\n",
       "      <td>4.0</td>\n",
       "      <td>4.0</td>\n",
       "      <td>129</td>\n",
       "    </tr>\n",
       "    <tr>\n",
       "      <th>19</th>\n",
       "      <td>4.0</td>\n",
       "      <td>6.0</td>\n",
       "      <td>32</td>\n",
       "    </tr>\n",
       "    <tr>\n",
       "      <th>20</th>\n",
       "      <td>6.0</td>\n",
       "      <td>1.0</td>\n",
       "      <td>6</td>\n",
       "    </tr>\n",
       "    <tr>\n",
       "      <th>21</th>\n",
       "      <td>6.0</td>\n",
       "      <td>2.0</td>\n",
       "      <td>60</td>\n",
       "    </tr>\n",
       "    <tr>\n",
       "      <th>22</th>\n",
       "      <td>6.0</td>\n",
       "      <td>3.0</td>\n",
       "      <td>8</td>\n",
       "    </tr>\n",
       "    <tr>\n",
       "      <th>23</th>\n",
       "      <td>6.0</td>\n",
       "      <td>4.0</td>\n",
       "      <td>39</td>\n",
       "    </tr>\n",
       "    <tr>\n",
       "      <th>24</th>\n",
       "      <td>6.0</td>\n",
       "      <td>6.0</td>\n",
       "      <td>14</td>\n",
       "    </tr>\n",
       "  </tbody>\n",
       "</table>\n",
       "</div>"
      ],
      "text/plain": [
       "    race  race_o  iid\n",
       "0    1.0     1.0    3\n",
       "1    1.0     2.0   39\n",
       "2    1.0     3.0    7\n",
       "3    1.0     4.0   26\n",
       "4    1.0     6.0    6\n",
       "5    2.0     1.0   83\n",
       "6    2.0     2.0  715\n",
       "7    2.0     3.0  111\n",
       "8    2.0     4.0  385\n",
       "9    2.0     6.0   95\n",
       "10   3.0     1.0   10\n",
       "11   3.0     2.0   68\n",
       "12   3.0     3.0   14\n",
       "13   3.0     4.0   40\n",
       "14   3.0     6.0   10\n",
       "15   4.0     1.0   32\n",
       "16   4.0     2.0  220\n",
       "17   4.0     3.0   53\n",
       "18   4.0     4.0  129\n",
       "19   4.0     6.0   32\n",
       "20   6.0     1.0    6\n",
       "21   6.0     2.0   60\n",
       "22   6.0     3.0    8\n",
       "23   6.0     4.0   39\n",
       "24   6.0     6.0   14"
      ]
     },
<<<<<<< HEAD
     "execution_count": 31,
=======
     "execution_count": 80,
>>>>>>> c6798b2c790c5451f97206238fb457b1c0bf71d9
     "metadata": {},
     "output_type": "execute_result"
    }
   ],
   "source": [
    "Mprefrace = Mpref.groupby(['race','race_o']).count()\n",
    "\n",
    "type(Mprefrace)\n",
    "Mprefrace.reset_index(inplace = True)\n",
    "\n",
    "Mprefrace"
   ]
  },
  {
   "cell_type": "markdown",
   "metadata": {},
   "source": [
    "Black/African American=1 \n",
    "European/Caucasian-American=2 \n",
    "Latino/Hispanic American=3 \n",
    "Asian/Pacific Islander/Asian-American=4\n",
    "Other=6"
   ]
  },
  {
   "cell_type": "code",
<<<<<<< HEAD
   "execution_count": 62,
=======
   "execution_count": 81,
>>>>>>> c6798b2c790c5451f97206238fb457b1c0bf71d9
   "metadata": {},
   "outputs": [
    {
     "data": {
      "text/plain": [
<<<<<<< HEAD
       "Text(0.5, 1, 'Other')"
      ]
     },
     "execution_count": 62,
=======
       "<seaborn.axisgrid.FacetGrid at 0x1dfb018fcf8>"
      ]
     },
     "execution_count": 81,
>>>>>>> c6798b2c790c5451f97206238fb457b1c0bf71d9
     "metadata": {},
     "output_type": "execute_result"
    },
    {
     "data": {
      "image/png": "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\n",
      "text/plain": [
       "<Figure size 1152x288 with 5 Axes>"
      ]
     },
     "metadata": {
      "needs_background": "light"
     },
     "output_type": "display_data"
    }
   ],
   "source": [
    "Mplot = sns.FacetGrid(Mprefrace, col=\"race\", height=4, aspect=.8)\n",
    "Mplot.map(sns.barplot, \"race_o\", \"iid\")\n",
    "axes = Mplot.axes.flatten()\n",
    "axes[0].set_title(\"Black\")\n",
    "axes[1].set_title(\"European/Caucasian-American\")\n",
    "axes[2].set_title(\"Latino/Hispanic\")\n",
    "axes[3].set_title(\"Asian\")\n",
    "axes[4].set_title(\"Other\")\n",
    "\n"
   ]
  },
  {
   "cell_type": "markdown",
   "metadata": {},
   "source": [
<<<<<<< HEAD
    "### The most preferred field from the people of race 'European/Caucasian-American'"
=======
    "## Managerial insights: "
   ]
  },
  {
   "cell_type": "markdown",
   "metadata": {},
   "source": [
    "The probability of matches in all waves can be increased by distributing equal number of people from the most preferred race. This would make the speed dating events more successful and profitable."
   ]
  },
  {
   "cell_type": "markdown",
   "metadata": {},
   "source": [
    "We are trying to implement a decision tree which will predict the decision of partner based on attributes like attractiveness, \n",
    "Sincerety, intellegence, fun, ambitious, shared interests.\n",
    "\n",
    "\n",
    "**Columns used**:\n",
    "\n",
    "1) attr_o: rating by partner the night of the event on the attribute of attractivness\n",
    "\n",
    "2) sinc_o: rating by partner the night of the event on the attribute of sincerity\n",
    "\n",
    "3) intel_o: rating by partner the night of the event on the attribute of intelligence\n",
    "\n",
    "4) fun_o: rating by partner the night of the event on the attribute of being fun\n",
    "\n",
    "5) amb_o: rating by partner the night of the event on the attribute of ambition\n",
    "\n",
    "6) shar_o: rating by partner the night of the event on the attribute of shared interests\n",
    "\n",
    "**Condition 1**: If your partner rates you greater than 6.25 out of 10 then the decision of the partner would be predicted on the shared interest.\n",
    "\n",
    "**Condition 2**: If your partner rates you greater than 4.25 out of 10 based on shared interest then there is higher chance for you to get the second date.\n",
    "\n",
    "\n",
    "**Conclusion**: You will surely get a second date if above two coditions are satisfied."
   ]
  },
  {
   "cell_type": "code",
   "execution_count": 82,
   "metadata": {},
   "outputs": [],
   "source": [
    "import sklearn as sk\n",
    "import sklearn.tree as tree\n",
    "from IPython.display import Image  \n",
    "import pydotplus\n",
    "\n",
    "import warnings\n",
    "warnings.filterwarnings('ignore')"
>>>>>>> c6798b2c790c5451f97206238fb457b1c0bf71d9
   ]
  },
  {
   "cell_type": "code",
   "execution_count": 33,
   "metadata": {},
   "outputs": [
    {
     "data": {
      "text/plain": [
       "DecisionTreeClassifier(class_weight=None, criterion='gini', max_depth=2,\n",
       "            max_features=None, max_leaf_nodes=None,\n",
       "            min_impurity_decrease=0.0, min_impurity_split=None,\n",
       "            min_samples_leaf=1, min_samples_split=2,\n",
       "            min_weight_fraction_leaf=0.0, presort=False, random_state=None,\n",
       "            splitter='best')"
      ]
     },
     "execution_count": 83,
     "metadata": {},
     "output_type": "execute_result"
    }
   ],
   "source": [
    "X =dfclean[['attr_o', 'sinc_o', 'intel_o', 'fun_o','amb_o', 'shar_o']]\n",
    "Y= dfclean['dec_o']\n",
    "\n",
    "dt = tree.DecisionTreeClassifier(max_depth = 2)\n",
    "dt.fit(X,Y)"
   ]
  },
  {
   "cell_type": "code",
   "execution_count": 84,
   "metadata": {},
   "outputs": [
    {
     "data": {
      "image/png": "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\n",
      "text/plain": [
       "<IPython.core.display.Image object>"
      ]
     },
     "execution_count": 84,
     "metadata": {},
     "output_type": "execute_result"
    }
   ],
   "source": [
    "dt_feature_names = list(X.columns)\n",
    "dt_target_names = np.array(Y.unique(),dtype=np.str) \n",
    "tree.export_graphviz(dt, out_file='tree.dot', \n",
    "    feature_names=dt_feature_names, class_names=dt_target_names,\n",
    "    filled=True)  \n",
    "graph = pydotplus.graph_from_dot_file('tree.dot')\n",
    "Image(graph.create_png())"
   ]
  },
  {
   "cell_type": "code",
   "execution_count": 85,
   "metadata": {},
   "outputs": [
    {
     "name": "stdout",
     "output_type": "stream",
     "text": [
<<<<<<< HEAD
      "/anaconda3/lib/python3.6/site-packages/seaborn/categorical.py:3666: UserWarning: The `factorplot` function has been renamed to `catplot`. The original name will be removed in a future release. Please update your code. Note that the default `kind` in `factorplot` (`'point'`) has changed `'strip'` in `catplot`.\n",
      "  warnings.warn(msg)\n"
=======
      "Populating the interactive namespace from numpy and matplotlib\n"
>>>>>>> c6798b2c790c5451f97206238fb457b1c0bf71d9
     ]
    }
   ],
   "source": [
    "import seaborn as sns\n",
    "%pylab inline\n",
    "import warnings\n",
    "warnings.filterwarnings('ignore')"
   ]
  },
  {
   "cell_type": "code",
   "execution_count": 86,
   "metadata": {
    "scrolled": true
   },
   "outputs": [
    {
     "data": {
      "text/plain": [
<<<<<<< HEAD
       "<seaborn.axisgrid.FacetGrid at 0x12539f588>"
      ]
     },
     "execution_count": 33,
=======
       "<seaborn.axisgrid.FacetGrid at 0x1dfb2b6f6d8>"
      ]
     },
     "execution_count": 86,
>>>>>>> c6798b2c790c5451f97206238fb457b1c0bf71d9
     "metadata": {},
     "output_type": "execute_result"
    },
    {
     "data": {
<<<<<<< HEAD
      "image/png": "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\n",
=======
      "image/png": "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\n",
>>>>>>> c6798b2c790c5451f97206238fb457b1c0bf71d9
      "text/plain": [
       "<Figure size 360x360 with 1 Axes>"
      ]
     },
     "metadata": {
      "needs_background": "light"
     },
     "output_type": "display_data"
    }
   ],
   "source": [
    "sns.catplot(data=df,x='attr_o',y='dec_o',kind='bar')"
   ]
  },
  {
   "cell_type": "markdown",
   "metadata": {},
   "source": [
    "## Managerial insights: "
   ]
  },
  {
   "cell_type": "markdown",
   "metadata": {},
   "source": [
    "Decision tree includes only 2 attributes which are attr_o and shar_o. Which means decision of the opposite partner is based mainly on how attractive you are to your partner and what are your shared interests. Match making apps like tinder can consider this analysis to improve their match making algorithms furthering their revenue."
   ]
  },
  {
   "cell_type": "code",
   "execution_count": 34,
   "metadata": {},
   "outputs": [],
<<<<<<< HEAD
   "source": [
    "# based on above insights, the speed dating conducting event can conduct separate speed dating events for American/caucasian \n",
    "# people, where the concentration of that race "
   ]
  },
  {
   "cell_type": "markdown",
   "metadata": {},
   "source": [
    "# <span style=\"color:darkblue\">*Insight 3*</span>"
   ]
  },
  {
   "cell_type": "markdown",
   "metadata": {},
   "source": [
    "# <span style=\"color:darkblue\"> *Secret to getting a Second Date ?*</span>"
   ]
  },
  {
   "cell_type": "code",
   "execution_count": 46,
   "metadata": {},
   "outputs": [],
   "source": [
    "import sklearn as sk\n",
    "import sklearn.tree as tree\n",
    "from IPython.display import Image  \n",
    "import pydotplus\n",
    "\n",
    "import warnings\n",
    "warnings.filterwarnings('ignore')"
   ]
  },
  {
   "cell_type": "code",
   "execution_count": 36,
   "metadata": {},
   "outputs": [
    {
     "data": {
      "text/plain": [
       "DecisionTreeClassifier(class_weight=None, criterion='gini', max_depth=2,\n",
       "                       max_features=None, max_leaf_nodes=None,\n",
       "                       min_impurity_decrease=0.0, min_impurity_split=None,\n",
       "                       min_samples_leaf=1, min_samples_split=2,\n",
       "                       min_weight_fraction_leaf=0.0, presort=False,\n",
       "                       random_state=None, splitter='best')"
      ]
     },
     "execution_count": 36,
     "metadata": {},
     "output_type": "execute_result"
    }
   ],
   "source": [
    "X =dfclean[['attr_o', 'sinc_o', 'intel_o', 'fun_o','amb_o', 'shar_o']]\n",
    "Y= dfclean['dec_o']\n",
    "\n",
    "dt = tree.DecisionTreeClassifier(max_depth = 2)\n",
    "dt.fit(X,Y)"
   ]
  },
  {
   "cell_type": "code",
   "execution_count": 37,
   "metadata": {},
   "outputs": [
    {
     "data": {
      "image/png": "iVBORw0KGgoAAAANSUhEUgAAAu0AAAGjCAYAAACYBCvmAAAABmJLR0QA/wD/AP+gvaeTAAAgAElEQVR4nOzdd1hT59sH8G8IQ1DcOMC9EAeKC1GciFYtpQ7UiqOOqrVq3XW17lqrdWtBrThwFLciblRARZEhMkQQBJEhQ2RKgJz3D37Na2QjEITv57py2Tzr3Cek5M7Dc54jEgRBABERERERlVtKig6AiIiIiIjyx6SdiIiIiKicY9JORERERFTOKSs6ACKqPOzs7BQdAlGJGTNmjKJDIKJKRMQLUYmorIhEIkWHQFRi+PFJRGWJM+1EVKZsd23E6GEmig6DqNjOONzGhHkrFR0GEVUyXNNORERERFTOMWknIiIiIirnmLQTEREREZVzTNqJiIiIiMo5Ju1EREREROUck3YiIiIionKOWz4SEVGxePsHwsXNC6oqyhg6oDd0GtTLs21SSir+vXQdr8Ij0LJpY4w1GwwN9So52l29cx+JySmy5+GR0fhxokWubYmIKhMm7UREVCRx7xKw8s99iHwbgz3rf0Fj7Qb5tn8RHApTy9nQrKqBsDdRkGRkYIvVEdz5dz/qa9WRtQt4GYqRMxbL3bRozNemTNiJiMDlMUREhXL8vEOhyiq60PBI6A8eh3SJBBf/2V5gwg4ASzbugL3NTvjcOo3g+5cxZcw3CA57g9+2Wcm123noBK7b7kWQ80XZY//mX0vrVIiIvihM2omICnD34ROs2rKvwLLyKCtLitNXbpXIWJKMDFjOW4naNatjz4ZfCtXHw+c5xn3zFTq2bQUAqFu7JlbPnwElJSW4enjL2kXHxOHZ8yC0bNoIjRrWlz2qqKmWSOxERF86Lo8hIgIQGBKGx14+ePY8CEZd9WE+uD8A4J6rOyxmLYVIJMLBk+fRsL4Wqmmo5ygbPtAY794nwc7+BmZajsL1ew/x7HkQ5k8fD2WxuNBxJKWk4trdBwh4+QqNGtbDIGNDNGpYv8jnk5mVhVMXr2Hz30fwNjYeFsMHFXmMT63+ywpPvP1gtWkFqqqrF6pPs0YNYdBeV66sQb266NKhLcQfvS77jp6G21NftDT+Bs0aaWPl3GmYMHIYRCLRZ8dNRFQRMGknokpvt80pXL7lhOu2exH2JgqDJ8xGdEw8ZliORM0amujQthUCQ8LQpkVT1KheDQBylNmeu4J5q7dAIsmAVCqFjd0lePsHYkg/I9ksc0G8/QMxdfEarJr3A2ZNGA3b8w7oPGQcdq5dAssRwwo1RkZmJmzPOeDPv48gJi4esyaOxoLploh8G4uQsDf59hWJRDDqqp9n/b+Xb0BZLIZPwEsMmfATnjz1Q+cOuti6akGOxPw/tWvWyLX8dWQ0ZlqOkj3vY2iAjMxMuHo+g5uXL374ZT1OXrqGy4d2QizmH4WJiJi0E1GlZ2V7BqZ9ekIkEqFpo4bopNcGDndcMMNyJDrptYFW7Vp4HRGNvoZdZH0+Leuk1wa37z/GyYvXoV1fC48vH0PAy1DotmxaqBgkGRmYOH8VRg8bhG+H9AcAzJ82Hl6+AfhxxSZ06agHvVbN8+yfLsnAkdOXscX6KN4lvMePkywwf9p41KlVEwCwy+Yklm7cmW8MymIxkgPu51oXER2DiOgYdNJrgxVzpqF2zeoIDAmDqeVsmH43C9437aBdX6tQ5+ri5gllsRjzpn4nKxtkbIhBxoYAsr+8TJy/Co733bDtgC2WzJpUqHGJiCoyTl8QUaV388TfWLNwJgDAPygE4ZHRCHr1Wq5Nbss0Pi1rWC87aTUb1BcACp2wA8ANJ1cEvAxFj84d5MpN+xhCkpGBw3aXcu33IV2CvUfsoDdgJFb+uQfjzb/CC6cLWL94tixhB4DZk8bgnc+9fB8xTx3zjM/TNyD73Ez7onbN6gCA1s2b4M8VPyM5NQ3WtmcLdZ5ZWVKs3b4fZ/dvRTWN3JfY6Ou1xsMLR6DToB7s7G8UalwiooqOSTsRVXra9bXwxNsPC9f9hedBr9CiiQ6kUqlcm9yWVn9apqQk+t+/Rf/V6h8YAgA5Etne3TsDAJ6/fJVrP6dHHli/8wAiomMwdaw5Fs+alOuSFGWxGOpV1Ap85KWGZlUA2ReSfqynQUcAwIuQ0EKd57I/duHnaePRuV2bfNtpqFeB2aC+Ob48ERFVVlweQ0SV3trt1nB67Al7m51Qr6KGC9fv5GhTmJn2z/Hf7LWr5zNZog4ATbQbQEVZGbVqVM+13+C+PRFw7zz2HT2N3TYnceycA+ZPH48fJ1pAs6qGrN0Tbz84PnDLNwaxkhIWzZiYa13rZk0AZO8G87HG2vWhoqyMah8dKy//nLqAzu3a4GuTPgW2BbL/UtG6eZNCtSUiquiYtBNRpfYqPAKb9tpg74ZlspnmnLPsImRlFVz2Obp3ag8AcHHzkkucfV8EIyMzE4YGHfLqihqa1bD8pymYO2UcrI6dwY5/jmPHwROYP308Zk8ag2oa6ggMeY3zV/Ne/gIAysriPJP2+lp1YNqnJx57+siVB716jYzMTPTq2infsS/euAtBEHJcUOv82BN9ehjk0eeebKkREVFlx6SdiCq15JQ0ANk7o1h8bYpn/oFwdvOCRCJBcmoaBEFAA606iI6JQ8jrNxAEoL5W7VzLUlI/AADiE97nuWtKXvT1WmPCyOG4eP0OXkdEyW5a9MD9KVo1a4xp474tcIxqGupYPHMiZk+ywIGT57HtgC12HDyBhT9MwOKZE/Gd+ZAivjryNq+Yh76jpsHV4xl6dsleFnPP1R1tWzbDxFHDZe1WbN6D+IREWG1aAQBwvO+GrdbHMP7br/D3sdMAste2+weFoH2blmigVQfWx89iwsjhsmUzfoHBSElNw7KfpnxWzEREFYVI+Ph+0UREpUgkEsF210aMHmai6FDkzFy+EcfPOaBpo4ZYMN0SdWrVxOQFv6FXt044sft3+AQEYdikuahWVQO/zZ+B2ZMs4PTIQ65MQ10N63Zkry0fPcwEP0+zRPdO7YoUx4d0CZZt2gWnRx5Y+IMlMrOycPHGPexet7RYe7V/SJfg0L8XsfPQCQTcPV/k/rl59jwIS3/fiV5d9aGqqoJHnj7Yt2EZGtSrK2vTachYxCck4tWDK/B+HohB42YhJS0tx1hV1FQRfN8eoW8i8dWEn/A+KRn9enZF907tUKtGdcyeNCbfdfaKcsbhNibMWwl+fBJRWWLSTkRlprwm7UD2TY0+XgOeLsmAmqqK7Pn7pGQoKSnJtcmtrCS8T0qGf2AIGmvXh06Dep89niQjA6oqKgU3LILIt7GooqaGWjU0c9Qlp6YhIyMz17q8pEsy8DoiChrqVQq9daSiMGknIkXg8hgiIiBH4v1xwg5krxv/VG5luZm3+s8C20wb9y066bWRjfvf8pOSUNIJOwA0/Ghm/VN5beWYHzVVFbRq1vhzQiIiqtCYtBMRlbJ+PbsW2Eardq0yiISIiL5UTNqJiErZqKHlbzkQERF9WXhzJSIiIiKico5JOxERERFROceknYiIiIionOOadiKizxTy+g027bXB6vkzirxF4+f0LYp0SQacH3vgqd8L9O7WGd07tYdYXLR5m/iE9zh46gKWzposV56cmoazV24h9E0kenTuABPjHlBRlv94eeLth5eh4bmOa2jQAc0aaRfthIiIKhnOtBMRfSZP3wAcPWMPn4CXZdq3sGLi3qHT4LF4HRGN7y3McOnmPYyetQRZWdIijTNr+e/Yc/hfubIXwaEwNJuI+lp1sHDGRLxPSka7gaPh4uYpayMIAibN/xWTF/yW6+Pd+6QSOU8iooqMSTsR0Wca+dVAvHG7hiH9jMq0b2FIpVKM/WkZOui2xJQx36BOrZpYv3g2fF+8xOptfxd6nEP/XoRfYHCO8iUbd6BPjy74qn8vVNNQx1izwejXsytWb7OWtXG874ahA3oj4O55JPo7yx5XDu9C00YNYdBet0TOlYioImPSTkRUAurUqqmQvgVxcfPCgydPMXWsuaxMLFbCxJHD8ffRM0hJSytwjMCQMHj5BWDYAOMcdVFv43Ik82qqKpBIJLLn1aqqY8vK+WjaqCFUVVRkj8u3nDBiyIDPODsiosqDSTsRUQGSU9Ow//g5/Lp1H46cvgzfFy/llpZIpVLcc3XHE28/uX7hkdHYc/hfSKVS+L54iT/2HcaJC1chlRbct6RcuH4HANBBt5Vcebs2LZCSloZrdx/k2z8jMxNrtllj49I5udabD+mPx14+OHnxGoDs1+rijbuY8/04WRtDg45QUpL/uJFKpbhw4y6+ZdJORFQovBCViCgf794noe/oabD6fQUsRw7F1EVrMXP5RnTTbwejrvqYOtYc63ccwLlrjti9bim66bcDAFxxdMHMZRsQG58AQRDwLCAIsfEJWLPNCuFRb7F01mT4B4Xk2vdTkW9jERL2Jt84RSIRjLrq5yj/7+LPBvXqyJXXq1MbABAY8jrfcX/f/Q/mThkHzaoaudZPH/ctTl26jimL1sDTJwB+gcHYu2EZzAf3z3fch+7eECH7IlQiIioYk3YionxsP2CLdIkEvbt3BgAs+2kKLt64i7FmgzF3SvZs8oq503DumqNcv+EDjTFlzDfYYnUUHXRbytoamU/GhWt3sHTWZOi1ap5r30+dvnITSzfuzLeNsliM5ID7OcrfxsZDLFaCqoqKXLl6FTUAQNTb2DzHdH7sCbFYjJ5dOubZpl7d2nA8ZY2+o6dhl81JGBp0hFGXnF8ePnX26m2YD+4PkUhUYFsiImLSTkSUr+CwcMTGJ0CSkQFVFRXot22NqurqCI+MlrVRU1XJtW8VtezEWLdlM1lZ21bNcdPZtcC+H5s9aQx++G5kseKvqpH7DPl/S3Tqa9XJtT4hMQl/Hz2NozvXF3gMG7tL6GPYBX0Mu+DI6cswHjUVt09aobF2g1zbC4KA89fu4PC2tYU8CyIiYtJORJSPfj274ozDbTx48hT9jbohITERkowMmBgbFms8sVgMQShaH2WxGMpicbGO11i7HlzcpEiXZMh9QUhKTgUA6LVqnmu/JRt3oKu+HuxvOcvKgkJfIz1dggvX76Jm9Wrob9QNR8/Y48yVW7h/wQbKYjF6ddHHT6v+wM9rtuLc/q25jv3Q3RuSjEwYdzco1jkREVVGTNqJiPIxZaw5XoaGY86vm7F20Szcc3XH+iWzMbhvzzKL4Ym3HxwfuOXbRqykhEUzJuYo122ZnZSHR0ajZdNGsvLYdwkA8k7aY+MTsNfFTq4sMSkZqR/SsXDdX2jXugX6G3XDsXNXMKSfkexLxWQLM7j7+OOw3WUkJCahZnXNHGOfu+YIs0F9i3xzJyKiyoxJOxFRPpTFYjSoVxcHNv+KOrVq4GuTvoVa0lKSAkNe4/zV/Ne9KyuLc03ap1iYYdOef/DQ/alc0u7p8xyd9NqgdfPGuY53/sBfOcpWbN4D2/MOCL5/WVbmExAEvdbyib/ZoL7Yf/wc3sbG50jaBUHAuauO+Pv3FfmeDxERyWPSTkSUj/3Hz+HcVUd06dAWkoxMvI6IQn2tOnK7qaRLMgAAse/ey/VNSk4BAEgyMmRlce8SIJFIIAgCRCJRnn0/9p35EHxnPqRY8dfXqoMfJ1pg24HjsBwxDCKRCB/SJbji6IKjO9bLbcW4YvMexCckwmpT4RNqM9N+uHjjHnasXiwb65GnDzq2bYVWzXJ+IXjk6YOU1DQM6NWtWOdDRFRZMWknIspHg3p14BvwEoMtZ8uVD+zdHTZb1yAsIgrbDxwHAJy5cgud27XB0AG94fzYExdv3AMAbN53GGsWzMS9Rx647+aFpJRUbNz9D0yMDbH70MkcfUvapmVzoawsxqiZSzDI2BBRb2Ox/KcpOe5EesXRGfEJicjKkhZ66cqO1YuxcN02dP96IqaM+Qa+L14iJu4dTlv9mWNvdiB715hhA41z7GZDRET5EwlCUS+JIiIqHpFIBNtdGzF6mImiQym02y6PEREdg17dOiE6Jg6pHz4gJTUN56/dQfs2LbFk1iRFh1hoWVlSxL1LQL26tXOtT05NQ0ZGJmrVyLkOvSCpaR8QFhGF+nXr5Nv/VXgEqlerito1axT5GOXFGYfbmDBvJfjxSURliTPtRER58PB5julL1yHI+RLEYiW5NeH9enbFWYfbCoyu6MRipTwTdgCopqFe7LE11Kug7UdbW+alWSPtYh+DiKgyY9JORJQHn+dBiIqJg43dRQzs3QNNdBogNDwSbk994RMQhCWzJis6RCIiqiSYtBMR5WHiqOF4l5gEO/ubWLR+G5TFymiv2xKTR3+N3+bP4LpsIiIqM0zaiYjyIBKJ8PPU7/Dz1O+QkZkJFWX+yiQiIsXgnS2IiAqBCTsRESkSk3YiIiIionKOU0dERAomycjAfTcvONy5D5PePfBV/16KDilPyalpOHvlFkLfRKJH5w4wMe6R468QCYlJOHz6Ml5HRGHogN4YYNRdbt/3J95+eBkanuv4hgYd5HaYKczxiIgqA860ExEpmO+LYJxxuI3dNqcQ+TZW0eHk6UVwKAzNJqK+Vh0snDER75OS0W7gaLi4ecraxCckote338PbPxC+L4LxzdQF6D9muqxeEARMmv8rJi/4LdfHu/dJRToeEVFlwaSdiEjBDNrrYtaE0YoOo0BLNu5Anx5d8FX/XqimoY6xZoPRr2dXrN5mLWtz1uEWXM7Z4NDW1bh2bA9WzZsOt6d+eOjuDQBwvO+GoQN6I+DueST6O8seVw7vQtNGDeXu0lqY4xERVRZM2omIygFlZTEAQCRScCD5iHobB7/AYLkyNVUVSCQSANnLfEz79kTtmtVl9RNGDAMAaFarCgCoVlUdW1bOR9NGDaGqoiJ7XL7lhBFDBhTpeERElQmTdiKqNARBgNMjD+y2OYV9R0/jtstjufrAkDAcP++AZZt24eKNu3J1aR/SYWd/E6lpHxAaHgnr42dx6eY9ZGVJAQBvY+Nx6N+LOHz6EhKTU+T6vol6C+vjZ2XH/3XrPvx97DTSPqQXGHPk21gcOX0ZG3f/gzsP3Ip8TiXJfEh/PPbywcmL1wBkrze/eOMu5nw/DgCgqqKS446nzwKCMGygMTrotgQAGBp0hJKS/EePVCrFhRt38e0nSXtBxyMiqkx4NQ8RVRprtlmjWWNtzJ0yDu7P/DF/zRaYGPcAAOy2OYXLt5xw3XYvwt5EYfCE2YiOiccMy5FwfuyJH1f8jqBXr7F5xc94ERyKmtU1sfyP3RjSzwiD+xrB6ZE7srKkOH3lFi7fdMLZ/VsBACcvXsfCdVvxIV0Cn4CXkGRkIDomDlusjuL4+au4Y7c/zwsr77m649/LNzDDchSqVdOAxaylsBwxDDvXLinUOX0s8m0sQsLe5Pv6iEQiGHXVz7N++rhvcerSdUxZtAaePgHwCwzG3g3LYD64f462giDg7FVHbNx1EPaHd+Z73Ifu3hAh+yLU4h6PiKiiY9JORJWCIAg4eOoCTu75HQDQtaMehpv0ldVb2Z6BaZ+eEIlEaNqoITrptYHDHRfMsByJPj0MMMNyJJZu3InG2vXx89TvAABKSiJssTqKsWZDYPPXWgBAiyY62H7wOKRSKZSUlPCd+RDccHqIU5eu48eJo9GudQsAwLod+/H7nkM4cvoypn83Ike8yalpmLX8dzxxsEVVdXV0btcGN50ewfr4WViOGIoenTsUeE4fO33lJpZuzD95VhaLkRxwP8/6enVrw/GUNfqOnoZdNidhaNARRl1yJvkpaWlYsmEHTl26jtS0D+g6zBL2h3eim367XMc9e/U2zAf3h+iTtUGFPR4RUWXA5TFEVCmIRCK0adEElvNW4vItJwDAgumWsvqbJ/7GmoUzAQD+QSEIj4xG0KvXsvoa1aoBADq0aSkra9O8KQBAX6+1rEy3ZTOkSzLkdoGpqqEOZbFYlrADwOKZk6AsFsPFzSvXeO0u30BaejpW/LEHP6/egp9Xb0FUTCxaNNGRbZdY0Dl9bPakMXjncy/fR8xTx4JeRtjYXUIfwy6YbGGGR57PYDxqKl5HRMm1qaqujn0blyP2qSO2rJyPpJQUzPvtz1zHEwQB56/dwYivBuRaX5jjERFVBpxpJ6JKY8eaxRg/ZwUsZi3FgF7dcWTbWtSrWxsAoF1fC7dcHsHB0QV9enRBiyY68PB5nu94amqqOcqU/7fUJSU1Ld++GupVoNOwHmLi3+Va7xcYjIZadeSWwhT1nOTiEouhLBbnO1ZBjp6xx5krt3D/gg2UxWL06qKPn1b9gZ/XbMW5/y0H+piSkhLmThkHV49nOH/9DtIlGVBTVZFr89DdG5KMTBh3N/js4xERVWRM2omo0uik1waul45i1Z97cfDUeRh+MwnuDidQu2Z1rN1uDafHnrC32Qn1Kmq4cP1OqcaSLsle227ap2eu9WIlJbwIDkNGZma+NxPK75w+9sTbD465XMj66TEXzZiYZ/2xc1cwpJ+RLPmfbGEGdx9/HLa7jITEJNSsrplrPxPjHrjr6p4jYQeAc9ccYTaor9zNlz73eEREFRGXxxBRpZAuycCJC1ehWVUDO9cuwYWD2xAVE4eLN+7iVXgENu21wXjzr6BeRQ1A9o4mpemxlw8+pEswbEDvXOv19VojJS0NB06clytPSEyC9fGzBZ7TpwJDXuP8Vcd8HwV9UfEJCEJCUpJcmdmgvpBkZOBtbHye/XxfvMRwE+Mc5YIg4NxVxzyXxhT3eEREFRFn2omoUhAEAftPnMN35l9BJBJhkLEh6tSqgTq1aiA5JXspy7+Xb8Dia1M88w+Es5sXJBIJklPTIAgCklJSAWQnyv/5bwlMfMJ7tGiiAwBI/V/Zx+0AIDMrC89fvkLbls0AAOeuOqJPDwMMG5idzCYmJQOALJbRw02xeps1lm3ahQ/p6Rg20Bg+AS9x/qojrP5YWeA5feo78yH4znzIZ72GZqb9cPHGPexYvVi2beMjTx90bNsKrZo1RtqHdOw8dBJmg/qg/f/W/scnvIeX34tcl7M88vRBSmoaBvTqVqzjERFVJuI1a9asUXQQRFQ5rF27FiOHmshdkFlWMrOysGH3P/D0eQ4BwA0nV3Rs2wozxo9Evbq18ToyGg63XXDG4RZaNWuMEV8NhN3lm3jo4Y0mDetj+8HjiI6NR9qHdOjrtYa3fyA277NBVEwcIt/GolO7NggODcfmv4/gTdRbvEt4D329NqhdswYc7tzHU78AQACcHnngyJnLiI1/h5N7/4Caqgrcnvph/c6DCA4Lx9vYeDTWbgDdlk0xuJ8Rbji54rT9TVjZnsHzoFf4c+V8NNVpUOA5lQaT3j0QHPoGa7ZbIyMjEzZ2lxAcGo6DW35DrRrVIcnIwIo/dmP9zoO4dvcBwiOj8TL0Df5YPg/V/3dzpY/tPHQSOg3qYdRQk2IdT1H8AkNw7qoj+PFJRGVJJAiCoOggiKhyEIlEsN21EaOH5Z6klbbMrCxIpVJEx8ShsXaDHPVJKanQrKohe57bhZPFMefXzThy+jKSnrsgPDIa1TWr5ZrE5iXsTRREIuQac0HnVBpS0z4gLCIK9evWQa0aOdeVJyQmQVVFBRrqVfId51V4BKpXq4raNXP+ZaAoxytrZxxuY8K8leDHJxGVJS6PIaJKQ1ksBsTiPJPbjxN2ACWSsH+qUcP6Re7TRCfvZLygcyoNGupVZMt8clPYC0Q/vXtqcY9HRFQZ8EJUIqJSlpr2AZlZWUguYBtIIiKivDBpJyIqRScvXsctl0cQBAErN+/BU/8Xig6JiIi+QFweQ0RUioYN7I2hA3rJnqup5rwhExERUUGYtBMRlaIamtUUHQIREVUAXB5DRERERFTOcaadiCo0SUYG7rt5weHOfZj07oGv+vcquJMChYZHwtXzmex56+ZN0KVD2xzt4hPe4+CpC1g6a7JceXJqGs5euYXQN5Ho0bkDTIx7QEU5/1/13v6BcHHzgqqKMoYO6A2dBvUAZG/dePj0ZbyOiMLQAb0xwKg7xOLizfUUdqyrd+4jMTlF9jw8Mho/TrTIsX1kdEwcAoJD0dewS57HzGus6Ng4PPbylZW3adEUBu11i3VeRERlhUk7EVVovi+CccbhNv45dUEhN3Uqqgfu3piyaDWO7liPfoZdoKGhnmu7Wct/h6vnM7mk/UVwKEb8sAh//boQo4YPwpXbzmg3cDRs/loN4+4GOcaIe5eAlX/uQ+TbGOxZ/4vctpHxCYkwHjkFPbvoIyI6Bn8fO4OuHdvC+eyhIp9TYccKeBmKkTMWy+1/PuZrU7mEPTY+AVutj8L6+FlMHWueZ9Ke31j16taGURd9hEdGY8iEn/DjRAsm7URU7jFpJ6IKzaC9LmZNGI1/Tl1QdChFMqSfUZ7r4Q/9exF+gcE5ypds3IE+PbrI/pow1mwwbjo/wupt1rh90kqubWh4JHqNmILBfXvi4j/bc4x11uEWXM7ZoHbN7DuP/r7nENbt2I+H7t4w6qpfpHMp7Fg7D53Addu9aNFER1ZWt3YtubFehUfAcsQw7PjnRL7HzG+squrqqKqjjiY6DaDdQKtI50JEpChc005EFZ6yshgAIBIpOJASEBgSBi+/AAwbYJyjLuptXI5kXk1VBRKJRK5MkpEBy3krUbtmdezZ8EuOcSQZGTDt21OWZAPAhBHDAACaRbiTa1HGio6Jw7PnQWjZtBEaNawve1RRk99tp5t+O+i2bJrvMQs7FhHRl4RJOxGVS/dc3bHV+hi2Wh+Djd0lWbnTIw9stT6Go2fs5doHhoTh+HkHLNu0Cxdv3M137CuOLthtc0o2blJKKqxsz2C3zSmcvnJLrm3k21gcOX0ZG3f/gzsP3Erm5IopIzMTa7ZZY+PSObnWmw/pj8dePjh58RqA7PXtF2/cxZzvx8m1W/2XFZ54+2HRjAmoqp5z+Y2qikqOu5U+CwjCsIHG6KDbskgxF3asfUdPw+2pL1oaf4O2/Ufi2NkrcktbiqIkxyIiKi+4PIaIyqV+Pbtit80p2N92htOZg+ohRVsAACAASURBVLLyPj0MMOOXDXD811pWttvmFC7fcsJ1270IexOFwRNmIzomHjMsR+Y69vCBxugydDzeJyVjyphvoFlVA5YjhqFlbzPotW4Bi+GDAGR/cfj38g3MsByFatU0YDFrKSxHDMPOtUtyHTfybSxCwt7ke14ikajIy0v+8/vufzB3yjhoVtXItX76uG9x6tJ1TFm0Bp4+AfALDMbeDctgPri/XLt/L9+AslgMn4CXGDLhJzx56ofOHXSxddWCHGu7BUHA2auO2LjrIOwP7yxW3IUZq4+hATIyM+Hq+QxuXr744Zf1OHnpGi4f2lnki19LciwiovKCSTsRlVtbVs2Hw537cHB0QY/OHQAAryOiMbB3d2jX//+1yFa2Z2DapydEIhGaNmqITnpt4HDHJc+kHQDatmyGR14+sueaVTXQsmkj2fPk1DTMWv47njjYoqq6Ojq3a4ObTo9gffwsLEcMlcXzsdNXbmLpxvwTW2WxGMkB9wv9GvzH+bEnxGIxenbpmGebenVrw/GUNfqOnoZdNidhaNARRl3kvyBERMcgIjoGnfTaYMWcaahdszoCQ8Jgajkbpt/NgvdNO9lrm5KWhiUbduDUpetITfuArsMsYX94J7rptyty/AWNNcjYEIOMDQFk72Yzcf4qON53w7YDtlgya1KRjlWSYxERlRecciCicqt5Yx0M7tsTh8/YIzMrCwBw5MxlTBv3rVy7myf+xpqFMwEA/kEhCI+MRtCr1591bLvLN5CWno4Vf+zBz6u34OfVWxAVE4sWTXTwMjQ81z6zJ43BO597+T5injoWOZaExCT8ffQ0lv00pcC2NnaX0MewCyZbmOGR5zMYj5qK1xFRsnpP3wAAgJlpX9k689bNm+DPFT8jOTUN1rZnZW2rqqtj38bliH3qiC0r5yMpJQXzfvuzyPEXdSx9vdZ4eOEIdBrUg539jWIdrzTGIiJSJM60E1G5NmvCaHw7fSHsbznjG9O+8PYPxK8//yDXRru+Fm65PIKDowv69OiCFk104OHz/LOO6xcYjIZadfJcCpMbZbEYymLxZx03N0s27kBXfT3Y33KWlQWFvkZ6ugQXrt9FzerV0N+oG46esceZK7dw/4INlMVi9Oqij59W/YGf12zFuf1bAQA1NLMv/qxbu6bcMXoaZM/gvwgJzXF8JSUlzJ0yDq4ez3D++h2kSzKgpqpSrHMp7Fga6lVgNqgvjpy5XKzjlNZYRESKwqSdiMq1If2M0LyxDg6ePI8qaqoY0s8oR5u1263h9NgT9jY7oV5FDReu3/ns44qVlPAiOAwZmZkF3pzoP0+8/eBYwMWqYiUlLJoxsUixxMYnYK+LnVxZYlIyUj+kY+G6v9CudQv0N+qGY+euYEg/I9kXh8kWZnD38cdhu8tISExCzeqaaN2sCQDk+FLTWLs+VJSVUS2P9fIAYGLcA3dd3YudsBd1LN2WTdG6eZPPPlZJj0VEpAhM2omoXBOJRJhhORIrNu9BZlYWTlvJL6l4FR6BTXttsHfDMqhXUQMASKXSAsdVVhbjQ7okz3p9vdZISUvDgRPnMXuShaw8ITEJ/16+gZmWo3L0CQx5jfNX81/+oqwsLnLSfv7AXznKVmzeA9vzDgi+//+zxz4BQdBr3Vyundmgvth//BzexsajZnVN1NeqA9M+PfHY00euXdCr18jIzESvrp3yjMP3xUsMN8m51WRxFGasizfuwWxQ3xI5XkmORUSkCFzTTkTl3uTRZqiipoqWTRvl2DklOSUNQPaOKInJKbjv5gVnNy8kJCYhOTUNSSmpSExKlmsLZF+sGPcuAUfP2CMlLQ1Hz9gjLuE9Ql6/wbv3SRg93BSNGtbHsk27sO2ALZ6/fIUzDrfx08o/MP7bobnG+Z35EDy8eCTfR3HuKFpYZqb9cPHGPbkvLY88fdCxbSu0atZYVrZ5xTyER0bD1eOZrOyeqzvatmyGiaOGI+1DOv7Ydxi+L17K6uMT3sPL7wW2rJwvd8zZKzfBfNoCvI2NzzWmwowVGBKGxRu2w8vvhayNX2AwUlLTcl3Hn/A+CQBy/dJV1LGIiL4UnGknonKvds3qGGM2GNO/G5GjroNuS0y2MMPxcw4wMp+MBdMtsf23RZi84DeMnrkES2ZNxo6DxwEAtueuoHXzJhjSzwgjh5ng4KkLmLFsA7YdsMXaRbPQpUNbpKR+wIXrdzBlzDewP7wTFrOWYsXmPVixeQ/atW6BQ3+tyXPLRUXbsXoxFq7bhu5fT8SUMd/A98VLxMS9w2mrP6Gk9P9zNO1at8AduwNY+vtO9OqqD1VVFTzy9MG1Y3ugLBYjXSLBhWuOWLvdGl076mFw356oU6smLv6zHdU05Pd1v/vwCYLD3uDExWuYP218jpikgrTAsZJT03Ds7BXsOfwv+vXsiu6d2qFWjeq4cXxfjqVJ1+89hO25KwCASzfvoZt+Owwb0Bv1teoUeSwioi+JSOAdJ4iojIhEItju2ojRw0yK3Dc17QM01KvkWZ+UkiqXTBf2YsnY+ATZRZkf0iW53jUz7E0URCKgsXaDIsddVCcvXseURasR7XkLNTSrFWuM1LQPCIuIQv26dVCrhma+bSPfxqKKmlqu7RISk6CqopLv654uycDlW06ooqaKr0365NmuoLHSJRl4HREFDfUqctt5FkdRxtLtPwLmpv3x58qfCz3+GYfbmDBvJW/YRERlitMORPRFyC9xBJBj9ruwF0t+vItKXre5b6JT+sn6pySSjGL31VCvgrYtmxWqbcN6dfOsq1k9/4QfANIlEjzyfIZNy+bm266gsdRUVeSW8HyOooyVlVXw9Q9EROUBk3YionJERUUZ1atVxazlG2HYpSO6dWyHgb27KzqsPD156od1i34sla0uS4vvi5e44eSK1xFRSEpOyfPLGhFRecLlMURUZj5neQxRecHlMUSkCNw9hoiIiIionGPSTkRERERUzjFpJyIiIiIq53ghKhFRGZJkZOC+mxcc7tyHSe8e+Kp/L0WHVCzpkgw4P/bAU78X6N2tM7p3ag+xmPNARESlhb9hiYjKkO+LYJxxuI3dNqcQ+TZW0eEUS0zcO3QaPBavI6LxvYUZLt28h9GzlnD7RCKiUsSknYioDBm018WsCaMVHUaxSaVSjP1pGTrotsSUMd+gTq2aWL94NnxfvMTqbX8rOjwiogqLSTsRURlTVs7e01wkUnAgxeDi5oUHT55i6lhzWZlYrISJI4fj76NnkJKWpsDoiIgqLq5pJyIqBcmpabh88x5eBIeivW4rmPYxRA3Navn2CQwJw2MvHzx7HgSjrvowH9xfVicIApwfe+Kp3wuIxWLotmgKE+Meha4vKReu3wEAdNBtJVferk0LpKSl4drdBxg1lPvwExGVNCbtREQlLOBlKH7ZtBPrF8+GxdemmLZ4Leb99ifunz+E5o11cu2z2+YULt9ywnXbvQh7E4XBE2YjOiYeMyxHAgDWbLNGs8bamDtlHNyf+WP+mi1ySXlB9R+LfBuLkLA3+Z6DSCSCUVf9HOUvQ8MBAA3q1ZErr1enNgAgMOR1vuMSEVHxMGknIipBWVlSTJr/K2ZOGIWObbNno+dPt8T5a3fgHxiSZ9JuZXsGpn16QiQSoWmjhuik1wYOd1www3IkBEHAwVMXcHLP7wCArh31MNykr6xvQfWfOn3lJpZu3JnveSiLxUgOuJ+j/G1sPMRiJaiqqMiVq1dRAwBEfaEX1xIRlXdM2omIStC1ew/w1P8Fhg7oLSszaK+LWG/HHInux26e+Bsa6lUAAP5BIQiPjEZicgqA7FnvNi2awHLeSuzbuBxmg/piwXRLWd+C6j81e9IY/PDdyGKdX1UNjVzLpdLsnWPqa9XJtZ6IiD4PL0QlIipB3v6BqKqujrq1a8qV55ewA4B2fS088fbDwnV/4XnQK7RooiNLhAFgx5rFqF6tKixmLcXQSXPxPjFJrn9B9R9TFouhXkWtwEduGmvXQ1aWFOmSDLnypORUAIBeq+b5nicRERUPZ9qJiEqQVCpFSloa7rm6Y5CxYaH7rd1uDafHnrC32Qn1KmqyCz7/00mvDVwvHcWqP/fi4KnzMPxmEtwdTqB2zeqFqv/YE28/OD5wyzcesZISFs2YmKNct2V2Uh4eGY2WTRvJymPfJQBg0k5EVFo4005EVII66LYEAJy6dEOuPD7hPS7euJtrn1fhEdi01wbjzb+SzXB/PMueLsnAiQtXoVlVAzvXLsGFg9sQFRMnG6+g+k8FhrzG+auO+T4+/dLwnykWZlBTVcFD96dy5Z4+z9FJrw1aN29c0EtERETFwJl2IqIS9LVJX3Ru1wa2566gipoqRg0diGcBQXBy9cDx3dkXiiYmJQMAklPS5P799/INWHxtimf+gXB284JEIkFyaho+fEjH/hPn8J35VxCJRBhkbIg6tWqgTq0aALIvRM2v/lPfmQ/Bd+ZDinV+9bXq4MeJFth24DgsRwyDSCTCh3QJrji64OiO9VBS4lwQEVFpEAmCICg6CCKqHEQiEWx3bcToYRV7H++I6Bj88Mt6ON7PXoLSp4cBDm9bC+36WnB76od1O/bjprMrOrdrg7WLfsSQfkaYuXwjjp9zQNNGDbFguiXq1KqJyQt+Q69unWDz1xoYffs9+vYwwLdfDUDYmygkJafg159/AAB8SJeg7YCRedaXNEEQ8OvWffALDMEgY0NEvY1F21bNMP7boaVyvPLmjMNtTJi3Evz4JKKyxKSdiMpMZUna/5OQmASpVMh1XXluklJSoVn1/3dnSZdkQE01+wLWzKwsSKVSRMfEobF2gxx9C6ovDVlZUsS9S0C9urXL5HjlBZN2IlIELo8hIiolNatrFqn9xwk7AFnCDmTv+AKxOM+EvKD60iAWK1W6hJ2ISFG4+JCIiIiIqJxj0k5EREREVM4xaSciIiIiKueYtBMRERERlXNM2omIiIiIyjkm7URERERE5RyTdiIiIiKico43VyKiMiMSidCjcwc0alBP0aGUKKlUCpFIBJFIpOhQyp3MrKzsPeQrkPCot3js5cObKxFRmeLNlYiozIwePVrRIZSK535+iI6OxoABAxQdSrny5s0beHl5wdTUFKqqqooOp8Q0aVUbTVq1VXQYRFTJcKadiOgzBAYGQl9fH7///jsWLFig6HDKlcTERLRr1w7Dhg3D/v37FR0OEdEXjUk7EVExCYIAU1NTxMTE4MmTJ1BRUVF0SOWOnZ0dxo0bh1u3bmHgwIGKDoeI6IvFpJ2IqJiOHDmCqVOn4v79++jZs6eiwym3zM3N8fz5czx9+hRVqlRRdDhERF8k7h5DRFQM8fHxWLp0KWbPns2EvQC7d+9GREQENm/erOhQiIi+WJxpJyIqhmnTpsHBwQH+/v6oWbOmosMp97Zt24bly5fDy8sLenp6ig6HiOiLw6SdiKiIXFxc0LdvX/z777+wsLBQdDhfhKysLBgaGqJq1aq4e/cut8ckIioiJu1EVGYePnyIV69eFdhOTU0NI0eOLP2AikEikcDAwABNmjTB1atXFR3OF+Xp06fo1q0brKysMG3atEL3u3HjBuLi4gpsN3z4cFSvXj3fNhKJBM7OzrC3t4epqSmGDRtW6DiIiBSJa9qJqMxs374dixcvhoeHB6KionDv3j2MHz8e+/fvR0xMDAICArB9+/YiJXRlbcuWLQgJCcHevXsVHcoXp1OnTpg7dy6WLl2K6OjoQvczMDCAq6srxo8fj8WLFyM9PR1ZWVnIyspCUlISnjx5gilTpiAsLKzAsXx8fGBnZ4cdO3YgIiLic06HiKhM8eZKRFRm0tPTcevWLdma5itXrsDa2hqdO3fGvHnzAADLly+HgYGBIsPM06tXr7Bp0yasXr0aLVq0UHQ4X6QNGzbgwoULWLhwIY4fP16oPlpaWpg0aRJ27dqFVq1a4fvvv8/RRiwWQyKRFDhWly5d8NNPP3HfeCL64nCmnYjKjLGxcYEXIaqpqWHq1KllFFHRzJkzB82aNcPChQsVHcoXS0NDA3v37sWJEydgb29f6H6ampr51s+dOxfNmjUr1FjKytnzVVxXT0RfEs60E1GZWbJkSaHaLV68WPbf7969w8mTJzF79mxcvXoV3t7eaNOmDUJDQ1GtWjVMnz4dSUlJOHr0KDIyMtCwYUOMHTtW1j8iIgLXrl1DeHg4evfuDRMTk2LFfurUKTg4OMDZ2Zk3UfpMQ4cOhYWFBebMmYMBAwagatWqnzXe8ePHYWlpKVf24sULuLq6wtvbG71798aIESPyHUMQBNy7dw9eXl4Qi8Vo27YtTE1NZfUl9T4iIio2gYhIQezt7QUAwvz583OtP3z4sKChoSEoKysLu3fvFjp16iQAEJ4+fSq0b99eaNSokaxtYmKiUL16dcHIyEhW5ujoKPzwww+Ch4eHYGdnJ1SrVk2YPXt2keN8//69oK2tLcyYMaPoJ0m5ioyMFGrVqiUsXbq0UO0DAgIEAELfvn3lypOTk4W2bdvKlW3fvl3o37+/IJVKhZCQEKFZs2bCvn37ZPW+vr4CAOHgwYOyshUrVggHDhwQBEEQ3NzchB49esjqSup9RET0Obg8hojKrcmTJ2PEiBHIzMyEjo4OvLy84O/vD319/RzLbDQ1NdGqVSvZ8+TkZEyfPh3bt2+HgYEBLCwsMHbsWOzbtw+urq5FiuOXX36BRCLBxo0bS+S8CGjQoAE2bdqEbdu2wdPTs9D9vL29YWJiAhMTE/Tp0wfa2to5Lijdu3cv2rdvD5FIhGbNmqFz5875LsURBAH79++XvX+6deuGb775BkDJvo+IiD4Hl8cQUbmmra0NADA3NwcAtG3btlD9Tp48ibS0NCxdulRWFhkZiZYtWyIoKKjQdzF1c3PD/v37cfToUdStW7eI0VN+fvjhB9ja2mLmzJl4+PAhxGJxgX309fVx+/Zt2fP4+HgYGhrKtbl7965syY2fnx9ev36NxMTEPMcUiUTQ1dXF2LFjsX//fpibm8uWaJXU+4iI6HMxaSeick1JSUnu38Ly9fVFw4YNP2trxszMTMycORN9+vTB+PHjiz0O5U5JSQkHDx5Ep06dsG/fPsydO7fIY9SuXRvLly+XK9PR0cGNGzdgb2+Pfv36oWXLlnB3d893nD179sDCwgLffvstTExMcPz4cdSvX79E3kdERCWBy2OIqEISi8UICAhARkZGscfYsWMH/Pz8YGVlxZ1GSomuri6WLFmClStX4vXr18Ua49Pdhn799Vds2LABmzdvxqhRowo1g9+5c2d4eHhg9uzZuHv3Lrp06YL4+PgSeR8REZUEJu1EpDDCZ9yQWVlZGR8+fMizvlOnTkhJSYGVlZVceUJCAvbt21fg+GFhYVi7di1WrFhR6CU5VDyrVq2Cjo4OZs2a9dljhYSEYMOGDZgwYQLU1dUBAFKpNN8+6enpOHbsGDQ1NbF3715cuXIFkZGROHfu3Ge/j4iISgqTdiJSmISEBADA+/fv82yTkpICADluYz948GDExsbCxsYGKSkpsLGxQVxcHIKDg/Hu3TuMHTsWjRs3xuLFi7Flyxb4+/vDzs4OM2bMwMSJEwuMbe7cudDW1pZby0ylQ01NDVZWVrh69SrOnz+fa5v/3iuvXr3Kd6zk5GQA2WvRExMT4ezsDCcnJ7x79w7JyclISkqSvd/+aysIAqysrGRfIgcPHoy6deuibt26n/0+IiIqMYrdvIaIKiOJRCLs3r1baNeunQBAqFGjhrBhwwbh5cuXcu0OHjwo6OjoCACEMWPGCI8ePZLVJSUlCT179hQACHp6esK5c+eEkSNHCkOGDJFt3efn5ye0adNGACAAENq3by94eHgUGN/Zs2cFkUgk3L59u2RPnPL1/fffCw0bNhTevXsnV3727FmhX79+sp/jjBkzhGfPnuU5ztSpUwVlZWWhVatWgpWVlXDmzBlBVVVVGDhwoHDz5k1hyJAhAgDBwMBAcHBwENLS0oSGDRsK48aNE06fPi1s3bpV+O2332TjFfd9RERUkkSC8Bl/nyYiUrCYmBhoaWkBAD58+IAqVarkaBMaGgqRSIQmTZoUOF5SUhLatWsHExMTHD58uKTDpXzEx8dDT08PFhYW2LNnz2eNlZSUJHcX1fT0dKipqeXZPjMzE1KpFFFRUXm+T4ryPiIiKmlM2omIPjJ//nwcO3YM/v7+qFevnqLDqXSOHTuG77//Hs7OzujVq5eiwyEiKjeYtBMR/c/Tp0/RrVs3WFtb59iRhMrO4MGDERUVBXd3d6ioqCg6HCKicoFJOxERsncY6dWrF1RVVXHv3j1u8ahAr169QocOHbBq1SosW7ZM0eEQEZUL3D2GiAjZN9fx9PTknuzlQLNmzbBy5UqsW7cOL1++VHQ4RETlAmfaiajSi4yMhJ6eHubMmYMNGzYoOhxC9oWh3bt3R61atXD79m1+kSKiSo9JOxFVeqNHj4a7uzt8fHxQtWpVRYdD//P48WP06tULhw8fxoQJExQdDhGRQjFpJ6JK7erVqxg2bBjs7e0xfPhwRYdDn5gzZw5OnToFf39/2daeRESVEZN2Iqq0UlNT0aFDB/Ts2RMnTpxQdDiUi8TERLRv3x6mpqY4dOiQosMhIlIYXohKRJXWmjVrEBcXh61btyo6FMpD9erVsXPnThw+fBi3b99WdDhERArDmXYiqpR8fHzQpUsX7Nq1C7NmzVJ0OFSAESNGwNfXF97e3rne9ZaIqKJj0k5ElY5UKkWfPn2QkZEBV1dXKCnxj47lXUREBNq1a4d58+Zh3bp1ig6HiKjM8ZOKiCqsxMTEXMv379+Px48fw9ramgn7F0JbWxvr1q3D5s2b4evrm6M+KysLHz58UEBkRERlg59WRFRhrV+/Hl9//TVCQ0NlZdHR0VixYgUWLFgAAwMDBUZHRTVnzhx07doV06ZNg1QqlZV7eHige/fuuHr1qgKjIyIqXUzaiajCcnJywpUrV6Crq4utW7ciMzMTCxYsgKamJn777TdFh0dFpKSkBGtra3h4eODAgQNITk7GwoUL0b17d3h6euL+/fuKDpGIqNRwTTsRVUjp6enQ1NRERkYGgOyEr1GjRggLC8OlS5dgZmam4AipuH755Rfs3bsXmpqaiI2NRWZmJgCga9euePLkiYKjIyIqHZxpJ6IKydPTU5awA9kXn7558wYAYGdnh7i4OEWFRp8hKioKYWFhSElJwdu3b2UJOwB4eXkhLS1NgdEREZUeJu1EVCE9fPgQKioqcmVZWVkAgFOnTkFXVxdHjx5VRGhUDIIg4OjRo9DV1cXZs2cBQG5dO5D983V3d1dEeEREpY5JOxFVSA8ePMiR1P0nMzMT8fHxmDx5MszNzeVma6n8iY2NhbGxMSZPnozExES5v6B8TFVVlevaiajCYtJORBWSs7OzbGY9N2KxGFpaWli+fDmUlZXLMDIqqrp162LChAlQVlaGWCzOs11mZiacnJzKMDIiorLDC1GJqMKJiIiAjo5OnvXKysro3LkzLl26hIYNG5ZhZPQ5Hjx4AHNzc7x//z7P2fbq1asjISEBIpGojKMjIipdnGknogrHxcUlz6RNJBJh7NixcHJyYsL+henVqxf8/PzQo0ePPGfcExMTERAQUMaRERGVPibtRFTh5HYRqlgshpKSEjZt2gRbW1uoq6srKDr6HFpaWrh79y4WLVqUa72ysjIePHhQxlEREZU+Ju1EVOE4OTlBIpHInquoqEBTUxO3bt3CL7/8osDIqCQoKytj8+bNOHbsGFRVVXNck+Di4qKgyIiISg/XtBNRhfLpTZWUlZXRtm1b2Nvbo2nTpgqOjkqap6cnzMzM8PbtW9nPvHnz5ggODlZwZEREJYsz7URUobi7u8uSN5FIhHHjxsHNzY0JewVlYGAADw8PGBoayta5v3r1CrGxsQqOjIioZDFpJ6IK5b/1zP+tXz927BiqVKmi4KioNNWrVw937tzB4sWLAWTfiInr2omoouHyGKqULCwsFB0ClRJXV1dER0ejV69e0NLSUnQ4n8XIyAgLFy4stfEr4v8HYWFhePLkCVq3bo2OHTsqOhwqQ6dPn1Z0CESlikk7VUoikQjdWjWAdm1NRYdCJezRiwh0bKoFDTWVghuXY0+CItFr4FelmoiIRCK06Ngdternvaf9lygt6T2iw4LQrH1XRYdCZeBd9BsEP3MD0xmq6HgbQKq0Zg3tgm8NWys6DCpBWVIBkswsqKt++b/apu5yKJPjDLL8Cd1MR5bJscpSemoK1DSqKjoMKgNPbp7D/mXfKzoMolLHNe1EVGGIlUQVImGnz8eEnYgqGibtRERERETlHJN2IiIiIqJyjkk7EREREVE5x6SdiIiIiKic4xVbROVUmiQTTj5hcAuKwqoxvRQdTrl20ysESWkS2fM3ccmYPrhTgRelFrcfKY7kQxr8H99FsPdjjJizWtHhfDFS3sfD6ZwNhk5ZVKj2z1yuIy05Sfb8XXQ4BoydCdUq6qUVIhEVgJ9MROWUo3coVtneQ5ZUYNKej8CIdxj/1yV8vEXzCKM2BSbexe1HiuX78Bbs/loGqVTKpL0Ijqybg2Dvx4VK2qNevcCe+WPk9j3vPmQ0E3YiBeOnE1E5NbxbS1x5EgQXv3BFh1Ku7bvqgQsrRqFZvRqysrrVNUqtHymWwQAzeN65jIAnzooO5YvhfP4wIoL9C93+pu0eLLS2h1aj5rIyzVp1SyM0IioCrmknKsfEShXzf9EsqYDzri8+e5y371PhFxaL5vVrQqeOpuyhpiIulX5UPigpVcyfk1SaBbcbZ0t0zOjQIIQ994Z+n68K1T4xLhrhgT6o16gFatdvJHuoqFYp0biIqOg4006kQIIAPHgejmehMRArKaG1di3079Ak13YewVFw9A5F83o1MKpXW4hE/1//MuodngRFwTcsFoZttDG8W0tZXUJK8TRfkAAAIABJREFUOs49DMDUQfq49fQV/MJiMXtYFyiLC/+FIPmDBDe9XiEwIh7atTUxoGMT6NTRLPL5ZmZJceZBALZfdENMYipG9GxT5DE+duC6F9xfRkF/3j9oqlUdi0cYYlyfdnKvTUn2o7IjCAJeeLjgdcAzKCmJ0aB5G7QzHJCjzStfd/g+vAWtRi3Q4ysLiD75IUaHBiH4mRvCA33QqnNPGAwwk9WlJibg8fXT6G/xA3zu30R4oA8GT5wLJXHhPho/pCbjmct1RIW8QK36OmhnNBC16zcq8rlKszLx6KodHA5tRWLcW3QfPKrIY+QmKzMDF/atx+TVe3HJamOh+jieskaIzxP8MkwPdXWa4usflsHo6/E5XlciKntM2okU6PfTD9CkXnXM+soAXiHRWHr4bo6kPUsqYNnRu0jPyERcUhr+POeKsNhELDTvAQCwuuaJq+7BuLBiFF7rJuLb38/ibUIKpgzSxylnfyyxcURGlhRSQcCxOz7wDYuFSadmaN+kcH/u9g2LxY9/X8fSkYaYNqgT/nXxR69fjuHP7wdgrLFeocbIyJLilLMfdlx6gtjEVEz7P/buMyqqow3g+H8LHQsiooiAqChFsIO9YTeJGmOLxhJNN/FN1aiJSYypakwsiTHGaOxYsPeOKAIqKiBNRboUpW+BfT+gqxsWWBRFk/mdwwfmzsyduYfV59597kwfL94e2IaUrDyup90pt61EAt4udnqPdXK1R1VUTHBMMiExKUxdfhC/01fZ9PEQZNKyg4yHbSc8Of5Lv6JuQ0d8x7zFjfDzrPv2fZ2gvbioiA3ff4RKWUju7Qx2/vYNGUk3GPjqR9o6h9Yt5eKx3bz/2y4yk2/y4+sDyc5IpfvwyQTuWsfab/6HWqVCU6zh5Pa/SIi6hEfnPtg386hwfAlRl/hj9ms89/oMeoyYwpnd6/l8eHvGfLKAjoNHGzTHIrWKwF3r2LtyPtlZt+g54jX6jnsXgNu3kklPvF5+BxIJTb18yjy86/fv8B3zFqbmlgaNB8ClbReK1Cpiw4K4djmYVXPe5OzeTby3eOu/9hsOQXhWiKBdEKqJRgOrj15m5bsDAWjV2Jb+bRqXqpeVV8hr/bxoUt8KgN6z17M7OFYbtP9xMIxeno5IJOBgUxMPBxv2X7jGRF9PRnV15djlePwCImlgZcnxeS8TnZRFMzsrg8aoVBcxefEehni7MLh9UwDeGtiGi9fT+N+Kw7RqbEvzhnXKbq8qYu3xKyzaGUxWXiGT+3jx1sA2WNcoeaFt2d7zzF57otwxyGVSUv6aqvdYz5YO9GxZcpNzJT6dyYv3cPxyPIt3h/Dec+3K7PNh2wlPhkaj4cTWP3n9+9UAOLq1xqv7QJ06edlZ9Br1BraOJX+XX4/txvmjO3WC9mObluPe0ReJRIK1nQONXDwJO7GP7sMn03HwGMLPHOHs3k3UrteAz9YHkHI9ivpOFX/7o1YpWT5jIu36DKNNr+cB6DN2KjciLrBm7lSc3FrTwLlF2e2VCgJ2rGHvnwvIy86i54jX6TtuKpa1rbV1gg9sZdOCGeWOQyqT82tQpt5jUSGnkMpkNPHyrnA+D3Lz6YWbTy+g5MZk+YyJRJw9yoHVi+g/4f1K9SUIQtUSQbsgVBOJBJo2sOLVX/ay8NXeDGjrzDsD25aqZ2Yk1wbsAK721uwNidP+vmPWi5ibGAFwNTGTxMwcnWUM69e2AGBAW2cAgwN2KFnBJjopi7ZN6+uU9/J0ZMvpq6w9doUvX+5aqp1CVcRfRy7xy64QcgqUTOnrxZsD21DHUjcvdkpfLyb2bmnweMrj7lCXI3PH4P3hX2wNvGpw8P2w7YTHRyKRUN+xGcunT2DczJ9p1WOQ9gn0PcYmptqAHcCuiRsXj+/WqfPh8j0Ym5X8/SfHRZKVmkBB3v1lDGvbNACgVfdBAAYF7ABXTh8i5XoUzi3b65S7d/QlaN9mTvmv5qX/zSvVTqUs5OTWVez76ycKc7PpNeoN+ox9B4tapW98e416ne7DJxk0nn/Kz7nD0U3LmTJv5UO1v8fepSWz1p5k9rA2BO3zE0G7IFSzf+dbboLwjPhufA9qmBkzbuFOhn2zlTv5igrbyGVSiorvL8XWwMqS0NhUZqw+RlRSJo3r1aL4gaXapHfTPaQPkZN6NbHkKZ6lqZFOuU/zhgBEJel/yncqIoHvtpwhOSuXV3p68N7z7UoF7PfmYmosr/DHUGbGcga0bUJsym2D2zxKO+HxGf3Jj5hZ1GDpB6NZ8Obz5OeWn0Ylk8spLirSKatdz47rV0LY8MNHJF+7io29M5riYu1xyd0XvSWVfOE7+VokACbmFjrlzVp3unv8qt52UcGn2PHr19xOS6LrsAn0n/i+3oAdSp6iG5mYVfijz6b503Fya8OF43sIPbKD0CM7SIuPRaUsJPTIDiLPHTd4rsamZrTqPojU+FiD2wiC8HiIJ+2CUI08HG04+vVovtwQwF9HLtFz1jpOfjMWKz0Bblm+8QskICIRv0+GYGosZ2dQTJWNz8qiZBznolO0gTpAo7o1MJJJqWVhorddb09Hzv80kd8PXOTXfefZcDKctwa2YXJfLyxNjbX1zselcvxyfLljkEmlTB1c+huIsjSzs6JJ/doG13/UdsLj0ai5J7PWnWLrz59zYstK5o7pyuebzmBR0/BvivyXzSUq5BTTlmzDyMSM0CP+VTI287tjiAsL0gbqANYNGiGTG2FeQ//fkXsnX77ZdYUjG37l0NolnN65jr7jptJz5Oul8s6vXwklIuhoueOQSmX0Gz+tVHlOVjrhZ3XbFuTeQVlYwIYfPsbOuQUt2nc3aK5Q8g3Eg99qCIJQPUTQLgjVRKkqYvvZaEZ0acH3E3rSv40zI3/Yzq7gGMb1qPhFOIAbt7KZvz2IBZN6a59IP7ghyqO6lxZzOjJRJ3COuJmBqqiY9s0alNm2prkJHwzpwBv9W/PHwYss2RvK0j2hvDWwDVP6tsLC1IjY5Cx2VHCTIZdVLmjffS6WgW2bVFyxitoJVU+tVBB8cBs+g0YxZvp8vLoP5Oepwzh/ZAddhow3qI/0xBvsXvE9Y2cu0j6R1hRXzWfD2aMkhSoqNEAnaE6MDadIraKJZ9l55GaWNRk0+WN8x7zN0U3LOfj3LxxY8wt9x02l18g3tE/vU+NjCDm0vdxxyGRyvUH71EWbS5VtWTSbwF3r+X5vpEFzfND5ozu1KUSCIFQfEbQLQjXRAKsOh/FS55LlG3u2dKRODTPtS5oAmbmF5ClUKFVFGN9dQzwrt5ACpQqFqoi8wpLc9S2BVxna0YUr8bc4HZmIUl1EXqEKDRryC1XavvSlqJTH3aEuo7q6sutcLAkZOdjfXebxbFQSzvVr80rPim8uLEyNePe5dkzp14o/D4exeFcIS/eE8s6gtrz7XDuGdy77hb3yxKZksfJgGKO6utHSyQaAyIQM8hUq3h/SoVT9OetPcTuvkKmD21aqnfDkadBwfMsfeA8ciUQiwc2nF5a1rbUvaubdyaQwPw+1UoHc2ORuWRbKwgJUykKMjE1RFOQCcG6fHx36Dedm1CWiQgNQKxUo8vPQoEFRkKftr6w0FX3sXVrScfAYzh/ZQWZKAnXqlyzzGHMhkHoOTeg6bEKFfZiYW9B/wv/oNeoNjvv9wf7Viziw5hf6vfIe/Sf8D+8BI/AeMKIyl+2hbFk0m7zsLF6ZvZjUGzEc2/w7HZ8bg0NzLwCSYiNQFOQxaPJHFfQkCMLjJpszZ86c6h6EIDxpX3zxBc97N6OFvXXFlR+TomIN3289y4XrqUDJS5/ujeoysbcnANsCo1h15BL5ChUFKjXtmzVgZ1AMqw5fIl+hRqFWM8TbhZSsPPafv8b2M9E0qV+b5zo0Y2tgFEFRyWTnK1h/IoLcQiU3b2VjX7cGDeoYvvwbQG8vJ25l57PQ/xzmJkZcuJbGvtBrrJw6sFJpPEYyKe2bNWBy31ZYmhmz4uBFXu/fulJjeVBCeg6z1p5k+f4LnI5MJCopi6TMXH6Y2FPvJkkz1hzj8o10nmvflNnrDG9XXfzPRiOrVZ8RIx5f4PbFF1/Q1ncIdk0MW7rzSSkuUrPzt2+5EXEBNBquBB6iYVMPug9/lXP7/TjutxJlYT5KRSFNvLwJPezPcb8/UBbmo1YqcGnbhdo2DchMTeDiib0EH9yKrUMT2vZ+gXP7/Yi9eJb8nDuc3rmOwrwcMpLiqdOgEVb19C8tqo9HZ19yMm+xZ+UPmJhZcCP8PBdP7OX17/6qVAqPTG5EE88O9Bz5GqbmNTiy8Vd8x7z1MJetXBFnj5IQdZm+r+i+0Lvhh4+5GXWJPmPfISs1kU3zp3Nk/a9EhQaQcv0qWamJvDxjgfbm6GmUFBdByKHtiHBG+LeTaKryu3RBeEZIJBJWTB3IEO9m1ToO9d3109Pu5GufYj+M3EKlTq74g0/mq0p2voLIxEzsrWtgV8nAXx+lughj+aONUakqIiEjBzMTOQ2syh9TXqEKVVExtS1MKtWuukz6eQ/GDl5s3lw61aGqSCQSXvt2Fe36DHts53hYxUVqiouLyc5I0z7JfhiF+bk6+eIPPp2vCgW52STFRlCnvj1Wtg0rblABtUqJ3Mi44opVRJGfR5FahXnNkjx8tVJBZkoCxqZm1K7ETUx1Cj64leXTJ1RpaqAgPI1EeowgVKN7u5I+SsAO6ATsQIUB+0eryn/BDWB8Tw88HG20v9c0N6FDOTnslfWoATuUzNPZwJdHLR5YAacy7YTqIZXJkcp4pIAdKPWCZ0UB+9pvKl7WsNuwCTRqXvKNmJllzUqvhV6eJxmwQ+kVcOTGJtRzEO92CMLTSATtgvAf1MW14kDIuqb+5eQE4d+sRfvS+w78Uw0rw3YTFgRBqEoiaBeE/6AXqjktSBCeVm19h1b3EARBEPQSmysJgiAIgiAIwlNOBO2CIAiCIAiC8JQTQbsgCIIgCIIgPOVE0C4Iz7AbaXd4d/lBkjJzn0i7ylKqijh6KZ5fdoUQFJ1MkYE7Ut7JV7B0TyifrjnO0UvxZbYzpF5eoYq1x6/wrV8ghy5cR1VU/EhzEp5+txKv89cXb5GVmvhE21aGWqkg/MwR9v/1E7EXz1JcXFTpPvLuZLL3z/mPXCc7I5WrIScrfX5BEJ4sEbQLwjPs4vU01p0IJ/xm+hNpVxnp2fl0/Hg1CRnZjOnuxp7gWMYu2Flh4J6VW0jv2eu5HH+LiJsZjPx+OwO+2PRQ9WKSs+gxcx22tSyYOrgd2QUK2r+/isDIxxuQCdUrPuICATv+JjEm/Im2NVRO5i0+G96OzJSbdH5hHBeO7WLJ/0ZVOnD/68t3OLxu2UPXyclKZ/PCmcx4zpPzR3ZW6tyCIDx5ImgXhGfY8x2acXXZa/h6OT2RdoYq1miYsGg3ro3qMq6HB9Y1zJg9sjORCel8vfl0uW39z0Zz8ItRLH2jH9s+HcbHL/oQGpvC2aikSteb9fcJOrs2xLeVExamRgzr2JwubvZ8vTnwscxbeDq09R3CgsPX8Ojc54m2NYSmuJhlH42lYVN3ugwZj2Vta4ZOnUNSbDjbl3xpcD8nt60iKS7ikepkJMXTcfBoVIoCg88rCEL1EUG7IDzjrGs83HrqD9vOEIGRiZy5msQrPT20ZTKphFFd3Vhx4CL5CpXedkp1ET09HbGyNNWWjeziCkANM+NK10u5nUdkQobOOYyNZCjVlU9FEJ4tlrWtq6VtRaLOBxBzIZCuQydoy6RSGR0Hv8zRjb+hKMivsI/UGzHER4bh2bX/I9Vxcm9DfSeXSo1fEITqI4J2QXhK5RWq+PNQGF9tDGDt8StEJGSUSi0p1mg4FZ7A+bhUbVliRg6/7b9AsUZDREIGC/yD2HQqkuIHtvjW164q7ToXA4BrI91NaFrYW5OvUHHwwnW97YzlMhxtauqUhcffom/rxrg90Jeh9Qa3b0pwTAqbAyKBkmu6OziWN/q3eui5CdVPkZ/Hcb8VbP1lDgH+a0iMDddJLdEUF3M1+ATXr4TqtMtMTeDw+mVoiotJjA1nzx8/cGb3BjTFxRW2rSrnj+wAoGFTd53yhk1dURTkczlgf7nti9Qqti/9ihffK/upvCF1BEF49ojNlQThKXQ7T0G/zzeyaEpvRnZ15c1l+3nv90O0drbF28WOuWO7cTUxk++2nGFHUDQ/TuxFa2db9ofG8e6KQ2RkF6DRaAiPTyc9p4B5mwNJysxh2vPt9bbTJyUrj+tpd8odp0QC3i52pcqvpZa0s61trlNuU7Pk99iUrAqvgUYD/kHR/LD1DJs/KXvDm/Lqje/pgV9AJG8u20/Y9TQiEzJYMKk3g9qJbdqfVfnZt/lmQi9emb0Yn0FjWDl7Cn99+TZO7m1o6uVD16ET2PHbPEIObeflGQtxcm8DwMUTe1n95dvkZKWj0WhIjL5MTlY625d+RVZaIgMmfkByXKTetv90+1Yy6YnXyx+oREJTL59SxWk34wCoVVf3c1fDygYoeUJenl2/f4fvmLcwNbd8pDqCIDx7RNAuCE+hxbtDUKrV+DRvCMAHQzqwOziWFzs1543+rQFo3rAOHw7twI6gaG27fm2cGdvdnUU7g3FrVFdbt9es9ew8F8O059vrbafPtjNRzF57otw6cpmUlL+mlipPu5OPTCrBWC7TKTczKfknJ/V2+SkA+QoVM/8+gV9AJAVKNV2n/43f9KGlbjAqqmdTy5zds1+i3xcbWbb3PO2bNaBDswblnlt4uu1fvQi1UkGz1p0AGDT5Y84f3UmH/iPwHfMWAIOnfELIoe067by6DaDzC6+wb9UC7Ju6aevOfbkroYf9GTDxAxo4t9Db9p+CD2xl04IZ5daRyuT8GpRZqjw7Iw2pVIbcyFin3Ni05Ib2TnrZ335FhZxCKpPRxMv7keoIgvBsEkG7IDyFrqfeJj27AKW6CGO5DHcHG8xNjEjK0F2i0cRIVqqtqXHJx7qZnZW2rHnDOhy5dKPcdv80pa8XE3u3fKjxW5ga6S2/l95Tr5a53uP3mJsYsfDV3syf1Ivl+y/w+bqTfPjnEQ5/NbrS9f4+foXOLezp3MKetcev0PfzDeyc/RL21jUeam5C9bqVcI2crHTUKiVyI2PsXTwwMTMnKzVBW0duZKK3rbFpyTsQD+Zx2zm34Erg4QrbPqjXqNfpPnzSQ43fpIyn3/fSe2pa19N7PD/nDkc3LWfKvJVl9m1IHUEQnl0iaBeEp1AXt0ZsPxvN2agkuro14nZeISp1Ed1bOjxUfzKpBAxbIl1LLpMilz3cay8NrWtQVKxBqSrC+IEbhNxCJVByE2EIqUTCG/1bcy46mZ1BMaX6q6jeuhPhbDsTxaEvRyGXSeng0oAPVh7h41VHWffB8w81N6F6NW/XleCDW4m5EEiL9t3Jz76NWqXCzbvXQ/UnkcrQaCr34ZDK5EhlD/ffZx3bhkQXF6FWKpAb379BKMwvuSFv4NxCb7tN86fj5NaGC8f3aMvS4mNRKQsJPbID8xq1OLN7Q4V1WrTv/lDjFgSh+omgXRCeQmN7uBOXepsPVh5h5kudOBWRwOyRnent6fjExnA+LpXjl+PLrSOTSpk6uG2pcpe7T/kTM3NobFtbW56ZU7K0XPOGlVudo4eHA6fCE/QG7OXV23AyHF8vJ+3Nx8vd3blwLY21x65wJ19BLfOKn6oKT5euQ8eTdjOOv+dNY+jbnxF57iTDps7BvZPvExvD9SuhRAQdLbeOVCqj3/hppcobNG4OQGZqIvUaOWvLc7NKVjmyKyNoz8lKJ/ys7jkLcu+gLCxgww8fY+fcApncqMI6ImgXhGeXCNoF4Skkl0mpX9uCX17rg3UNMwa0ca4wYK1qsclZ7Agq/6U4uUx/0D62hwc/bg/ibFSyTtB+4VoaHo42NGlQu1Sb8kQkZNCvdeNK1wuPTy91gzCgjTN/Hgrj1p18EbQ/g6QyObVt6jNhzjIsa1vj1W2gzhPrJyE1PqbCvHeZTK43aO8y5BV2rfie2ItndIL2GxHnadTcE1uHpnr7m7poc6myLYtmE7hrPd/vjSxzHIbUEQTh2SCCdkF4Cv15KIwdQdF4Na6HUl1EQkYO9WqbY2mq+/KaQlWSB5uRc39zlJyCkhQUpfr+MnYZOYUoVEVoNCUrvuhr90/DO7dgeGf9T/0qUq+WOZP7eLF4dwgju7hqz7k/9Bq/v9MfqUSiU3/O+lPczivk21d6sHRvKAPaNsHVviTYzswtJOz6LdZ98Jy2fqFSbVC9gW2bsPtcDN+N76E9Z3BMCu4OdXGuX7kbB+HpcNxvBSGHtuPg2ooilZLMlARq1rXVWSlFrVIAkHtbd43+gtycu8fv7xOQezsDtVKBRqNBIpGU2fZB3gNG4D1gxEONv6a1LT1HvMb+1YvwGTQaiUSCSllI2Mm9TJn3JxLp/ZS0LYtmk5edxSuzFz/UuQyRn3MbALVS8djOIQhC1RBBuyA8hWytLAi/mcELX2/RKe/u4cCyN/tRr5Y5IbEpLNldspb09jNReDrZYGFizO7gWAB+8j/HjJc6EhCewJmrieQWKvlh21l6eDTi130XdNr1aVXxU+zK+mJ0V+QyKS8v2EHPlo6k3s7jgyEd8HQq/aLd/vNxZOUq+Orlbuw8F8M3foG0amxLb09H6tQwY+NHL+i83Fqs0RhU77sJPZmx+hjdZ6xlbE8PIm9mcCs7n9X/e67UjYPwbKhVtz6JMVeY/9ognXJX7568+tVyMpJvcmDNz0DJKi8OLbxo2aUfUSGnuHB0JwB7Vv7IkLdmcTX4JNHnT1OYn8uu37/FzbsXh9YtKdW2qg2fNheZXM6S/43Ezac3d9JTGPTqxzi08NKpd/HEXvKysyguLkIqrfpv2i4HHCRw1zoAzh/bhZN7Gzy79qemtf5lYAVBqF4STWXfwBGEfwGJRMKKqQMZ4t2suoei17HL8SRn5uLT3I7U2/kUKNXkK1TsCIrGrVFd3nuuXXUP0WBFxRoycwqwKWfFmLxCFaqiYmpblKQ53MlXYCyXYWZc/nMFQ+sVKNXcTM+mXi0L7TmedpN+3oOxgxebN5dOi6gqEomE175dRbs+wx7bOapa+Nmj3E5LommrjmRnpKIsLEBRkEfIoe3YN3On/4T3q3uIBisuLiL3dgY16+hfMUaRn0eRWoV5TfGtUHmCD25l+fQJlX6hWBCeNeJJuyA8ZS5eS+Od3w5wcdGryKQSnZzwLm72+J8pf331p41MKik3YIfSS0QammtuaD0zYzkudoatWCM8vW5EXGDV52/w7Z5wpFKZTk5483bdCD64tRpHV3lSqazMgB3AxNziCY5GEISnnQjaBeEpc+VmOqm38/j72GW6uztgX7cGN9OzCY1N5crNdKY9Q0/ZBaEqJURf5k56Cqe2/YWrd0+sGzQiPSme61dCSIi+zICJH1T3EAVBEB4bEbQLwlNmdFc3bucVsjUwihlrjiOXSnFrZM2Ybu5Mf9Gn1C6jgvBf0em5l8nPvs25/VvY8OMnyGQyGjZ1p9PzY3n+jZmldhkVBEH4NxFBuyA8ZSQSeGtAG94a0AZVUTFGD7nBkSD820gkEvqMfYc+Y9+hSK1CJte/864gCMK/kYgGBOEpJgJ2QdBPBOyCIPzXiIhAEARBEARBEJ5yIj1GEP6jlOoizlxN4sD5a/TwcMC3lVN1D8kgmbmFrD5yiWnPty+zzpX4dE5HJmIsl9KnVWPs6tzfeCe3UMmW01e5cSubxra1GN6pRblLRpbXl/DvpFYpiTl/mrCT+3D16UXLzn2re0hlys+5Q4D/ajKSb+LZtT8tOnTXWdP9+pVQ0m7G6W3r3LI9dRs6an+/dGq/dgMqgKzUBHqOfB1jUzNtWWF+LkF7N5GedIN6jZzp0H+EznFBEB4fEbQLwn9UZEIG289GsfrIZZrbPzvLIU77/RDnYpL1Bu0ZOQV8tTGAlKw8fpzUC3vrGjrHY5KzeH6uH5ZmxiSk56BUF7FoZzB7PhtBvX8sS1lRX8K/V1JsBMEHt3Fi65/YNXGt7uGUKS87i3njetDEy5vbackc3bQcJ9fWzFh9FACNRsPvn07kVsI1ve1nrT0JlATtKdejWDxthM5a5+37DdcJyFNuRPPjlIGYWliSmXwTtUrJ3j8X8MnKA2JDJkF4AkTQLgj/UZ5O9XjV14vVRy5X91AMtuboZSIT9W8vH38rmz6fbaCXpyMbPnpBb51Zf59g8ydDcXeoS0Z2AXM3nWbNsct8vek0i6b4Vqov4d/LoYUXPUZM4cTWP6t7KOUKPrCVT9ccw6KmFQC7V3yH/7Kvibl4hqZePkQEHaNll370efkdatnU17aLCg1gzdypOjuwHvx7Me//tgsb+/u7I9ewqqtzvk3zpzNtyTbsm3mQk5XOtsVfcGr7X2xb8iXjP1vymGcrCILIaReE/zD53RddJUiqeSQVi03JIuzGLfq1blzqmFJdxKu/7KG2hSnzJ/XS2/7itTSGd2qOu0NJIGJd04zpw32QSiQERSdVqi/h308mu/dM6+n8bKhVStw7+moDdgCfQWMAMLMo+VbI1MyCkR98i7WdA3IjY+3PxWO7adPr/s1odkYqCdGXqWfvTB1be+2PkbGpts6NiAt4DxiJfTMPoCSgf+HNmUikUmIvnn0SUxaE/zzxpF0QHjONBk5HJnDpxi1kUinN7Kzo4eGgPR6bkkVwTApX4tPxdrFjULsmOu0LlWr2hsTRv60zt+7kc+jidepbWdCvtTMyqYRbd/LZFxqHRCLhBe9m1DArWas6KTOXfaFxTOztyenIBI6E3aBBHUvGdnfHtJwc7ntSsvI4HHadpMxcvF3s6ObeyOA5VTVVUTHzNgeyaIov3205U+r415tPcz4ulZ8m+2Juon9VkUY2NfF00t190ra2BV6N62lvXgztS6gaGo2GqNBT3Lx6CalURv3GLrh599SnTRAcAAAgAElEQVQeT70RQ9ylcyREX6ZpKx9a93xOe0ylKODCsd14dR9ETuYtLgXsp7ZNAzy7DUAqlZGdmcbF43uQSKS06zMUU4v76U1ZqYlcPLGH7sMnExV6iiunD2NVz44uQ8ZhZFJ+fvbtW8lcOX2IrLREmnr50KJDj0rNqarIjYx18tGhZPMpz679adjUHQBnzw6l2mmKiwk9soM3vl+jLTuy4TeuXQ7mk4Gu1G3oyOAp0+k4eAwSyf0blrp2DjpP5gFq1a2Po2srpDIRSgjCkyA+aYLwmM3bfBqHejV5o39rLlxL5eNVx7QB7q/7zrM3JI7tn77IzebZDJm3hbTbeUz09QTgdEQi0/44RFzKbb58uSsxyVnUMjfh83Un8fVyopeXIwERiRQVF7P9TBR7Q+NY+/5z+AVEMn31MQpVRYTfTEelLib1Th6Ldgaz8WQEez4fUe5ykqfCE9gSeJVJvT2xNDVm3MKdjOziyvcTelY4p39Kycrjetqdcq+RRALeLnZlHv9x21le798aS1P9m+dsPR2FXCYl4mY6Q+ZtITQ2FU+neswb100bqNexNNXbNjEjh0l9vCrVl1A1/Jd+Rd2GjviOeYsb4edZ9+372gD30LqlXDy2m/d/20Vm8k1+fH0g2RmpJYF2yClWz51KWnwsL/1vHqk3ojGrUQu/n2bh0bkvHp18uRp8kuLiYoIPbOHi8d28vXAjAGf3bmL99x+iUihIjAlHrVKSnZ7KvlULCNy9jk9WHixzOcmrwScI2udH95dexdTCkiUfjKbjoDGMmT7foDk96PatZNITr5d/gSQSmnr5VHgdNRoNIYe2sXP5t0xbvK3cujEXzyCRSHQCepe2XShSq4gNC+La5WBWzXmTs3s38d7irdqXWi1q6X/vJTMlkZ4jJlc4RkEQHp0I2gXhMdJoYPXRy6x8dyAArRrb0r/N/fSOPw6G0cvTEYkEHGxq4uFgw/4L17RBeyfXhkzs7cnstSewt67BWwPaACCVSFi0M5gXOzXn1zf7AdC4Xm0W7wmhWKNheOcWHA67gd/pSCb38aKFvTUA3/oF8uP2INYdv8L4Xi31jjmvUMV7Kw5x8puXMTcxoqWTDUcv3WDloTBGdHGlbZP65c7pn7adiWL22hPlXie5TErKX1P1HjsdkYhMKqVDswZ6jydn5ZKclYuHow0fDvXGytKU2JQsnp+7hefm+nHmh1doYKV/xZfAyETkMilv9m/9yH0JlaPRaDix9U9e/341AI5urfHqPlB7/Nim5bh39EUikWBt50AjF0/CTuyj+/DJuLTtQo/hk9m0YAZ16tvTZ+w7AEgkUvatWkCH/i/x6twVANjYN+bAmp/RFBcjkUrxHjCCK6cPcnbvJnqOeE37oqn/sq/ZveI7AvzX0O3FSaXGq8jPY/WX7/DZxjOYmJnj0NyLK4GHObb5d3wGjcK5ZfsK5/Sg4ANb2bRgRrnXSCqT82tQZrl1FAX5bJo/nbN7N6IsLOCLkT5MW+KPk3sbvfVDDm2jdc/ndJ6iu/n0ws2nJBUsIeoSy2dMJOLsUQ6sXkT/Ce+Xee7o0ABkcjm+Y94pd4yCIFQNEbQLwmMkkUDTBla8+steFr7amwFtnXlnYFvt8R2zXtSmYFxNzCQxM4ecAqVOHzXNS54uuzW6/1JY0wYleaweDjbasmZ2VihVRaRk5WFXxxJzEyPkUqk2YAd47/n2/LQzmNORiWUG7VsDr1KoVDNn/SltWcrtPJxsa3Et9TbtmtYvd07/NKWvFxN76z9XRe7kK1hx8CLL3+5fZp2wa2kADGzbBKu7T9Ob1Ldi7svdmLJkLysPhjFzRKdS7YqKNXyzJZC17z+PhanRI/UlVJ5EIqG+YzOWT5/AuJk/06rHIPqOe1d7/MPlezA2swAgOS6SrNQECvLuL0doZlkTgIbN3LVl9Z2aAdDIpeUDZS6olQpu30rGyrYhAMZmFkhlcp2VYQZMfJ+9f84nKjRAb9AetH8zSkUhWxbN1pbduZWCjX1j0m7G4dyyfYVzelCvUa/TfXjp81SWiZk542b9zNhPf+Lwhl/xWziTtd9MY+bfpW+UNRoNoYd38Orc38vsz96lJbPWnmT2sDYE7fMrM2gvLi7C/9eveXvhBkzMLR55HoIgVEwE7YLwmH03vgcTf97DuIU76ebeiN/e6o/N3eUFG1hZcvRSPAfOx9HJ1Z7G9Wpx4XpahX2aGpX+6N7Ly85XqMpsZ2Ysx66OJRnZBWXWiUzIwLa2hTYVprJz0jcu+UPu7Drr7xO0drZlX+j9daZjU26jUBWx61wMtSxMqGluAoB1Dd30l3Z3n8zHJGfp7fvzdSd5a0AbWjrdv/F52L6EhzP6kx/57ZNXWPrBaFp06MHkr1dQs05JClLtenaEnzlC2Mm9uLTpgo29Mzcizpfbn5GxSakymbzks6IozC+3rbGpGVa2duRmpes9nhQbQa26tjqpMJWd04OkMnmV5oJLpFJ8x7xF7MWzhB7xR61UIP/H9Yi9eAa1SkmzNp3L7cvY1IxW3Qdxyn9NmXX8Fs6kz8vv4NDcq8w6giBULRG0C8Jj5uFow9GvR/PlhgD+OnKJnrPWcfKbsVhZmvKNXyABEYn4fTIEU2M5O4NiHutYlKoiUm/n0bOlY5l1ZFIpMclZqIqKy8x7L29O/3Q+LpXjl+PLHZdMKmXq4NJP69OzCzh26YJOWXaBggKFmhmrj9PCvg5L3ihJD7p4Tfdmx966BkYyKZZmpfPgVx+5TEsnG/q3cdYpb3L3G4zK9CU8vEbNPZm17hRbf/6cE1tWMndMVz7fdAaLmlb4L5tLVMgppi3ZhpGJGaFH/B/rWNRKBdnpabh39NV7XCqTkXojmiK1qsycdyh/Tg+6fiWUiKCj5Y5JKpXRb/y0Ss3DzacnV4NPlArYAUIObadVj0E6my+Vpb6TC7aOTfUeO7H1Txo19yoz9UcQhMdDBO2C8BgpVUVsPxvNiC4t+H5CT/q3cWbkD9vZFRxDN3cH5m8PYsGk3trVXB7c2ORxCI5JQaEq0rts4j3ujnXJV6hYdfgSU/ref4p2J1/BltNXGdvdvcw5jevhUaq/2OQsdlRwMyKX6Q/a13/4fKmyOetPsfFUBJd+eVVb1svTkeCYFJ16caklNx4dXHRz4XcHx6JBw8guupvmnI5IpJNrw0r1JTw8tVJB8MFt+AwaxZjp8/HqPpCfpw7j/JEdtGjfg90rvmfszEXa1Vw0xY/3sxF36RwqZSGeXfWnYtk3a4miIJ/jfivpNep1bXl+zh2C9m2ix0tTyp1TlyHjdfpLjY8h5ND2csckk8krHbQnxoTj1W1AqXKNRkPIYX9emfWLQf2cP7qTVt0H6S1Ho6Hj4NE65VEhp3Bp26VSYxUEoXJE0C4Ij5EGWHU4jJc6t0AigZ4tHalTwwzrGmbkFZbkrm8JvMrQji5cib/F6chElOoi8gpVaNBgaWpMbmFJuotCVaTtN1dR0jYrrxAnagH302IerKcuLiYqKRMXu5KVH3YERdPJtSF97wbt2fkKAPIeSKkZ6u3CvM2BfL7uJAqVmr6tGxN+M4OdQdEsmuJb7pz0Gd65BcM7t3jUS1muL8d0pd+cjQRFJ2tfWD0VnoCLXR1Gd3XT1jt+OZ6fdwbzUpcWrDh4ESjJbb+amIGrfV06uTY0uC/h0WjQcHzLH3gPHIlEIsHNpxeWta2xrG2NoiAXgHP7/OjQbzg3oy4RFRqAWqlAkZ+HBg2F+SV11EqFtk9FQR4AeXeytJsEKQvyS9UDKC5Sk3ztKg0aNwcg5PB2XNp20QbtBbnZOn227zsM/6Vf4ffTTG1wnxhzhZBD/oz/fEmFc/on7wEj8B4w4qGvn0pRwMG/F+PVYxANm7jdnXcmN6+G8c5Pm0rVjwsLQpGfS4sO3XXKU2/EcGzz73R8bow21SUpNgJFQR6DJn+kUzfi7FH2rVqIz8BRHN24HCjJbU+Oi8SuiZsI2gXhMRNBuyA8ZjduZfPa0r08174pCek5TOrtycC2JWuxv9zdnY2nIug1az3vDGrDt+N78PqSfYxdsJOV7w7kXHQy645fAWDZ3lA+GuZDQno2fx66BMD3W88yZ3QXsvMVrDlasrPpQv8gPn2p5GVJqUTCyoNhmBrLSczMIV+hZt0HJU+vQ2NT+GFbyaYoG06G06R+bXy9nDA2krH5kyGMW7CLOetPMWf9KVrYW7PsjX5YmhqjUBWVO6fq0MLemj2fjWD22hN4u9hhbCTjXHQy2z4dps2nD7uexriFu8hXqAiJ1X2SbmIk4/Ivkw3uS6ga6Yk3WDHzVdr0ep7MlJt0Hz6ZVj0GA9D5hXEE7lrP3Je70nfcu4z++AdWzHyVJe+Pot/4aQTs+Bso2cnzuddmkJESz7HNJSvG7Fz+DcPf+4qC3GxOblsFwJ4/fmTIW7Op51DydyqRSDm2+XeMTczITE1EWZCnDXavXQlh5/JvAAjcuQ5bh6Z4dO7De0u2sfSD0WxZNJsti2Zj18SVSV8tx9Tc0qA5VaXi4pKXSv2XzcXRrTXuHftQw8qad3/eovfF0JBD2/DqNgC5kW6Kl6Igj9M713J4/TKat+tGY4+2WNS04sPlu3XSgOIjL7L0g9EoCvK5djlYpw8jY1O+33+1yucoCIIuieZxfx8vCE8hiUTCiqkDGeLd7LGfS11UTLFGQ9qdfOyta5Q6nluo1Fl/XKkqwtio4pzTinyw8gjrjl8h+a+pJGbkUNPcRLvxkqFupucgkVBq3BXNqTqlZOVhaiyntkXpnN7q7KuyJv28B2MHLzZv3vzYziGRSHjt21W06zPssZ2jPMVFaoqLi8nOSKNOfftSxwvzc3UCYn0vVz6Mv+dNI8B/DcvOZpCZmoC5ZS2dzZcqkpF8E4lEonfMFc2pquXn3EFuZIyxafmbQqUn3sDMsobe9dbVSgWZKQkYm5pRu17Z+yU8rYIPbmX59AmPPb1QEKqbeNIuCI/ZvaezZQW3/9wwqCoC9n9q+JCBdaO6+ttVNKfqVN+q6pafq8q+hNJKVlChzOD2wYAdqJKA/Z/q2FY+sLZu0KjMYxXNqaqZ16hlUL1/7p76ILmxifYbCEEQnl7iu15B+JcqUKpQFxeTV1j2EpCC8F+kLMynuEiNIj+vuociCIJgMBG0C8K/kF9AJEcvxaPRwBcbTnH5xq3qHpIgPBXO7t1EeOARNBoNW37+jJtXw6p7SIIgCAYR6TGC8C/Ut3Vj+jywrKOJvOpTbgThWeTZtT8tu/TT/m5kLNbeFwTh2SCCdkH4F7q3s6cgCLrMLGtW9xAEQRAeikiPEQRBEARBEISnnHjSLghPiFJdxJmrSRw4f40eHg74tnKq7iGVK/5WNsExydrfm9S3wqtxPaBkd9S1x66QkJFDn1aN6ebeCJlUUmZfV+LTOR2ZiLFcSp9WjbGrc39VkMr0lXYnn+ikTDq7PvzKHJm5hewNiSUxIwe3RnXp2dIRC1OjStcBOHjhGjkFSu3viRm5TO7rhZmxnBtpd3TWg2/awApPp3oPPe5/C7VKScz504Sd3IerTy9adu5b3UMqV0ZSPLFhQdrfbR2b4ujaSqdOdkYqydejaN62a6n2hfm5BO3dRHrSDeo1cqZD/xF6l2fMz7lDgP9qMpJv4tm1Py06dEcqlT1UX4YwtK9Lp/ZTkJuj/T0rNYGeI1/X1jW0H7VSQVRoADevhtG0VUcat2ynnd+txOtcu3R/7ff6Ts1waOFVqg9B+K8TQbsgPCGRCRlsPxvF6iOXaW5feq3kp01QVBJvLNvP728PoLObPeYmJf9cZOUW0ufzDXRo1oDkzDxWHLhIK2dbDnwxslQfGTkFfLUxgJSsPH6c1KvUEpGG9pWRXcCiXcGsPBTGKz09Hjpov3zjFm8u28/Cyb4M69icFQcu8sO2TWz6eAi2tS0MrgMQnZTFmPk7eHBp6KEdXTAzLrlONrXMad/MjsSMHIbO28Lkvl4iaKdkt83gg9s4sfVP7Jq4VvdwKhRz8Qx/zJrMlHkrad6uK8Zm9/8GcrLS2bdqIcc2r6Dr0PGlgvaUG9H8OGUgphaWZCbfRK1SsvfPBXyy8gA1rW219fKys5g3rgdNvLy5nZbM0U3LcXJtzYzVRyvdlyEM7SvlehSLp43QWf+8fb/h2qDc0H5yMm/xzYReDJz0IZ1fGMf+v35iz8ofeXvhBqRSGTXr1KOJlzdZqQnMf30wPUe+JoJ2QdBDpMcIwhPi6VSPV32fvf+Iens5Uq+WuXY9ef+z0Rz8YhRL3+jHtk+H8fGLPoTGpnA2KkmnXfytbDp9vAaFqogNH72gd013g/tKz2ZkF1cKleqHnkexRsPbvx3At5UT7ZrWx8xYztTBbTExkvP2rwcMrnPP0r2hbP/0RS4umqT9Wfza/afG5iZGNKpbA5/mdjSoo7ve+H+ZQwsveoyYUt3DqDSPzn2paW2rs3Z8RlI8HQePRqUo0Ntm0/zpTFuyjbnbzvPd3ki6DBnPrYRrbFvypU694ANb+XTNMSZ9uZz3f93J86/P4NqVEGIunql0X4YwtK+Dfy/m/d928e2ecO3PhDlLK9WPpriYZR+NpWFTd7oMGY9lbWuGTp1DUmw42+/WMzEzx7pBI5q26kjteg0qPR9B+K8QQbsgPEH3NiWSUHYqydNMqS6ip6cjVpam2rKRXUqelj6426pSXcSrv+yhtoUp8yf1eqS+AFo729LMzuqRxh4ck8KV+HQ8HXWfdrdxtuXY5XguXkszqA6UpOmEx6fT2LY2Da1raH9MHsPGWP9GMtm9L3mfzc/BPU7ubajv5KL32I2IC3gPGIl9Mw8AaljV5YU3ZyKRSom9eFZbT61S4t7RF4ua9/++fQaNAcDs7i6thvZlCEP7ys5IJSH6MvXsnalja6/9MTI2rVQ/UecDiLkQSNehE7RlUqmMjoNf5ujG31AU5Fdq/ILwXybSYwShAqfCEwi9m5tsVcOUcT1K/pMKiEggJCaFurXMGdPNTVs/NiVLG/x5u9gxqF3ZOw3uD43jWtodLEyNGNfDg9xCJRtPRqAqKsa2tgVDfe4HBClZeRwOu05SZi7eLnZ0cy97V8bHxVguw9FGd/WN8Phb9G3dGLdGdbVlX28+zfm4VH6a7Iu5Selc8Mr0VVVikrMA0KC71XnrJrZwEM5EJWlvFsqr49W4Hr/vv0BIbAqe7/6Bo01NPhzqzaiubkie7Ri0XFeDT3DtcggAlrXr0GXI+JLykJNcuxRMjTo2dH5+rLZ+6o0Y4i6dIyH6Mk1b+dC653Nl9n3xxF5uJVzD1NyCLkPGU5ifS+CudRSp1dSqa0v7vi9q696+lcyV04fISkukqZcPLTr0eDwTfkR17RxKpXjUqlsfR9dWSGX3/+uVGxmX2q00Ifoynl3707Cpe6X6qspxHdnwG9cuB/PJQFfqNnRk8JTpdBw8BsndP3JD+zl/ZAeAdi73NGzqiqIgn8sB+2nrO7RScxCE/yoRtAtCBbq42fPrvvPsC41j35z7udadWtjz7vKD7PrsJW3Zr/vOszckju2fvsjN5tkMmbeFtNt5TPT11Nt3vzbOdJn+N9n5Csb18MDS1JiRXV1pOfUPWthba4P2U+EJbAm8yqTenliaGjNu4U5GdnHl+wk99fabkpXH9bQ75c5LIgFvF7vKXg4tjQb8g6L5YesZNn+i+5/u1tNRyGVSIm6mM2TeFkJjU/F0qse8cd305nWX11dVMTMq+efuQlwawzo215Y71SvZBj4xPYfWzrYV1gHo5GqPqqiY4JhkQmJSmLr8IH6nr7Lp4yHlvpD7LGverhuH1i3l4vE9TF91WFvu0qYLf33xFh+v2K8tO7RuKReP7eb933aRmXyTH18fSHZGKt2HT9bbt1e3AcwZ4U1BbjZdhozH1NySjoPH8HH/5tg1cdUG7VeDTxC0z4/uL72KqYUlSz4YTcdBYxgzfb7efm/fSiY98Xr5E5NIaOrlU7mLYQCLWvrfW8lMSaTnCP3XQaPREHJoGzuXf8u0xdseqa9HHZdL2y4UqVXEhgVx7XIwq+a8ydm9m3hv8VakUpnB/aTdjAOgVl3dvPsaVjZAyc2dIAiGEUG7IBjg67HdOHD+GgfOX6Nd0/oAJGTk0M3DgQZW93Nc/zgYRi9PRyQScLCpiYeDDfsvXCszaAdwsaujs0qLpakxjW1ra3/PK1Tx3opDnPzmZcxNjGjpZMPRSzdYeSiMEV1cteN50LYzUcxee6LcOcllUlL+mmrwNXhQvkLFzL9P4BcQSYFSTdfpf+M3fSitnW1JzsolOSsXD0cbPhzqjZWlKbEpWTw/dwvPzfXjzA+v6Fyz8vqqSh1cGmAslxEQmYBGg/apeE5+yeovjWxqGlQHoGdLB3q2dABKVsaZvHgPxy/Hs3h3CO89165Kx/00GfHBt4Sd3EfYyX04t2wPQGZKAq4delK73v0bwGObluPe0ReJRIK1nQONXDwJO7GvzKAdoEHj5sRdOqf93dTcknqNnLW/K/LzWP3lO3y28QwmZuY4NPfiSuBhjm3+HZ9Bo7TjeVDwga1sWjCj3DlJZXJ+Dco0+Bo8iujQAGRyOb5j3il1TFGQz6b50zm7dyPKwgK+GOnDtCX+OLm3qXRfVTEuN59euPmUpLYlRF1i+YyJRJw9yoHVi+g/4X2D+8nOSEMqlSE30k15MzY1B+BOeuojj18Q/itE0C4IBnCsV4teXo6sPX6Fj4d5I5dJWXf8CuN7eejU2zHrRW06yNXETBIzc3SWBHwYWwOvUqhUM2f9KW1Zyu08nGxrcS31tt6gfUpfLyb2bvlI5y2PuYkRC1/tzfxJvVi+/wKfrzvJh38e4fBXowm7m/c9sG0Tbb56k/pWzH25G1OW7GXlwTBmjuhkUF9VqaF1DT59qSNz1p9i6vIDDPF2ISopk62BUQB4ONQ1qM4/uTvU5cjcMXh/+BdbA6/+q4N2m4ZOeHT0JcB/Dc+/PgOpTE6A/xq6DZuoU+/D5Xu0q6wkx0WSlZpAQV6Ovi4NFrR/M0pFIVsWzdaW3bmVgo19Y9JuxukN2nuNep3uwyc90nmrSnFxEf6/fs3bCzdgYm5R6riJmTnjZv3M2E9/4vCGX/FbOJO130xj5t+lb74r6qsqxwVg79KSWWtPMntYG4L2+ekN2svqx8Rc/0vYxcVFANS0FisqCYKhRNAuCAaa7OvFqB/92Rcax8B2Tbgcf4tPXtT9Wr2BlSVHL8Vz4HwcnVztaVyvFheupz3SeSMTMrCtbVFmKow+cplU+9Lr4ySVSHijf2vORSezMygGpapIuxurdQ1TnbrtmpWsCnEvt9yQvoyr+MXOdwa1pY1zfY5eusGZqCSG+rgQHJNCXOptWjrZGFznn8yM5Qxo24S1x69U6XifRj1GvsYv7w7nwvE9tO4xmIToSzz/xqc6dWrXsyP8zBHCTu7FpU0XbOyduRFx/pHOmxQbQa26tmWmwugjlckrnfP9uPgtnEmfl9/BoXn5K0hJpFJ8x7xF7MWzhB7xR61UIDfW3eHY0L6qclzGpma06j6IU/5rKtVPHduGRBcXlZpHYX4uAA2cWzziDAThv+Pp+NdMEJ4Bvb2ccKxXi7+OXMLUSI6vl1OpOt/4BRIQkYjfJ0MwNZazM+jR8zVlUikxyVmoiooxMjAQPx+XyvHL8RX2O3Vw20ceH0APDwdOhSdgbCSjSYOSVTDurbRyj711DYxkUiz/sTJMeX09Dp1cG9LJtSEAN25lsy80jjmju2iXtDS0zj81s7OiSf3aZR7/t/Do1Aebhk6c2LISIxNTPDr1KVXHf9lcokJOMW3JNoxMzAg94v/I55XKZKTeiKZIrUIm1/9y8z9dvxJKRNDRcutIpTL6jZ/2yOMrz4mtf9KouRde3Qca3MbNpydXg0+UCtgfpq+qGld9JxdsHZtWqp8GjUveDclMTdRJd8rNygDATgTtgmAwEbQLgoEkEpjU25M5G06iLtKw5v3BOsdv3Mpm/vYgFkzqjendDXYe3JSkLDKZBIWqqMzj7o51yVeoWHX4ElP63n+KdSdfwZbTV5mkJ18+NjmLHRXcMMhlVRe0RyRk0K91YwDq1TKnl6cjwTEpOnXiUktuPDq4lL8O84N9PU5KdRGTf9lD0wZWeq+hoXXu2X0uloFty14p6N9CIpHQ/aXJbFk0m+KiIt5asF7neHriDXav+J6xMxdhZFKyCY+muOLPgVQmR6UoLPO4fbOWKAryOe63kl6jXteW5+fcIWjfJnq8VHrt99T4GEIObS/3vDKZ/LEG7eeP7gSNho6DddO9okJO4dK2S5ntEmPC8eo2oEr6qqpxnT+6k1bdB1Wqny5DXmHXiu+JvXhGJ2i/EXGeRs09sXUofRMgCIJ+ImgXhEoY092Nb7YE0rh+rVJPXfMKS3LXtwReZWhHF67E3+J0ZCJKdRF5hSo0aMjOV5TUVai07Xq2dGRbYBTrToQzxLsZ289Gk5VbQKGqiNt5CoZ6uzBvcyCfrzuJQqWmb+vGhN/MYGdQNIum+Ood5/DOLRjeueqfYBUq1SzdG8qAtk1wtbcGIDO3kLDrt1j3wf0l/b4c05V+czYSFJ1Mh7tpMafCE3Cxq8Porm6V6uueO3kl165QpX+Dpf/9cZjkzFx+ea0PNrXMy51HvkLFR38exdGmJt+O76E3laisOrEpWaw8GMaorm7adJnIhAzyFSreH9Kh3PP+W3R+YRz+y76mXiNnnc2GABQFJWkP5/b50aHfcG5GXSIqNAC1UoEiPw8NGgpys+/WzdO2c/Ppxbn9fgTs+Jt2fYYRfHAreXcyUSkU5Gffpn3fYfgv/Qq/n2aiUhbi2bU/iTFXCDnkz/jPl+gdp/eAEXgPGPGYrkKJ/JzbAKiVilLHIs4eZd+qhfgMHMXRjcuBklzu5LhI7Jq44dK2CypFAQf/XoxXj0E0bFLy2ci7k8nNq5RtRiEAACAASURBVGG889OmSvUFsGbuu2SlJTJhzjJq1tGfL15RX7Xq1ufY5t/p+NwYbbpLUmwEioI8Bk3+qFJjqmltS88Rr7F/9SJ8Bo1GIpGgUhYSdnIvU+b9iUQqtosRBEOJoF0QKsHK0pQXOzZnQq/SL3m6NarLy93d2Xgqgl6z1vPOoDZ8O74Hry/Zx9gFO5n2fDuW7AkFYMPJcJrUr42vlxMvdGjG6iOXeHf5QRbvCmHmiE54NbYlX6Fi57loxvXwYPMnQxi3YBdz1p9izvpTtLC3Ztkb/cpN13gcijUadp6L4Ru/QFo1tqW3pyN1apix8aMXsDC9n7LQwt6aPZ+NYPbaE3i72GFsJONcdDLbPh2mDX4N7Qvg0MXrbDwZAcCe4DhaO9vSr7Uz9R4Izk+G3+R66h02B0Ty1kD9K25k5hayNySWtceu8PagtnrX0K+oTl6hivUnI/ht/wW6uNnTpkl9rCxM8Z/5osHpS886i5pWdOg/nG4vln7Js2FTdzq/MI7AXeuZ+3JX+o57l9Ef/8CKma+y5P1RDJj0PgdW/wxA4M512Do0xaNzH9r5DuXk1j/564u3OLB6EUPe/gxH19YoCvIIPeJPlyHjeW/JNpZ+MJoti2azZdFs7Jq4Mumr5aVuHJ6UywEHCdy1DoDzx3bh5N4Gz679qWltS3zkRZZ+MBpFQT7XLgfrtDMyNuX7/VcBKC7WEHp4B/7L5uLo1hr3jn2oYWXNuz9v0b7QaWhfAJHnjnMr4Rpn92ykz9jSq0MZ0ldGUjynd67l8PplNG/XjcYebbGoacWHy3drU5MqM6bh0+Yik8tZ8r+RuPn05k56CoNe/bjUOu+CIJRPojHk+3tB+JeRSCSsmDqQId7NKt22QKnGzLjs+93cQqVOMG3oC5UZ2QVY1yxJJ1CoivTurnkzPQeJpCQ//HHzC4jkjWX7iVv+hvbl0nvu5CswlsvKvQ73pGTlYWosp7aFid7jlemrPEpVEXtC4zA1ktG/jbPeOntCYnFvVBfHu+uuP2wdpaqIhIwczEzkOstXlqXN//5kULsmfPVyt4onctekn/dg7ODF5s2bDW5TWRKJhNe+XUW7PsMq3VZZWICxqVmZxwvzc3WCaX0vVOqTk5VODauSVXpUykLtDpwPyki+iUQioU59+0qPu7LO7t3EH7Mms+h4AmaWNStu8JDyc+4gNzIu95oaQq1UcOH4boyMTR8p712tVJCZkoCxqZnOcp6P4v/s3XdUVMfbwPHvFqoNxV6woAIWbIhdEXuvscUeo9H0vCaa+ospakyixkRjNBo1amLvvSvYAAsKKkWkSe99d9l9/9iIrixVYCnzOWdPTubOzH0u3t199t65M2p1JsnxMTneAQD4dEQbOvQdwYSPluW7X/cz+9mweGa+hiMKQlkmrrQLQgHllVy+fPU7vw9UPkvYAb0JO0CjmsWfrL9Moco+3r6aed7J1zN1q+c+JV1B+spNhioTd98wvp6c89je/Iw5z08dYyMZzQrw0GlmPsZ0lzV5JZcvX/3OT8IOZCXsgN6EHcCyXsmvBqxv+EtRMq+S84/EglApFTz2vMn4D757pX7kxibUtiraZzSkUlmuCTuAJlNdpPsUhPJEJO2CIOgll8uoYmbM+3+eo3PzunRoVoc+bawMHVaObvmH88WE7iUy1WV+PAiJ4fzdQEJiEklKU2BiJD5uyyKZXI5ppSps+/Ydmtk70qRVR+y65H/61ZIWcN+dMe/8r9RMdZkfof7eeF09S2x4MGkpiTn+WBOEiq7svKsFQShRo7u0KNTwIUMpbT8o7BpaZj1gu2y6k2GDEQrNYcDYQg0fMpTS/IMiJw2sW2U9hDvp4x8NHI0glF6l45KUIAiCIAiCIAg5Ekm7IAiCIAiCIJRyImkXBEEQBEEQhFJOJO2CUAEoVJlc9grmi+2XOXvniaHDKTSFMpML94L49agHN33DyuWsLELJUikVPLx5kd0/L+ae62lDh/PKEmMieORxxdBhCIJQDETSLggVwMOQGA7e8GH9yduExScbOpxCiU5Mpdsn2wiJSWRKn1Ycd/dn6sojInEXXslT/we4nznA2Z3rSIgKM3Q4hZYUF82eVZ/z6Qh7bp8/YuhwBEEoBiJpF4QKwL5Jbd7oX3ZXH1RrNMz85Rh2jWoyzakNllXM+HJiDx6GRPP9nquGDk8ow6xs2+E04U1Dh/HKYp4G0W34ZJQZaYYORRCEYiKSdkGoIJ7NXy5BYuBICu7aw1CuP3rK9L5tsspkUgmTerXiz9N3Sc1QGjA6oayTZc1pXvbeG880ad2Ruk1aGjoMQRCKkZinXRDKkZR0Jcc9/PELi8OuUU2c21pRNY8VR/3D43D3C8crKJouLeszzEF3FUSNBq4+DOFeYBQyqZQW9avj9N+c6LltK0pH3fwAsGtUU6fctqElqRlKztx5wqgyNKe8UPIyUlO4ffEoEYG+NGjeitbd+mNWuWqubSIC/Xh8z40Q3/s0b9+VDn1HZG3TaDT43HIh+NE9pFIZdZu2pNULc6TntV0QBKGgRNIuCOWE79M4vtx5mS8n9GBM15YsWH+aT/46z5lvJtG4tv4l0tefvM0Jj8cc/GwcwTaJjF66j8j4FGb1t8+qs3TPVaxqV+WtwR24ExDBJ1suZiXmuW17WXhcCk8iE3I9BokEurSsn608IELbro6FuU55rara//cPj8u1X6FiC3/iw56VnzHm3a9xHDSOzV/NZceyj/js74vUatBEb5uzO9dx9+IxPvrjKLFhwfw0byiJMRH0GT8HgEPrvqVmg8b0n7KAQO/b7Fz+kU5Sntf2F8VHhREd+iT3g5BIaN6ua2EOXxCEckIk7YJQDmSqNby59gRv9LentZX2avQ7wzpy1M2PR6GxOSbtm8544mzfGIkErGpVpY1VLU7dCchK2jUa2HbhPpvfGwpA+6Z1GNyxaZ7b9Dlw3Ycvd1zO9TjkMinhW9/NVh6ZkIpMKsFYLtMpNzPRfoRFxKfm2q9QcanVmWz8bDZOr82hYQvt8KqB097n1rnDhD1+mGPSfnH3Blp3649EIsGyvhWNWtrjefkkfcbPQaPRcHn/X8xbsQ2Axq060K7P0Ky2eW1/mfvp/exe+WmuxyGVyVl/M7Yghy4IQjkjknZBKAfO3gngfmAUA9o/T5rtm9TmyZ/zsyW6Lzr8xTjMTYwAeBQaS2hsEklpiqztEgk0r1edN349wao3+jGkUzPeGdopz236vDmwHbP6tS3U8VUyNdJb/mzmmNrVzPVuF4R7LqcJfuRJ256DssqsbNux5spT5EbGObZbuOE4xmaVAAh7/JC4iBDSUpIAkEgk1G3cgg2LZzLt8zW0dxrGwGnvZbXNa/vLnCfNo8/42a96qIIglHPiQVRBKAfuB0VjbmKEZVUznfLcEnaAetUrc8s/gk+3XcTnaSxNa1dDrdGdQvGHGU5UMTNm2qojjF22n4TUjHxte5lcJsXUWJ7nS58GllXIVGtQKDN1ypPTtT8wbBrUyPU4hYorxOceJmbmVKmu+zxEbgk7gEXt+jzx8uDfHz8mLOARtRo2Q6NWZ22fvOgnzCpVYd3/TWbl/JGkJusO/cpr+4ukMjlGJmZ5vgRBqNjElXZBKAfUGg2pGUpcvEPo2zb/D4Iu23sN1weh7F00GlNjOUdu+mWr06ZxLS58P5lv/nVl6/l79P1iJ1eWTaV6ZdNct73s9uMILt0PyjUemVTKu8OzX61vWb86AKGxSTStY5FVHpuknd7OpoFlvo9ZqFg0GjUZaak8cr9Cq67O+W536Pfv8PFw4YO1BzAyMePW+UM62xvZ2PPFThf2r/kfl/dt5rspvfjf7utUqlo9X9tf9MTrFg9uXsg1HqlUxqAZH+Q7fkEQyh9xpV0QyoFW/82qsu/qQ53y2OR0jrn7620TGJXIzwdvMqGHbdYVbs1LV9kVykx2uzyksqkxK2b25Z+Fo4iIT+Gou1+u2/TxD4vj8E2/XF9H3PS3nerUBmMjGTd8dBe/uRMQSZvGtbCuZ6G3nSA0aN4agBsnduuUpyTEcvuC/kWIokMDOfbnCroMnZh1hVvzwiJeKkUG14/9i6l5ZaYs/pl31+wlITqc2+cP52v7yyKC/PA4ezDX161zh/S2FQSh4hBX2gWhHBjcsRltm9Ti3ysPMDGSM6pLC7yConF9EMLmd7UPwCX+N3Ql5b85zVP+G1qy79ojxnRriVdQFFcfhqJQZZKSrkSDBiOZjC3nPHmthy0SCfRt25gaVcywrGKGBnLcps/4HraM72FbqOOrXc2cOQPa8dsxDyb2tEMigQxlJqduBbDxncFIJWV3fm2heLXrMxQrm3ZcO7oTIxNTHPqPJsTXi0ceV5i3fCsAacmJAGSkpfz3X+2qwW4n9+I4aDzBPvfwueWKSpFBRmoKCkU6l/ZtosvQiUgkElp1daayhSWVLbR3fDRoct3+si5DJtBlyIRXPtbUpHhA+6NBEITyR/b1119/beggBKGkLVmyhJFdWmDbsHwMq5BKJAzq0JQHwTEcvunLbpcHZCgzWTO3PxaVTLnlH86K/TcIiEggKjGVhpZV6NKyPqExyZy6HcDB675Y17VghGML9l/z4aZPGCM6N8dILmPF/hvceRIBwHnPQFo3qsmsfvZkqjU5bisOTm0aExqbxIZTd4hNTuf0nQBGdG6Os33jYtmfoR264YusWl0mTHj1ZC4nS5YsoVP/0dS3tiu2fRiaRCLFvtdgQv288Dh7kOvH/kWlyGDGV2sxr1qdAC8PjvyxlKiQAJJioqhRtxHN23clNiKEu5dP4H5mP3WsrOnUbxRup/bif/cGHZyGcXLLagIf3AGNBq9rZ2nQvA19xr8BgDpTxZE/lue4vTjcdz3DyS2reOr/gNiIUCpVtcCiVj1MzCsX2z5Li6ePH+Bx9iAinRHKO4nm5fvhglABSCQS/nx3KKPL4YI8CakZqNUavePK9UlOV1DZ9PlDeQplJsZGzx9gVWWqUWs0RCZok/0X5batuGSqNcQmpVGrnM8YM3vNcYyt2rFnz55i24dEImHu8i04DBhbbPsoTVKTEtBo1HrHleuTnpqM6QtJr0qRgdxYu1iZOlOFWq0mMSaSGnUbZmub13ah6Lif2c+GxTOzDe8ThPJGDI8RhHKmWh4roL7sxYQd0EnYQTvrC6A3Kc9tW3GRSSXlPmEXiod5Ff3rFeTE9KWr1M8SdtDO+CKVkWNCntd2QRCEghIPogqCIAiCIAhCKSeSdkEQBEEQBEEo5UTSLgiCIAiCIAilnEjaBUEQBEEQBKGUE0m7IAiCIAiCIJRyImkXBEEQBEEQhFJOJO2CIAiCIAiCUMqJpF0QBEEQBEEQSjmxIqpQIUkkEkOHIAh5Gj9+fLGviCoI5YVIZ4TyTqyIKlRIu3btKnCbtLQ0fv31V+7evcv8+fPp2bNnMURWti1cuJDOnTszceJEQ4dSLjRq1KhY+y/M+0DIn6CgID7++GNWrlxJgwYNDB1OqRIREcH333+PSqVi4cKFNGvWzNAhCUKZIK60C0I++Pr6Mnr0aKKioti9ezdOTk6GDqlUcnBwwNnZmRUrVhg6FEEwKDc3NxwdHXn8+DFNmzY1dDilTmxsLJMnT+bSpUusW7eO2bNnGzokQSj1xJh2QcjD8ePHcXR0xNTUFHd3d5Gw58LExASFQmHoMATB4DIyMgDte0LIrkaNGhw/fpwPPviAOXPmMG/ePJRKpaHDEoRSTSTtgpADjUbDDz/8wIgRIxg+fDguLi5YWVkZOqxSzcTEJCtZEYSK7NmPV5G050wmk7F8+XL++ecfduzYQb9+/YiIiDB0WIJQaomkXRD0SE5OZvz48XzxxRcsXbqUv//+GzMzM0OHVeqJpF0QtMSV9vybOHEiV69eJSQkBAcHB9zc3AwdkiCUSiJpF4SX+Pn50bVrV65cucLp06dZtGiRoUMqM0TSLghaImkvGHt7e9zc3LCzs6N3795s2bLF0CEJQqkjknZBeMGJEyfo3LkzJiYmuLm50bdvX0OHVKaIpF0QtDIyMpBIJBgZGRk6lDLD0tKSEydO8P777zNr1iwxzl0QXiKSdkHg+fj14cOHM2zYMFxcXGjcuLGhwypzRNIuCFoZGRniKnshvDjOffv27fTv35/IyEhDhyUIpYJI2oUKLzk5mddeey1r/Pr27dvF+PVCMjY2Fkm7ICCS9lc1adIkrl69SnBwMA4ODri7uxs6JEEwOJG0CxWan58f3bp149KlS5w6dUqMX39FYspHQdASSfura9euHW5ubtjY2NCrVy+2bt1q6JAEwaBE0i5UWCdPnsTR0REjIyPc3NxwdnY2dEhlnhgeIwhaImkvGpaWlpw8eZL333+fmTNnMm/ePFQqlaHDEgSDEEm7UOG8OH59yJAhuLi40KRJE0OHVS6IpF0QtDIyMjA2NjZ0GOXCs3HuO3fuFOPchQpNJO1ChZKcnMzEiRP54osv+P7779mxYwfm5uaGDqvcEEm7IGiJK+1Fb/Lkybi6uhIYGIiDgwMeHh6GDkkQSpRI2oUKw9/fn+7du3P+/HlOnjwpxq8XA5G0C4KWQqEQSXsxaN++PW5ubrRs2ZKePXvy999/GzokQSgxImkXKoRTp07h6OiITCbD3d2dfv36GTqkckkk7YKgJa60F5+aNWtmjXOfPn0677//PpmZmYYOSxCKnUjahXJvw4YNDB8+nEGDBuHq6irGrxcjMeWjIGiJpL14yeVyli9fzvbt29m4cSPDhg0jLi7O0GEJQrESSbtQbqWnpzNjxgwWLFjAd999x86dO8X49WImrrQLgpZI2kvG66+/jqurKw8fPqRz587cu3fP0CEJQrERSbtQLgUHB9OzZ0+OHTsmxq+XIDFPuyBoiaS95HTo0AF3d3esrKzo3r07e/fuNXRIglAsRNIulDuXLl3CwcEBlUqFm5sb/fv3N3RIFYa40i4IWiJpL1k1a9bk9OnTvP3220yYMIHFixeLce5CuSOSdqFc2bBhAwMGDMDZ2ZmrV6/StGlTQ4dUoZiYmKDRaFAqlYYORRAMSiTtJe/ZOPdt27axZs0ahg8fLsa5C+WKSNqFciE9PZ2ZM2eyYMECvv32WzF+3UCeJSniartQ0Ymk3XCmTp2Ki4sL3t7eODo6cv/+fUOHJAhFQiTtQpkXHBxMr169OHLkCCdOnGDRokVIJBJDh1UhiaRdELTEiqiG1bFjR9zd3WnYsCHdunVj3759hg5JEF6ZSNqFMu3y5cs4ODigUChwc3NjwIABhg6pQhNJuyBoiSvthlerVi3OnDnD22+/zWuvvcbixYtRq9WGDksQCk0k7UKZtWHDBvr374+TkxNXr16lWbNmhg6pwnt2ZVEk7UJFJ1ZELR2ejXPfunUrv/zyC8OHDyc+Pt7QYQlCoYikXShz0tPTmTVrVtb49X///ZdKlSoZOiwBcaVdEJ4RV9pLl2nTpuHi4oKXlxeOjo54eXkZOiRBKDCRtAtlSkhICL1792b//v0cOHBAjF8vZUTSLghaImkvfTp16sS1a9eoWbMm3bp1Y//+/YYOSRAKRCTtQplx5coVHBwcSEpK4saNG4wYMcLQIQkveZakiAWWhIpOJO2lU/369bl48SKTJk1i/PjxYpy7UKaIpF0oEzZs2EC/fv1wdHTkxo0b2NraGjokQQ9xpV0QtETSXnoZGxuzYcMG1q9fz6pVqxg5cqQY5y6UCSJpF0q1jIwM3njjDd566y0++ugjDh48SNWqVQ0dlpADkbQLgpZI2ku/uXPncuHCBW7duoWjoyPe3t6GDkkQciWSdqHUCg0NpXfv3uzdu5cDBw6wfPlypFJxypZmImkXBC2RtJcN3bt3x93dHUtLS7p27cqBAwcMHZIg5EhkQEKp5OLigoODAwkJCVy/fp1Ro0YZOiQhH0TSLghaCoVCLK5URjwb5z5x4kTGjRsnxrkLpZZI2oVS59n4dQcHB27cuIGdnZ2hQxLySS6XI5VKRdIuVGgqlYrMzExxpb0MMTExYePGjVnj3EeNGkVCQoKhwxIEHSJpF0qNjIwM5syZw1tvvcWHH37IoUOHqFatmqHDEgrI2NhYJO1Chfbs/BdJe9kzd+5czp8/j7u7O46Ojjx48MDQIQlCFolGo9EYOghBCA0NZfz48Xh5ebFt2zZGjx5t6JCEfFi3bh0+Pj6kpaUBEBcXx5kzZ2jcuDEWFhZkZmYSHx+PXC5n586d4q6JUC6NGDGCJ0+eYGZmhrm5OWq1OuvhxsaNG2NsbIxcLqdKlSosXrwYCwsLQ4cs5CE0NJRx48bx4MEDtm7dKr6ThFJBbugAhPJPpVKxatUqPv74Y73bXV1dGT9+PFWrVhXDYcqY2NhYfvnlF+RyORKJBKVSCZBt+rRatWphY2NjiBAFodg1adKEY8eO8fI1sAsXLiCTyZBKpWRmZmJjY8Py5csNFKVQEA0aNODSpUssWLCAsWPH8sknn7B06VK9kyEcO3aMRo0aYW9vb4BIhYpEDI8Rit3q1av55JNP+O2337Jt27BhA87OznTq1ImbN2+KhL2MmTlzJlKpFJVKlZWwv8zIyIgJEyaImX+EcmvMmDHZEvZnMjMzUSqVSKVS3nzzzRKOTHgVJiYmbNq0ifXr17Ny5UpGjx6dbZy7j48PEydO5I033hAPrwrFTgyPEYpVYGAgtra2pKenI5PJOH/+PL179yYjI4N33nmHTZs25XoFQyj9+vXrx+XLl1GpVDnWOXv2LP369SvBqASh5GRmZlKzZs1cF+iRyWSEhYVRq1atEoxMKCouLi6MHz8eCwsLDh48iK2tLYmJiXTq1IknT56gVqv57bffmD9/vqFDFcoxkSUJxWrBggVkZmZm/f/IkSO5fv06Tk5O7Nq1i3379on518u4OXPm6Pwbv6xq1ar06dOnBCMShJIlk8kYM2YMRkZGerfL5XKGDx8uEvYyrGfPnri7u1OtWjW6dOnCoUOHmDlzJoGBgahUKtRqNQsXLiQ0NNTQoQrlmLjSLhSbvXv38tprr+mUyeVyateuTaVKlTh8+DC2trYGik4oKunp6dSuXZukpKRs24yMjHj99df566+/DBCZIJSco0ePMmLEiBy3HzlyhOHDh5dgREJxSEtLY968ebi6umZdYX/GyMiIUaNGsWfPHgNGKJRn4vKmUCwSExN5++23s11BV6lUREZG0qFDB5GwlxOmpqZMnTpV71VGpVLJ2LFjDRCVIJSsAQMGYG5urndbjRo1GDRoUAlHJBQHMzMzxo8fT0BAQLYx7Eqlkr1793L06FEDRSeUdyJpF4rFZ599RmxsrN4Hc1QqFXv27OGXX34xQGRCcZg1a5beB1HNzMwYMGCAASIShJJlYmLC8OHDs/14NTIyYs6cOTkOnRHKlkePHjFlypQct0ulUubNm0dKSkoJRiVUFCJpF4qcm5sbv//+e64PJmo0Gj766CMuXLhQgpEJxaVz587Y2dkhkUiyyuRyOcOGDcPU1NSAkQlCyRk3bly2zz2lUsnMmTMNE5BQpJKSkhgxYgQKhSLH2YLUajWRkZF8++23JRydUBGIpF0oUiqVilmzZuXrwVKNRsOECRMICQkpgciE4jZnzhydf/fMzEzGjRtnwIgEoWQNHTpU54q6VCrFwcFBTGVbTkydOhVfX98cp7d9RqVS8dNPP+Hp6VlCkQkVhUjahSK1evVqHjx4kONV9mdfaJUrV2bq1Kn8888/1K9fvyRDFIrJjBkzsl1pHzp0qAEjEoSSVblyZQYMGIBMJgNAIpEwd+5cA0clFJXffvuN1atX06ZNGwCMjY1zrCuRSJg1a5aYu10oUmL2GKHIBAUFYWtrm7Wk/TMymQyNRoNMJmPAgAHMnDmTUaNG5fqBJ5RNo0aN4vjx42g0GgYOHMjx48cNHZIglKgtW7ZkLbRjbGxMREQEFhYWhg5LKGJeXl7s2bOHzZs3ExwcjLGxMQqFQqeOVCpl7dq1vPXWWwaKUihvRNIuFJnhw4dz+vRplEolEokEqVSKRqPB0dGRWbNmMXnyZKpUqWLoMIVidOTIEUaOHIlUKmXDhg288cYbhg5JEEpUbGwstWvXRq1WM3nyZHbs2GHokIRi5uHhwbZt29i+fTuxsbHI5fKsu83m5ub4+vqKO8pCkRBJu1Ak9u/fnzV+WSKR0LlzZ6ZPn86ECRPEgiIViEqlol69esTGxhIeHi7+7YUKydnZmQsXLnD+/Hn69u1r6HCEEqJUKjl16hQ7duzgwIEDZGRkADB+/Hgxd7tQNDQv2bVrlwYQL/Eq9a9du3a9fPoWGfE+EK/S8DKE8ePHG/y4xativ8aPH1+s57ihj0+8xCs/L33vAzk52DinZ06bBEFHcEwKEgk0rFGpxPb55p8uJbKfbd9/WCL7KU/CouO47xfIgK7tDR1KmXXjng9r/z1msP072tvx7nSxKFZhJSQlc/HGHUb1F9+jBfXrtv0lsp8eE+Zj1aZziewrIyWJ2KdPqNeibYnsTyj7XHet01ueY9I+qlPjYgtGEF5VSSXtY/t3K5H9lDep6RmYm5oYOowyzZBJe4O6NRk3qI/B9l8eTBreX7wHCmH/6cslsh+rNp2xdx5TIvsShIK6d+GQ3nIx5aMgCEVOJCtCRSfeA4IgFDWRtAuCIAiCIAhCKSeSdkEQBEEQBEEo5UTSLgiCIAiCIAilnEjaBUEQBEEQBKGUy3H2mLIuMDqZlcfvs2iEPfWrm5dY24JQqNRc9Y3gfnAcXZrXomOTmsikkjzbJacr2ef2hKDoZJrWrsK4zk0wM87+T3nmfihJacqs/38al8obTi116ua3L6FsCAiNYMXm/XwxbwINalsWe7uCylAocbntjafPE7q3s8WhTQtk0oJdO4hNSGLzwbMsnJH7zA/3fANxve2NkZGcwT06Zh1XQlIKWw+fJzgimsE9OuLUuW2B/nUCKAAAIABJREFUYxBKl4CQMH74YydfvjODBnVqlljbgshQKLni7onnQ3+6d2xDZ3vbgp/78Yls2nucj+dMyirzuP8I/6Cneus7trOjSYO6BaonlB2xT59wfutPDHjjM6rVzv+Kq4VtV1AqZQYBt10J871HY/tuNGrdCalUVqA+UhNiuXl4K07Tsk+/XND+w/zuE3DnKjIjI2y7DSrWYy8u5TY78wyK5Z9r/ozsZFXgxPtV2uZXdFI6g1ec4oPBrZnS3ZpfT3uz+oQX2+b3yTVx94tIZPTKs1Q2lRMSm4JCpWbNKS+OLhxI7apmWfV8wxOZuu4iL653O8ahsU5Cnt++hLLj7qMA/j56gTH9uhYo+S5su4KIikug7+zPWThzDNNHOLPq70P8uOUAu376pEDJy9vfr+fGPZ8ck/aY+CS+WruDsOg4fln0Jo3qPk/E4hKT6T3rU7q2teFpVCx/7DlJRztrLm5e+srHJxjOHW8/th08xdhBvQuceL9K2/yKio2nz5T3+OTNycwYM4iVf+1mxcZ/2PPrkgKd+/P/t5Ibdx9kJe0ajYYZnyzjcbD+ZPzq7nXQIP/1hLLl6aO7eBzbQdu+owuUgBa2XUEkx0Wxbu4A+k7/iE7Dp3J5xxou/v0z05bvLFDivm/5ewR5uWVL2gvSf0pCDCd/X0JSdBijP16FRZ2GRXKMhlBuk/YRHa14+ON4alQu+LRbr9I2P9QaDbM2XKZVfQum9mgOwBej29P5y0MsPXSHL8d0yLHtl3s82P2eM60aWBCTnMH3B++w3dWPpYfusnpa16x66889YP8H/WlSq0pWWc2Xjie/fQllx2jnrgSe2oSlRZW8KxdBu/xSqzVMWfQzra2tmDmqHwBL3p5C2zHvsuT3f/jm7dfz1c9fB8/h/Tgkx+2BYVH0nrmYAd3as3/Vp9m27zt7jct/LaN61coALN+0j+827OL63Ud0bWdTiCMTSoMxA3sRfHkPltWrlWjb/FCrNUz+8Btat2zKzHFDAPjmgzdoPWQGX//yF99++Ea++vlr73Ee+AfqlJ2/fpvBvR15d/o46tV6/mP7irsn73y9ivZ2zQtUTyhb2vQdxRfH/KhUrWAXWgrbLr80ajU7Pp9OXetWdB4xHYBBb33FjxM6cPqP7xg8/3/56sft8FYiAx6+Uv9xYUGsneNMy679mPnTniI4OsMq1/eEXyXpLq6EHeCabyQ3/KKY2vP5B6VMKmFSt2ZsuuRDaoZKb7u7QbGMc2xKqwYWAFhWNmHRCHukEgluj6Oy6kUmpuEVGk/TWlVoUN0862ViJCtwX0LZU9jEu7gSdgDXO95cu/uQmaP7ZZXJpFJeH9aHP/acJCUtI88+/ILCuOsTwJCeHfVuVyhVTP9sJdWrVuaXRXP1bu/ftV1Wwg4wZVhvAKpUFneWyrpXSbqLK2EHcPHw5Oqt+8weNzSrTCaVMnXkANb/c4iUtPQ8+/ANDOHOQ3+G9OmiU17Z3JQVn8yncf06GBvJs15HL1xl9IBeBa4nlD2FTbyLK2EHCLh7lSee13EcOSOrTCqV0WnIZK7t24AiPTXPPqKD/Xjq64ltj0GF7j9TqWDnV7Mwq1qd0R+vKoIjM7wym7SnZKjYctmX7w7eYedVfx4+jSdT/XwsiFqjwcUngtuBMTrtQuNS2XD+IWqNhodP41l14j57bgSg1uTdtqgcuxMMkJUwP2Nb34LUDBVnvfTfwrSyrMS4zk10yupUM6OdVQ2qmRtnlf15wYdbAdG0/+wADl8e4t9rj3WGyRSkL6H0SElL5899p/nfup1sO3IBb/9gMtVqnTpqtYbLHl54ePtnlYVExLBu13HUag3e/sGs+Gs//5y4jPrF94uedkXp0IWbALRubqVT3sq6ESlpGZy+eivX9kpVJkvW/8t37+R8RX7J7//g4e3Ph9NGUcks+49uYyM5TerX1im77xvEkJ6daG1tla2+UHokp6axcdcRvlq9ma0HTuHt90Tn3FerNVy6eReP+4902oWER7F2+wHtue/3hB827GTnkbPZzn19bYvKobOuALRu0USnvFWLJqSkpXPqys1c2ytVKpas2cJ3H87Jtq1Lu1ZIXxpOqVZrOHTWhVH9exa4nlB6KNJSuH5gM6fWL8H92HYiHj9Arc7UqaNRq3l86wohD55/fiZEhuK6Zz0atZqIxw+4sPVnbp/aheaF94u+dkXJ69IRAOo2a6VTXqeZHYr0VB5dO51r+0yVktMbvmfw/CWv1P+pDd8R8uAWfV5/D2PT4ns+sSSVyeEx8akKhqw4xaqpXZjQpSkLtlzlg7+v06GxJY7WtZjaszkrjnpy5FYQP052pENj7S/KU56hfPD3NWKSM9AA3iHxxCSns+zwXZ7GpfL+4NY8CkvQ2/Zl4QlpBEYl5xqnRAKO1rWylQdEJgFkGzdes4opAP4RiXr7q15J/9X/0LhUZvVpkfX/3VvWRpnZCveAKG4FxPDetmvsvRnArneds8bL57cvoXSIT0rBafZnrPv8LSYP7cObX//Kgu9+p1Mra7ra2/LDhzN4GBDCdxt2c/D8dVYvepNOraw5fsWDBd//TnRcIhqNhvu+QUTHJ/LN+n8JjYxh4YwxetvpExYdx5PQiFzjlCDRO8zkcUg4AHUtq+uU1/rvCqdvUFiu/S7ftJd3Jg2lsnnOV8T3nHZFLpPh5RfE0AVL8PD2o51NM1Z8NJP2Nk116mo0Gg6cu87SP/dwaM3nue5bMKz4xGT6THmPdd98xJSRA3jj0x+Y/9XPdGpjQ7cOrZk1bgjfrdvGgdNXWPPle3Rqoz3/jl+8zltf/Ux0XIL23PcJICouniW/biE0IpqP50zigX+g3rYvC4uMISAk93NUIpHQrUPrbOX+QaEA1K2l+11Sq4b2oo3vk5yHewEsW7+dd6aNpUql/N0NunbHC4lEQpd2dkVSTyh5aUnxrJs7gHGL19BxyCR2fzOPfcvepaFdRxq37cLw95YS+eQRZzYt4/6FQ4xeuJKGdh154HqSfcveJSU+GjQawvy9SImL5vTG70iIfIrTtA/1ttMnMTqc2KdPco1TIpHQuG2XbOUxIY8BqGJZR6e8cnVtPhQdlPvFofN/raDHhPmYmFfWuz2//d89uxepTE64vzcb3xtJiLcH9W3aMeL9ZdRv2S7XGEqrMpm0rz3jTYYyk67NtVfNPhrShuN3ghnr2IR5zrYALBzaliO3gnTaDbJvwOs9mrPmlBet6ltk1e2/7ARHbwfx/uDW2NSrprftyw66B/LVXo9c68ilEp6unZKtPCopHZlUgrFc90aHmbF2+EpEQlqu/b7omm8kcpmEt/o9/+B1squHk109ALxC4pi7yYXLD8NZe8ab9wZl/1LJrS+hdFj992EUChXd22v/bT6ZPY7DF28yYVBP3p40DADbpg35dM54Dp6/ntVuaK9OzBjpzM9bD9La2iqrbs/pizh0/gYLZ4zR206ffWeusnj11lzryGUy4q/+k608MiYemVSKsZHuR47Zf0u9h0fH5dinyy1vZDIpXexzHnP+NCqWp1Gx2LdswqdzxlO9amX8gsIYPP9rBs37H7f3rKZ+rRoApKRlsHj1FnaddCE1PQPHKQs5vOaLHH+sCIa16q/dZCiV9OjYBoDF817n8DlXJg7tyzvTxgLw2VtTOXD6ik67oU5dmTl2CD9t+pfWLZtm1e0+YQEHz1zh4zmTsLNurLfty/aevMSiH9fnWkcuk5F450S28siYOL3nvnnWuR+bY59X3D2RyWR0bd8qxzov23/qMiP79UAiyX0msvzWE0re5Z1rUCkzaNKuGwDOMxfidfko7QeMp8eE+QDUbmJDv5mfcP/Coax2dj0G03n4VC5uX01d61ZZdX+d7cT9i4dxmvah3nb6eJ7bz7Ffc7+gIZXJ+f5S9uG0SbFRSKUyZEa6d+2NTLQ/PJNiwnPsM+COK1KZnMZtHXOsk5/+E6PCSIwKo16LtjjP+gTzqtWJDvZjwzvD+ePtYfzfTjeq1qqX6/GVRmUyaX8SlUxMcgYKlRpjuZTWDatjbiLnadzzcVIvJ8TPmP43rrt53apZZS3rVuOC9/MhKTm1fdGcvjbM7F24K9KVTPT/2Z/dsq1dLX9XVDLVGn44cpe/5zvl2GfrhtU5++kQun19hP1uT3JM2vPTl2A4j0PDiY5PRKFUYWwkp22LxlQyMyEkQncIl4mRUba2pibaD7aWTZ5PD2HbrCFnr9/Ntd3L3powmDfGDihU/JXMTfWWPxviUMfSQu/2hKQU1u85yZbv3s+1/zsPAwAY3qdz1pj15lb1WP7BdGZ+8Qsb957if/Mna2MxM+HXT+fxy6K5/L77OJ/98jcf/LCRK1uXF+rYhOL1ODiM6Nj45+e+TTMqmZkSEv48WTA21n/+mppqz32bpo2yyuysG3PG1T3Pti+a//oo5kwcVqj4c7o79Pzcr6F3e0JSMuv/OcTWFZ/le18ajYaDZ6+wedniIqknGEZs6BNS4qPJVCqQGRlTt3kbjE3NiY8M1aknN84+lFX+X+Jay6plVlmdpjb43Difa7uXdR8/ly6jZxcqfhPzSnrL1f+d85VfukL+THpyAlf3bWTy13++cv+hPtrvt9a9hmFeVXuHt2aj5gx7dyn/fv0G1w/8ycC5X+Z9MKVMmczOeraswyGPQG74R9LLpi4JqQqUKjV9bAs3z6xMKkGTdzUdcqkEeQHnG32mQXVzMtWarB8dzySna+dUt6mbv4eivt53i7f629G2UfVc65kZyxls35CdV3O+JZXfvgTD6N2pDfvPXuPa3Yf0cWhDfGIKCqUKZ0f7QvUnk0rRvPygQx7kMhlyWeHO+YZ1apKpfkCGQonJC0lScqr2rpJdU/1TcC1avVU7zOfy8yTLPzicdIWSwxduUK1KJfo4tKFaZe14xZoWVXXaO7bVfnH5BGZ/TkQqlfD2pGFc9/Th0IXr2WITSoc+ju3Yd+oSV2/dx6lLe+ITklAoVfTrpv+2fl5kMmnBP+9f5dyvW4tMtTrb+ZWU8t+5n8PzFJ/8sJ5OrW04duFaVplfYCjpGQoOnXWhWpXKOHVpr9Pm2m0vFEoVPR3a5hpTfusJhtGsYy88zx/gied1rDv1Ji0pnkyVkhad+xaqP4lURrYH2/IglcmRygqXIlar3QC1OhOVMgO50fOhuBmp2qHBdZrov2t6dM1nNLLtwAOX53esooP9USnS8bp0BNPK1bDu1Dtf/ZtW0n4XmFvoDktr3KYzAFFBfoU6NkMrk0n76z2bExCVxMc7b/LZqPa4PArn89HtcW5dchPl3w6M4fKDnG/xgPbHwDsDs9/WbPFfUh4al0LTF6ZkjEnWzqDRsl7eSfs2Fz/aNqrOYPv8zTfaom5VrOtU1butoH0JJW/mKGceh4Tz3vKNfD1/Epc8vFiyYAoDurXPu3ER8fD254KbZ651ZFIpH04bla3c5r+r/KGRMTRr+PzHdUy89kPWNoekPToukfM3dPeZkJxKWkYGC3/+C7tmjejj0IbmVtrbnLcfPNap26hOTYzkslzHAzs72nPZ475I2EupmeOG4B/0lPe+/YWv35vFpZt3+eaD2Qzo2bnEYvC4/4jz12/nWkcmlfLR7AnZym2aaZPykPAorK2ef0fFxCUAYGvdWG9/UXEJnNtxUKcsMTmF1PR0/m/ZOlo1b5wtaT9w5goj+nbLc+73/NYTDKPziGnEhDzm4I8fMXDeFzy+dYVBb31Fyy798m5cREIe3MLP/VKudaRSKb1fz34XtHZjbVKeEBGKZcNmWeWpCdqhYLWb2OrtLyU+Gle3Czpl6cmJKDPSOLx6EXWa2mHdqXe++jet8l+e9eiOTn/V6jREJjfKcbx8aVcmk3a5VELtamasmd6NGpVNGGzfMF9DWoqSf0QSR27nPu5dnkPS/noPa34+fo+b/lE6SbtnUCxtGlbHuk7uU+8dvxOMRqNhQtdmOuVXfSPp3qJ2Dm1CGNIue2JUmL6EkieXyahracEfXy7A0qIKQ3s5lHiS6Rf0lIPnch/3LpfL9CbtM0Y688PmfVy7+0gnab/98DH2LZvQ3Er/D+69K7Pfvv/i1+3sPH4Jn6PPxxjXsbSgf9d23Lzvo1PXPzgcpSqTrrmMh/d+HMTQng65HpdgOHKZjLq1avDHtwuxrF6NYU7dSvzc9w0M5cDpy7nWkctlepP2mWMHs/yPHVy77aWTtN/29sXe1poWjfX/YN2/9ttsZZ+v3MiOw2fxO7cz2zaNRsOB01dYtyT7ypGFqScYjlQmp0rNOoz/fC3m1Wpg13OIzhXlkhAd7M+9PMa9y+RyvUm7w4hpnN/yI4H3bugk1aEP71CvRVtqNtL//NCMFbuylZ1Y9z9unfyXTw94F6h/iVRKyy79CPZy0+kvJsSfTJVS7wO0ZUGZTNq3XPblyK0g2lnVQKlSExKbQu2qplQ2ff5BrlBpxzbFpOjO//xsCIpS9Xz6o9j/xsdrNNoZX3Jq+6Lxjk0Y79ikUPHXrmrGHCcbfjvtzYQuzZBIIEOZyal7ofwxuwfSFx4MWrL/NvGpGayaql3s6PLDcNac9uY1xyZsuqidoixTrcEnLAHb+hbUqWrKX5d9mdi1WdZQl0dhCaQoVHw4pI1OHHn1JZL20uPPfac5eP46HeyaoVCpCImIpo6lRbbxshlK7fkdE/98BqJnt+EVyufz/8fEJ5GhUKHRaJBIJHrbvWzi4F5MHFy4OZ3rWFow77XBrN5+mClDeyORSEhXKDl+xZ0t332QbTq6L37dTlxiMms/fyvf+1j2/nScZn/ODc9HWQ+tXvK4j02TBkwd7kRahoJfdx5leO/OtLLWjnGOTUji7qMn7P15UaGOSyh+G3cd4cDpK3Ro1QKlUklwWCR1atbQuXuiUGjP3+g43fM3KVn7nNOL5350XCIKhSLr3M+p7YsmDXNm0jDnQsVfp2YN3po8ilVbdvP6yP7acz9DwfGL19n642c65/7nKzcSl5DEuiUfFXg/N+4+IDk1DacuOS/OV5B6guFcP7CZ+xcO0cCmPZlKJfERIVSpUSfb1WGVQgFoV/x8JiNFe/cyU6XIKktNiEGlzMg65/W1e1n7ga/RfuBrhYq/So3adBv3Jpd3rqHD4En/7TODB64nmbzkTyQv3eE5se5/pCbGMW7xmiLtf+g737Fubn8C793MerDV/9YVajdpSaeh2ScJKQvKZNJep5opD57GM2bVWZ3y3rZ1WTerOyExKaw9+wDQzvLStlF1BrRpwFXfyKw50lef9GLxSHtcfSK57hdJcrqSn47fo49dPf44l71tUfvf2I7IpBKm/X4RJ7t6RCSm8dGQNthb6T6UdPpeCHEpCjLVGrxC4pi+/hKpGSpuBUTr1DMxkuG5bCzBMcn8e82fDecf0rNlHTo0saR6JRMOftgfI9nzN4pnUGyefQmlR52a1fHyD2LIS/PW9nVsy59fv0sdSwvcvHz5Zbt2/tp9Z6/SzqYplc1MOXJROw/0T1sO8OW8iVy55YXrHe0X97JNe3F2tOe3f47ptBvco3DjhXPz/btTkcukTFi4gn5d7AmPjmfR7HHZpmMEOO7iQVxCMplqdb5v4ds1a8S5P79l8eptdLO3wdjYiJv3fDi29ivkMhkZChWHLtzg2z920dGuGQO6tceyWlUOrP6USmb6H5QVDK9uLUu8fAMYPPtjnXLnrh3ZtOwTgp5GsnqrdqXDvScv0t7OmsG9u3DF3ZPD57RzpK/Y+A//e2cGl908uXrrHkkpaSxdv51+3Trx69/7srUtakv/703kMhnj3/2K/t07ER4Vy6J5U7KtRHr84nViE5IKdN4/s//0ZYY5dc02S01h6wmGU7VmHe00he+O0Clv7uDEhK/+oEqN2gR7u3P5n98A7Uwv9VvYY2JeCa/LRwG4sG0lA978nMe3XAi4e42M1GTO/7WC5p2dcNn9u0472+4Di/wYhrz9DVKZnG2LJtPC0ZmkmHCcZy7UO9XiA9cTpCXGo1ZnIs3ns4L56b9OU1vmrz/F0TWf08S+CzIjE4Lu32TOL4cLPV7f0CSal55G2717NxMnTiTy9/wtK24Ilx6EERafRpfmtYhMSCdNqSI1Q8WRW0HYNbDIdVrD0iZTrSE2OYNaVfUnDSkZKpSZaiwKsOCR4r+7D2bGMupZlI8FBV5We/4Odu3axYQJ2W9HF4Vn74PkG7uLpf+COn/Tk6eRsXRvb0tETDyp6RmkpGVw8Px1Wltb8X8zRhs6xHzLVKuJiU+ido2cn91ISUtHqcrEoor+WQLyEhYdh5mJsd72CUkpGBnJs6bcK432n73G9M9XFfhh4aLw2muvkZkYwY6fS8fMCueu3eJpZDTdO7QhIjqW1PQMUtPSOXD6Cq1bNmHhG5MMHWK+ZarVxMQlUNtS/wP/yalpqFSZWFQt+HjbJ6HhVK1kTg0L/c8uFbSeobz+f98iq1qHPXuKb8l5iUTC5G82Y+88ptj28Sp83S6QGBVGE/uuJMVGokxPRZGeyv0Lh6hj3RqnqR8YOsR8U6szSY2PoXKNnO/cK9JSyFQpMauifxaxV+0ftPPOG5mYFmofhrDjy5nYWhplex+UuZ8ad4NieXfrNW4vHYNMKtEZE97Dpg6HPHIfZ17ayKSSHBN2yHl6yNwYy6U0q118S9ILJev2w8fMW7KWh0d+RyaV6owJ79OpNfvOXculdekjk0pzTdiBV77yXa9mzrMgVSvkDwGh5N329mXuFz/ic2YHMqlUZ0y4dlaZ3MeZlzYyqTTHhB1ynh4yP5o0yN/safmtJxhG6KM77P1+AYv230cqlemM2bb+b1aZskQqleWZUBubFf4zOT/9A1StWT7O+zKXtHuHxhGRmMZ2Vz/62NajoWUlgmOSufUkBu+QON4f3CbvTgShDLnvF0h4TDxbDp3DubM9jerVJCgsCncvP+77BbJwRum8WiQIr+qez2PCo2LZsu8Efbt2wKp+HQJDI3C//5D7jwL4+M2yc5VdEPIj3M+LpJgI3I5so7mDE9XrNiIuLIjgB7cI9/PCaZp4gLgiK3NJ+6Su1sSnKDjoHsjnu92Ry6TY1bdgcndrFo1oV+KzyAhCcZs6zIn4xBT2nr7KJyu3IJdJaW1txdQRffli7kQxNlUot6aNGkh8YjJ7Tlxk4fJ1yGUyWrdoyvQxg/jynRni3BfKnY5Dp5CWFI/n2f0cXf0pUpmMutat6DTsdQbM+TTbKqBCxVLmPvEkEpjf3475/e1QZqp1Hq4UhPJIIpHw7pThvDtlOEpVJkbywi3yIghljUQi4b3p43hv+jiUKhVG8jL3lSUIBSKRSOg56W16TnqbTJUSmVysHyE8V6YzXpGwCxWNSNiFikok7EJFIxJ24WUi6xUEQRAEQRCEUk5cusiBQqXmhl8kp++F0seuHv3b6F+xsTRISFOww9Wf0NgUBrRtQC+busheWqzmmcjENHzDE+nRsk62bSkZKg55BBIck0KnpjXpY1dX792MguxPKDsUShVX7zzghMstnLvYM6h76V98JSImHp/AUHp1zH2a19iEJDYfPJvnQ7s51UtISmHr4fMER0QzuEdHnDq3FUvAl3MKpQrXW/c4cekG/bp1ZFAvR0OHlKOTl2+Q+N9CUgAh4VG8NWWUzrSmSSlp7D5+nich4Vhb1WfCMOds054mJCWzZf9JgsMiGdy7C327dhDneTmVqVTwxPMaD1xP0aJzX2y6DTB0SDlKT07A7ejfxEeEYNttINYOfbLN556RmsydM3uIexqEZcOmtB/wGkam2Wdjyk+91IRYvF2OEx8RQj3r1rRwdH6lGW6Kkkjac/DwaTyHPALZ5uKHTf3cp6czpLgUBYN+OEHnZrUIj09j00Uf2jeuwclFg3XqxSRn8OspLzZf8mFaz+bZkna/iEReX3uR7yc4MKpTY055htDlq8Osndmdbi+sjJrf/Qllj/fjYPafvcbmg2exa6Z/afXSIjoukZV/H2Lj3lPMHN0vz6T97e/Xc+OeT55Ju756cYnJ9J71KV3b2vA0KpY/9pyko501FzcvLZJjEUonb78n7Dt5ic17j9PKurGhw8nRo4Bgxr3zlc6c/q8NcdJJyH2ehDBo1kKqVDIj6GkECqWKnzbt4ty2ldSpqV3QLy4hiV6T36Vr+1Y8jYxm/T+H6Ni6JZd3/lrixyQUv4iAB3ieO8jNw1uo09TW0OHkKDUxjnVv9sOqjSOJ0WFc27eRhrYdWLDh+eKaUUG+bHxnOCbmVYiLCCZTqeDS9tXM+/0kVV6YDjI/9cJ877Hr23mMXbSGdv3GcW3fBs5u/oHZK/dRxTL7xc6SJn5C58DeqgaznWwMHUaeDnsEcmrRENbO7M6+D/rx8fC23HoSw03/KJ16QTHJTOjajHRlpt5+vtzjQfeWtenfpj6VTOSM7dyEHi3rsOzw3ULtTyh72ts0Ze5rgwwdRr4EhkUxZWhv0jIUedb96+A5vB+HFLrevrPXuPzXMjZ+/Q7H1n7FZ3Mm4O7lx/W7jwoVu1A2tLdrzluTRxo6jDyt2baPE5tW4HNmR9brj28X6tT55IffOfLHUjyP/oXfuX+YOW4Ij4Of8vWav7Lq7Dt1iSv//MqfSz/h+J8r+HzBdNzvPeLaba+SPiShBNRv2Y5u4+YYOow83Tt/kAUbzzHhy/XM+eUQ/WcvJtjbg8B7N7LqHFvzGbNX7ef//nXn0wNedB4xnZjQAE7/8a1OX3nV06jV7Pl+ATbdBmLV2gEjUzN6v/4+Riam7Plufoked05E0p6LZ0M+JJTOoR8KlZq+repRvdLzKaAmdtUuxFDFVPcBlg6NLWleJ+cV8CIS0nj4NEGnzEQuRaF6nuQXZH9C2SSXaW85SiSl85x/plMra1o2bpBnPb+gMO76BDCkZ8dC1VMoVfTv2o7qL6xQOWVYbwCqVC78QjhC2SD77/1AKX0/RETHct/nMdYc+CT0AAAgAElEQVRWDWhYt1bWy9Tk+Wf0bW9fJg3vR5uW2s/qmtWr8dXbM5BKJVy/4w38d573cKB6teeL8r0+oj8AVSuXz1W1BZDKtIMtSuvnfaZSQcsuzphXfb4gWcfB2rUZTMy152roozu0HziButbau62VLGoyYM5nSKRSAu8/T+zzUy/Iy50wv/vUb2GvE0dDu474ul0g9NGd4jvYfDL48BiNBq76RnA/JA6ZREKLulXpY1cva7t/RCIeAdF4h8bjaF2Loe0bZW1LV2Zy4m4Ig+0bEJ2Uwdn7odS1MGNg24bIpBKiEtM56RmCVCJhZCcrncTyaVwqpzxDmNm7JVd9I7jgHUY9CzNe79EcU6PcZ+gIT0jjvNdTnsal0sW6Fr1sdVfayuuYioqxXIpVTd3lrr1C4hnYtgF2DQq2VO+wDo344Ygne28GMN6xKSkZKo7dCeb7CQ7Fsr+KTKPR4HLbG0+fJ8ikUlo2aYCz4/MPCb+gMG7e9+G+XxBd7W0Y6aQ7ljYtQ8Gxy24M7eVAVFwip11vUbdWDYb26oRMKiUyNoFjl92RSiWM7deNKpW0yWVoZAzHL7szZ9xAXG57c/b6XerXqsH0kc6YmeQ9929YdBxnrt0hNDKGbvY2OHVum+9jMgSlKpMl6//l9y/e4rsNuwtVz9hITpP6uqvt3fcNYkjPTrS2tiqWuCsSjUbDFXdPPB/6I5NJadnUin7ddH84+QaGcPPuA+77BNCtQ2tG9uuRtS0tI4Oj568xrG83omLjOXX5JvVqWzLUqav2vRATx7EL15BIpYwd2DsrAQ2NiObYhWu8OXE4V9w9OevqQf06lswYOxgzE91x3vqERcZw2tWd0IgounVoTd8uz5//yM8xFZXfdx7CzfMhLfpPoUmDunw6fypTRw7QScIa169De7vmOu3q1qpBh1Yts36kGxvJs62Uet8ngCF9utC6RdNiib2i0Gg0BNxxJcz3HhKpjFqNW9Cic9+s7dHBfgR5uRPu50Vj+y607j1cp70yIx3vK8dp1XMIyXFRPLp+hqo162LbYzBSqYzk2EgeuJxAIpXStu9oTCppk9mEyKc8cD1Bl9GzCbjjiu+Nc1StVR+H4dMwMsl7xenE6HB8bpwlIfIpTey7YN2pT76PqajIjIypXk93aFqYvxe23QdR17oVANXrWlG/ZTudOlUs69DApj1S2fNcLj/1ooN8/9ui0anX0E77/n3ieZ0GNu1f+bhehcGT9mWH72JVsxLznG25ExjD4n/dshLcP84/5OTdEPZ/0J+Q2BRGrzpDZGI6M3u34KpvJB9tv87jyCSWjOuIf0QiVc2N+Xr/bfq1ro9z63pc9YkgU63hoEcgJz2D+Xu+EwB7bz7hs11upCsz8X4aj1KlJjIxjTWnvNh9PYCjHw/McTpJF58IDrg9YWbvllQ2NWL6+ktM6NqMHyZ1ztcxvSg8IY3AqORc/z4SCTha18rz76jRwOFbgfx07B673nXOs/7Lpvdswb6bT1jw11U8g2J5+DSBn1/vovMjqSj3V5F9s/5fGtevzduThnHrgT8f/bgpK8Fd++8xjl5y5/i6rwgKj2bo/K+JjIlnzriBALjc8ubtpX/gHxzGsven4xv4lGpVKvH5r9sZ0K09A7q158otbzIz1ew7e5Vjl93Y/dMidp28wv/9tJkMhRIv/yAUShURMfH8vPUgO49f4uzG73KdTvKyhxd7TrswZ+xAqpibMvHjH5kyrA+rPn4jz2N6WVh0HE9CI3L9G0mQ0LXdqw1PW75pL+9MGprn0vD5rafRaDhw7jpL/9zDoTWfv1JsgtaSX7fQpEFd3pk2lltePnzw/a86Ce5vf+/n6IVrnNi0gqCwSAbPWkhEdCxvThzBFXdP3v56FX6BoSz/eB4+AcFYVK3MZz9vYGAvRwb2cOCy210y1Wr2nrzE0QtX2fvrN/x77DwfLf2NjAwl930DUCqVhEfH8dOmf9lx+Czn/16V6/SSl27eZfeJC8ydMJwqlcyY+N7XTBnZn9Wfv5uvY3pRWGQMASFhuf6NJBIJ3Trof2ajp4M9SpWKG3cf4Ob5kHlf/MSuo+c59MfSrAdIa1jov8MaEh7F3EkjspVrNBr2n77M0t+3c/iPZbnGJuTtzMbvqF6vMT0mzCfk4W0Or/w4K8F13f073leOM2fNYeLbBbPxvREkxUTSdcxsAALuuLJ/+ftEh/gz7J3viAryw7RKNY6v/RKbrgNo2aUfj2+7oFFn4nnuAN5XjjP9h3+4c3oPh1d9gkqRTri/F5lKJUmxEVzcvppbJ//lrd9P5jqd5ONbV7hzdh9dR8/GxLwy2xa/TsfBkxj1fz/leUwvS4wOJ/bpk1z/RhKJhMZtu+RaR6PRcO/CQc5t/oHZK/dnlZtXq6G3fkJECF3HzilQPbmJ9jsg5OFt2vUfl1XHsoH2h2t8RN7DLIubQZN2jQa2ufiy6c1eALRvbMkg++cPwG2+6EPfVvWQSKCRZSXaNKzB6XshzOzdgu4tajOzd0u+2utBwxqVmN/fDgCpRMKaU16M69yEdbO0V2Sa1KrC2jPeqDUapBIJ4x2bcN7rKfvcApjjZINNPe2Dpj8c8eTn4/fYedWfGb1aZIs3JUPFh39f59IXwzA3kdO2UXUueD/lr0s+TOjSlE5Na+Z5TC866B7IV3s9cv0byaUSnq6dkmud1AwVX+71YO/NJ6QpVPT59hi733emQ2PLXNu9qFZVU44sHMiQFSdZf+4hDs1q0rmZ/h8L/8/eeUdFdXQB/Le7dBALKoKCIEVExd6w9957iTGaGNNM8qVqYiwpmsQYo4ktaqyxY8eGBQUURaQIKCC9V+nsLrDfH6urK7s0QYzu7xzOcedNufOc996dmXvvVEd7rysymYztx9zYs/J/AHRsZcOI3k92MzYfOseg7u3kLzGzRjjZW3HG47ZCae/V0ZF3Jg7h67U7sWjSkI9myFdlhEIBv+08xtShvdi2XK48tGhmyh97T1JSImPqsN5cuOHHgbMevDt5GK1ayCdjP2w5wKptR9h18hLzxquOHpBXUMgHP27ixt7VGOrr0q6lNW43/Pn78DmmD+9Dl9a2ZfbpWY5c8OLrtTvLvE9aIhEPvfZV5JaqxMM3GJFISDenshX/iubLKxDz9dodHDjrQX6hmK4zPufEum/p5GhTZRlfd2QyGdsOu7L3t28B6NjanpH9eijl2bz/BIN6dpY/D+amODnY4OruzTtTR9O7sxPvTBnNV79uwqJJYxbOln9khQIhq7ftZ+qI/mxf9TUALSzMWbvjECUlMqaNHMAFj1vsP32J96aPpZWtfCXv+z93snLzXnYdPce8ySNVypybX8D7S9dw02Uzhvp6tGtli5unD1v2n2TG6EF0aetQbp+e5vBZd776dVOZ90lLJCLb74zKa4OcOzHIuRMAgfcjmP3Fj1y64cvv/xzk83nT1NbpcTsQLZGQj96YoJSeV1DIl79s4sCpi+QXiuk8fj6ntqykU5uX37/rZUQmk3Hz+E5m/LADgGYOHWjVc7ji+nWXrdh3HYBAIKC+mSVmtm2553VWobRbt+9Jt/FzOb3+G+qZNqPXtA8AuZ5zZc9a2g+exNTvtgDQoKk11/79E1lJCe2HTCbU2w2/84foMXG+wtH0wtafuLTjV3xO76Hb2LdUyiwpyOPIqoV8vMsTHT0DzO2dCPW+xI2j2+gwbBoWjp3K7NOzBFx04fT6shc5hCItfnRX7xcnKczn1LrF+J0/iLSwgLWznZn3u4tiBfxZIv28EGpp0Wvq+2W2+2w+K6duiLR1iLzjiUwmU+xYFeZmA/LV+tqmVpV2gQBsTY15Z6sHa2Z2Y1i7Znww2FFx/dj/BmGgKxfxfmIWCZl55BRKFdeN9eUzxadNMx7bbbdu9sQGyq6JMZKiEpIeFmBeX749aqirhZZQqFDYARYOdeSPs3e5EZaiUml3uRVFobSY5UfvKNKSswqwamREZGoOnawbltunp3m7f0vm9CndTmUx0NXit5nd+HVGV/6+fJ9lR3z58t+bXFik/kFSxV7PcJztTHG2M+VfrwcM/fksJz4bTLMGyqGOqqu91xGBQIBdc3NmL17L+sXzGdWnCx/PfLLadXbTMgwfRX24FxlHXHI62XkFSnU83uJ/2jzDzlIekrStnZUizb55U8QSKYlpGTRtbIKhnh5aIqFCYQf43+xxrN5xDM87IWqV9oPnPCkQS/j2zz2KtKS0TKybmRIRm0TXNnZl9ulZFkwZxrwJNRdeLCsnj02HzrLjh4+rJR+Aob4u6xe9yx9fzWfjQVcW/7GbT37+m2s7V1WX2K8dAoEAe6tmvPH5j/y17BNG9XfmkzmTlfKc+2c1hvryrfyQB9HEJaWSk/cktKFxHfm7qbX9ExMOO2v5Iknbli0UafbWFvJnITWdpqYNMdDXQ0skUijsAJ+9PY1ft+7HwydQrdJ+yPUyBWIx36z5W5GWmJpBCwtzHsQk0NWpVbl9epr3Zo7l7amq26osbVu2wPPgBtqNeouDrlfUKu3FJSV8/+dODq9fUWp3yVBfj7+WfsL6JR+zYe9RFq3ewsLv1+F54K9qkfF1QyAQ0NDSln3fzWX8l2tx7D2C3jM+VFyfv/4UOvry93lK1H2yUuIR5+Uo1aFnJNdpTG2e6BENLeV6QxPbNoq0Rpb2FEnFZKclUbexOTp6hghFWkqRYfrN+pQru38nys9LrdLuf+EwUnEBZ/76TpGWk56ESVNr0uMisGzducw+PYvzpPl0Gze33HtVFjp6Bkz4ci3jP1+D1+HNuP65hGOrP+PDbZdL5S0pKebC1p+YvWpfmWEaVeWr27gpQ975hjMblnL4pw9wGjCelOj7BLjJV/bNnrrftUWtm8esmtaFeVuuMXuTO70dmrDprZ40Mpa/pM3qGXAlJJHzgfE42zXGqlEd/GPSy6xPV4U9utajbcJ8SVGZZfV1tDCrb0Barljl9fuJWZjW1Vcyhalsn5TlEqAlrL4TLoUCAe8OcODWg1RO3YlFUlSCjlbFfI33XX/AMZ9ozi8ajpZQQFebRny+15uv999iz/v9qr2915k1n89j1qI1TPviV/p1acv2FQtp3EA+eTRv1ICL3v6c8fCld0dHrJuZcudeRLl16umW3up8bO6SX6B6PAMY6OnStHED0jKz1eYJiYiliUk9hSlMZfv0LFoikcKWtib4au1OOjna4HrVR5H2IDaJQomUE5e9qVvHkL6d21Q439MIhQI+mDaSGwGhHL98A7FEiq6Oxgm7qvy++ENmfvY9UxYuo3+3Dvzz89c0Nnmy4GLeuCFuXrc54+5N785taWFhzp3gsDJqBD2d0v4Zj81d8goK1ZYz0NOlqWlD0jIfqs0T/CCaJg0bKExhqtKnp6nuZ8FAT5dRA5zZ5XJObZ5Fq7ewcPZE2j1j5/40QqGAD9+YwA2/YI65XdOM8+dg7P9+Ze+SOexeNBObTn2ZtnQLRo/CCxo3MiPs5iXueZ3Dun1PTJpaV8jZUUuntD4hejTGJYV5astp6+lTt7E5eQ/V61HJkfeoY9JEYQpT2T49i1CkpXB4fV4EQiE9p7xHdOBN7rqfoEgqRktb2QfF9c8l9J72Aeb2ZftUqcvXZ8ZCLBw7EXbzElEB12k3aCIxQT6kxT0ot84XQa0r7W2a1efi4uF8f8yPXdfCGPiTK+5LRlHfUIdVJ/zxCkvh4MIB6GmLOHUntkZlkRSVkJJdyABH1QcpiYQCwpOzkRaXqLV5h7L79DR3otO5GpJUpkwioYAPh6heqVdH31ZmeIQmV0qBPnA9goFtzNF6FDFnhrMNftHp/Ov1gKwCCXX11TsqVqW91xkneyu8dv/Mkr/+ZbvLBXq+8SU39/1GfWMjvt98gGu+wRxf9w36ujocu3SjRmURS6Qkpz9kUHf1zjUikZCwmASkRcVq7d7L6tOz3A5+wOVbAWXKJRIK+fSNsZXrzCPSMrO55K1cf1ZuPgViMZ//9g+tWljQt3ObCudTxYCuTly9fVejyDwnTg42eB3cyJK1W9l28DQ9pryPj8sWRRSTFX/u4NqtAE5sWYm+ri7H3DxqTBb5s5DJoJ7qTbtEQiFhUXFIi4rU2r2X16enuX33Ppdu3FFRi3Kb/5s7pcL9aGltga2V6shK2w+70s7BhpH91ZvsPM3AHh1xv+WvGefPgZldWz7a7s7Zjcu4eXwH6+f25eNdXhgY1+fC3z8S4efJ3DUuaOvqcffKiRqVpUgqJic9GfuuA9XmEYhEpMWEUVwkVWv3XlafniUuxJdwH/cy5RIKhfSZWf6O52PsuvQjwvdaKYX95okdmNs70apX2bv+5eWzbt8T6/Zy8+rMxGhCPM4w4v0V6BqU/p69aGpVaZcUlXD8djSTu1nz87QuDHNqxrQ/L3HaL4Y+LZuw5sxdVs/spojmUiKTlVPj8+ETmYZYWszgtqpfeK2b1iNfXMTOq2G83f+JjV9WgQSXm1G81de+zD7N6qm8svEgOYeTd2LKlEmrCkr7vYSHDG1bucNxguMfYm+mvDI6vJ0FO66GkZpdWKbSXpX2XlfEEikuF68zfXgffv9iHiN7d2b8Jz9x/LI3/bq05eftR1i3aL4imktNj/lbd8MolEgZVkZIxLZ2zckrELPN5TwLpjx5yWXl5HHwnAezxwxQ26c5Y0t/HMJjEjh2sezJiJaWqMpK++E1X5dK+3b9Hv51dSf01KZK51NFcEQMI3qpV+40lI9YIuXIOXdmjJY7cY7q14Ox733DcTcP5kwcTlR8Eqs2/8ufSz9RRHQpKSmpMXluBoRQKJYwom93tXnatmxBXkEhWw+e4r0Z4xTpWTm5HDh9mTcnDCuzT88SFh3P0fNXy5RLS0tUKaX9xEVPRvd3Vpkuk8mYOUbZNO2aTwC9O6teQQwKj2JkGfdDQ9kUScUEXjpGh6FTGfvZalr1Gs6OzycT5H4S2859ubRzNeO//F0RzUVWw+/72CAfiiRiHHqqP4/DzLYNksJ8vI/9g/Ok+Yr0wtws/C4cpvOoWWr71GX07FL1pcU+IPDy8TLlEmlpVUppT4oMwaGX8oGOQVdPIZPJFCEhHxPp56lQwCuTD+QhJ//9bi6NLG3pPkH9TvOLpJYdUWXsuBrGpK7WCATQr5UZDQx1MTHSJU8sN2U5eiuK8Z2bExSXyfWwFCRFxeSJi5DJZOQ+sm+XFD15keeJ5WmZ+WKskM+KHpvFPJ0PoKikhNCkLOybyJXVk74xONs1ZsgjpT2nQKpU57jOVqw84c8yF1/ERXLlPiT+ISd9Y1j7Rvdy+/Qsk7paMamrVZXvX6G0mI1uIQxv1wwHc7ldf2aemMDYTJUmLVn58oNoxCoOWBrezgJXvzhWTeuC8JHzhU9kGo5N69GicZ0qtaehNDJgq8sFpg3rjUAgYGA3J0zq1cGknrFi6/7QOU8mD+5JYFgUnndCEEuk5BUUIpPJMDLQJzdfbuMulj7x78jNl5fNyM7FGvmpbXmF4lL5iopLuB8VT8tHK3FHL92gV0dHhveSO7NlPToK/WkzgomDnFmxaT+L1+2mUCJleK9OBIXHcPTSDTZ+u6DMPqli6rDeTB3W+3lvJQ9z5NvAYrG0nJxVp0AsYf2/pxjVpwuONnJfgIysHPzvR3H4t69qrN3XAZlMxtaDp5g+aqB83Dh3wqSeMSb15e/jvEfj/KDrZSYN60dgaAQetwMRS6Tk5hcgk0HuI/t2ieTJIVuPy2Vm5cAj943H4/npfEXFxdyLiMGhhdw35Oj5a/Tu7MTwvk+iWGTn5inVOWlYP5av38Gi1VsoFEsZ3rcbQWGRHD1/jY0rPiu3T88ybeQApo2sWvStsOg4tuw/yawxgxWmLiHh0eQVFPLVu8rBCy7d8OW37QeYPmogm/bJFaji4hJCHkTT2s6Kzm1bsm7nEUYPcMbR1gqAjIfZ+IeEc+Qv5QNqNFQCGXgf2077IVPk/kxdB2BQ1wTDeiaI8+Vjy//CEdoNnEhi+F0i/TwplkqQFOQhk8nQNTBCnC+PMFcsfTJ2JQXytILsTHgU2URSmF8qX0lxESlRoTS2sgcg8PJxrNv3xMFZrrQ/drAUFzwxqXEaOJ7zW37A9a8lFEkKcXAeRlJEEHcvn2DiovVl9kkV7YdMpv0Q9X4dZSEVF+Kx/y8ce4/AtIU82Eh+VgYJoQG8+fN+Rb5wnyu47/mDDkOncP2I3N+kpKSYlMj7mLZopVDGK5rv8f08vvozGpg1Z/SnP1ebic/zIlq2bNmypxOCgoI4fPgwX4yqedud4hIZv54OVNipXwxOoHWz+szpY08jYz3iM/M5HxDH8dsxtGhch9EdLTnqE82tB2k0bWDIXxdCSM0upEBSTJtm9bkbl8nas0EkZxWQ/LCANhb1iUrNZe3ZIBIf5pOZJ6FNs/rUN9TlQmA8gbGZgADP0GT2eT0gPbeQ7fP7oKMlwjcqnV9OBRCVmktqTiHNGhhi18SYAa3NuRScyFGfaLa7hxKamMX3kztjYWJYbp+qG0lRCctdfPnlVABugfK48ZGpuSyf2LHUYUcXgxJYdz6IewlZxGfmU9dAhyb19DF8ZAvdr1UTotJyWHkiAGlxCXs9HxCVmsP6N3tQz1C30u3VNL+eDmTy5Mm0bl328fVV5fFzsPidqr1s1FFUXMLKrYe4EyK3U79w3Y82ts15e+IQGjeoS1xyGmc8bnPEzQsbSzPGD+jOofOe3Ai4z7gB3QkIjeKX7UdIyciiQCyhrZ0VgWFR/PqPC0npD0lKy8TJ3ooHcUn8tuMo8SkZZGTn4mRvhXdgKP73I5EB124HsevkZdIfZrN31WfoaGvjExTOT38fJCIumZSMLCxMG2JjYYaWSMTgHh24cN2Pwxe82HL4HPei4ln1yWwszRqV2aea4rzXHX7bdYyQiFjiktOpV8cQs0YNMDJQHX/40s0AAsOi+XhW2SdcPptPIi3i2/V7+PHvg5zz9CU+JZ2IuGRWfvyGIv59TRASEcfRSzd45vX8Qjh06BAycR4Th/YtP/NzUFRczI8bd8tt1GVw3vMWbe1b8M5UeUSkxib1iUtKwfXKDY6cc8e2eVPGD+7NoTOXueEXjHljE/7YeZiU9EwKxGLatrQh4P4Dft7yL0lpGSSmZuDkYENEbAK//r2f+OQ0MrJycGppg7d/MP4h4QBcveXPrqPnSMvM4t813ylMQXwC7/PDht1ExCaQkvEQS7PGtLS2YHCvLlzw8OHQ2Sts3n+CexEx/PLFAizNTcvtU3USm5jClz9vYsPeY3jcDuB+RCxxyan8seQjdJ+y6/cLCWfMu4uIik/i3LVbir8Lnj6EPIjm7x++QCgUsnjN3/zw1y7OXr1JfFIqEbGJrPx8PnUMX+zhSi7nryLUNWLKlIrvLlSW5cuX07b/WEytW9VYGwAlxcW4bV9Fwn0/kEGotxtmNq3pNm4uRg0akZUcT4jnWQIuHcXEogVt+43F3+0I0YHetOk3hsSwu1zeuZrcjBSk4gLM7dqQGH6Xyzt/Iyc9mZz0JMztnEiPi+TK7jVkpSZQkJ2JmV0bYu7eIiE0AJARcceD26f3kPcwnZk/7kJLW4fY4Ntc3L6K9PhIcjNTqWdqQcNmLRCKtLDvNohQ74sEXHThhstWUqPuM/KjH6nfxKLMPlU3xUUSzmz4DrdtK7l3/TxZKfFkxEcy8sMfFPHoE0L92f7pRDITo7l/44LiL9T7IsmRIUz+ZgPauvoVzpeflYH/xSOcXr+YzqNmMWDOF2U6tNYUgZeP0dBAVOo5EMie2Y85ePAgU6dOJWXjzBciWFGJjJISGSnZBaWilADkFkoxekohrC5nxy/+vcm/Xg+I/3M68Zn5GOtrV0rxjMuQz0xVyVxen6qbrAIJOiIh+jrPPxMskBQRm5FHY2N96hmoNompzvaqSuP39nLgwIEae7E/fg5yvdUfylNVioqLKSmRkZz+EIsmDUtdz80vUIrqUF1OYB+v+ptdJy+R6bmPuOR06hoZVFrxjElKRYCglNzl9em/TlZOHtraWhjolX/wTnXg4nad2d/8XuPb5aqYPHkyxdnJ7P1tSY23pRg3aRlYmKl2ZMvJK1Aap9XxPHy04g92HT1H1h1X4pJSMTYyrPTJnzEJyQgEglJyV6RP1YVYIiU2MQUDfV3MGz//c5eVk4u2tvYLG+eqmPnZ94iMTTl06FCNtSEQCJi+YjtOA8bXWBuPKSkuQlZSQk5GCvVMS5uRivNzlWylVTlXVoVjv/4Pn9N7+OFKClkp8egZGisU3YryMCkWBIJScpfXp+qmMDcLkZYO2no1fwp18LXTNLFpTQNzqxpvqyz2LpmDg4l2qeeg1tf7tYQCEArUKrdGzyjSNeHs2LR+5VcSylLGy+tTdVOWvXll0dfRUpgLvYj2Xke0RCIQoVa5fTYMW004gTUzrVpMfcsmqmP3l9en/zp167z4lZbXAcW4KUO5fXZiWd3PQzM1Y7o8LM1NVaZXpE/Vha6ONrbNVftgVYW6dWrf0e5VQyjSAhFqldtnnRurQ2F/lrqNqzZG6jVRfbhieX2qbvSMytZJqhPH3tUTgrWmeG3DfeRLiigqKVHYzmvQ8KqTXyimqLikzLB3GjS8DhQUiikqLlb4h2jQ8KohKcynpLgISYH6EJAa/nu8lkr74ZtRXAlJRCaDFUfvcDcus7ZF0qChRjlw9hoXvf2RyWR8++deAkKjalskDRpqhf2nL+HmdVv+LPy+lYB7D2pbJA0aqhW/84cIu3UZmUzGmQ1LSQwLrG2RNFQTtW4eUxsMaduUwW2fxGLXVRN7WoOGV4XhvToxrOeTsI46mrjLGl5TRvTtxvA+XRW/Nc+ChlcNB+ehODg/CQQgqgGTGw21w2uptBvra17SGl4vKutkp0HDq4qxkcY/QcOrjZ6R6nC7Gv77vJbmMRo0aNCgQYMGDRo0/Jd4aVbaJWTWQ3EAACAASURBVEUleIencD4wnr6tzBjUxrz8QrVEbHoetyJSFb9tTI1pZ9lA8Tu3UMqRW1HEpOVi3bgOE7tYKYVHvBOdTmRKjsq6O1s3xLKhsjd5SnYBYUnZ9LRXHa2gvPaqQmaemF3Xwvl4mHIc9OqQPTotl9uRaYrftqbGOD11/15nJNIivPxCOOPhy4BuTgx17lDbIqklOjGVm4Ghit+2lmZ0cGih+J2RlcOpqz7EJaXRxtaSgd3bYaivOo56cvpDQqPj6d2xdNz9ytRTEc56+pKT98QBMS45jXcnD1OEucvNL+DAOQ+iE1Jo0awJU4b2KjcEXkZWDtuPufH5m/IQcpHxyfgEhSuu2zU3p31L6yrL/KojkRbh6RvIGXdvBvboyNDeXcsvVItEJyTj7Res+G1n1YwOjnaAPGziDpezxCamMKxPN/p374BIqH59LDktg/uRsfTp0k4p/fbd+zyISVBZpmu7Vlg1bVIpmXPyCjjoeomouCRsLM2ZMnJAqXEtlki55hNAwL0HOHdsQxcnhzJlD7wfgcftAHS0tRnWpxtNTRsSGZfIrYB7ijz21ha0b2Wrto7XhWKphKiA64R4nsOuS39a9hhcfqFaJDMxhpigW4rfDS1saNqyPSA/4CjYw5WHyXGY2bTGrusAtbHMczJSSI0OpUWHXmrbuud1HnH+E70iKzmOHhPnVyrEozg/F78Lh8hMiMGkmTXtB09WWb4wN4tbp3bzMDkOhx5DsOncF6FQtYl0RWQH+f24eWIn/d74VJGWkRBFbPBtxe9GlraY27dTVbxSvDRK+72Ehxy/Hc0uj3Bamr+48D5VwftBKu//48nmeb3oad8Yg6cU5PDkbMatccNIT4u4jDwkRSWsOxfEqc+H0NhYH5kM3t3mQVRqrsq63RYNx/LRv9Nzxaw/F8R291De6GWrUmkvr72q8slub3wiU5WU9uqSvVEdPbraNCI+I58Ja92Y189eo7Q/IjgiFhe362w/5karFi8mnFZVueF/j3lL17Pjh4/p3bE1hvpPFICA0CjeXraePxcvYNJgZzYfOstPbx/m2B+LadKwviJfWmY2a3Yf5+/D55gzbmAppb2i9VSU0Kh4Jn/2s1L880mDeyqUl7DoBIa9twwjA31ik1KRSIv4bdcx3LZ8j6lJPbX1fvDjJrwDQxVKe+MG9ejmZE98cjoj3l/Ou5OHaZT2MggOj+LIWXe2H3bF0aZ5bYtTLtfvBDH361Xs/GUxfbo4YaAvf9dmZuXQe/pHdG/vSEJKGpv2Hadja3uu/ru+VB1pmVn8tu0AW/af5K1Jw5WUdplMxptfriQiVrXS7nVwA1Qiil9oVBxD3/qcOob6xCQkI5EWsXrbAS7uWoNpQ/m7NzXjIX1nLOTLd6bz5vihrPnnIL/8vY9D65eXUtzTM7NYsnYbCSnprP/uY6Xwlo1N6tO9vSNxSakMn/clC2aM0SjtQHJkCAEXj3HzxA5MrR1qW5xyiQ705sCK+Uxbto0WHXuhoyc3sUwMC+TA9+8y4at1tBs4ketHtuC2/WfmrjlCHZMn3/m8h2m47/mDG0e30mXMm2oV39ToMHZ9NU3pndxu0IRKKeypMWH8/eEodA3qkJkcS7FUgvuetby78Sx1GjwZm/nZmWx4ZyCWbbqSnZbI9SN/08yhA+9vcVOqr6KyP+bIqoXEBN1SUtqNGjSmeZuuPEyJZ+vCMfSY+E61KO0vjXmMk2UD5vZrWdtiVIqBrc1pbKyvFEt+yaHbHFw4gBvLx+C/cgKzetoSlZrLT8f9Abh6L5HBbZpy+4dxxK2frvg7tHAAFiaGSsprTHouU7q3oFBarFaG8tqrCrs9wrmf+LBUenXJbqCrRbMGhnSzbUSTejV/WMJ/ifYtrZk/eWhti1EphvTogKlJPUV8+ZISGe+u+Iuhzh3p2sYOAz1dPn1jLHq62sxf/pdS2ejEVGaM6EOBWFKq3srUU1HW7zuF64bvuHdio+Jv03fvK65/tXYnx9d9g//hPwg9uYk5YwcSGZfM8o371Nb5z7GLBEfEKaUZ6uti2aQRPdo5YN5IMyEtj/atbFkwvezTal9GhvbugmnDBopY8kfOuXNt33q2/vQlrlt/4Zv3Z+MTeJ/rd4JKlY2OT2LmmEEUiMWlrl26cYdhfboScm43D31dFX8nt6yiublppZXgL3/eyMnNPxFw6h/CL+5jzsThRMQmsGzdP4D8WZv+6Qpa21szZ+JwTOrXZcUn8wgOj2LZH/8oy52QTPuxbyOWSDm28cdS8egN9fWwNDfFuWMbzBtX7TyIVxFz+3b0mPh2bYtRaVp2H0SdBo3RNTBCVlLCoR/fp2WPIVi27oy2nj59Zn6Mtq4eh354T6lcZmIMHYdPQyouO8TwtQN/8fa6E3ztclfxN2nxhkrJeHrdYub+7sJn+31YdDSILqNnkx4fyfnN3yvlC7x0jPf/vsiUJZt4+4/jDJr7NbHBt4kO9K6S7AC3TuwkJfJeqXQdPQPqNbHAyqk7xo3MKtWfsnhplHYAkVAAgABBLUtSNfxjMpjY1RrHpvIVORMjXb4a7YRQIFCY0xjqavP95E5YmBiioyVU/J3xj2N0B0ul+jo0N8HWVL1DSUXaqywPkrMJjM1gSNvSyzjVKbsG9WiJ5Ft1AsF/8zm4dTeUwLBo2rW0Ukrv5GjLpZsB3LkX8VSaDfZqDoepTD0VITn9IXfDYmjRrAnNTE0Uf3qPoofcuRfB1KG9aGMrX+ltWN+Yb+dPQSgUcOMpM6CnCY9JxD80kuG9Oqq8rqHiiB6Ne/6j414iLWJQz87Ur/vk1MmZowcBqh3BO7Vpib21Zal0ACMDPX758j2am5uio62l+Dt12Ytxg3tXSq47wWFMGzWQNvZy07WG9evy3Qdvysf1IxMfj9sBePneZe7EEYpyIqGQWWMGs2nfccXZDhJpEbM++4EGxnVY993HlZJDw6NDifjvvttjgnxIDL+LuZ2TUnqzVh0Ju3WZ+Pt+SmmNLO3KrC8nI4Wk8CBMmragbuOmij8tnYpHu4m/70f7IVNoYiPfpTWs15DBby9GIBQSffeJMl4slWDfbQAGxk92aDsOmwaAroHySbEVkR0gLTachLAAHHq+uIW25zaP8QhN5k5UOgD1DXWY1VO+AuAZmoxvVDoN6+gyvYcNIFcIb0emERz/kK42jRjRXvVpW485FxBPVFoOhrpazOppS26hlIPekUiLSzA11mdc5yfbqElZBVwKSiAhM59uNo3o7VA5e7/qwNLEECcL5VU107r6tLNsgEgkf0g7tyh9YmSJTMZpv1i2z6/cy7gi7VUGaXEJK0/4s/aN7vxyKqDU9eqU/VXj6u0ghQ1zg7pGzBk7EIBrvkHcuhtOowbGvDGqPyBX9G7eDeVueAzdnVoypl/Z9ruu124TGZ+Eob4ec8YOJDe/gH9dryItKqKJSX0mDnZW5E1My+TCdT/iU9Lp4dSSfl3a1lCP1RP6yA73qd1OQK6gA1z3v6dk+17T9Txm08Ez3AoKo+Xo97Ayb8zX8yYxc2RfxQe0uVmjUiYsTRrWp4NDC8VE6mmkRcUs37Sfjd8u4IctByssx6uG+01/fO7KV5pM6hozZ+JwAK7e8udW4D0aNajH7HHyj1pYdBw3/UO4GxpJjw6tGTOwp9p6Xa/cICI2ASMDfeZMHE5OXgH/nrggH/eNTJg0rK9S/sSUdM57+hCfnEqPDq3p3+3F+oPoaGuVsjO/GxrJ8L7daG1XOdOobu0cS6WVlMg47ubBv2u+q1RdqlbmmzRqQAdHe8W4Pu7mCUBrOyulfI52VuQVFHLu2k0mDOnDsnX/cPvufTYs/99z+ZX8l4jwvUZsiNw22cC4AV1Gz5an3/EgNtgHo3qN6DRypiJ/Wmw4MUE+JIUH0dypG637jFJbd4jnWTLiI9HRN6TL6NmI83PxPbufkiIpdUxMcRo4QZE3Oy2JUG83slISsHLqhk2nvmrrrSnSYsIe/Uv5pdyslXzRIirghsLuvSJcP7yZ2GAfVk1oTX2z5gx860s6Dp9eqUlN/SaWpcxO6piY0rRle4RPvbdF2jrUN1M2vUt8EISD81Ca2JR+3sqjuEjK+S0/MnHRety2rax0+ary3Ep7L3tTtly8x9mAOM58+WS24Wxnyse7b3DyM7mzxeZL9zjrH4fLJ4OIy8hj3O8XSMkuZE4f9bOZoU5N6b3iFDmFUmb1tMVIT5sp3axpt+goLc3rKpR2j9Bkjt6KYk4fe4z0tJm9yZ0p3Vvw87QuKutNyiogWo1d9mMEAuhqU7njresbqp4dxmfm81Zf9f28+SAVAdDZ+sW0p47fTgfy7kAHJXOf8qiq7K8afTq15q99pzl9zYdL235UpPfq4Mh732/k/JYVAPy1/zSn3H1w3fAdMUlpjHhvGSnpD3l74hB1VTOidye6TP+M7Nx85owdiJGBPjNG9MFu1AIcW1golPart4M4dN6DtycMoY6BHlO/+JUZI/vy+xfzVNabmJZJVHxymf0SIKB7u8qZrenr6gDgG/KAyUOeKGUtHik0sUlpKsvVVD2P6dXREWlRMd6BofgEhbHg+w0cOHeNY398g0gopEHdOirLxSWn887E0ispq7Yd5sNpIxRmQa8rfbu24889Lpy+fJ0re/9QpPfu7MSCJb/htmsNAH/uduHU5euc2fYLMYkpDHvrc5LTMnhn6miV9Y7o151O498hOyePOROHU8dQnxljBmM3aDqtbKyUlHb3m/4cPHOZ+VNGUcdQn6kLlzFjzCDWfvORyroTU9KJjEsss18CgYAeHUo7RlcEmUyGy/mr/LRxDyc2V88H/bpfEAKBgG7tWlWqXIN6qnc845JSmT9Nfu8fxMQD0KSRsjlLowbyXdywKLn510HXy2iJRASFRTJ83hf4BN6nfStbfv36/VfWbr1Fx954HNxIiMcZ3tt8QZFu3b4nh3/6kAUbzijSPA9uJPiaK2+vO8HDdrH8vXA0OekpdB8/V2XdrXoOY+0bPSjMy6bL6NnoGhjRcdg0Vo53xNTaQaG0R/hew8/tCN3HzUXXwIhdX8+k47BpjP1stcp6s9OSyEiIKrNfAoGA5m27VepeaOnK33Vx9+7QbtBERbpJU/mk9GFynMpy6rBu35PioiJi7t4kNvg2h3/6AL/zh3hrzWG1zqHPYlBXtflhVnIc3SeoNkeSyWQEXj7Gxe0/M3eNS6Vkfsylf36h55T30DUwKj9zNVItjqjfT+7E+cB4zgfG08lavhobn5lHX4cmmNWTbwtuvxJKf0czBAKwMDGkTbMGnA+MK1NpB7A3q6sUacRITxvrxk8+rnniIj7dfQP3b0dioKtFW4v6XA5O4B/3UKZ0s1bI8zTHfKL57vDtUulPoyUUkPDXjArfA3VcD0tBSyRgwUD1L9oTvjGMaG9RLbvCFWlPFV5hKYhEQrq0qJzyXZ2y/9dZ9embnPG8zVmP23RtIx/Xsclp9O/aVmHXvPnQOQZ1byd/YZo1wsneijMet8tU2gFaWjXl1t0wxW8jA31smj1Z1csrKOSDHzdxY+9qDPV1adfSGrcb/vx9+BzTh/dRyPM0Ry548fXanWW2qyUS8dBLvT23Kro7OaCjrYWHbzAymUyxapKVlw/IV7RfZD2PGditHQO7yVdkAsOiefPbtVy+Gcja3Sf47M1xKst43glBSyTioxkjldI9fIMRiYR0c/pv+eHUFL98uYAz7jc44+5NVyf5uyc2MYX+PTpi3lj+Dt68/wSDenaWj31zU5wcbHB191artAM4tLDkpn+I4ncdQ31aWChHFsvNL+D9pWu46bIZQ3092rWyxc3Thy37TzJj9CCFPE9z+Kw7X/26qcw+aYlEZPudKTOPKvIKCvnyl00cOHWR/EIxncfP59SWlXRq83xjxeXcVcYM7FktphUetwPREgn56A25UpiSnolIKERHW1kleOygnZSWQUJKGgkpaTg52LB4wSzq161DWLTcwXXInM/wO7lN8X/9qjFq4U/c8zrHPa+zWLbuDMiVQtsu/ZTsla+7bMW+6wAEAgH1zSwxs23LPa+zapV2gEZWLYl9KkqLroERJk2f7CBKCvI4smohH+/yREfPAHN7J0K9L3Hj6DY6DJumkOdpAi66cHr9N2X2SSjS4kf3ypnRWjl1Q6StQ+QdT6V3cmFuNiBf9a4Mdl0HYNd1AACJ4XfZt3Qu4T5XuPrvevrN+qRSdT1NpJ8XQi0tek19v9Q1SWE+p9Ytxu/8QaSFBayd7cy8310UuwUVq98ToUiL5m1ffJSralHamzc0YkBrM/71esAXo5zQEgr41+sBb/R6MvM+9r9BGOjKm7ufmEVCZh45hdLnbtvlVhSF0mKWH72jSEvOKsCqkRGRqTkqlfa3+7csd7JQHRSXyPj5pD+73+uHoa7qWy2TwSnfGDbMVb9NXJ3tqSKrQMK2K/fZPK9sD+lnqU7ZXwWsm5oyuHt7dp28zOJ3JqMlErH7xGXeGjdIkefspmUYPvoQ3ouMIy45neynwg9WlYPnPCkQS/j2zz2KtKS0TKybmRIRm6RSaV8wZRjzJlR/2LFmpiZ8t2Aa367fw4LvNzBhkDP3I+M4fMELgLbPbMHXdD2qaGvXHI+dq+gw+RMOnfdUqbQXl5Tw/ZYDHFz9pZIpQFZOHpsOnWXHDxqb3sdYNzNjcM8u7Dx6lm/efwMtkYhdR88xb9ITG+lz/6xW3MeQB9HEJaWS82gC9jwccr1MgVjMN2v+VqQlpmbQwsKcBzEJKpX292aO5e2pI0ulVweG+nr8tfQT1i/5mA17j7Jo9RYWfr8OzwNVc54G+crgMbdrbF/59XPLV1xSwvd/7uTw+hWKXSJ1u0XFJSUAmJo0wC9Ybv43eoCzwm7frnkzfv5iAW9++RNb9p9k2cK3nlu+l5EG5lbYdxuIz6k9DJr7NUKRFj6n99B1zJtK+eavP4WOvnyhMiXqPlkp8YjzVIdIrij+Fw4jFRdw5q8nZlE56UmYNLUmPS5CpdLuPGk+3capnyhUlbqNmzLknW84s2Eph3/6AKcB40mJvk+Am3y12sy2TZXrNrNtw0fb3PltRmf8LxyustJeUlLMha0/MXvVPpVhKHX0DJjw5VrGf74Gr8Obcf1zCcdWf8aH2y5XqP7C3Cy8jvzN9GVbqyTf81JtIR/n9m3JjL8uc84/juHtm3E3LpMvRz1xVjCrZ8CVkETOB8bjbNcYq0Z18I9Jf+527ydmYVpXX60pjCq0hAK0Krj18jwsO+LLgkGtaGuhPjTdzQepSIpL6GHbWG2e6mxPFUsO3aZDcxPO+T/Z2opIyUEsLeb0nViMDbTp3bK0j0B1yv6qMH/yMCZ+uhLXqz6M6tuVwLBovpk/RXHdvFEDLnr7c8bDl94dHbFuZlpph0pVhETE0sSknlpTGFVoiUQqbbWrg09mjaGzoy0Xvf257nePSUOcuXk3jPDYxFKOpS+iHlUY6Okysk9ndp9U/bJe/MduPpoxinbP2Ll/tXYnnRxtcL3qo0h7EJtEoUTKicve1K1jSN/OVf94/VdZMH0M49//ltOXrzN6QE8C7kfw7QezFdfNGzfEzes2Z9y96d25LS0szLkTHFZGjRUj+EE0TRo2UGsKo4qaHPuPEQoFfPjGBG74BXPM7RpiiRRdnaqdxn39ThASaRG9Oj+/j8qi1VtYOHsi7Z4yZ2nWpBHFJSWlZHx8nkErG0uM68gVoIb1lEMyPzbXCY2qnGnEf40eE95hxxdTCPE4g2PvkSSG32XQvEVKeYwbmRF28xL3vM5h3b4nJk2tlZwzq0Jy5D3qmDRRawqjCqFIS+H0Wt30mbEQC8dOhN28RFTAddoNmkhMkA9pcQ8wt3cqv4Iy0NbTx7HXCHxO7yk/sxpc/1xC72kflCuLQCik55T3iA68yV33ExRJxWhpl+8Ae2rdYiwcOhDi8WQXLi32AUWSQoLcT6JnVBebTn2qLH95VNv/6sDW5jRvaMTOa2HoaosY2Fp5C3PVCX+8wlI4uHAAetoiTt2JrZZ2RUIB4cnZSItL0BZVLBjOneh0roYklVvvh0Mq75zwmF0e4bS1qM8wp7JjbZ+8E8Pwds0UkXNquj1VpOeI+TvkvlJadoGEAkkxiw/60NKsrkqlvbpkf5UY0qM91k1N2XbUDV1dHQY7KzvlfL/5ANd8gzm+7hv0dXU4dulGtbQrEgkJi0lAWlSMtlbFlJHbwQ+4fKu0w7FSvUIhn74xtkoy9eroSK+O8mcoKiEF12s+/PjRG5W2Aa+uelTR0qoptpalw3FtP+ZGu5ZWjOxdehUrLTObS97K9y0rN58CsZjPf/uHVi0sXkulfUivLlg3M2PbodPo6eowtLfyQsqKP3dw7VYAJ7asRF9Xl2NuHtXSrkgoJCwqDmlREdpaFfuk3b57n0s37pSZRyQU8r+5U8rMUxEG9uiI+y3/KivsAEcvXGN0/x5lHnRUEbYfdqWdgw0j+/dQSm/ZQm7WEJeUio3lk293emYWAA42zan3SGl/dqJlYdYYbS0t6rzivh323QfRwNwK7+M70NLRw777oFJ5Lvz9IxF+nsxd44K2rh53r5x47nYFIhFpMWEUF0kRaVVsDMWF+BLu415mHqFQSJ+ZVdsttG7fE+v28h32zMRoQjzOMOL9FdVi392ouT0NLarmH3HzxA7M7Z1o1Wt4hcvYdelHhO+1CinsII/h7nlLeaGnMDcbqbiAE2u/wtS61X9DaRcI4K0+9iw/6ktxiYydC54IHZOWy5ozd1k9sxt62nKFouTZkBDqBBQKyoxT3rppPfLFRey8Gsbb/Z/YDGYVSHC5GcVbfe1LlXmQnMPJOzHltltVpd3VLxaZTMaU7sqRLbzCUnC2e7IqLZPBSd8Y1syqnDNIVdtTx94P+pVKW+5yh4PeEfivHK+yTHXJ/qohEAh4e+IQvl2/h6LiYg78+oXiWlRCCj9vP8K6RfMVTpYVfg5EIgolpWOZP6atXXPyCsRscznPgilPXlhZOXkcPOfBO5NKO1KGxyRw7GLZkwYtLVGVlfbHSKRFvPnN79hZmvPOpLJt919EPU9z4spNRvXpUipNJpMxY4RydAYP32B6dXTk8JrSJgrfrt/Dv67uhJ4q2076VUYgEPDO1FF8s2arfOz/sVxxLSo+iVWb/+XPpZ+gryv/OJY8Mr0oC/m4L9uMsm3LFuQVFLL14Cnem/HEzCkrJ5cDpy8rnC2fJiw6nqPnr5bdtpaoWpT2oPAoRvbtXuXyMpmMo+evsWH5p+VnLoMTF+V2yDPHKJvEXfMJYM6EYazavJfrd4KUlPY7wWE4Odhg17wZQqGAQT07czMgRKl8eEw80qKiKjvt/lcQCAR0Hz+XMxuWUlJcxBsr9ypdz0yM5tLO1Yz/8ne0deVmYLIKvN9FIhFFKmL1P8bMtg2Swny8j/2D86T5ivTC3Cz8Lhym+/jSu6tpsQ8IvHy87Ha1tKqstD+mWCrh3+/m0sjSlu4TKr7LWxZBV0/h2HtE+RlVlJPJZIowjo+J9PNUTDBUkRQZgkOvYRVu581fDpRKO7NhKb5n97PoaLCKEtVLte6fTHe2YdVJf6wbGSlFIMkTFwFw9FYU4zs3Jyguk+thKUiKiskTFyGTyTDS0yanQPoo/5OXdD9HM476RLPv+gPGdmzOcd9oMnLFiIuKeZgvYVxnK1ae8GeZiy/iomIGt21KSPxDTvrGsPYN1S/KSV2tmNTVqjq7ruDqvSTWnQ9mclcrtl2Rr14Xl8gITczCwbyekhLtE5lKnliqchX7MVn5ckVNrGbiUtH2PtvrTUJmPutm96CR8fOH6qoO2V9VZo/uzw+bD2DTrInSavDjWMeHznkyeXBPAsOi8LwTglgiJa+gUP4cGOiTlZuvlB9gYHcnDl/wZPepy0wY6IzLRS8ysnIplEh4mJPHxEHOrNi0n8XrdlMokTK8VyeCwmM4eukGG79doFLOqcN6M3VYzYbqzCsQ8+kvW2lu3pjfPp+r0iThYU4eAGKxeuWsIvV8tHIz8SkZbFryPo0bKG/hh8cksuXwOWaO7KswdwmJiCW/QMyXc59EQbh8M5Dfdx1n2vDebD50FpDb9d6LiMPRxkKx4q9BNW+OH8b3f+6ihYW54sAhgLx8uZnFQdfLTBrWj8DQCDxuByKWSMnNL0Amg+zcPKW8AAOdO3HozBV2HTvHxKF9OXLOnYysHArFEh5m51LP2IhJw/qxfP0OFq3eQqFYyvC+3QgKi+To+WtsXPGZSjmnjRzAtJEDqrXvBWIx63YeYfQAZxxtrQDIeJiNf0g4R/76XmWZh9lye+dCFYeLPcbbP4Tc/AL6qQlh+cHytcQnpbLlh89pbKLaNPLSDV9+236A6aMGsmmfXJkrLi4h5EE0re2s5JF+po/l9x0HmTlmEAKBgEKxBNcrN9j562KEj3ZTf/78XfrOXMgNv2C6t5c/C1dv+uPQwpJZ46pnIv0y02nkLC5s/QmTpi1KrSqL8+Xj1//CEdoNnEhi+F0i/TwplkqQFOQhk8kUDpvigjxFObsuA/B3c+H26b20HTiewItHyc/OoEgipiDnIU4Dx3N+yw+4/rWEIkkhDs7DSIoI4u7lE0xcVPqkXYD2QybTfsjkGroLciSF+Rxf/RkNzJoz+tOfVZrjFOTID2lUNSlJiw3nhss2Og6frjBlSY68h6Qgn/5vfq6U1+WXT8hOiWfS4r8walB6ITLc5wrue/6gw9ApXD8i920pKSkmJfI+pi1aYd2+J1JxIR77/8Kx9whMW8hNuvKzMkgIDeDNn/dXSvbapFqV9vqGOkzoYsXs3spOb62a1mOGsw0Hb0Qw6KczvD+4FSundmbBdk9mb3Rn6zu98Y1K59fT8i3nAzcisDE1ZmBrc8Z0bM6ua+F8vOsGf50PYfHYdrRr3oB8cRGn7sQwq6ctBxYO4M1NV1nucoflLndojeBFjgAAHQJJREFUaVaXDW/1rFTowuogICaD2ZvcyRcX4RupHI5OV1tEwMoJSmknbscwpG0zdLRUb3leDErgwA25vbOrfxztrUwY0rYpjY31K93etftJRKXmcuhmJO8PqlxkGVU8r+yvMvWNjZg8pCdzn3HybG1jyezR/fnX9So9Z3/Fx7NG89vnc3lryR9M+fwX9qz8Hz5B4azcegiAvafdsbUwY4hzByYM7ME/R9147/uNrN19gqXvTad9qxbkFxRy7NIN5owdyPF13zL1i1/4dv0evl2/h1YtLNi67MNaCUmYkZXDqas+7DxxiY9njlYbi/681x32usq3cU+636Kjow3De3XC1KRepeoBuOJzl8i4ZPafucrCmcqrq7kFhew5fYUNB1zp06k1nVvbUt/YCNeNSxXmRH73I5n25S/kFYi5FaRsAqCno03Y6c1Vvh+vC/Xr1mHKiH68PUU5NnVrO2veHD+UvSfc6Dn1fT6ZM5k1iz5gzlcrmbJwKV/Mm8bvOw8DsOfEBeysmjGkVxcmDOnD9kOuLFjyG2v/OcSyhW/RwdGOvIJCjl24xpyJw9HV0ebE5pVMXbiMb9b8zTdr/qaVbXO2//SV0sShpikpkXHMzYMVf+6kY2t7hvTsjEn9uhzd+KPKZ/C8xy32HD8PwMlLXnRu05Lhfbth2lA5hJ3L+auM7Ne9VGSXx7h7+xERm8C+Uxf5+M1Jpa77hYQzdeEy8goKuRWgfHKjnq4ODy7Ko0P99Nk7aIlETProOwY5dyIpNYOv3p2hFMqxlW1zLu3+na9+2UyPDq3R0dHG2z8Y162/1LiPwMuAgXF92g2aRLdxc0pda2LjSOeRs/A9u5/18/rRe/qHjPn0F/Yvf4ddX8+g36xPubb/TwB8z+yjoYUtLbsPou2Acdw8sYPDKz/k6r51DJm/hKYt2yMtzOfulRN0GT2buWtc2L1oJmc2LOXMhqWYWjswZcnmFx5uEOSKbrCHKz6ndtN7+kdq49Dfv+GG7xn52Aq+dppmrTrg0HMYdR4p3ZKCPG6f+RfPQ5to0bE3Fq06YWBcj3fWnyxlBhRx+yrp8ZHcOX+Q3tM+VLqWEOrP7q9nIinMJzbYR+malo4ui47Jd4ZkshLuup/gwtYfaerQAftuAzGsa8Jbqw+VclgtT/baRCB7Zv/m4MGDTJ06lZSNM9WVKZMCSRH6OqpfLrmFUiVFWlJUolbpe5b0XDEmRvJtVbG0GF3t0i+IuAz57LVZg9Iew9XJ4ZtRvP+PJ+FrpmCsX/WJQUxaLnX0tdXGW69OJEUlnPGPRVdbVCW792epLtk7fXuMke0tWDGpU6XKNX5vLwcOHGDKlOffvlbF4+cg17tqh+bkF4oV4dKeJTe/QOkjXhkHtbTMbBrWl8ddLpRIFad5Pk1MUioCBFg0qdnwawfOXmPe0vUkXNxR6sTHk+63aGNriXVT0+dqozL1iCVSTl/1QVdXW6UtulgiJS45DX09XUUIzhdB63EfMLpfV1Z98mb5mR/h4nad2d/8XqHt9epm8uTJFGcns/e3JVUqX9bYz8krUFKkKzr20zKzaFhfvntSKJag98i87FliEpIRCARYmNXsx3X/6UvM/XoVSdePYmyk/L3JyslFW1tb7T2oLFHxSRgbGqiNty6WSDl12Qs9HZ1StupVobikhPTMLLWr9o9JTElHX0+XesbqFcdWQ99gzKCe/PyF6t0+Vcz87HtExqYcOnSowmUqi0AgYPqK7TgNUG3+WRbSwgK09dRPBsX5uUrKdEUdHPMepmFYT/7OLpKIVZ4K+jApFgQC6pk+/ze8PPzOH+LAivksPRuNntGTsRd87TRNbFrTwNzqudsokop5mByHjq6BUuhMVfmCr7miraNXKXt1VRTmZiHS0inz/7C6+WVyO1r3GcXIj34sP/Mj9i6Zg4OJdqnnoNrdi9Up7ECple+KKuyAQmEHVCrsUPPK+rNIioqBqivtlg1f3CxZXFSMT0QaSydWz3Hr1SV7ScmLV0peBGV9sJ9ddauMg9pjhR1QqbADWDZ5sQddiaWlzVpG9614NKeyqEw9EmkR3oGh/Lhwlsrrujra2Fio/zDUFMUVsN1+lShr7D+78l3Rsf9YYQfUKuwAlubPN0msLGIV9vZ161Tve/3ZU1ZVyeDtH8JPn71TLe2JhMJyFXYAs8Ym5eZ5Fcd+ecres6vfFXVwfKywAyoVdoB6Tco+Rb4mKJIqm4c49q6+UKla2ro0bGZTbr5iiYSYu7cY8cGK525Tz6hu+ZmqmZLi6jMRrpmYQK842iIBdfS0+XTPDTpbN6KDlQl9HMp+sdY2d6LS+WZce7Regkgv9xIecikokbhHsfrVTcI0vNxoa2lRx1CfD37cRNe29nRqZUv/rs8fkq6q+ASFs+z96S/FNn3wg1gu3PAjNimN7LwC9HTUK5oa/ntoa4kwNjLgvaVr6NbOkU5t7BnQvXoWRCqLz917LP/4rZdi3AMEh0dx3uMWsYmpZOfma8b+fxShlha6hnVwWbUQyzZdadaqA7ad+9WKLLEhtxn67nc1FsayJkiOCCHU242HyXGI83PUTsQqy3/nDrxEjO3UnLGdmte2GJXiZZpUOJjXw8FcbrP805TSZgwa/htMGNSDCYOefzu+uqjNCcOzONpY4GgjXxVb/dmreeDM68zEoX2ZOLRv+RlfALU1WVCHo62VwhH3t0WlT6TU8N/AacD4KpkP1QS1NVl4HkxbtFI4vI7+5Odqq/f5gr5q0KBBgwYNGjRo0KChxtEo7Ro0aNCgQYMGDRo0vORolHYNGjRo0KBBgwYNGl5yNDbtyMMheoencD4wnr6tzBjUxrz8Qi8hkqISvMKSuRubSTfbRnS0aojoJXA81fDyIZEW4eUXwhkPXwZ0c2Kos+qDW152xBIpHneCCQiNwrmdA53b2D33Ue8aXm0k0iI8fQM54+7NwB4dGdpbfez/lxmxRMo1nwAC7j3AuWMbujg5aMa+BpUUSyVEBVwnxPMcdl3607LH4PILvcTkZKSQGh1Kiw69aluUF47mCUcezeT47Wg2X7pHUlZ+bYtTJdJyCnFefpK4jDxmONvg6hfH7I3uFL+iIRU1PB/BEbG4uF3nr/2nSUzNqG1xqkRqZhadpn5KbFIas0cP4KT7LaZ+/ssrGWZOQ/URHB7FkbPu/LnbhcSU9NoWp0qkZjykw5h5xCWm8Ob4oZy85Mnkj5Zqxr4GlSRHhhBw8RieBzeSnZZY2+JUmbyHabj+uYRfJ7cj6Oqp2hanVtAo7YCTZQPm9mtZ22JUmRKZjLe2XMXRvB6zetrSwEiXb8e1JyThIT8d96tt8TS8hLRvac38yUNrW4wqU1IiY8ZXv9HaxpI5YwdiUq8Oyz+YQfCDWJZv3Ffb4ml4iWnfypYF08fUthhVpqRExvRPV9Da3po5E4djUr8uKz6ZR3B4FMv++Ke2xdPwEmJu344eE9+ubTGem8zEGDoOn4ZUXFjbotQaGqX9EY/NSAT898xJroel4B2eyqxeT46bFgkFTOvRgm3uoeSLi2pROg0vK4/jOgsE/70x7+kXzHX/e8wZN1CRJhIKmTmyL5sPnSWvQFxGaQ2vO6LHMc3/g2Pf43YAXr53mTtxhCJNJBQya8xgNu07Tl7B66vQaFDP4xjn/8X3/WOatepII0u72hajVnmtbNrzxEWc8Y8lPCmbVk3r0d/RHGP9sk/ke5Ccze3INILjH9LVphEj2j85kUwmQ25DHpeJSCDArokxfVuZVfh6dXHaLxYAx6b1lNIdzOuRLy7CLSiBMR0tq71dDS8/eQWFnLxyi7CYBFrbWDKoezuMjQzKLBMek8jNu6HcDY+hu1NLxvRTtvmVyWQKO3KRUIi9VVMGdHUq91p1cvzyTQBa2yqPa0cbC/IKxJz38mX8wJcnhryGF09ufgEnL3kRFhVLaztrBvfsjLFR2admh0XHcdM/hLuhkfTo0JoxA3sqrslkMoUNuUgkxN7akoE9Olb4enVx3M0TgNZ2VkrpjnZW5BUUcu7aTSYM6VPt7Wp4+ZEU5BF09TRpMWGY2jhi33UgekbGZZZJiw0nJsiHpPAgmjt1o3WfUUrXZTIZkX6eJIYFIhCKaNTcDrsu/cu9pqFmeG2U9rCkbJYeuc234zowrrMVH+7w4st9tzj/9TCaN1R97PTmS/c46x+HyyeDiMvIY9zvF0jJLmROH/lMb+UJfywbGvLu/9u78/iYrv6B4587kz0SWUSEiEQIKRLdrKXEFkVVCcpP61G6PF14VDd+nh9FN1X60KrHUtWqSiyxLwkaxE7IRoRsEpLIKolkssz9/TFMMslkEiqW5Lxfr/ua1+t8c+bey5k733vm3HN82nM+MZPP/jytk5TXFK8oNbeQxJv5Bs9BkqCLe9Ul6uPT8wBoaq27vHITKzNAc+MhNDyXE1L4/Id1zH1vHKMG9mDKnGVM+3YVIb98iVsL/cu9//jnLnaGnGH3T/8mKTWDl96dQ3pmDpNHDtT+zRc//0mr5k15b+wQzl28yvSFq7WJuaFYZTcysklISTN4DhIS3byrDl2LS04FoFml5dYd7ix3H5v05I7bFP6+mPhrfLZwBfOmTcJvcB8mz/yWqfOXcmTDUtyc9V+Dl/22hZ2HjrNn9bck3UjH9x8zSMvIYsqYYQDMXboW1xbNeH/Cq5yLusy0BUt1kvKa4hXdSM8kPtlwG5Ukie5Pd6hSfjUpBYBmDvY65Q52mk6b2IRkg+8r1E83E2PZtWwWvu/8H979X8V/3jtsWzSD91YewK65q946of7LiT6ym8n/2U6O9zVWfjiMvMx0uo2YpP2boJXzsXVqRc/R75J8KYzt33+sTcwNxSq7lZFK1vUEg+cgSRKtOnW9r/NvKBpE0l6mlnl79VH+8aKHtjf6n/092RmWRMyN3GqT9jV/XabvU05IErS0t6Sjsx37I5KZ2LstsgzrjsayekovADq3smeQl7O2bk3xygLPJPLvTWcNnoeRQuL6j+OqlN/MK0KpkDAx0h3tZG6i+Qk4LbfQ4PsK9U+ZWs3E2T8wZeQgOrbRrN479X9eZtuhk1yKT642aV8RsI/+3bw1F08nB7w8XNlz9Kw2aZdlmTWBwfz+1XQAnvF056Vez9UY02dz0DE+W/KrwfMwUirJOVZ1jHp6Zg5KhQITY91LmLmZZqno1Ixsg+8r1F9lajVvfPIlb48ZRkeP1gBMm+hHYNARLl1NqjZpX/Hndvr3fE7T9ps74tXend0hJ5kyZhiyLLN6027WL/pfAJ7p4MGQPuW/5NQUr2zT3hA+XfizwfMwUiq5dX5PlfL0zGy9bd9C2/afzAfLhfunVpexYc6bdB/xJs3cNTd6vcd9QGTIDtITYqpN2o9vWYVHFx8kScLWyQWnNp24dGyvNmmXZZlT235l3Py1ADi3fxrPnoNrjOkTfmALu5bOMngeCqURC0Ju3sOZNzwNImkPjrxOZHI2Azq10JZ5udgRt3hMlUS3osDp/bEw1fwTxdzI5Xp2AXlFJYCm17uNozVTVh3l+/Fd8fV25r0BT2nr1hSvbHLfdtoe/Htlaar/v1F9Z+aYpo3N9caF+mtfaBjhlxPwfaG8p69zOzdSD62r8mVf0d6f52B558v/UnwyyWmZ3Coov+mTJIm2rZrz+swlLJ35FkN7P8/U8cNqjOnzzmhf3nz1/qYes7Qw01t+d/YMR3sbvXGh/tt3+BThl67i27u8x66zZxvST2432Pb3/fIdluaadnXxaiLJqTfJK9DMJiZJEh6uzkyYsYAf50xjaN8eTJvop61bU7yyd8cPZ/KYIfd1fo0s9F/Py9u+3X29r/DkijkexI3YCNr1KJ9coLmHN3P3X0NpbFJtvbeW7sTEXDNcMj0hhtz0FFQFedq4JEk0cWnDhn9PYsQnS3iq10v0Gvd+jTF9eox6i66vTKo2LtROg3gQNSolGwtTI+wbmeqUG0rYAZxsLAhLyGSm/xliU3NxdbBCLZdPofj12OexMjPm9Z9DGPnDAXJvF+vUrylekZFCwsxYWeOmTwtbC8rUMsWlutN95d+5wWjXrLHB8xTqn4jYBCzNTWliozue0VDSAtDcwY4z0VeYsegXYhJScHN2RC3rtqvvZ7yJlaU5Yz9eyND355Gbf7tWscqMlErMTU1q3PRxdmxCmVqNqrhEpzz/tuYGw9Ot+l+1hPotPCYOS3MzmtjpXvdqbPtNm3A6IoaPvvqJmLgkWrdsru34AFg8832sG1kw+sM5DJn8Kbl5usMZa4pXpGn7pjVu+jg3c9Db9vPu3Fx7uovnlxqaG1ciMTGzwNJGd8iUoYQdwNrBiWvRZ9mx5FPSE2Kwb+GGXOl6P3z6Qkwtrfjt8/GsmvoKRXm5tYpVplAaYWxqVuMmGNYgetrVapnbqlJCL6fR5x4eBP16+wWOxabj/6EPZsZKdoZd04l3dLblwMzBzAs8z7ojsfT7cjchs4dia2lSq3hFYYmZHL6YavB4lAqJ9wdW7a1veycpT8kuwM3BSluema+ZQcPDSSTtDY1alikoVHH4bCT9unrXut68FRs5ci6abf+ZhbmpCYEHT1T5Gy8PV4799g2zf/yDNVuC6DnhE05tWIStdSODscrORl/l0Olwg8ejVCj414ThVcrbuWp+NUtJz6S1czNteWaOppeovUjaGyy1rKagsIiQUxfo3+PZWtf7YtlajpwOZ/t/v8Lc1JTA4KM6ca/27hzzX87sJatY7b+L7qP/yZkt/8W2sVWt4hWdjYzh4Ikwg8ejVCiYPml0lfJ2rTVJeXLqTdxdyhcCzMzWJEzt3VvV+pyF+kFWqykuuk3cuSO07eJT63pBKxcQdz6USd9vwdjUjMi/tlf5G6e2nfhgTQh7l8/h1La1LJ30IlPXHcPC2tZgrLLki+e4cibE4PEoFAp6j59a6+NviBpET/vdceybTyXolGcXqNh9/pqeGpCUkc/3eyIZ1dVN28NdsZe9uFRNwMl4GpkZ883Y5/njvb6k3Spk1/mkWsUru5qWx46wJIPbzjD9dcf3dMfESMGpq7pjwcKTsujobIu7Y9UvDaF+63Cnt81/n27ikZWbx/a/Tumtk3A9nW/WbGbs4F7aHu6KbR40qzBu2HOYRhbmLP74TTYv/pzUzBy2HTppMKbPlaTrBB44YXCrru4bL/tgamLM8QsxOuVhl+Lw8nCljcuTuaqx8Pd1bOsGgP/ugzrlWTm32H4gVG+dhJRUvl7xB68N66/t4VZXWKhIVVzCHzuCsbI0Z8msD9j603xSb2ax7U5iX1O8stjEFLbuP2xwCww+orfuxFd9NW0/LEqnPCw6Fq/27rRtJW5YG5pm7prOvPNBm3TKb+dmVbsIUfaNRA7++h1PDxqt7eGWK13vS0tUhO3biKlFI4Z/9B1vLNxIXmYaUSE7DMb0ybh2lYhD2wxukdXUFco1iJ72QV7OdGppy8YTcZgZK3n5GReiUnI4djmNVXceFM0r1PzUWKC6+6qZ23zr6QRGPNeKqORsjsemU1xaRoGqlKKSUtYejmVUFzckCfp4OmFnaaodgiPLssF4ZaO6uDKqi+t9nV9Ta3Mm92nHsv3RjO7aGkkCVUkZ+yJSWDGpJ4oneF5W4f4M6f0c3u3cWL8rBDMTE0b060bklSSOnI1i3Zf/AtAOXbk7r/Pd14B9ofgN6ElEbAKhYRdRFZdQUFiELMsYGRmxaksQY317IUkS/bp6YW9jhb2NNTJUG9NnjG8vxvj2uq/zc7S34W0/X5b8vp1xL/VGkiSKikvYfeQMa+dPQ6EQbb6hGtK3O96ebfh9WxCmJia8Oqg3kTHxHD5zgd+/0zwoeiu/AICCO8Op7r767z7EKN8+RFyO4+jZCFTFJeTfLqRIVcwq/528NrSfpm33eBZ7G2vs78xWJMuywXhlY4f4MHZI7XtEK3JsYsc7rw1n8Vp/xr/cX9P2VcXs/usEvy6cKdp+A+T5wmCae3hxbs8GjE3M6OQznBtXoogLO8q4eZoFt4ryNbPIqQo1bV91W/N6IWgz3v1GcuNKJPHnQykrKaa4sABZllEaGXMycA2dB47WPLPUxQeLxvaaYTgy1cf06DzQj84Dq3/Oo7YK83IAKFU1zLU4lHPmzJlTsSAqKopNmzbx8dAHP7fyo6KQJAZ2asHF67lsP5eI/8l4ikvVLJnQDRsLE84lZPLtznASbuZzM68IZztLurg7kJJ9m/3hyWw7m0TrplYMe8aFrWcSOX01A1/vlizbH82FJM0y2Aeir9PB2ZaJvT0AzYw1C3dFVBt/0F70dCIlu4CVh2LIylcRFJnC0Kdd8OlQP3scF+6KwM/Pjw4dqk6J9iDc/RzMnPL3LzKPgkKSGPzCs0RdSWLrwRNs2HMYVXEJP81+F1vrRpyJusKXK/2JS04jPSuXlo5N6O7dnuS0DPYcPcvm4GO4uzgxwqcbAftDOREewys+3TA2MuKrVQGEXYwDIOj4eTq2acXkkQMpLVNXG6sLPl28SE7LYPnGPWTl5rH36DmG+3RlQLfOdbK/h+liXDJbD56g0uX5oQgICEBWFTBy0IsPfd8PgkKSeOnFrkTFxrNl/xH+2BGMqriEn7+Yjq21FWciYpj/02/EXbtOelYOLk5N6f50B5JT09n91wk27wuhTasWjBjQi4A9hzhxPpphPj1ZtGYjYdGxIMP+0NN08mjNlDGaOa1Ly8pYsPy3auMPWr/uz5B84yY/rt9KVs4t9h4+yfABLzCgZ/WzNT0ptuw/jMK0EaNHVx0a9KDMnTuXTn2H4+jmWWf7eJgkSYFnD1/S4qKJOBRI2N6NlBarGPX5MsytbLgWfZYDa74mMyWe/Oyb2Di2xNWrK7lpKVwM3Uv4wa3Yt2xNpz7DuRC8mcSIk3Ts8zJKI2OC13zN9ZjzIMPlk8E4uXeg6yuTUJeVVRurKzEnggn5fQlp8RfJTU/B3Kox1g5OmJobXn/hSRRxKJAmFsoqnwNJrvR7iL+/P2PGjCF9+fiHeoAPS25hMWo1eseV65NfVEIjs/IFmIpL1doHWEvVMmq1TPqtQpztqjaamuJ1oUwtk5WvwsG6fj/Q0fTd9WzcuLHOLux3Pwf5J/3r5P0fpty8AtSyrHdcuT75twt1ZqhQFZdgalL+GSgtK0OtlknLzKFlsyY6dQ3F6kqZWk1mTh5N7erPsxtbgo/z+qzFVX6ufhj8/Pwou5XG+kWzH/q+H7TcvHzUalnvuHJ98goKsbLU3/a1bTsji5ZOTavUrSleF8rUajKzc2lqX3UM8ZNq/EfzUFo7EhAQUGf7kCSJ175Yg5fPiDrbx6NSlJ+LWq3WO65cH9XtfEwtyr8bSktUGBmXjwhQl5Uiq9XkZaVj46g79MpQTPh71s+eSHt74yqfgwYxPKaixua1S9bvqpiwg+6MM0YKCRRStQl5TfG6oFRI9T5hF+5NY6t7a3+Vp5SrmLCDZuYLlOhNyg3F6opSoahXCbvw4DS2qt2N6l0VE3bQbfvatl1NQl5TvC4oFYp6lbALf59Zo3u7FlZM2AGdhB00s76gRG9Sbigm1I0G8SCqIAiCIAiCIDzJRNIuCIIgCIIgCI85kbQLgiAIgiAIwmNOJO2CIAiCIAiC8JgTSbsgCIIgCIIgPOZE0i4IgiAIgiAIjzmRtAuCIAiCIAjCY67aedq3nU18mMchCI+lLcHHH/UhCA3QyYjLj3T/KakZbN4X8kiPQWiYUlIzcLF2rPP9JEWervN9CML9upWeAvauVcqrTdqnrDpal8cjCE+E12ctftSHIAgP3anwi0yYseBRH4bQQLl4dKjzfYT6LyfUf3md70cQ7lcXT9cqZZL8KNbJFgRBEARBEASh1sSYdkEQBEEQBEF4zImkXRAEQRAEQRAecyJpFwRBEARBEITHnBEQ8KgPQhAEQRAEQRCE6v0/JdtftA6+c6EAAAAASUVORK5CYII=\n",
      "text/plain": [
       "<IPython.core.display.Image object>"
      ]
     },
     "execution_count": 37,
     "metadata": {},
     "output_type": "execute_result"
    }
   ],
   "source": [
    "dt_feature_names = list(X.columns)\n",
    "dt_target_names = np.array(Y.unique(),dtype=np.str) \n",
    "tree.export_graphviz(dt, out_file='tree.dot', \n",
    "    feature_names=dt_feature_names, class_names=dt_target_names,\n",
    "    filled=True)  \n",
    "graph = pydotplus.graph_from_dot_file('tree.dot')\n",
    "Image(graph.create_png())"
   ]
  },
  {
   "cell_type": "code",
   "execution_count": 38,
   "metadata": {},
   "outputs": [
    {
     "name": "stdout",
     "output_type": "stream",
     "text": [
      "Populating the interactive namespace from numpy and matplotlib\n"
     ]
    }
   ],
   "source": [
    "import seaborn as sns\n",
    "%pylab inline\n",
    "import warnings\n",
    "warnings.filterwarnings('ignore')"
   ]
  },
  {
   "cell_type": "code",
   "execution_count": 39,
   "metadata": {},
   "outputs": [
    {
     "data": {
      "text/plain": [
       "<seaborn.axisgrid.FacetGrid at 0x108b246a0>"
      ]
     },
     "execution_count": 39,
     "metadata": {},
     "output_type": "execute_result"
    },
    {
     "data": {
      "image/png": "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\n",
      "text/plain": [
       "<Figure size 360x360 with 1 Axes>"
      ]
     },
     "metadata": {
      "needs_background": "light"
     },
     "output_type": "display_data"
    }
   ],
   "source": [
    "sns.catplot(data=df,x='attr_o',y='dec_o',kind='bar')"
   ]
  },
  {
   "cell_type": "code",
   "execution_count": null,
   "metadata": {},
   "outputs": [],
=======
>>>>>>> c6798b2c790c5451f97206238fb457b1c0bf71d9
   "source": []
  }
 ],
 "metadata": {
  "kernelspec": {
   "display_name": "Python 3",
   "language": "python",
   "name": "python3"
  },
  "language_info": {
   "codemirror_mode": {
    "name": "ipython",
    "version": 3
   },
   "file_extension": ".py",
   "mimetype": "text/x-python",
   "name": "python",
   "nbconvert_exporter": "python",
   "pygments_lexer": "ipython3",
   "version": "3.6.8"
  }
 },
 "nbformat": 4,
 "nbformat_minor": 2
}
